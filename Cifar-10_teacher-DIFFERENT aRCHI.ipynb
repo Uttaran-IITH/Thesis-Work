{
 "cells": [
  {
   "cell_type": "code",
   "execution_count": 2,
   "metadata": {},
   "outputs": [
    {
     "name": "stdout",
     "output_type": "stream",
     "text": [
      "Data has apparently already been downloaded and unpacked.\n"
     ]
    }
   ],
   "source": [
    "import cifar10\n",
    "from cifar10 import num_classes\n",
    "cifar10.maybe_download_and_extract()"
   ]
  },
  {
   "cell_type": "code",
   "execution_count": 3,
   "metadata": {},
   "outputs": [
    {
     "name": "stdout",
     "output_type": "stream",
     "text": [
      "Loading data: data/CIFAR-10/cifar-10-batches-py/data_batch_1\n",
      "<_io.BufferedReader name='data/CIFAR-10/cifar-10-batches-py/data_batch_1'>\n",
      "Loading data: data/CIFAR-10/cifar-10-batches-py/data_batch_2\n",
      "<_io.BufferedReader name='data/CIFAR-10/cifar-10-batches-py/data_batch_2'>\n",
      "Loading data: data/CIFAR-10/cifar-10-batches-py/data_batch_3\n",
      "<_io.BufferedReader name='data/CIFAR-10/cifar-10-batches-py/data_batch_3'>\n",
      "Loading data: data/CIFAR-10/cifar-10-batches-py/data_batch_4\n",
      "<_io.BufferedReader name='data/CIFAR-10/cifar-10-batches-py/data_batch_4'>\n",
      "Loading data: data/CIFAR-10/cifar-10-batches-py/data_batch_5\n",
      "<_io.BufferedReader name='data/CIFAR-10/cifar-10-batches-py/data_batch_5'>\n",
      "Loading data: data/CIFAR-10/cifar-10-batches-py/test_batch\n",
      "<_io.BufferedReader name='data/CIFAR-10/cifar-10-batches-py/test_batch'>\n"
     ]
    }
   ],
   "source": [
    "train_data,train_labels,onehot_train=cifar10.load_training_data()\n",
    "test_data,test_labels,onehot_test=cifar10.load_test_data()\n",
    "train_data=train_data.astype('float32')\n",
    "train_labels=train_labels.astype('int32')\n",
    "test_data=test_data.astype('float32')\n",
    "test_labels=test_labels.astype('int32')\n"
   ]
  },
  {
   "cell_type": "code",
   "execution_count": 4,
   "metadata": {},
   "outputs": [
    {
     "data": {
      "text/plain": [
       "(50000,)"
      ]
     },
     "execution_count": 4,
     "metadata": {},
     "output_type": "execute_result"
    }
   ],
   "source": [
    "train_labels.shape"
   ]
  },
  {
   "cell_type": "code",
   "execution_count": 5,
   "metadata": {},
   "outputs": [
    {
     "name": "stderr",
     "output_type": "stream",
     "text": [
      "/home/uttaran/anaconda3/lib/python3.6/site-packages/h5py/__init__.py:36: FutureWarning: Conversion of the second argument of issubdtype from `float` to `np.floating` is deprecated. In future, it will be treated as `np.float64 == np.dtype(float).type`.\n",
      "  from ._conv import register_converters as _register_converters\n"
     ]
    }
   ],
   "source": [
    "\n",
    "from __future__ import absolute_import\n",
    "from __future__ import division\n",
    "from __future__ import print_function\n",
    "\n",
    "import numpy as np\n",
    "import tensorflow as tf\n",
    "\n",
    "tf.logging.set_verbosity(tf.logging.INFO)\n",
    "\n",
    "def cnn_model_fn(features, labels, mode):\n",
    "  \"\"\"Model function for CNN.\"\"\"\n",
    "  # Input Layer\n",
    "  # Reshape X to 4-D tensor: [batch_size, width, height, channels]\n",
    "  # MNIST images are 28x28 pixels, and have one color channel\n",
    "  input_layer = tf.reshape(features[\"x\"], [-1, 32, 32,3])\n",
    "  print(\"_THIS_\",type(features))\n",
    "  # Convolutional Layer #1\n",
    "  # Computes 32 features using a 5x5 filter with ReLU activation.\n",
    "  # Padding is added to preserve width and height.\n",
    "  # Input Tensor Shape: [batch_size, 28, 28, 1]\n",
    "  # Output Tensor Shape: [batch_size, 28, 28, 32]\n",
    "  conv1 = tf.layers.conv2d(\n",
    "      inputs=input_layer,\n",
    "      filters=32,\n",
    "      kernel_size=[5, 5],\n",
    "      padding=\"same\",\n",
    "      activation=tf.nn.relu)\n",
    "\n",
    "  # Pooling Layer #1\n",
    "  # First max pooling layer with a 2x2 filter and stride of 2\n",
    "  # Input Tensor Shape: [batch_size, 28, 28, 32]\n",
    "  # Output Tensor Shape: [batch_size, 14, 14, 32]\n",
    "  pool1 = tf.layers.max_pooling2d(inputs=conv1, pool_size=[2, 2], strides=2)\n",
    "\n",
    "  # Convolutional Layer #2\n",
    "  # Computes 64 features using a 5x5 filter.\n",
    "  # Padding is added to preserve width and height.\n",
    "  # Input Tensor Shape: [batch_size, 14, 14, 32]\n",
    "  # Output Tensor Shape: [batch_size, 14, 14, 64]\n",
    "  conv2 = tf.layers.conv2d(\n",
    "      inputs=pool1,\n",
    "      filters=64,\n",
    "      kernel_size=[5, 5],\n",
    "      padding=\"same\",\n",
    "      activation=tf.nn.relu)\n",
    "\n",
    "  # Pooling Layer #2\n",
    "  # Second max pooling layer with a 2x2 filter and stride of 2\n",
    "  # Input Tensor Shape: [batch_size, 14, 14, 64]\n",
    "  # Output Tensor Shape: [batch_size, 7, 7, 64]\n",
    "  pool2 = tf.layers.max_pooling2d(inputs=conv2, pool_size=[2, 2], strides=2)\n",
    "\n",
    "  # Flatten tensor into a batch of vectors\n",
    "  # Input Tensor Shape: [batch_size, 7, 7, 64]\n",
    "  # Output Tensor Shape: [batch_size, 7 * 7 * 64]\n",
    "  pool2_flat = tf.reshape(pool2, [-1, 8 * 8 * 64])\n",
    "\n",
    "  # Dense Layer\n",
    "  # Densely connected layer with 1024 neurons\n",
    "  # Input Tensor Shape: [batch_size, 7 * 7 * 64]\n",
    "  # Output Tensor Shape: [batch_size, 1024]\n",
    "  dense = tf.layers.dense(inputs=pool2_flat, units=1024, activation=tf.nn.relu)\n",
    "\n",
    "  # Add dropout operation; 0.6 probability that element will be kept\n",
    "  dropout = tf.layers.dropout(\n",
    "      inputs=dense, rate=0.4, training=mode == tf.estimator.ModeKeys.TRAIN)\n",
    "\n",
    "  # Logits layer\n",
    "  # Input Tensor Shape: [batch_size, 1024]\n",
    "  # Output Tensor Shape: [batch_size, 10]\n",
    "  logits = tf.layers.dense(inputs=dropout, units=10)\n",
    "\n",
    "  predictions = {\n",
    "      # Generate predictions (for PREDICT and EVAL mode)\n",
    "      \"classes\": tf.argmax(input=logits, axis=1),\n",
    "      # Add `softmax_tensor` to the graph. It is used for PREDICT and by the\n",
    "      # `logging_hook`.\n",
    "      \"probabilities\": tf.nn.softmax(logits, name=\"softmax_tensor\")\n",
    "  }\n",
    "  if mode == tf.estimator.ModeKeys.PREDICT:\n",
    "    return tf.estimator.EstimatorSpec(mode=mode, predictions=predictions)\n",
    "\n",
    "  # Calculate Loss (for both TRAIN and EVAL modes)\n",
    "  loss = tf.losses.sparse_softmax_cross_entropy(labels=labels, logits=logits)\n",
    "\n",
    "  # Configure the Training Op (for TRAIN mode)\n",
    "  if mode == tf.estimator.ModeKeys.TRAIN:\n",
    "    optimizer = tf.train.GradientDescentOptimizer(learning_rate=0.001)\n",
    "    train_op = optimizer.minimize(\n",
    "        loss=loss,\n",
    "        global_step=tf.train.get_global_step())\n",
    "    return tf.estimator.EstimatorSpec(mode=mode, loss=loss, train_op=train_op)\n",
    "\n",
    "  # Add evaluation metrics (for EVAL mode)\n",
    "  eval_metric_ops = {\n",
    "      \"accuracy\": tf.metrics.accuracy(\n",
    "          labels=labels, predictions=predictions[\"classes\"]),\n",
    "  }\n",
    "  return tf.estimator.EstimatorSpec(\n",
    "      mode=mode, loss=loss, eval_metric_ops=eval_metric_ops)\n",
    "\n",
    "\n"
   ]
  },
  {
   "cell_type": "code",
   "execution_count": 6,
   "metadata": {},
   "outputs": [
    {
     "name": "stdout",
     "output_type": "stream",
     "text": [
      "[6 9 9 ... 9 1 1]\n"
     ]
    }
   ],
   "source": [
    "print(train_labels)"
   ]
  },
  {
   "cell_type": "code",
   "execution_count": 9,
   "metadata": {
    "scrolled": false
   },
   "outputs": [
    {
     "name": "stdout",
     "output_type": "stream",
     "text": [
      "INFO:tensorflow:Using default config.\n",
      "INFO:tensorflow:Using config: {'_model_dir': './cifar_model_teacher', '_tf_random_seed': None, '_save_summary_steps': 100, '_save_checkpoints_steps': None, '_save_checkpoints_secs': 600, '_session_config': None, '_keep_checkpoint_max': 5, '_keep_checkpoint_every_n_hours': 10000, '_log_step_count_steps': 100, '_train_distribute': None, '_service': None, '_cluster_spec': <tensorflow.python.training.server_lib.ClusterSpec object at 0x7f9695f21898>, '_task_type': 'worker', '_task_id': 0, '_global_id_in_cluster': 0, '_master': '', '_evaluation_master': '', '_is_chief': True, '_num_ps_replicas': 0, '_num_worker_replicas': 1}\n",
      "INFO:tensorflow:Calling model_fn.\n",
      "_THIS_ <class 'dict'>\n",
      "INFO:tensorflow:Done calling model_fn.\n",
      "INFO:tensorflow:Create CheckpointSaverHook.\n",
      "INFO:tensorflow:Graph was finalized.\n",
      "INFO:tensorflow:Restoring parameters from ./cifar_model_teacher/model.ckpt-50000\n",
      "INFO:tensorflow:Running local_init_op.\n",
      "INFO:tensorflow:Done running local_init_op.\n",
      "INFO:tensorflow:Saving checkpoints for 50001 into ./cifar_model_teacher/model.ckpt.\n",
      "INFO:tensorflow:loss = 0.9777718, step = 50000\n",
      "INFO:tensorflow:global_step/sec: 45.8599\n",
      "INFO:tensorflow:loss = 1.0468419, step = 50100 (2.182 sec)\n",
      "INFO:tensorflow:global_step/sec: 48.1839\n",
      "INFO:tensorflow:loss = 1.0907955, step = 50200 (2.075 sec)\n",
      "INFO:tensorflow:global_step/sec: 47.8891\n",
      "INFO:tensorflow:loss = 1.0005155, step = 50300 (2.089 sec)\n",
      "INFO:tensorflow:global_step/sec: 46.008\n",
      "INFO:tensorflow:loss = 1.0450023, step = 50400 (2.173 sec)\n",
      "INFO:tensorflow:global_step/sec: 47.6357\n",
      "INFO:tensorflow:loss = 1.0987698, step = 50500 (2.099 sec)\n",
      "INFO:tensorflow:global_step/sec: 47.6753\n",
      "INFO:tensorflow:loss = 1.2333144, step = 50600 (2.098 sec)\n",
      "INFO:tensorflow:global_step/sec: 47.8777\n",
      "INFO:tensorflow:loss = 1.1991632, step = 50700 (2.088 sec)\n",
      "INFO:tensorflow:global_step/sec: 46.498\n",
      "INFO:tensorflow:loss = 1.1731365, step = 50800 (2.151 sec)\n",
      "INFO:tensorflow:global_step/sec: 47.1017\n",
      "INFO:tensorflow:loss = 1.1680837, step = 50900 (2.123 sec)\n",
      "INFO:tensorflow:global_step/sec: 45.9279\n",
      "INFO:tensorflow:loss = 0.9959079, step = 51000 (2.178 sec)\n",
      "INFO:tensorflow:global_step/sec: 47.7567\n",
      "INFO:tensorflow:loss = 1.3419539, step = 51100 (2.093 sec)\n",
      "INFO:tensorflow:global_step/sec: 46.8889\n",
      "INFO:tensorflow:loss = 1.0892347, step = 51200 (2.133 sec)\n",
      "INFO:tensorflow:global_step/sec: 46.7361\n",
      "INFO:tensorflow:loss = 1.0054474, step = 51300 (2.140 sec)\n",
      "INFO:tensorflow:global_step/sec: 45.656\n",
      "INFO:tensorflow:loss = 1.1185452, step = 51400 (2.191 sec)\n",
      "INFO:tensorflow:global_step/sec: 43.7973\n",
      "INFO:tensorflow:loss = 1.1075866, step = 51500 (2.284 sec)\n",
      "INFO:tensorflow:global_step/sec: 44.0943\n",
      "INFO:tensorflow:loss = 1.0530831, step = 51600 (2.267 sec)\n",
      "INFO:tensorflow:global_step/sec: 43.8522\n",
      "INFO:tensorflow:loss = 1.1683441, step = 51700 (2.283 sec)\n",
      "INFO:tensorflow:global_step/sec: 47.1916\n",
      "INFO:tensorflow:loss = 1.3508139, step = 51800 (2.117 sec)\n",
      "INFO:tensorflow:global_step/sec: 47.1799\n",
      "INFO:tensorflow:loss = 1.2199258, step = 51900 (2.120 sec)\n",
      "INFO:tensorflow:Saving checkpoints for 52000 into ./cifar_model_teacher/model.ckpt.\n",
      "INFO:tensorflow:Loss for final step: 1.1628115.\n",
      "INFO:tensorflow:Calling model_fn.\n",
      "_THIS_ <class 'dict'>\n",
      "INFO:tensorflow:Done calling model_fn.\n",
      "INFO:tensorflow:Starting evaluation at 2018-05-10-07:50:34\n",
      "INFO:tensorflow:Graph was finalized.\n",
      "INFO:tensorflow:Restoring parameters from ./cifar_model_teacher/model.ckpt-52000\n",
      "INFO:tensorflow:Running local_init_op.\n",
      "INFO:tensorflow:Done running local_init_op.\n",
      "INFO:tensorflow:Finished evaluation at 2018-05-10-07:50:36\n",
      "INFO:tensorflow:Saving dict for global step 52000: accuracy = 0.6084, global_step = 52000, loss = 1.1203222\n",
      "{'accuracy': 0.6084, 'loss': 1.1203222, 'global_step': 52000}\n"
     ]
    }
   ],
   "source": [
    "\n",
    "# Create the Estimator\n",
    "cifar_classifier = tf.estimator.Estimator(\n",
    "  model_fn=cnn_model_fn, model_dir=\"./cifar_model_teacher\")\n",
    "\n",
    "\n",
    "# Set up logging for predictions\n",
    "# Log the values in the \"Softmax\" tensor with label \"probabilities\"\n",
    "tensors_to_log = {\"probabilities\": \"softmax_tensor\"}\n",
    "logging_hook = tf.train.LoggingTensorHook(\n",
    "  tensors=tensors_to_log, every_n_iter=50)\n",
    "\n",
    "# Train the model\n",
    "train_input_fn = tf.estimator.inputs.numpy_input_fn(\n",
    "  x={\"x\": train_data},\n",
    "  y=train_labels,\n",
    "  batch_size=100,\n",
    "  num_epochs=None,\n",
    "  shuffle=True)\n",
    "\n",
    "cifar_classifier.train(\n",
    "  input_fn=train_input_fn,\n",
    "  steps=2000,\n",
    "  hooks=None)\n",
    "# print(\"eva\",type(eval_data))\n",
    "\n",
    "# Evaluate the model and print results\n",
    "eval_input_fn = tf.estimator.inputs.numpy_input_fn(\n",
    "  x={\"x\": test_data},\n",
    "  y=test_labels,\n",
    "  num_epochs=1,\n",
    "  shuffle=False)\n",
    "eval_result=cifar_classifier.evaluate(input_fn=eval_input_fn)\n",
    "# output=list(predictions)\n",
    "print(eval_result)"
   ]
  },
  {
   "cell_type": "code",
   "execution_count": null,
   "metadata": {
    "collapsed": true
   },
   "outputs": [],
   "source": []
  },
  {
   "cell_type": "code",
   "execution_count": null,
   "metadata": {
    "collapsed": true
   },
   "outputs": [],
   "source": []
  }
 ],
 "metadata": {
  "kernelspec": {
   "display_name": "Python 3",
   "language": "python",
   "name": "python3"
  },
  "language_info": {
   "codemirror_mode": {
    "name": "ipython",
    "version": 3
   },
   "file_extension": ".py",
   "mimetype": "text/x-python",
   "name": "python",
   "nbconvert_exporter": "python",
   "pygments_lexer": "ipython3",
   "version": "3.6.3"
  }
 },
 "nbformat": 4,
 "nbformat_minor": 2
}
