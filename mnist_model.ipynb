{
 "cells": [
  {
   "cell_type": "code",
   "execution_count": 1,
   "metadata": {
    "ExecuteTime": {
     "end_time": "2018-09-28T15:36:10.553120Z",
     "start_time": "2018-09-28T15:36:09.475921Z"
    }
   },
   "outputs": [
    {
     "name": "stderr",
     "output_type": "stream",
     "text": [
      "/home/uttaran/anaconda3/lib/python3.6/site-packages/h5py/__init__.py:36: FutureWarning: Conversion of the second argument of issubdtype from `float` to `np.floating` is deprecated. In future, it will be treated as `np.float64 == np.dtype(float).type`.\n",
      "  from ._conv import register_converters as _register_converters\n",
      "Using TensorFlow backend.\n",
      "/home/uttaran/anaconda3/lib/python3.6/importlib/_bootstrap.py:219: RuntimeWarning: compiletime version 3.5 of module 'tensorflow.python.framework.fast_tensor_util' does not match runtime version 3.6\n",
      "  return f(*args, **kwds)\n"
     ]
    }
   ],
   "source": [
    "import keras\n",
    "from keras.layers import Input, Dense, Lambda, merge\n",
    "from keras.models import Model\n",
    "from keras.datasets import mnist\n",
    "from keras.models import Sequential\n",
    "from keras.layers import Dense, Dropout, Flatten\n",
    "from keras.layers import Conv2D, MaxPooling2D\n",
    "from keras import backend as K\n",
    "import numpy as np\n",
    "from keras.layers.core import Activation"
   ]
  },
  {
   "cell_type": "code",
   "execution_count": 2,
   "metadata": {
    "ExecuteTime": {
     "end_time": "2018-09-28T15:42:08.781786Z",
     "start_time": "2018-09-28T15:42:08.768272Z"
    }
   },
   "outputs": [],
   "source": [
    "class Model:\n",
    "    def __init__(self):\n",
    "        self.build_model()\n",
    "\n",
    "    def build_model(self):\n",
    "        self.inputs = Input(shape=(28, 28, 1, ),name='imgs')\n",
    "        self.labels = Input((10,),name='labels')\n",
    "        self.aa = Conv2D(8, kernel_size=(3, 3),\n",
    "                         activation='relu',\n",
    "                         )(self.inputs)\n",
    "        self.bb = MaxPooling2D(pool_size=(2, 2))(self.aa)\n",
    "        self.cc = Conv2D(16, (3, 3), activation='relu')(self.bb)\n",
    "        self.dd = MaxPooling2D(pool_size=(2, 2))(self.cc)\n",
    "#         self.ee = Conv2D(128, (3, 3), activation='relu')(self.dd)\n",
    "#         self.a = Conv2D(128, (3, 3), activation='relu')(self.dd)\n",
    "        self.b = MaxPooling2D(pool_size=(2, 2))(self.dd)\n",
    "\n",
    "        self.c = Flatten()(self.b)\n",
    "\n",
    "        self.d = Dense(120, activation='relu')(self.c)\n",
    "        self.e = Dropout(0.5)(self.d)\n",
    "        self.before_soft_max = Dense(10)(self.e)\n",
    "        self.predictions = Activation('softmax')(self.before_soft_max)\n",
    "\n",
    "        self.g = merge([self.before_soft_max, self.dd, self.labels], mode=lambda x: K.gradients(x[0] * x[2], x[1]), output_shape=(self.dd.shape))\n",
    "        self.cost = merge([self.labels, self.predictions], mode=lambda x: (-1) * K.sum(x[0] * K.log(x[1]), axis=1), output_shape=self.labels.shape)\n",
    "        self.gb_grad = merge([self.cost, self.inputs], mode=lambda x: K.gradients(x[0], x[1]), output_shape=(self.inputs.shape))"
   ]
  },
  {
   "cell_type": "code",
   "execution_count": null,
   "metadata": {},
   "outputs": [],
   "source": []
  }
 ],
 "metadata": {
  "hide_input": false,
  "kernelspec": {
   "display_name": "Python 3",
   "language": "python",
   "name": "python3"
  },
  "language_info": {
   "codemirror_mode": {
    "name": "ipython",
    "version": 3
   },
   "file_extension": ".py",
   "mimetype": "text/x-python",
   "name": "python",
   "nbconvert_exporter": "python",
   "pygments_lexer": "ipython3",
   "version": "3.6.5"
  },
  "varInspector": {
   "cols": {
    "lenName": 16,
    "lenType": 16,
    "lenVar": 40
   },
   "kernels_config": {
    "python": {
     "delete_cmd_postfix": "",
     "delete_cmd_prefix": "del ",
     "library": "var_list.py",
     "varRefreshCmd": "print(var_dic_list())"
    },
    "r": {
     "delete_cmd_postfix": ") ",
     "delete_cmd_prefix": "rm(",
     "library": "var_list.r",
     "varRefreshCmd": "cat(var_dic_list()) "
    }
   },
   "types_to_exclude": [
    "module",
    "function",
    "builtin_function_or_method",
    "instance",
    "_Feature"
   ],
   "window_display": false
  }
 },
 "nbformat": 4,
 "nbformat_minor": 2
}
