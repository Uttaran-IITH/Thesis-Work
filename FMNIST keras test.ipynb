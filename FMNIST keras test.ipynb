{
 "cells": [
  {
   "cell_type": "code",
   "execution_count": 14,
   "metadata": {
    "ExecuteTime": {
     "end_time": "2018-09-30T10:11:07.966546Z",
     "start_time": "2018-09-30T10:11:07.959579Z"
    }
   },
   "outputs": [],
   "source": [
    "import keras\n",
    "from keras.datasets import mnist\n",
    "from keras import backend as K\n",
    "import numpy as np\n",
    "import tensorflow as tf\n",
    "from keras.models import Model\n",
    "import ipynb.fs.full.Structural_Perturbations as SP\n",
    "import ipynb.fs.full.MultiTest as MT\n",
    "tf.logging.set_verbosity(tf.logging.ERROR)\n",
    "import sys\n",
    "from keras.layers import Input, Dense, Lambda, merge,add,concatenate\n",
    "from keras.models import Sequential\n",
    "from keras.layers import Dense, Dropout, Flatten\n",
    "from keras.layers import Conv2D, MaxPooling2D\n",
    "from keras.layers.core import Activation\n",
    "from keras.models import load_model"
   ]
  },
  {
   "cell_type": "code",
   "execution_count": 15,
   "metadata": {
    "ExecuteTime": {
     "end_time": "2018-09-30T10:11:08.838913Z",
     "start_time": "2018-09-30T10:11:08.320175Z"
    }
   },
   "outputs": [
    {
     "name": "stdout",
     "output_type": "stream",
     "text": [
      "Extracting data/fashion/train-images-idx3-ubyte.gz\n",
      "Extracting data/fashion/train-labels-idx1-ubyte.gz\n",
      "Extracting data/fashion/t10k-images-idx3-ubyte.gz\n",
      "Extracting data/fashion/t10k-labels-idx1-ubyte.gz\n"
     ]
    }
   ],
   "source": [
    "train_data,train_labels,eval_data,eval_labels = SP.load(data='fmnist')"
   ]
  },
  {
   "cell_type": "code",
   "execution_count": 16,
   "metadata": {
    "ExecuteTime": {
     "end_time": "2018-09-30T10:11:09.333184Z",
     "start_time": "2018-09-30T10:11:09.326000Z"
    }
   },
   "outputs": [],
   "source": [
    "train_labels = keras.utils.to_categorical(train_labels, 10)\n",
    "eval_labels = keras.utils.to_categorical(eval_labels, 10)"
   ]
  },
  {
   "cell_type": "code",
   "execution_count": 17,
   "metadata": {
    "ExecuteTime": {
     "end_time": "2018-09-30T10:11:18.067587Z",
     "start_time": "2018-09-30T10:11:18.055578Z"
    }
   },
   "outputs": [],
   "source": [
    "class MNIST:\n",
    "    def __init__(self):\n",
    "        self.build_model()\n",
    "        \n",
    "    def build_model(self):\n",
    "        self.inputs = Input(shape=(784, ),name='imgs')\n",
    "        self.labels = Input((10,),name='labels')\n",
    "        inputs = keras.layers.core.Reshape((28,28,1))(self.inputs)\n",
    "        labels = self.labels\n",
    "\n",
    "        conv1 = Conv2D(8, kernel_size=(3, 3),\n",
    "                         activation='relu',\n",
    "                         )(inputs)\n",
    "\n",
    "        pool1 = MaxPooling2D(pool_size=(2, 2))(conv1)\n",
    "\n",
    "        conv2 = Conv2D(8, (3, 3), activation='relu')(pool1)\n",
    "\n",
    "        pool2 = MaxPooling2D(pool_size=(2, 2))(conv2)\n",
    "\n",
    "        pool2_flat = Flatten()(pool2)\n",
    "\n",
    "        dense1 = Dense(64, activation='relu')(pool2_flat)\n",
    "        dropout = Dropout(0.5)(dense1)\n",
    "\n",
    "        logits = Dense(10)(dropout)\n",
    "\n",
    "        self.predictions = Activation('softmax')(logits)\n",
    "\n",
    "        g = merge([logits, pool2, labels], mode=lambda x: K.gradients(x[0] * x[2], x[1]), output_shape=(pool2.shape))\n",
    "        cost = merge([labels, self.predictions], mode=lambda x: (-1) * K.sum(x[0] * K.log(x[1]), axis=1), output_shape=labels.shape)\n",
    "        gb_grad = merge([cost, inputs], mode=lambda x: K.gradients(x[0], x[1]), output_shape=(inputs.shape))"
   ]
  },
  {
   "cell_type": "code",
   "execution_count": 18,
   "metadata": {
    "ExecuteTime": {
     "end_time": "2018-09-30T10:11:19.047925Z",
     "start_time": "2018-09-30T10:11:18.805920Z"
    }
   },
   "outputs": [
    {
     "name": "stderr",
     "output_type": "stream",
     "text": [
      "/home/uttaran/anaconda3/lib/python3.6/site-packages/ipykernel_launcher.py:30: UserWarning: The `merge` function is deprecated and will be removed after 08/2017. Use instead layers from `keras.layers.merge`, e.g. `add`, `concatenate`, etc.\n",
      "/home/uttaran/anaconda3/lib/python3.6/site-packages/keras/legacy/layers.py:465: UserWarning: The `Merge` layer is deprecated and will be removed after 08/2017. Use instead layers from `keras.layers.merge`, e.g. `add`, `concatenate`, etc.\n",
      "  name=name)\n",
      "/home/uttaran/anaconda3/lib/python3.6/site-packages/ipykernel_launcher.py:31: UserWarning: The `merge` function is deprecated and will be removed after 08/2017. Use instead layers from `keras.layers.merge`, e.g. `add`, `concatenate`, etc.\n",
      "/home/uttaran/anaconda3/lib/python3.6/site-packages/ipykernel_launcher.py:32: UserWarning: The `merge` function is deprecated and will be removed after 08/2017. Use instead layers from `keras.layers.merge`, e.g. `add`, `concatenate`, etc.\n"
     ]
    }
   ],
   "source": [
    "config = tf.ConfigProto()\n",
    "config.gpu_options.allow_growth = True\n",
    "sess = tf.Session(config=config)\n",
    "K.set_session(sess)\n",
    "\n",
    "m = MNIST()\n",
    "\n",
    "model = Model(inputs=[m.inputs, m.labels], outputs=[m.predictions])\n",
    "\n",
    "model.compile(loss=keras.losses.categorical_crossentropy,\n",
    "              optimizer=keras.optimizers.Adam(),\n",
    "              metrics=['accuracy'])"
   ]
  },
  {
   "cell_type": "code",
   "execution_count": 5,
   "metadata": {
    "ExecuteTime": {
     "end_time": "2018-09-30T10:00:23.556775Z",
     "start_time": "2018-09-30T10:00:22.269981Z"
    },
    "deletable": false,
    "editable": false,
    "run_control": {
     "frozen": true
    }
   },
   "outputs": [],
   "source": [
    "model = load_model('./keras/models/mnist_test1.h5')"
   ]
  },
  {
   "cell_type": "code",
   "execution_count": 21,
   "metadata": {
    "ExecuteTime": {
     "end_time": "2018-09-30T10:14:05.601642Z",
     "start_time": "2018-09-30T10:12:19.086945Z"
    }
   },
   "outputs": [
    {
     "name": "stdout",
     "output_type": "stream",
     "text": [
      "Epoch 1/50\n",
      "55000/55000 [==============================] - 2s 39us/step - loss: 0.4142 - acc: 0.8496\n",
      "Epoch 2/50\n",
      "55000/55000 [==============================] - 2s 38us/step - loss: 0.4112 - acc: 0.8516\n",
      "Epoch 3/50\n",
      "55000/55000 [==============================] - 2s 37us/step - loss: 0.4058 - acc: 0.8528\n",
      "Epoch 4/50\n",
      "55000/55000 [==============================] - 2s 38us/step - loss: 0.4044 - acc: 0.8548\n",
      "Epoch 5/50\n",
      "55000/55000 [==============================] - 2s 38us/step - loss: 0.3999 - acc: 0.8545\n",
      "Epoch 6/50\n",
      "55000/55000 [==============================] - 2s 39us/step - loss: 0.3973 - acc: 0.8555\n",
      "Epoch 7/50\n",
      "55000/55000 [==============================] - 2s 39us/step - loss: 0.3930 - acc: 0.8569\n",
      "Epoch 8/50\n",
      "55000/55000 [==============================] - 2s 40us/step - loss: 0.3908 - acc: 0.8589\n",
      "Epoch 9/50\n",
      "55000/55000 [==============================] - 2s 40us/step - loss: 0.3874 - acc: 0.8598\n",
      "Epoch 10/50\n",
      "55000/55000 [==============================] - 2s 39us/step - loss: 0.3885 - acc: 0.8598\n",
      "Epoch 11/50\n",
      "55000/55000 [==============================] - 2s 39us/step - loss: 0.3846 - acc: 0.8603\n",
      "Epoch 12/50\n",
      "55000/55000 [==============================] - 2s 39us/step - loss: 0.3844 - acc: 0.8617\n",
      "Epoch 13/50\n",
      "55000/55000 [==============================] - 2s 40us/step - loss: 0.3786 - acc: 0.8620\n",
      "Epoch 14/50\n",
      "55000/55000 [==============================] - 2s 38us/step - loss: 0.3752 - acc: 0.8639\n",
      "Epoch 15/50\n",
      "55000/55000 [==============================] - 2s 38us/step - loss: 0.3746 - acc: 0.8649\n",
      "Epoch 16/50\n",
      "55000/55000 [==============================] - 2s 38us/step - loss: 0.3729 - acc: 0.8653\n",
      "Epoch 17/50\n",
      "55000/55000 [==============================] - 2s 39us/step - loss: 0.3705 - acc: 0.8646\n",
      "Epoch 18/50\n",
      "55000/55000 [==============================] - 2s 39us/step - loss: 0.3688 - acc: 0.8656\n",
      "Epoch 19/50\n",
      "55000/55000 [==============================] - 2s 38us/step - loss: 0.3646 - acc: 0.8682\n",
      "Epoch 20/50\n",
      "55000/55000 [==============================] - 2s 39us/step - loss: 0.3656 - acc: 0.8673\n",
      "Epoch 21/50\n",
      "55000/55000 [==============================] - 2s 37us/step - loss: 0.3629 - acc: 0.8687\n",
      "Epoch 22/50\n",
      "55000/55000 [==============================] - 2s 39us/step - loss: 0.3617 - acc: 0.8700\n",
      "Epoch 23/50\n",
      "55000/55000 [==============================] - 2s 39us/step - loss: 0.3577 - acc: 0.8702\n",
      "Epoch 24/50\n",
      "55000/55000 [==============================] - 2s 37us/step - loss: 0.3582 - acc: 0.8686\n",
      "Epoch 25/50\n",
      "55000/55000 [==============================] - 2s 39us/step - loss: 0.3550 - acc: 0.8716\n",
      "Epoch 26/50\n",
      "55000/55000 [==============================] - 2s 38us/step - loss: 0.3556 - acc: 0.8703\n",
      "Epoch 27/50\n",
      "55000/55000 [==============================] - 2s 40us/step - loss: 0.3534 - acc: 0.8710\n",
      "Epoch 28/50\n",
      "55000/55000 [==============================] - 2s 38us/step - loss: 0.3513 - acc: 0.8716\n",
      "Epoch 29/50\n",
      "55000/55000 [==============================] - 2s 39us/step - loss: 0.3506 - acc: 0.8733\n",
      "Epoch 30/50\n",
      "55000/55000 [==============================] - 2s 39us/step - loss: 0.3528 - acc: 0.8726\n",
      "Epoch 31/50\n",
      "55000/55000 [==============================] - 2s 39us/step - loss: 0.3476 - acc: 0.8737\n",
      "Epoch 32/50\n",
      "55000/55000 [==============================] - 2s 39us/step - loss: 0.3472 - acc: 0.8738\n",
      "Epoch 33/50\n",
      "55000/55000 [==============================] - 2s 39us/step - loss: 0.3451 - acc: 0.8764\n",
      "Epoch 34/50\n",
      "55000/55000 [==============================] - 2s 40us/step - loss: 0.3440 - acc: 0.8739\n",
      "Epoch 35/50\n",
      "55000/55000 [==============================] - 2s 38us/step - loss: 0.3413 - acc: 0.8762\n",
      "Epoch 36/50\n",
      "55000/55000 [==============================] - 2s 39us/step - loss: 0.3400 - acc: 0.8758\n",
      "Epoch 37/50\n",
      "55000/55000 [==============================] - 2s 39us/step - loss: 0.3371 - acc: 0.8763\n",
      "Epoch 38/50\n",
      "55000/55000 [==============================] - 2s 38us/step - loss: 0.3435 - acc: 0.8745\n",
      "Epoch 39/50\n",
      "55000/55000 [==============================] - 2s 39us/step - loss: 0.3399 - acc: 0.8774\n",
      "Epoch 40/50\n",
      "55000/55000 [==============================] - 2s 39us/step - loss: 0.3373 - acc: 0.8758\n",
      "Epoch 41/50\n",
      "55000/55000 [==============================] - 2s 39us/step - loss: 0.3389 - acc: 0.8758\n",
      "Epoch 42/50\n",
      "55000/55000 [==============================] - 2s 38us/step - loss: 0.3351 - acc: 0.8764\n",
      "Epoch 43/50\n",
      "55000/55000 [==============================] - 2s 37us/step - loss: 0.3366 - acc: 0.8778\n",
      "Epoch 44/50\n",
      "55000/55000 [==============================] - 2s 38us/step - loss: 0.3329 - acc: 0.8777\n",
      "Epoch 45/50\n",
      "55000/55000 [==============================] - 2s 38us/step - loss: 0.3317 - acc: 0.8790\n",
      "Epoch 46/50\n",
      "55000/55000 [==============================] - 2s 38us/step - loss: 0.3315 - acc: 0.8783\n",
      "Epoch 47/50\n",
      "55000/55000 [==============================] - 2s 39us/step - loss: 0.3339 - acc: 0.8780\n",
      "Epoch 48/50\n",
      "55000/55000 [==============================] - 2s 39us/step - loss: 0.3308 - acc: 0.8803\n",
      "Epoch 49/50\n",
      "55000/55000 [==============================] - 2s 38us/step - loss: 0.3316 - acc: 0.8792\n",
      "Epoch 50/50\n",
      "55000/55000 [==============================] - 2s 38us/step - loss: 0.3297 - acc: 0.8795\n",
      "_________________________________________________________________\n",
      "Layer (type)                 Output Shape              Param #   \n",
      "=================================================================\n",
      "imgs (InputLayer)            (None, 784)               0         \n",
      "_________________________________________________________________\n",
      "reshape_3 (Reshape)          (None, 28, 28, 1)         0         \n",
      "_________________________________________________________________\n",
      "conv2d_5 (Conv2D)            (None, 26, 26, 8)         80        \n",
      "_________________________________________________________________\n",
      "max_pooling2d_5 (MaxPooling2 (None, 13, 13, 8)         0         \n",
      "_________________________________________________________________\n",
      "conv2d_6 (Conv2D)            (None, 11, 11, 8)         584       \n",
      "_________________________________________________________________\n",
      "max_pooling2d_6 (MaxPooling2 (None, 5, 5, 8)           0         \n",
      "_________________________________________________________________\n",
      "flatten_3 (Flatten)          (None, 200)               0         \n",
      "_________________________________________________________________\n",
      "dense_5 (Dense)              (None, 64)                12864     \n",
      "_________________________________________________________________\n",
      "dropout_3 (Dropout)          (None, 64)                0         \n",
      "_________________________________________________________________\n",
      "dense_6 (Dense)              (None, 10)                650       \n",
      "_________________________________________________________________\n",
      "activation_3 (Activation)    (None, 10)                0         \n",
      "=================================================================\n",
      "Total params: 14,178\n",
      "Trainable params: 14,178\n",
      "Non-trainable params: 0\n",
      "_________________________________________________________________\n"
     ]
    }
   ],
   "source": [
    "model.fit([train_data,train_labels],train_labels,\n",
    "          batch_size=256,\n",
    "          epochs=50,\n",
    "          verbose=1)\n",
    "model.save('./keras/models/fmnist_smaller.h5')\n",
    "model.summary()"
   ]
  },
  {
   "cell_type": "code",
   "execution_count": 22,
   "metadata": {
    "ExecuteTime": {
     "end_time": "2018-09-30T10:16:20.070681Z",
     "start_time": "2018-09-30T10:16:19.244936Z"
    }
   },
   "outputs": [
    {
     "name": "stdout",
     "output_type": "stream",
     "text": [
      "10000/10000 [==============================] - 1s 81us/step\n"
     ]
    },
    {
     "data": {
      "text/plain": [
       "[0.30761797652244566, 0.8895]"
      ]
     },
     "execution_count": 22,
     "metadata": {},
     "output_type": "execute_result"
    }
   ],
   "source": [
    "model.evaluate([eval_data,eval_labels],eval_labels)"
   ]
  },
  {
   "cell_type": "code",
   "execution_count": null,
   "metadata": {},
   "outputs": [],
   "source": []
  }
 ],
 "metadata": {
  "hide_input": false,
  "kernelspec": {
   "display_name": "Python 3",
   "language": "python",
   "name": "python3"
  },
  "language_info": {
   "codemirror_mode": {
    "name": "ipython",
    "version": 3
   },
   "file_extension": ".py",
   "mimetype": "text/x-python",
   "name": "python",
   "nbconvert_exporter": "python",
   "pygments_lexer": "ipython3",
   "version": "3.6.5"
  },
  "varInspector": {
   "cols": {
    "lenName": 16,
    "lenType": 16,
    "lenVar": 40
   },
   "kernels_config": {
    "python": {
     "delete_cmd_postfix": "",
     "delete_cmd_prefix": "del ",
     "library": "var_list.py",
     "varRefreshCmd": "print(var_dic_list())"
    },
    "r": {
     "delete_cmd_postfix": ") ",
     "delete_cmd_prefix": "rm(",
     "library": "var_list.r",
     "varRefreshCmd": "cat(var_dic_list()) "
    }
   },
   "types_to_exclude": [
    "module",
    "function",
    "builtin_function_or_method",
    "instance",
    "_Feature"
   ],
   "window_display": false
  }
 },
 "nbformat": 4,
 "nbformat_minor": 2
}
