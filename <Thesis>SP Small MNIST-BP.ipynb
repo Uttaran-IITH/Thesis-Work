{
 "cells": [
  {
   "cell_type": "code",
   "execution_count": 1,
   "metadata": {
    "ExecuteTime": {
     "end_time": "2018-09-26T08:41:19.470869Z",
     "start_time": "2018-09-26T08:41:17.571590Z"
    },
    "hide_input": false,
    "scrolled": true
   },
   "outputs": [
    {
     "name": "stderr",
     "output_type": "stream",
     "text": [
      "/home/uttaran/anaconda3/lib/python3.6/importlib/_bootstrap.py:219: RuntimeWarning: compiletime version 3.5 of module 'tensorflow.python.framework.fast_tensor_util' does not match runtime version 3.6\n",
      "  return f(*args, **kwds)\n",
      "/home/uttaran/anaconda3/lib/python3.6/site-packages/h5py/__init__.py:36: FutureWarning: Conversion of the second argument of issubdtype from `float` to `np.floating` is deprecated. In future, it will be treated as `np.float64 == np.dtype(float).type`.\n",
      "  from ._conv import register_converters as _register_converters\n"
     ]
    }
   ],
   "source": [
    "from __future__ import absolute_import\n",
    "from __future__ import division\n",
    "from __future__ import print_function\n",
    "import matplotlib.pyplot as plt\n",
    "import cv2\n",
    "import numpy as np\n",
    "import tensorflow as tf\n",
    "import collections\n",
    "import ipynb.fs.full.Structural_Perturbations as SP\n",
    "import ipynb.fs.full.MultiTest as MT\n",
    "tf.logging.set_verbosity(tf.logging.ERROR)\n",
    "import sys"
   ]
  },
  {
   "cell_type": "code",
   "execution_count": 2,
   "metadata": {
    "ExecuteTime": {
     "end_time": "2018-09-26T08:41:20.002939Z",
     "start_time": "2018-09-26T08:41:19.473863Z"
    }
   },
   "outputs": [
    {
     "name": "stdout",
     "output_type": "stream",
     "text": [
      "Extracting MNIST-data/train-images-idx3-ubyte.gz\n",
      "Extracting MNIST-data/train-labels-idx1-ubyte.gz\n",
      "Extracting MNIST-data/t10k-images-idx3-ubyte.gz\n",
      "Extracting MNIST-data/t10k-labels-idx1-ubyte.gz\n",
      "0.76470596\n"
     ]
    },
    {
     "data": {
      "image/png": "[encoded data removed]",
      "text/plain": [
       "<Figure size 432x288 with 1 Axes>"
      ]
     },
     "metadata": {},
     "output_type": "display_data"
    }
   ],
   "source": [
    "train_data,train_labels,eval_data,eval_labels = SP.load(data='mnist')\n",
    "SP.Display(eval_data,433)\n",
    "print(eval_data[1000][433])"
   ]
  },
  {
   "cell_type": "code",
   "execution_count": 16,
   "metadata": {
    "ExecuteTime": {
     "end_time": "2018-09-18T05:20:37.126742Z",
     "start_time": "2018-09-18T05:20:36.910470Z"
    },
    "deletable": false,
    "editable": false,
    "hide_input": false,
    "run_control": {
     "frozen": true
    }
   },
   "outputs": [],
   "source": [
    "eval_data = SP.Scaling(eval_data,.8)"
   ]
  },
  {
   "cell_type": "code",
   "execution_count": 18,
   "metadata": {
    "ExecuteTime": {
     "end_time": "2018-09-17T10:05:22.875991Z",
     "start_time": "2018-09-17T10:05:22.731540Z"
    },
    "deletable": false,
    "editable": false,
    "run_control": {
     "frozen": true
    }
   },
   "outputs": [],
   "source": [
    "eval_data = Exposure(eval_data,+60)"
   ]
  },
  {
   "cell_type": "code",
   "execution_count": 46,
   "metadata": {
    "ExecuteTime": {
     "end_time": "2018-09-17T10:11:37.036812Z",
     "start_time": "2018-09-17T10:11:36.823623Z"
    },
    "deletable": false,
    "editable": false,
    "run_control": {
     "frozen": true
    }
   },
   "outputs": [],
   "source": [
    "eval_data = Rotation(eval_data,10)"
   ]
  },
  {
   "cell_type": "code",
   "execution_count": 69,
   "metadata": {
    "ExecuteTime": {
     "end_time": "2018-09-14T11:44:41.335928Z",
     "start_time": "2018-09-14T11:44:41.129965Z"
    },
    "deletable": false,
    "editable": false,
    "run_control": {
     "frozen": true
    }
   },
   "outputs": [],
   "source": [
    "eval_data = Translation(eval_data,2)"
   ]
  },
  {
   "cell_type": "code",
   "execution_count": 3,
   "metadata": {
    "ExecuteTime": {
     "end_time": "2018-09-26T08:41:20.087114Z",
     "start_time": "2018-09-26T08:41:20.004618Z"
    }
   },
   "outputs": [
    {
     "name": "stdout",
     "output_type": "stream",
     "text": [
      "0.76470596\n"
     ]
    },
    {
     "data": {
      "image/png": "[encoded data removed]",
      "text/plain": [
       "<Figure size 432x288 with 1 Axes>"
      ]
     },
     "metadata": {},
     "output_type": "display_data"
    }
   ],
   "source": [
    "SP.Display(eval_data,433)\n",
    "print(eval_data[1000][433])\n",
    "con = []"
   ]
  },
  {
   "cell_type": "code",
   "execution_count": 4,
   "metadata": {
    "ExecuteTime": {
     "end_time": "2018-09-26T08:41:20.097211Z",
     "start_time": "2018-09-26T08:41:20.088502Z"
    },
    "hide_input": false
   },
   "outputs": [],
   "source": [
    "def cnn_model_fn(features, labels, mode):\n",
    "    \"\"\"Model function for CNN.\"\"\"\n",
    "    # Input Layer\n",
    "    # Reshape X to 4-D tensor: [batch_size, width, height, channels]\n",
    "    # MNIST images are 28x28 pixels, and have one color channel\n",
    "    input_layer = tf.reshape(features[\"x\"], [-1, 28, 28, 1])\n",
    "    # Convolutional Layer #1\n",
    "    # Computes 32 features using a 5x5 filter with ReLU activation.\n",
    "    # Padding is added to preserve width and height.\n",
    "    # Input Tensor Shape: [batch_size, 28, 28, 1]\n",
    "    # Output Tensor Shape: [batch_size, 28, 28, 32]\n",
    "    conv1 = tf.layers.conv2d(\n",
    "        inputs=input_layer,\n",
    "        filters=8,\n",
    "        kernel_size=[5, 5],\n",
    "        padding=\"same\",\n",
    "        activation=tf.nn.relu)\n",
    "    # Pooling Layer #1\n",
    "    # First max pooling layer with a 2x2 filter and stride of 2\n",
    "    # Input Tensor Shape: [batch_size, 28, 28, 32]\n",
    "    # Output Tensor Shape: [batch_size, 14, 14, 32]\n",
    "    pool1 = tf.layers.max_pooling2d(inputs=conv1, pool_size=[2, 2], strides=2)\n",
    "\n",
    "    # Convolutional Layer #2\n",
    "    # Computes 64 features using a 5x5 filter.\n",
    "    # Padding is added to preserve width and height.\n",
    "    # Input Tensor Shape: [batch_size, 14, 14, 32]\n",
    "    # Output Tensor Shape: [batch_size, 14, 14, 64]\n",
    "    conv2 = tf.layers.conv2d(\n",
    "        inputs=pool1,\n",
    "        filters=16,\n",
    "        kernel_size=[5, 5],\n",
    "        padding=\"same\",\n",
    "        activation=tf.nn.relu)\n",
    "\n",
    "    # Pooling Layer #2\n",
    "    # Second max pooling layer with a 2x2 filter and stride of 2\n",
    "    # Input Tensor Shape: [batch_size, 14, 14, 64]\n",
    "    # Output Tensor Shape: [batch_size, 7, 7, 64]\n",
    "    pool2 = tf.layers.max_pooling2d(inputs=conv2, pool_size=[2, 2], strides=2)\n",
    "\n",
    "    # Flatten tensor into a batch of vectors\n",
    "    # Input Tensor Shape: [batch_size, 7, 7, 64]\n",
    "    # Output Tensor Shape: [batch_size, 7 * 7 * 64]\n",
    "    #print(pool2.shape)\n",
    "    pool2_flat = tf.reshape(pool2, [-1, 7 * 7 * 16])\n",
    "\n",
    "    # Dense Layer\n",
    "    # Densely connected layer with 1024 neurons\n",
    "    # Input Tensor Shape: [batch_size, 7 * 7 * 64]\n",
    "    # Output Tensor Shape: [batch_size, 1024]\n",
    "    #print(pool2_flat.shape)\n",
    "    dense = tf.layers.dense(\n",
    "        inputs=pool2_flat, units=120, activation=tf.nn.relu)\n",
    "\n",
    "    # Add dropout operation; 0.6 probability that element will be kept\n",
    "    dropout = tf.layers.dropout(\n",
    "        inputs=dense, rate=0.4, training=mode == tf.estimator.ModeKeys.TRAIN)\n",
    "\n",
    "    # Logits layer\n",
    "    # Input Tensor Shape: [batch_size, 1024]\n",
    "    # Output Tensor Shape: [batch_size, 10]\n",
    "    logits = tf.layers.dense(inputs=dropout, units=10)\n",
    "    #print(logits.shape)\n",
    "    #temp = tf.nn.top_k(input=logits,k=1,sorted=True,name=None)\n",
    "    #print(temp[0])\n",
    "    predictions = {\n",
    "        # Generate predictions (for PREDICT and EVAL mode)\n",
    "\n",
    "        #\"classes\": temp,\n",
    "        \"classes\": tf.argmax(input=logits, axis=1),\n",
    "        # Add `softmax_tensor` to the graph. It is used for PREDICT and by the\n",
    "        # `logging_hook`.\n",
    "        \"probabilities\": tf.nn.softmax(logits, name=\"softmax_tensor\")\n",
    "    }\n",
    "    if mode == tf.estimator.ModeKeys.PREDICT:\n",
    "        return tf.estimator.EstimatorSpec(mode=mode, predictions=predictions)\n",
    "\n",
    "    # Calculate Loss (for both TRAIN and EVAL modes)\n",
    "    loss = tf.losses.sparse_softmax_cross_entropy(labels=labels, logits=logits)\n",
    "\n",
    "    # Configure the Training Op (for TRAIN mode)\n",
    "    if mode == tf.estimator.ModeKeys.TRAIN:\n",
    "        optimizer = tf.train.AdamOptimizer(learning_rate=0.01)\n",
    "        train_op = optimizer.minimize(\n",
    "            loss=loss, global_step=tf.train.get_global_step())\n",
    "        return tf.estimator.EstimatorSpec(\n",
    "            mode=mode, loss=loss, train_op=train_op)\n",
    "\n",
    "    # Add evaluation metrics (for EVAL mode)\n",
    "    eval_metric_ops = {\n",
    "        \"accuracy\":\n",
    "        tf.metrics.accuracy(labels=labels, predictions=predictions[\"classes\"]),\n",
    "    }\n",
    "    return tf.estimator.EstimatorSpec(\n",
    "        mode=mode, loss=loss, eval_metric_ops=eval_metric_ops)"
   ]
  },
  {
   "cell_type": "code",
   "execution_count": 5,
   "metadata": {
    "ExecuteTime": {
     "end_time": "2018-09-26T08:41:20.101653Z",
     "start_time": "2018-09-26T08:41:20.098765Z"
    },
    "hide_input": false
   },
   "outputs": [],
   "source": [
    "# Evaluate the model and print results\n",
    "mnist_classifier = tf.estimator.Estimator(\n",
    "  model_fn=cnn_model_fn, model_dir=\"./models/mnist_convnet_model_small\")\n",
    "\n",
    "# Set up logging for predictions\n",
    "# Log the values in the \"Softmax\" tensor with label \"probabilities\"\n",
    "tensors_to_log = {\"probabilities\": \"softmax_tensor\"}\n",
    "logging_hook = tf.train.LoggingTensorHook(\n",
    "  tensors=tensors_to_log, every_n_iter=50)"
   ]
  },
  {
   "cell_type": "code",
   "execution_count": 6,
   "metadata": {
    "ExecuteTime": {
     "end_time": "2018-09-26T08:41:20.107180Z",
     "start_time": "2018-09-26T08:41:20.103151Z"
    },
    "hide_input": false
   },
   "outputs": [],
   "source": [
    "def current_loss(flag):\n",
    "    train_eval_input_fn = tf.estimator.inputs.numpy_input_fn(\n",
    "      x={\"x\": train_data},\n",
    "      y=train_labels,\n",
    "      shuffle=False)\n",
    "    eval_result1=mnist_classifier.evaluate(input_fn=train_eval_input_fn)\n",
    "    if flag:\n",
    "        print(\"%%%%%%% Train accuracy %%%%%%%%%%%%\\n\",eval_result1)\n",
    "    [a,b,c] = eval_result1.items()\n",
    "\n",
    "    # Evaluate the model and print results\n",
    "    eval_input_fn = tf.estimator.inputs.numpy_input_fn(\n",
    "      x={\"x\": eval_data},\n",
    "      y=eval_labels,\n",
    "      num_epochs=1,\n",
    "      shuffle=False)\n",
    "    eval_result2=mnist_classifier.evaluate(input_fn=eval_input_fn)\n",
    "    if flag:\n",
    "        print(\"######### Test accuracy #############\\n\",eval_result2)\n",
    "    [d,e,f] = eval_result2.items()\n",
    "    return a[1],d[1]"
   ]
  },
  {
   "cell_type": "code",
   "execution_count": 7,
   "metadata": {
    "ExecuteTime": {
     "end_time": "2018-09-26T08:41:20.110934Z",
     "start_time": "2018-09-26T08:41:20.108574Z"
    },
    "hide_input": false
   },
   "outputs": [],
   "source": [
    "# print(\"started\\n\")\n",
    "# # Train the model\n",
    "# while 1:\n",
    "    \n",
    "# # Train the model\n",
    "#     print(\"Training\")\n",
    "#     train_input_fn = tf.estimator.inputs.numpy_input_fn(\n",
    "#       x={\"x\": train_data},\n",
    "#       y=train_labels,\n",
    "#       batch_size=128,\n",
    "#       num_epochs=None,\n",
    "#       shuffle=True)\n",
    "\n",
    "#     mnist_classifier.train(\n",
    "#       input_fn=train_input_fn,\n",
    "#       steps=1000,\n",
    "#       hooks=[logging_hook])\n",
    "#     curr_result = current_loss(0)\n",
    "#     print(curr_result)\n",
    "#     if curr_result[0] - curr_result[1] > 0.10 or curr_result[1] > 0.98:\n",
    "#        break\n",
    "#     #print(curr_result)\n",
    "    \n",
    "# print (\"Finished\")"
   ]
  },
  {
   "cell_type": "code",
   "execution_count": 9,
   "metadata": {
    "deletable": false,
    "editable": false,
    "hide_input": true,
    "run_control": {
     "frozen": true
    },
    "scrolled": true
   },
   "outputs": [
    {
     "data": {
      "image/png": "[encoded data removed]",
      "text/plain": [
       "<Figure size 432x288 with 1 Axes>"
      ]
     },
     "metadata": {},
     "output_type": "display_data"
    }
   ],
   "source": [
    "Plot(eval_data,eval_labels,mnist_classifier)"
   ]
  },
  {
   "cell_type": "code",
   "execution_count": 11,
   "metadata": {
    "ExecuteTime": {
     "end_time": "2018-09-26T08:41:41.076663Z",
     "start_time": "2018-09-26T08:41:35.187235Z"
    }
   },
   "outputs": [
    {
     "name": "stdout",
     "output_type": "stream",
     "text": [
      "%%%%%%% Train accuracy %%%%%%%%%%%%\n",
      " {'accuracy': 0.9574909, 'loss': 0.13737398, 'global_step': 66}\n",
      "######### Test accuracy #############\n",
      " {'accuracy': 0.9592, 'loss': 0.1286844, 'global_step': 66}\n"
     ]
    }
   ],
   "source": [
    "SP.Test(train_data,train_labels,eval_data,eval_labels,mnist_classifier)"
   ]
  },
  {
   "cell_type": "code",
   "execution_count": 12,
   "metadata": {
    "ExecuteTime": {
     "end_time": "2018-09-26T08:41:41.243911Z",
     "start_time": "2018-09-26T08:41:41.098204Z"
    }
   },
   "outputs": [
    {
     "name": "stdout",
     "output_type": "stream",
     "text": [
      "beta1_power ()\n",
      "beta2_power ()\n",
      "conv2d/bias (8,)\n",
      "conv2d/bias/Adam (8,)\n",
      "conv2d/bias/Adam_1 (8,)\n",
      "conv2d/kernel (5, 5, 1, 8)\n",
      "conv2d/kernel/Adam (5, 5, 1, 8)\n",
      "conv2d/kernel/Adam_1 (5, 5, 1, 8)\n",
      "conv2d_1/bias (16,)\n",
      "conv2d_1/bias/Adam (16,)\n",
      "conv2d_1/bias/Adam_1 (16,)\n",
      "conv2d_1/kernel (5, 5, 8, 16)\n",
      "conv2d_1/kernel/Adam (5, 5, 8, 16)\n",
      "conv2d_1/kernel/Adam_1 (5, 5, 8, 16)\n",
      "dense/bias (120,)\n",
      "dense/bias/Adam (120,)\n",
      "dense/bias/Adam_1 (120,)\n",
      "dense/kernel (784, 120)\n",
      "dense/kernel/Adam (784, 120)\n",
      "dense/kernel/Adam_1 (784, 120)\n",
      "dense_1/bias (10,)\n",
      "dense_1/bias/Adam (10,)\n",
      "dense_1/bias/Adam_1 (10,)\n",
      "dense_1/kernel (120, 10)\n",
      "dense_1/kernel/Adam (120, 10)\n",
      "dense_1/kernel/Adam_1 (120, 10)\n",
      "global_step ()\n"
     ]
    }
   ],
   "source": [
    "t = tf.estimator.Estimator.get_variable_names(mnist_classifier)\n",
    "weights = []\n",
    "for i in t: \n",
    "    v =  tf.estimator.Estimator.get_variable_value(mnist_classifier,name = i)\n",
    "    weights.append(v)\n",
    "    print(i,v.shape)"
   ]
  },
  {
   "cell_type": "code",
   "execution_count": 31,
   "metadata": {
    "ExecuteTime": {
     "end_time": "2018-09-26T08:46:16.135430Z",
     "start_time": "2018-09-26T08:46:15.982915Z"
    }
   },
   "outputs": [
    {
     "name": "stdout",
     "output_type": "stream",
     "text": [
      "beta1_power ()\n",
      "beta2_power ()\n",
      "conv2d/bias (8,)\n",
      "conv2d/bias/Adam (8,)\n",
      "conv2d/bias/Adam_1 (8,)\n",
      "conv2d/kernel (5, 5, 1, 8)\n",
      "conv2d/kernel/Adam (5, 5, 1, 8)\n",
      "conv2d/kernel/Adam_1 (5, 5, 1, 8)\n",
      "conv2d_1/bias (16,)\n",
      "conv2d_1/bias/Adam (16,)\n",
      "conv2d_1/bias/Adam_1 (16,)\n",
      "conv2d_1/kernel (5, 5, 8, 16)\n",
      "conv2d_1/kernel/Adam (5, 5, 8, 16)\n",
      "conv2d_1/kernel/Adam_1 (5, 5, 8, 16)\n",
      "dense/bias (120,)\n",
      "dense/bias/Adam (120,)\n",
      "dense/bias/Adam_1 (120,)\n",
      "dense/kernel (784, 120)\n",
      "dense/kernel/Adam (784, 120)\n",
      "dense/kernel/Adam_1 (784, 120)\n",
      "dense_1/bias (10,)\n",
      "dense_1/bias/Adam (10,)\n",
      "dense_1/bias/Adam_1 (10,)\n",
      "dense_1/kernel (120, 10)\n",
      "dense_1/kernel/Adam (120, 10)\n",
      "dense_1/kernel/Adam_1 (120, 10)\n",
      "global_step ()\n"
     ]
    }
   ],
   "source": [
    "t = tf.estimator.Estimator.get_variable_names(mnist_classifier)\n",
    "weights = []\n",
    "for i in t: \n",
    "    v =  tf.estimator.Estimator.get_variable_value(mnist_classifier,name = i)\n",
    "    weights.append(v)\n",
    "    print(i,v.shape)"
   ]
  },
  {
   "cell_type": "code",
   "execution_count": 40,
   "metadata": {
    "ExecuteTime": {
     "end_time": "2018-09-26T08:51:07.133956Z",
     "start_time": "2018-09-26T08:51:06.736355Z"
    }
   },
   "outputs": [
    {
     "name": "stdout",
     "output_type": "stream",
     "text": [
      "[1.70959647e-05 2.36774635e-04 4.89485137e-05 5.27937384e-03\n",
      " 4.35005408e-03 3.37310194e-04 2.51483675e-06 3.92280379e-03\n",
      " 1.11516594e-04 9.85693574e-01]\n"
     ]
    },
    {
     "data": {
      "image/png": "[encoded data removed]",
      "text/plain": [
       "<Figure size 432x288 with 1 Axes>"
      ]
     },
     "metadata": {},
     "output_type": "display_data"
    }
   ],
   "source": [
    "eval_input_fn = tf.estimator.inputs.numpy_input_fn(\n",
    "      x={\"x\": eval_data[1000:1001]},\n",
    "      y=eval_labels[1000:1001],\n",
    "      num_epochs=1,\n",
    "      shuffle=False)\n",
    "pred = mnist_classifier.predict(input_fn=eval_input_fn)\n",
    "p = np.empty(10)\n",
    "for i,k in enumerate(pred):\n",
    "    p = np.array(k['probabilities'])\n",
    "    print(p)\n",
    "SP.Display(eval_data,1000)"
   ]
  },
  {
   "cell_type": "code",
   "execution_count": 41,
   "metadata": {
    "ExecuteTime": {
     "end_time": "2018-09-26T08:51:25.146271Z",
     "start_time": "2018-09-26T08:51:25.142978Z"
    }
   },
   "outputs": [],
   "source": [
    "weights = np.array(weights,dtype=object)"
   ]
  },
  {
   "cell_type": "code",
   "execution_count": 39,
   "metadata": {
    "ExecuteTime": {
     "end_time": "2018-09-26T08:50:26.398080Z",
     "start_time": "2018-09-26T08:50:26.393206Z"
    }
   },
   "outputs": [
    {
     "data": {
      "text/plain": [
       "(120, 10)"
      ]
     },
     "execution_count": 39,
     "metadata": {},
     "output_type": "execute_result"
    }
   ],
   "source": [
    "weights[-2].shape"
   ]
  },
  {
   "cell_type": "code",
   "execution_count": 38,
   "metadata": {
    "ExecuteTime": {
     "end_time": "2018-09-26T08:50:09.254251Z",
     "start_time": "2018-09-26T08:50:09.249354Z"
    }
   },
   "outputs": [
    {
     "data": {
      "text/plain": [
       "(120, 10)"
      ]
     },
     "execution_count": 38,
     "metadata": {},
     "output_type": "execute_result"
    }
   ],
   "source": []
  }
 ],
 "metadata": {
  "hide_input": false,
  "kernelspec": {
   "display_name": "Python 3",
   "language": "python",
   "name": "python3"
  },
  "language_info": {
   "codemirror_mode": {
    "name": "ipython",
    "version": 3
   },
   "file_extension": ".py",
   "mimetype": "text/x-python",
   "name": "python",
   "nbconvert_exporter": "python",
   "pygments_lexer": "ipython3",
   "version": "3.6.5"
  },
  "varInspector": {
   "cols": {
    "lenName": 16,
    "lenType": 16,
    "lenVar": 40
   },
   "kernels_config": {
    "python": {
     "delete_cmd_postfix": "",
     "delete_cmd_prefix": "del ",
     "library": "var_list.py",
     "varRefreshCmd": "print(var_dic_list())"
    },
    "r": {
     "delete_cmd_postfix": ") ",
     "delete_cmd_prefix": "rm(",
     "library": "var_list.r",
     "varRefreshCmd": "cat(var_dic_list()) "
    }
   },
   "types_to_exclude": [
    "module",
    "function",
    "builtin_function_or_method",
    "instance",
    "_Feature"
   ],
   "window_display": false
  }
 },
 "nbformat": 4,
 "nbformat_minor": 2
}
