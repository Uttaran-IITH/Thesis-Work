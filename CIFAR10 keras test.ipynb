{
 "cells": [
  {
   "cell_type": "code",
   "execution_count": 1,
   "metadata": {
    "ExecuteTime": {
     "end_time": "2018-09-30T10:20:38.751238Z",
     "start_time": "2018-09-30T10:20:36.829006Z"
    }
   },
   "outputs": [
    {
     "name": "stderr",
     "output_type": "stream",
     "text": [
      "/home/uttaran/anaconda3/lib/python3.6/site-packages/h5py/__init__.py:36: FutureWarning: Conversion of the second argument of issubdtype from `float` to `np.floating` is deprecated. In future, it will be treated as `np.float64 == np.dtype(float).type`.\n",
      "  from ._conv import register_converters as _register_converters\n",
      "Using TensorFlow backend.\n",
      "/home/uttaran/anaconda3/lib/python3.6/importlib/_bootstrap.py:219: RuntimeWarning: compiletime version 3.5 of module 'tensorflow.python.framework.fast_tensor_util' does not match runtime version 3.6\n",
      "  return f(*args, **kwds)\n"
     ]
    },
    {
     "name": "stdout",
     "output_type": "stream",
     "text": [
      "Data has apparently already been downloaded and unpacked.\n"
     ]
    }
   ],
   "source": [
    "import keras\n",
    "from keras import backend as K\n",
    "import numpy as np\n",
    "import tensorflow as tf\n",
    "from keras.models import Model\n",
    "import ipynb.fs.full.Structural_Perturbations as SP\n",
    "import ipynb.fs.full.MultiTest as MT\n",
    "tf.logging.set_verbosity(tf.logging.ERROR)\n",
    "import sys\n",
    "from keras.layers import Input, Dense, Lambda, merge,add,concatenate\n",
    "from keras.models import Sequential\n",
    "from keras.layers import Dense, Dropout, Flatten\n",
    "from keras.layers import Conv2D, MaxPooling2D\n",
    "from keras.layers.core import Activation\n",
    "from keras.models import load_model"
   ]
  },
  {
   "cell_type": "code",
   "execution_count": 2,
   "metadata": {
    "ExecuteTime": {
     "end_time": "2018-09-30T10:20:42.148292Z",
     "start_time": "2018-09-30T10:20:38.754164Z"
    }
   },
   "outputs": [
    {
     "name": "stdout",
     "output_type": "stream",
     "text": [
      "Loading data: data/CIFAR-10/cifar-10-batches-py/data_batch_1\n",
      "<_io.BufferedReader name='data/CIFAR-10/cifar-10-batches-py/data_batch_1'>\n",
      "Loading data: data/CIFAR-10/cifar-10-batches-py/data_batch_2\n",
      "<_io.BufferedReader name='data/CIFAR-10/cifar-10-batches-py/data_batch_2'>\n",
      "Loading data: data/CIFAR-10/cifar-10-batches-py/data_batch_3\n",
      "<_io.BufferedReader name='data/CIFAR-10/cifar-10-batches-py/data_batch_3'>\n",
      "Loading data: data/CIFAR-10/cifar-10-batches-py/data_batch_4\n",
      "<_io.BufferedReader name='data/CIFAR-10/cifar-10-batches-py/data_batch_4'>\n",
      "Loading data: data/CIFAR-10/cifar-10-batches-py/data_batch_5\n",
      "<_io.BufferedReader name='data/CIFAR-10/cifar-10-batches-py/data_batch_5'>\n",
      "Loading data: data/CIFAR-10/cifar-10-batches-py/test_batch\n",
      "<_io.BufferedReader name='data/CIFAR-10/cifar-10-batches-py/test_batch'>\n"
     ]
    }
   ],
   "source": [
    "train_data,train_labels,eval_data,eval_labels = SP.load(data='cifar10')"
   ]
  },
  {
   "cell_type": "code",
   "execution_count": null,
   "metadata": {
    "ExecuteTime": {
     "end_time": "2018-09-30T10:20:42.154559Z",
     "start_time": "2018-09-30T10:20:42.150396Z"
    }
   },
   "outputs": [],
   "source": [
    "train_labels = keras.utils.to_categorical(train_labels, 10)\n",
    "eval_labels = keras.utils.to_categorical(eval_labels, 10)"
   ]
  },
  {
   "cell_type": "code",
   "execution_count": 7,
   "metadata": {
    "ExecuteTime": {
     "end_time": "2018-09-30T10:21:06.124045Z",
     "start_time": "2018-09-30T10:21:06.120207Z"
    }
   },
   "outputs": [
    {
     "name": "stdout",
     "output_type": "stream",
     "text": [
      "(50000, 32, 32, 3)\n"
     ]
    }
   ],
   "source": [
    "print(train_data.shape)"
   ]
  },
  {
   "cell_type": "code",
   "execution_count": 14,
   "metadata": {
    "ExecuteTime": {
     "end_time": "2018-09-30T10:53:18.072065Z",
     "start_time": "2018-09-30T10:53:18.056708Z"
    }
   },
   "outputs": [],
   "source": [
    "class MNIST:\n",
    "    def __init__(self):\n",
    "        self.build_model()\n",
    "        \n",
    "    def build_model(self):\n",
    "        self.inputs = Input(shape=(32,32,3 ),name='imgs')\n",
    "        self.labels = Input((10,),name='labels')\n",
    "        inputs = self.inputs\n",
    "        labels = self.labels\n",
    "\n",
    "        conv1 = Conv2D(8, kernel_size=(3, 3),\n",
    "                         activation='relu',\n",
    "                         )(inputs)\n",
    "\n",
    "        pool1 = MaxPooling2D(pool_size=(2, 2))(conv1)\n",
    "\n",
    "        conv2 = Conv2D(16, (3, 3), activation='relu')(pool1)\n",
    "\n",
    "        pool2 = MaxPooling2D(pool_size=(2, 2))(conv2)\n",
    "\n",
    "        pool2_flat = Flatten()(pool2)\n",
    "\n",
    "        dense1 = Dense(128, activation='relu')(pool2_flat)\n",
    "        dropout = Dropout(0.5)(dense1)\n",
    "\n",
    "        logits = Dense(10)(dropout)\n",
    "\n",
    "        self.predictions = Activation('softmax')(logits)\n",
    "\n",
    "        g = merge([logits, pool2, labels], mode=lambda x: K.gradients(x[0] * x[2], x[1]), output_shape=(pool2.shape))\n",
    "        cost = merge([labels, self.predictions], mode=lambda x: (-1) * K.sum(x[0] * K.log(x[1]), axis=1), output_shape=labels.shape)\n",
    "        gb_grad = merge([cost, inputs], mode=lambda x: K.gradients(x[0], x[1]), output_shape=(inputs.shape))"
   ]
  },
  {
   "cell_type": "code",
   "execution_count": 15,
   "metadata": {
    "ExecuteTime": {
     "end_time": "2018-09-30T10:53:19.275496Z",
     "start_time": "2018-09-30T10:53:19.050670Z"
    }
   },
   "outputs": [
    {
     "name": "stderr",
     "output_type": "stream",
     "text": [
      "/home/uttaran/anaconda3/lib/python3.6/site-packages/ipykernel_launcher.py:30: UserWarning: The `merge` function is deprecated and will be removed after 08/2017. Use instead layers from `keras.layers.merge`, e.g. `add`, `concatenate`, etc.\n",
      "/home/uttaran/anaconda3/lib/python3.6/site-packages/keras/legacy/layers.py:465: UserWarning: The `Merge` layer is deprecated and will be removed after 08/2017. Use instead layers from `keras.layers.merge`, e.g. `add`, `concatenate`, etc.\n",
      "  name=name)\n",
      "/home/uttaran/anaconda3/lib/python3.6/site-packages/ipykernel_launcher.py:31: UserWarning: The `merge` function is deprecated and will be removed after 08/2017. Use instead layers from `keras.layers.merge`, e.g. `add`, `concatenate`, etc.\n",
      "/home/uttaran/anaconda3/lib/python3.6/site-packages/ipykernel_launcher.py:32: UserWarning: The `merge` function is deprecated and will be removed after 08/2017. Use instead layers from `keras.layers.merge`, e.g. `add`, `concatenate`, etc.\n"
     ]
    }
   ],
   "source": [
    "config = tf.ConfigProto()\n",
    "config.gpu_options.allow_growth = True\n",
    "sess = tf.Session(config=config)\n",
    "K.set_session(sess)\n",
    "\n",
    "m = MNIST()\n",
    "\n",
    "model = Model(inputs=[m.inputs, m.labels], outputs=[m.predictions])\n",
    "\n",
    "model.compile(loss=keras.losses.categorical_crossentropy,\n",
    "              optimizer=keras.optimizers.Adam(),\n",
    "              metrics=['accuracy'])"
   ]
  },
  {
   "cell_type": "code",
   "execution_count": 5,
   "metadata": {
    "ExecuteTime": {
     "end_time": "2018-09-30T10:00:23.556775Z",
     "start_time": "2018-09-30T10:00:22.269981Z"
    },
    "deletable": false,
    "editable": false,
    "run_control": {
     "frozen": true
    }
   },
   "outputs": [],
   "source": [
    "model = load_model('./keras/models/mnist_test1.h5')"
   ]
  },
  {
   "cell_type": "code",
   "execution_count": 21,
   "metadata": {
    "ExecuteTime": {
     "end_time": "2018-09-30T16:27:47.596320Z",
     "start_time": "2018-09-30T16:25:37.320932Z"
    }
   },
   "outputs": [
    {
     "name": "stdout",
     "output_type": "stream",
     "text": [
      "Epoch 1/50\n",
      "50000/50000 [==============================] - 3s 53us/step - loss: 0.6865 - acc: 0.7412\n",
      "Epoch 2/50\n",
      "50000/50000 [==============================] - 3s 52us/step - loss: 0.6846 - acc: 0.7416\n",
      "Epoch 3/50\n",
      "50000/50000 [==============================] - 3s 52us/step - loss: 0.6792 - acc: 0.7434\n",
      "Epoch 4/50\n",
      "50000/50000 [==============================] - 3s 53us/step - loss: 0.6853 - acc: 0.7424\n",
      "Epoch 5/50\n",
      "50000/50000 [==============================] - 3s 53us/step - loss: 0.6837 - acc: 0.7412\n",
      "Epoch 6/50\n",
      "50000/50000 [==============================] - 3s 53us/step - loss: 0.6851 - acc: 0.7416\n",
      "Epoch 7/50\n",
      "50000/50000 [==============================] - 3s 52us/step - loss: 0.6790 - acc: 0.7450\n",
      "Epoch 8/50\n",
      "50000/50000 [==============================] - 3s 51us/step - loss: 0.6711 - acc: 0.7478\n",
      "Epoch 9/50\n",
      "50000/50000 [==============================] - 3s 52us/step - loss: 0.6798 - acc: 0.7459\n",
      "Epoch 10/50\n",
      "50000/50000 [==============================] - 3s 51us/step - loss: 0.6740 - acc: 0.7454\n",
      "Epoch 11/50\n",
      "50000/50000 [==============================] - 3s 52us/step - loss: 0.6768 - acc: 0.7460\n",
      "Epoch 12/50\n",
      "50000/50000 [==============================] - 3s 51us/step - loss: 0.6730 - acc: 0.7436\n",
      "Epoch 13/50\n",
      "50000/50000 [==============================] - 3s 53us/step - loss: 0.6714 - acc: 0.7480\n",
      "Epoch 14/50\n",
      "50000/50000 [==============================] - 3s 53us/step - loss: 0.6686 - acc: 0.7466\n",
      "Epoch 15/50\n",
      "50000/50000 [==============================] - 3s 52us/step - loss: 0.6763 - acc: 0.7434\n",
      "Epoch 16/50\n",
      "50000/50000 [==============================] - 3s 51us/step - loss: 0.6720 - acc: 0.7453\n",
      "Epoch 17/50\n",
      "50000/50000 [==============================] - 3s 53us/step - loss: 0.6752 - acc: 0.7454\n",
      "Epoch 18/50\n",
      "50000/50000 [==============================] - 3s 52us/step - loss: 0.6737 - acc: 0.7466\n",
      "Epoch 19/50\n",
      "50000/50000 [==============================] - 3s 52us/step - loss: 0.6753 - acc: 0.7441\n",
      "Epoch 20/50\n",
      "50000/50000 [==============================] - 3s 52us/step - loss: 0.6616 - acc: 0.7508\n",
      "Epoch 21/50\n",
      "50000/50000 [==============================] - 3s 52us/step - loss: 0.6601 - acc: 0.7505\n",
      "Epoch 22/50\n",
      "50000/50000 [==============================] - 3s 51us/step - loss: 0.6599 - acc: 0.7496\n",
      "Epoch 23/50\n",
      "50000/50000 [==============================] - 3s 52us/step - loss: 0.6647 - acc: 0.7500\n",
      "Epoch 24/50\n",
      "50000/50000 [==============================] - 3s 52us/step - loss: 0.6621 - acc: 0.7496\n",
      "Epoch 25/50\n",
      "50000/50000 [==============================] - 3s 51us/step - loss: 0.6604 - acc: 0.7476\n",
      "Epoch 26/50\n",
      "50000/50000 [==============================] - 3s 52us/step - loss: 0.6640 - acc: 0.7490\n",
      "Epoch 27/50\n",
      "50000/50000 [==============================] - 3s 52us/step - loss: 0.6557 - acc: 0.7515\n",
      "Epoch 28/50\n",
      "50000/50000 [==============================] - 3s 52us/step - loss: 0.6608 - acc: 0.7502\n",
      "Epoch 29/50\n",
      "50000/50000 [==============================] - 3s 52us/step - loss: 0.6526 - acc: 0.7526\n",
      "Epoch 30/50\n",
      "50000/50000 [==============================] - 3s 52us/step - loss: 0.6514 - acc: 0.7536\n",
      "Epoch 31/50\n",
      "50000/50000 [==============================] - 3s 51us/step - loss: 0.6588 - acc: 0.7520\n",
      "Epoch 32/50\n",
      "50000/50000 [==============================] - 3s 52us/step - loss: 0.6675 - acc: 0.7456\n",
      "Epoch 33/50\n",
      "50000/50000 [==============================] - 3s 52us/step - loss: 0.6534 - acc: 0.7530\n",
      "Epoch 34/50\n",
      "50000/50000 [==============================] - 3s 53us/step - loss: 0.6442 - acc: 0.7555\n",
      "Epoch 35/50\n",
      "50000/50000 [==============================] - 3s 52us/step - loss: 0.6485 - acc: 0.7546\n",
      "Epoch 36/50\n",
      "50000/50000 [==============================] - 3s 52us/step - loss: 0.6524 - acc: 0.7517\n",
      "Epoch 37/50\n",
      "50000/50000 [==============================] - 3s 52us/step - loss: 0.6587 - acc: 0.7510\n",
      "Epoch 38/50\n",
      "50000/50000 [==============================] - 3s 52us/step - loss: 0.6561 - acc: 0.7517\n",
      "Epoch 39/50\n",
      "50000/50000 [==============================] - 3s 53us/step - loss: 0.6498 - acc: 0.7520\n",
      "Epoch 40/50\n",
      "50000/50000 [==============================] - 3s 52us/step - loss: 0.6403 - acc: 0.7545\n",
      "Epoch 41/50\n",
      "50000/50000 [==============================] - 3s 52us/step - loss: 0.6527 - acc: 0.7530\n",
      "Epoch 42/50\n",
      "50000/50000 [==============================] - 3s 51us/step - loss: 0.6484 - acc: 0.7549\n",
      "Epoch 43/50\n",
      "50000/50000 [==============================] - 3s 51us/step - loss: 0.6435 - acc: 0.7558\n",
      "Epoch 44/50\n",
      "50000/50000 [==============================] - 3s 51us/step - loss: 0.6407 - acc: 0.7546\n",
      "Epoch 45/50\n",
      "50000/50000 [==============================] - 3s 52us/step - loss: 0.6470 - acc: 0.7518\n",
      "Epoch 46/50\n",
      "50000/50000 [==============================] - 3s 53us/step - loss: 0.6513 - acc: 0.7515\n",
      "Epoch 47/50\n",
      "50000/50000 [==============================] - 3s 53us/step - loss: 0.6468 - acc: 0.7541\n",
      "Epoch 48/50\n",
      "50000/50000 [==============================] - 3s 52us/step - loss: 0.6442 - acc: 0.7530\n",
      "Epoch 49/50\n",
      "50000/50000 [==============================] - 3s 53us/step - loss: 0.6359 - acc: 0.7587\n",
      "Epoch 50/50\n",
      "50000/50000 [==============================] - 3s 52us/step - loss: 0.6422 - acc: 0.7541\n",
      "_________________________________________________________________\n",
      "Layer (type)                 Output Shape              Param #   \n",
      "=================================================================\n",
      "imgs (InputLayer)            (None, 32, 32, 3)         0         \n",
      "_________________________________________________________________\n",
      "conv2d_5 (Conv2D)            (None, 30, 30, 8)         224       \n",
      "_________________________________________________________________\n",
      "max_pooling2d_5 (MaxPooling2 (None, 15, 15, 8)         0         \n",
      "_________________________________________________________________\n",
      "conv2d_6 (Conv2D)            (None, 13, 13, 16)        1168      \n",
      "_________________________________________________________________\n",
      "max_pooling2d_6 (MaxPooling2 (None, 6, 6, 16)          0         \n",
      "_________________________________________________________________\n",
      "flatten_3 (Flatten)          (None, 576)               0         \n",
      "_________________________________________________________________\n",
      "dense_5 (Dense)              (None, 128)               73856     \n",
      "_________________________________________________________________\n",
      "dropout_3 (Dropout)          (None, 128)               0         \n",
      "_________________________________________________________________\n",
      "dense_6 (Dense)              (None, 10)                1290      \n",
      "_________________________________________________________________\n",
      "activation_3 (Activation)    (None, 10)                0         \n",
      "=================================================================\n",
      "Total params: 76,538\n",
      "Trainable params: 76,538\n",
      "Non-trainable params: 0\n",
      "_________________________________________________________________\n"
     ]
    }
   ],
   "source": [
    "model.fit([train_data,train_labels],train_labels,\n",
    "          batch_size=256,\n",
    "          epochs=50,\n",
    "          verbose=1)\n",
    "model.save('./keras/models/cifar10_small.h5')\n",
    "model.summary()"
   ]
  },
  {
   "cell_type": "code",
   "execution_count": 22,
   "metadata": {
    "ExecuteTime": {
     "end_time": "2018-09-30T16:27:48.532216Z",
     "start_time": "2018-09-30T16:27:47.792754Z"
    }
   },
   "outputs": [
    {
     "name": "stdout",
     "output_type": "stream",
     "text": [
      "10000/10000 [==============================] - 1s 74us/step\n"
     ]
    },
    {
     "data": {
      "text/plain": [
       "[1.2145355797767639, 0.6535]"
      ]
     },
     "execution_count": 22,
     "metadata": {},
     "output_type": "execute_result"
    }
   ],
   "source": [
    "model.evaluate([eval_data,eval_labels],eval_labels)"
   ]
  },
  {
   "cell_type": "code",
   "execution_count": null,
   "metadata": {},
   "outputs": [],
   "source": []
  }
 ],
 "metadata": {
  "hide_input": false,
  "kernelspec": {
   "display_name": "Python 3",
   "language": "python",
   "name": "python3"
  },
  "language_info": {
   "codemirror_mode": {
    "name": "ipython",
    "version": 3
   },
   "file_extension": ".py",
   "mimetype": "text/x-python",
   "name": "python",
   "nbconvert_exporter": "python",
   "pygments_lexer": "ipython3",
   "version": "3.6.5"
  },
  "varInspector": {
   "cols": {
    "lenName": 16,
    "lenType": 16,
    "lenVar": 40
   },
   "kernels_config": {
    "python": {
     "delete_cmd_postfix": "",
     "delete_cmd_prefix": "del ",
     "library": "var_list.py",
     "varRefreshCmd": "print(var_dic_list())"
    },
    "r": {
     "delete_cmd_postfix": ") ",
     "delete_cmd_prefix": "rm(",
     "library": "var_list.r",
     "varRefreshCmd": "cat(var_dic_list()) "
    }
   },
   "types_to_exclude": [
    "module",
    "function",
    "builtin_function_or_method",
    "instance",
    "_Feature"
   ],
   "window_display": false
  }
 },
 "nbformat": 4,
 "nbformat_minor": 2
}
