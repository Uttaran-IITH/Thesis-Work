{
 "cells": [
  {
   "cell_type": "code",
   "execution_count": 1,
   "metadata": {
    "ExecuteTime": {
     "end_time": "2018-09-25T05:51:07.143231Z",
     "start_time": "2018-09-25T05:51:05.809544Z"
    }
   },
   "outputs": [
    {
     "name": "stderr",
     "output_type": "stream",
     "text": [
      "/home/uttaran/anaconda3/lib/python3.6/importlib/_bootstrap.py:219: RuntimeWarning: compiletime version 3.5 of module 'tensorflow.python.framework.fast_tensor_util' does not match runtime version 3.6\n",
      "  return f(*args, **kwds)\n",
      "/home/uttaran/anaconda3/lib/python3.6/site-packages/h5py/__init__.py:36: FutureWarning: Conversion of the second argument of issubdtype from `float` to `np.floating` is deprecated. In future, it will be treated as `np.float64 == np.dtype(float).type`.\n",
      "  from ._conv import register_converters as _register_converters\n"
     ]
    }
   ],
   "source": [
    "from __future__ import absolute_import\n",
    "from __future__ import division\n",
    "from __future__ import print_function\n",
    "import cv2\n",
    "import numpy as np\n",
    "import tensorflow as tf\n",
    "import collections\n",
    "import ipynb.fs.full.Structural_Perturbations as SP\n",
    "tf.logging.set_verbosity(tf.logging.ERROR)"
   ]
  },
  {
   "cell_type": "code",
   "execution_count": 6,
   "metadata": {
    "ExecuteTime": {
     "end_time": "2018-09-20T05:18:15.257690Z",
     "start_time": "2018-09-20T05:18:15.252111Z"
    }
   },
   "outputs": [],
   "source": [
    "def exposure_test(mnist_classifier,data):\n",
    "    #%%capture\n",
    "    exp = [-90,-60,-30,0,30,60,90]\n",
    "    acc = []\n",
    "    for i in exp:\n",
    "        train_data,train_labels,eval_data,eval_labels = SP.load(data)\n",
    "        eval_data = SP.Exposure(eval_data,i)\n",
    "        acc.append ([SP.Test(train_data,train_labels,eval_data,eval_labels,mnist_classifier,1)[3][1],i])\n",
    "    acc = np.array(acc).T\n",
    "    return acc,exp"
   ]
  },
  {
   "cell_type": "code",
   "execution_count": null,
   "metadata": {},
   "outputs": [],
   "source": [
    "def rotation_test(mnist_classifier,data):\n",
    "    #%%capture\n",
    "    angle = [-30,-20,-10,0,10,20,30]\n",
    "    acc = []\n",
    "    for i in angle:\n",
    "        train_data,train_labels,eval_data,eval_labels = SP.load(data)\n",
    "        eval_data = SP.Rotation(eval_data,i)\n",
    "        acc.append ([SP.Test(train_data,train_labels,eval_data,eval_labels,mnist_classifier,1)[3][1],i])\n",
    "    acc = np.array(acc).T\n",
    "    return acc,angle"
   ]
  },
  {
   "cell_type": "code",
   "execution_count": null,
   "metadata": {},
   "outputs": [],
   "source": [
    "def scale_test(mnist_classifier,data):\n",
    "    #%%capture\n",
    "    scale = [0.5,0.7,0.9,1,1.1,1.3,1.5]\n",
    "    acc = []\n",
    "    for i in scale:\n",
    "        train_data,train_labels,eval_data,eval_labels = SP.load(data)\n",
    "        eval_data = SP.Scaling(eval_data,i)\n",
    "        acc.append ([SP.Test(train_data,train_labels,eval_data,eval_labels,mnist_classifier,1)[3][1],i])\n",
    "    acc = np.array(acc).T\n",
    "    return acc,scale"
   ]
  },
  {
   "cell_type": "code",
   "execution_count": null,
   "metadata": {},
   "outputs": [],
   "source": [
    "def translation_test(mnist_classifier,data):\n",
    "    #%%capture\n",
    "    pixel = [-3,-2,-1,0,1,2,3]\n",
    "    acc = []\n",
    "    for i in pixel:\n",
    "        train_data,train_labels,eval_data,eval_labels = SP.load(data)\n",
    "        eval_data = SP.Translation(eval_data,i)\n",
    "        acc.append ([SP.Test(train_data,train_labels,eval_data,eval_labels,mnist_classifier,1)[3][1],i])\n",
    "    acc = np.array(acc).T\n",
    "    return acc,pixel"
   ]
  }
 ],
 "metadata": {
  "hide_input": false,
  "kernelspec": {
   "display_name": "Python 3",
   "language": "python",
   "name": "python3"
  },
  "language_info": {
   "codemirror_mode": {
    "name": "ipython",
    "version": 3
   },
   "file_extension": ".py",
   "mimetype": "text/x-python",
   "name": "python",
   "nbconvert_exporter": "python",
   "pygments_lexer": "ipython3",
   "version": "3.6.5"
  },
  "varInspector": {
   "cols": {
    "lenName": 16,
    "lenType": 16,
    "lenVar": 40
   },
   "kernels_config": {
    "python": {
     "delete_cmd_postfix": "",
     "delete_cmd_prefix": "del ",
     "library": "var_list.py",
     "varRefreshCmd": "print(var_dic_list())"
    },
    "r": {
     "delete_cmd_postfix": ") ",
     "delete_cmd_prefix": "rm(",
     "library": "var_list.r",
     "varRefreshCmd": "cat(var_dic_list()) "
    }
   },
   "types_to_exclude": [
    "module",
    "function",
    "builtin_function_or_method",
    "instance",
    "_Feature"
   ],
   "window_display": false
  }
 },
 "nbformat": 4,
 "nbformat_minor": 2
}
