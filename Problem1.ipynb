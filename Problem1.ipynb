{
 "cells": [
  {
   "cell_type": "code",
   "execution_count": 1,
   "metadata": {
    "ExecuteTime": {
     "end_time": "2018-09-16T05:31:59.148208Z",
     "start_time": "2018-09-16T05:31:59.143911Z"
    }
   },
   "outputs": [],
   "source": [
    "import numpy as np\n",
    "import ipynb\n",
    "import matplotlib.pyplot as plt"
   ]
  },
  {
   "cell_type": "code",
   "execution_count": 2,
   "metadata": {
    "ExecuteTime": {
     "end_time": "2018-09-16T05:32:01.332735Z",
     "start_time": "2018-09-16T05:32:01.254054Z"
    }
   },
   "outputs": [],
   "source": [
    "import ipynb.fs.full.algorithms as alg\n",
    "import ipynb.fs.full.functions as functions"
   ]
  },
  {
   "cell_type": "code",
   "execution_count": 3,
   "metadata": {
    "ExecuteTime": {
     "end_time": "2018-09-16T05:27:08.401625Z",
     "start_time": "2018-09-16T05:27:08.386975Z"
    }
   },
   "outputs": [
    {
     "name": "stdout",
     "output_type": "stream",
     "text": [
      "Too many iterations\n",
      "65536\n"
     ]
    },
    {
     "data": {
      "text/plain": [
       "Text(0,0.5,'Value of the function')"
      ]
     },
     "execution_count": 3,
     "metadata": {},
     "output_type": "execute_result"
    },
    {
     "data": {
      "image/png": "[encoded data removed]",
      "text/plain": [
       "<Figure size 432x288 with 1 Axes>"
      ]
     },
     "metadata": {
      "needs_background": "light"
     },
     "output_type": "display_data"
    }
   ],
   "source": [
    "# the hessian matrix of the quadratic function\n",
    "H = np.matrix('1 0; 0 30')\n",
    "\n",
    "# the vector of linear coefficient of the quadratic function\n",
    "b = np.matrix('0; 0')\n",
    "\n",
    "# define the oracle function\n",
    "def func(x, order):\n",
    "    return functions.quadratic(H, b, x, order)\n",
    "\n",
    "\n",
    "# For example start at (4,0.3)\n",
    "initial_x = np.matrix('4; 0.3')\n",
    "err = 1e-5\n",
    "maximum_iterations = 65536\n",
    "\n",
    "\n",
    "\n",
    "\n",
    "# set smoothness constant M and strong convexity constant m\n",
    "m=1\n",
    "M= 30\n",
    "\n",
    "# Run the algorithms with fixed step size 1/M 1/(100M) and 4/m\n",
    "x, values, runtimes, xs = alg.gradient_descent(func, initial_x, err, maximum_iterations, alg.poly, 1/M, 0)\n",
    "plt.plot(np.arange(0,np.array(values).shape[0]),values)\n",
    "plt.xlabel(\"iterations\")\n",
    "plt.ylabel(\"Value of the function\")\n",
    "\n",
    "# TODO:Experiment with other step size choices as directed in the homework\n",
    "# For this you should also first set the error and maximum iteration for inner loop and also parameters for backtracking"
   ]
  },
  {
   "cell_type": "code",
   "execution_count": 4,
   "metadata": {
    "ExecuteTime": {
     "end_time": "2018-09-16T05:27:08.401625Z",
     "start_time": "2018-09-16T05:27:08.386975Z"
    }
   },
   "outputs": [
    {
     "name": "stdout",
     "output_type": "stream",
     "text": [
      "12436\n"
     ]
    },
    {
     "data": {
      "text/plain": [
       "Text(0,0.5,'Value of the function')"
      ]
     },
     "execution_count": 4,
     "metadata": {},
     "output_type": "execute_result"
    },
    {
     "data": {
      "image/png": "[encoded data removed]",
      "text/plain": [
       "<Figure size 432x288 with 1 Axes>"
      ]
     },
     "metadata": {
      "needs_background": "light"
     },
     "output_type": "display_data"
    }
   ],
   "source": [
    "# the hessian matrix of the quadratic function\n",
    "H = np.matrix('1 0; 0 30')\n",
    "\n",
    "# the vector of linear coefficient of the quadratic function\n",
    "b = np.matrix('0; 0')\n",
    "\n",
    "# define the oracle function\n",
    "def func(x, order):\n",
    "    return functions.quadratic(H, b, x, order)\n",
    "\n",
    "\n",
    "# For example start at (4,0.3)\n",
    "initial_x = np.matrix('4; 0.3')\n",
    "err = 1e-5\n",
    "maximum_iterations = 65536\n",
    "\n",
    "\n",
    "\n",
    "\n",
    "# set smoothness constant M and strong convexity constant m\n",
    "m=1\n",
    "M= 30\n",
    "\n",
    "# Run the algorithms with fixed step size 1/M 1/(100M) and 4/m\n",
    "x, values, runtimes, xs = alg.gradient_descent(func, initial_x, err, maximum_iterations, alg.poly, 1/(100*M), 0)\n",
    "plt.plot(np.arange(0,np.array(values).shape[0]),values)\n",
    "plt.xlabel(\"iterations\")\n",
    "plt.ylabel(\"Value of the function\")\n",
    "# TODO:Experiment with other step size choices as directed in the homework\n",
    "# For this you should also first set the error and maximum iteration for inner loop and also parameters for backtracking"
   ]
  },
  {
   "cell_type": "code",
   "execution_count": 5,
   "metadata": {
    "ExecuteTime": {
     "end_time": "2018-09-16T05:27:08.401625Z",
     "start_time": "2018-09-16T05:27:08.386975Z"
    }
   },
   "outputs": [
    {
     "name": "stdout",
     "output_type": "stream",
     "text": [
      "Too many iterations\n",
      "65536\n"
     ]
    },
    {
     "data": {
      "text/plain": [
       "Text(0,0.5,'Value of the function')"
      ]
     },
     "execution_count": 5,
     "metadata": {},
     "output_type": "execute_result"
    },
    {
     "data": {
      "image/png": "[encoded data removed]",
      "text/plain": [
       "<Figure size 432x288 with 1 Axes>"
      ]
     },
     "metadata": {
      "needs_background": "light"
     },
     "output_type": "display_data"
    }
   ],
   "source": [
    "# the hessian matrix of the quadratic function\n",
    "H = np.matrix('1 0; 0 30')\n",
    "\n",
    "# the vector of linear coefficient of the quadratic function\n",
    "b = np.matrix('0; 0')\n",
    "\n",
    "# define the oracle function\n",
    "def func(x, order):\n",
    "    return functions.quadratic(H, b, x, order)\n",
    "\n",
    "\n",
    "# For example start at (4,0.3)\n",
    "initial_x = np.matrix('4; 0.3')\n",
    "err = 1e-5\n",
    "maximum_iterations = 65536\n",
    "\n",
    "\n",
    "\n",
    "\n",
    "# set smoothness constant M and strong convexity constant m\n",
    "m=1\n",
    "M= 30\n",
    "\n",
    "# Run the algorithms with fixed step size 1/M 1/(100M) and 4/m\n",
    "x, values, runtimes, xs = alg.gradient_descent(func, initial_x, err, maximum_iterations, alg.poly, 5/M, 0)\n",
    "plt.plot(np.arange(0,np.array(values).shape[0]),values)\n",
    "plt.xlabel(\"iterations\")\n",
    "plt.ylabel(\"Value of the function\")\n",
    "\n",
    "# TODO:Experiment with other step size choices as directed in the homework\n",
    "# For this you should also first set the error and maximum iteration for inner loop and also parameters for backtracking"
   ]
  },
  {
   "cell_type": "code",
   "execution_count": 8,
   "metadata": {
    "ExecuteTime": {
     "end_time": "2018-09-16T05:27:08.401625Z",
     "start_time": "2018-09-16T05:27:08.386975Z"
    }
   },
   "outputs": [
    {
     "name": "stdout",
     "output_type": "stream",
     "text": [
      "41\n"
     ]
    },
    {
     "data": {
      "text/plain": [
       "Text(0,0.5,'Value of the function')"
      ]
     },
     "execution_count": 8,
     "metadata": {},
     "output_type": "execute_result"
    },
    {
     "data": {
      "image/png": "[encoded data removed]",
      "text/plain": [
       "<Figure size 432x288 with 1 Axes>"
      ]
     },
     "metadata": {
      "needs_background": "light"
     },
     "output_type": "display_data"
    }
   ],
   "source": [
    "# the hessian matrix of the quadratic function\n",
    "H = np.matrix('1 0; 0 30')\n",
    "\n",
    "# the vector of linear coefficient of the quadratic function\n",
    "b = np.matrix('0; 0')\n",
    "\n",
    "# define the oracle function\n",
    "def func(x, order):\n",
    "    return functions.quadratic(H, b, x, order)\n",
    "\n",
    "\n",
    "# For example start at (4,0.3)\n",
    "initial_x = np.matrix('4; 0.3')\n",
    "err = 1e-5\n",
    "maximum_iterations = 65536\n",
    "\n",
    "\n",
    "\n",
    "\n",
    "# set smoothness constant M and strong convexity constant m\n",
    "m=1\n",
    "M= 30\n",
    "\n",
    "# Run the algorithms with fixed step size 1/M 1/(100M) and 4/m\n",
    "x, values, runtimes, xs = alg.gradient_descent(func, initial_x, err, maximum_iterations, alg.backtracking, 0.4, 0.8)\n",
    "plt.plot(np.arange(0,np.array(values).shape[0]),values)\n",
    "plt.xlabel(\"iterations\")\n",
    "plt.ylabel(\"Value of the function\")\n",
    "# TODO:Experiment with other step size choices as directed in the homework\n",
    "# For this you should also first set the error and maximum iteration for inner loop and also parameters for backtracking"
   ]
  },
  {
   "cell_type": "code",
   "execution_count": 9,
   "metadata": {},
   "outputs": [
    {
     "name": "stdout",
     "output_type": "stream",
     "text": [
      "3\n"
     ]
    },
    {
     "data": {
      "text/plain": [
       "Text(0,0.5,'Value of the function')"
      ]
     },
     "execution_count": 9,
     "metadata": {},
     "output_type": "execute_result"
    },
    {
     "data": {
      "image/png": "[encoded data removed]",
      "text/plain": [
       "<Figure size 432x288 with 1 Axes>"
      ]
     },
     "metadata": {
      "needs_background": "light"
     },
     "output_type": "display_data"
    }
   ],
   "source": [
    "# the hessian matrix of the quadratic function\n",
    "H = np.matrix('1 0; 0 30')\n",
    "\n",
    "# the vector of linear coefficient of the quadratic function\n",
    "b = np.matrix('0; 0')\n",
    "\n",
    "# define the oracle function\n",
    "def func(x, order):\n",
    "    return functions.quadratic(H, b, x, order)\n",
    "\n",
    "\n",
    "# For example start at (4,0.3)\n",
    "initial_x = np.matrix('4; 0.3')\n",
    "err = 1e-5\n",
    "maximum_iterations = 65536\n",
    "\n",
    "\n",
    "\n",
    "\n",
    "# set smoothness constant M and strong convexity constant m\n",
    "m=1\n",
    "M= 30\n",
    "\n",
    "# Run the algorithms with fixed step size 1/M 1/(100M) and 4/m\n",
    "x, values, runtimes, xs = alg.gradient_descent(func, initial_x, err, maximum_iterations, alg.bisection)\n",
    "plt.plot(np.arange(0,np.array(values).shape[0]),values)\n",
    "plt.xlabel(\"iterations\")\n",
    "plt.ylabel(\"Value of the function\")\n",
    "\n",
    "# TODO:Experiment with other step size choices as directed in the homework\n",
    "# For this you should also first set the error and maximum iteration for inner loop and also parameters for backtracking"
   ]
  },
  {
   "cell_type": "code",
   "execution_count": null,
   "metadata": {},
   "outputs": [],
   "source": []
  }
 ],
 "metadata": {
  "hide_input": false,
  "kernelspec": {
   "display_name": "Python 3",
   "language": "python",
   "name": "python3"
  },
  "language_info": {
   "codemirror_mode": {
    "name": "ipython",
    "version": 3
   },
   "file_extension": ".py",
   "mimetype": "text/x-python",
   "name": "python",
   "nbconvert_exporter": "python",
   "pygments_lexer": "ipython3",
   "version": "3.6.5"
  },
  "varInspector": {
   "cols": {
    "lenName": 16,
    "lenType": 16,
    "lenVar": 40
   },
   "kernels_config": {
    "python": {
     "delete_cmd_postfix": "",
     "delete_cmd_prefix": "del ",
     "library": "var_list.py",
     "varRefreshCmd": "print(var_dic_list())"
    },
    "r": {
     "delete_cmd_postfix": ") ",
     "delete_cmd_prefix": "rm(",
     "library": "var_list.r",
     "varRefreshCmd": "cat(var_dic_list()) "
    }
   },
   "types_to_exclude": [
    "module",
    "function",
    "builtin_function_or_method",
    "instance",
    "_Feature"
   ],
   "window_display": false
  }
 },
 "nbformat": 4,
 "nbformat_minor": 2
}
