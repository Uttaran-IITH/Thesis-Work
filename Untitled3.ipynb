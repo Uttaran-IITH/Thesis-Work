{
 "cells": [
  {
   "cell_type": "code",
   "execution_count": 1,
   "metadata": {
    "ExecuteTime": {
     "end_time": "2018-09-20T04:48:32.240282Z",
     "start_time": "2018-09-20T04:48:30.713152Z"
    }
   },
   "outputs": [
    {
     "ename": "ModuleNotFoundError",
     "evalue": "No module named 'ReadData'",
     "output_type": "error",
     "traceback": [
      "\u001b[0;31m---------------------------------------------------------------------------\u001b[0m",
      "\u001b[0;31mModuleNotFoundError\u001b[0m                       Traceback (most recent call last)",
      "\u001b[0;32m<ipython-input-1-94f99984a87c>\u001b[0m in \u001b[0;36m<module>\u001b[0;34m()\u001b[0m\n\u001b[1;32m      3\u001b[0m \u001b[0;32mimport\u001b[0m \u001b[0msklearn\u001b[0m\u001b[0;34m.\u001b[0m\u001b[0mcluster\u001b[0m\u001b[0;34m\u001b[0m\u001b[0m\n\u001b[1;32m      4\u001b[0m \u001b[0;32mfrom\u001b[0m \u001b[0msklearn\u001b[0m \u001b[0;32mimport\u001b[0m \u001b[0msvm\u001b[0m\u001b[0;34m\u001b[0m\u001b[0m\n\u001b[0;32m----> 5\u001b[0;31m \u001b[0;32mfrom\u001b[0m \u001b[0mReadData\u001b[0m \u001b[0;32mimport\u001b[0m \u001b[0;34m*\u001b[0m\u001b[0;34m\u001b[0m\u001b[0m\n\u001b[0m\u001b[1;32m      6\u001b[0m \u001b[0;34m\u001b[0m\u001b[0m\n\u001b[1;32m      7\u001b[0m \u001b[0;31m#img = cv2.imread('home.png')\u001b[0m\u001b[0;34m\u001b[0m\u001b[0;34m\u001b[0m\u001b[0m\n",
      "\u001b[0;31mModuleNotFoundError\u001b[0m: No module named 'ReadData'"
     ]
    }
   ],
   "source": [
    "import cv2\n",
    "import numpy\n",
    "import sklearn.cluster\n",
    "from sklearn import svm\n",
    "from ReadData import *\n",
    "\n",
    "#img = cv2.imread('home.png')\n",
    "#gray= cv2.cvtColor(img,cv2.COLOR_BGR2GRAY)\n",
    "testImage = getTestImage()\n",
    "testLabel = list(getTestLabel())\n",
    "\n",
    "clustercount = 100\n",
    "X = []\n",
    "sift = cv2.SIFT()\n",
    "clf = svm.LinearSVC()\n",
    "count = 0\n",
    "for pixels in testImage[0 : 5000]:\n",
    "\timage = []\n",
    "\tfor i in range(0, 28):\n",
    "\t\timage.append(pixels[i * 28 : (i + 1) * 28])\n",
    "\timage = numpy.array(image, dtype=numpy.uint8)\n",
    "\timage = numpy.multiply(image, 100)\n",
    "\tkp, des = sift.detectAndCompute(image, None)\n",
    "\tif des != None:\n",
    "\t\tprint(str(len(des)) + '\\tlabel\\t' + str(testLabel[count]))\n",
    "\t\tfor feature in des:\n",
    "\t\t\tX.append(feature)\n",
    "\tcount += 1\n",
    "\n",
    "print('Using k-means to cluster')\n",
    "km = sklearn.cluster.KMeans(clustercount)\n",
    "km.fit(X[0 : 5000])\n",
    "print('Obtaining projection for each training image')\n",
    "X_SVM_TRAIN = []\n",
    "Y_SVM_TRAIN = testLabel[0 : 5000]\n",
    "noneCount = 0\n",
    "for pixels in testImage[0 : 5000]:\n",
    "\timage = []\n",
    "\tfor i in range(0, 28):\n",
    "\t\timage.append(pixels[i * 28 : (i + 1) * 28])\n",
    "\timage = numpy.array(image, dtype=numpy.uint8)\n",
    "\timage = numpy.multiply(image, 255)\n",
    "\tkp, des = sift.detectAndCompute(image, None)\n",
    "\tprojection = [0] * clustercount\n",
    "\tif des != None:\n",
    "\t\tresult = km.predict(des)\n",
    "\t\tfor cluster in result:\n",
    "\t\t\tprojection[cluster] += 10\n",
    "\telse:\n",
    "\t\tnoneCount += 1\n",
    "\t\t\n",
    "\t#print(projection)\n",
    "\tX_SVM_TRAIN.append(projection)\n",
    "print('NoneCount' + str(noneCount))\n",
    "\n",
    "print('Training SVM')\n",
    "clf.fit(X_SVM_TRAIN, Y_SVM_TRAIN)\n",
    "print('Testing SVM')\n",
    "X_SVM_TEST = []\n",
    "Y_SVM_TEST = testLabel[5000 : 9000]\n",
    "for pixels in testImage[5000 : 9000]:\n",
    "\timage = []\n",
    "\tfor i in range(0, 28):\n",
    "\t\timage.append(pixels[i * 28 : (i + 1) * 28])\n",
    "\timage = numpy.array(image, dtype=numpy.uint8)\n",
    "\timage = numpy.multiply(image, 255)\n",
    "\tkp, des = sift.detectAndCompute(image, None)\n",
    "\tprojection = [0] * clustercount\n",
    "\tif des != None:\n",
    "\t\tresult = km.predict(des)\n",
    "\t\tfor cluster in result:\n",
    "\t\t\tprojection[cluster] += 10\n",
    "\tX_SVM_TEST.append(projection)\n",
    "\n",
    "result = clf.predict(X_SVM_TEST)\n",
    "errorCount = 0\n",
    "for i in range(0, len(result)):\n",
    "\tif result[i] != Y_SVM_TEST[i]:\n",
    "\t\terrorCount += 1\n",
    "\n",
    "print(errorCount)\n",
    "#kp = sift.detect(image,None)\n",
    "#img=cv2.drawKeypoints(gray,kp)\n",
    "#kp, des = sift.detectAndCompute(image, None)\n",
    "\n",
    "#cv2.imwrite('sift_keypoints.jpg',img)"
   ]
  },
  {
   "cell_type": "code",
   "execution_count": null,
   "metadata": {},
   "outputs": [],
   "source": []
  }
 ],
 "metadata": {
  "hide_input": false,
  "kernelspec": {
   "display_name": "Python 3",
   "language": "python",
   "name": "python3"
  },
  "language_info": {
   "codemirror_mode": {
    "name": "ipython",
    "version": 3
   },
   "file_extension": ".py",
   "mimetype": "text/x-python",
   "name": "python",
   "nbconvert_exporter": "python",
   "pygments_lexer": "ipython3",
   "version": "3.6.5"
  },
  "varInspector": {
   "cols": {
    "lenName": 16,
    "lenType": 16,
    "lenVar": 40
   },
   "kernels_config": {
    "python": {
     "delete_cmd_postfix": "",
     "delete_cmd_prefix": "del ",
     "library": "var_list.py",
     "varRefreshCmd": "print(var_dic_list())"
    },
    "r": {
     "delete_cmd_postfix": ") ",
     "delete_cmd_prefix": "rm(",
     "library": "var_list.r",
     "varRefreshCmd": "cat(var_dic_list()) "
    }
   },
   "types_to_exclude": [
    "module",
    "function",
    "builtin_function_or_method",
    "instance",
    "_Feature"
   ],
   "window_display": false
  }
 },
 "nbformat": 4,
 "nbformat_minor": 2
}
