{
 "cells": [
  {
   "cell_type": "code",
   "execution_count": 26,
   "metadata": {
    "ExecuteTime": {
     "end_time": "2018-10-10T09:49:58.883877Z",
     "start_time": "2018-10-10T09:49:58.877744Z"
    }
   },
   "outputs": [
    {
     "name": "stdout",
     "output_type": "stream",
     "text": [
      "Data has apparently already been downloaded and unpacked.\n"
     ]
    }
   ],
   "source": [
    "import cifar10\n",
    "from cifar10 import num_classes\n",
    "cifar10.maybe_download_and_extract()\n",
    "from keras.preprocessing.image import ImageDataGenerator\n",
    "import ipynb.fs.full.Structural_Perturbations as SP\n",
    "import numpy as np\n",
    "import tensorflow as tf"
   ]
  },
  {
   "cell_type": "code",
   "execution_count": 27,
   "metadata": {
    "ExecuteTime": {
     "end_time": "2018-10-10T09:50:03.462143Z",
     "start_time": "2018-10-10T09:50:01.746467Z"
    }
   },
   "outputs": [
    {
     "name": "stdout",
     "output_type": "stream",
     "text": [
      "Loading data: data/CIFAR-10/cifar-10-batches-py/data_batch_1\n",
      "<_io.BufferedReader name='data/CIFAR-10/cifar-10-batches-py/data_batch_1'>\n",
      "Loading data: data/CIFAR-10/cifar-10-batches-py/data_batch_2\n",
      "<_io.BufferedReader name='data/CIFAR-10/cifar-10-batches-py/data_batch_2'>\n",
      "Loading data: data/CIFAR-10/cifar-10-batches-py/data_batch_3\n",
      "<_io.BufferedReader name='data/CIFAR-10/cifar-10-batches-py/data_batch_3'>\n",
      "Loading data: data/CIFAR-10/cifar-10-batches-py/data_batch_4\n",
      "<_io.BufferedReader name='data/CIFAR-10/cifar-10-batches-py/data_batch_4'>\n",
      "Loading data: data/CIFAR-10/cifar-10-batches-py/data_batch_5\n",
      "<_io.BufferedReader name='data/CIFAR-10/cifar-10-batches-py/data_batch_5'>\n",
      "Loading data: data/CIFAR-10/cifar-10-batches-py/test_batch\n",
      "<_io.BufferedReader name='data/CIFAR-10/cifar-10-batches-py/test_batch'>\n"
     ]
    }
   ],
   "source": [
    "train_data,train_labels,onehot_train=cifar10.load_training_data()\n",
    "test_data,test_labels,onehot_test=cifar10.load_test_data()\n",
    "train_data=train_data.astype('float32')\n",
    "train_labels=train_labels.astype('int32')\n",
    "test_data=test_data.astype('float32')\n",
    "test_labels=test_labels.astype('int32')"
   ]
  },
  {
   "cell_type": "code",
   "execution_count": 24,
   "metadata": {
    "ExecuteTime": {
     "end_time": "2018-10-10T09:48:40.853138Z",
     "start_time": "2018-10-10T09:48:39.981103Z"
    }
   },
   "outputs": [],
   "source": [
    "mean = np.mean(train_data,axis=(0,1,2,3))\n",
    "std = np.std(train_data,axis=(0,1,2,3))\n",
    "train_data = (train_data-mean)/(std+1e-7)"
   ]
  },
  {
   "cell_type": "code",
   "execution_count": 4,
   "metadata": {
    "ExecuteTime": {
     "end_time": "2018-10-10T09:42:37.244005Z",
     "start_time": "2018-10-10T09:42:36.289117Z"
    }
   },
   "outputs": [],
   "source": [
    "test_data = (test_data-mean)/(std+1e-7)"
   ]
  },
  {
   "cell_type": "code",
   "execution_count": 5,
   "metadata": {
    "ExecuteTime": {
     "end_time": "2018-10-10T09:42:37.965561Z",
     "start_time": "2018-10-10T09:42:37.961336Z"
    }
   },
   "outputs": [],
   "source": [
    "# datagen = ImageDataGenerator(\n",
    "#     featurewise_center=False,\n",
    "#     samplewise_center=False,\n",
    "#     featurewise_std_normalization=False,\n",
    "#     samplewise_std_normalization=False,\n",
    "#     zca_whitening=False,\n",
    "#     rotation_range=15,\n",
    "#     width_shift_range=0.1,\n",
    "#     height_shift_range=0.1,\n",
    "#     horizontal_flip=True,\n",
    "#     vertical_flip=False\n",
    "#     )\n",
    "# datagen.fit(train_data)\n",
    "# print(type(datagen))\n",
    "# a = datagen.flow(train_data,train_labels, batch_size=55000)\n",
    "# x,y = a.next()\n",
    "# print(x.shape,y.shape,type(x),type(y))\n",
    "# train_data = x\n",
    "# train_labels = y"
   ]
  },
  {
   "cell_type": "code",
   "execution_count": 6,
   "metadata": {
    "ExecuteTime": {
     "end_time": "2018-10-10T09:42:38.310248Z",
     "start_time": "2018-10-10T09:42:38.274467Z"
    }
   },
   "outputs": [],
   "source": [
    "tf.logging.set_verbosity(tf.logging.ERROR)\n",
    "\n",
    "\n",
    "def cnn_model_fn(features, labels, mode):\n",
    "    input_layer = tf.reshape(features[\"x\"], [-1, 32, 32, 3])\n",
    "\n",
    "    conv1 = tf.layers.conv2d(\n",
    "        inputs=input_layer,\n",
    "        filters=32,\n",
    "        kernel_size=[3, 3],\n",
    "        padding=\"same\",\n",
    "        activation=None)\n",
    "    conv1_bn = tf.layers.batch_normalization(\n",
    "        inputs=conv1,\n",
    "        axis=-1,\n",
    "        momentum=0.9,\n",
    "        epsilon=0.001,\n",
    "        center=True,\n",
    "        scale=True)\n",
    "    conv1_bn_relu = tf.nn.relu(conv1_bn)\n",
    "\n",
    "    conv2 = tf.layers.conv2d(\n",
    "        inputs=conv1_bn_relu,\n",
    "        filters=32,\n",
    "        kernel_size=[3, 3],\n",
    "        padding=\"same\",\n",
    "        activation=None)\n",
    "    conv2_bn = tf.layers.batch_normalization(\n",
    "        inputs=conv2,\n",
    "        axis=-1,\n",
    "        momentum=0.9,\n",
    "        epsilon=0.001,\n",
    "        center=True,\n",
    "        scale=True,\n",
    "    )\n",
    "    conv2_bn_relu = tf.nn.relu(conv2_bn)\n",
    "    pool1 = tf.layers.max_pooling2d(\n",
    "        inputs=conv2_bn_relu, pool_size=[2, 2], strides=2)\n",
    "\n",
    "    dropout1 = tf.layers.dropout(\n",
    "        inputs=pool1, rate=0.2, training=mode == tf.estimator.ModeKeys.TRAIN)\n",
    "\n",
    "    conv3 = tf.layers.conv2d(\n",
    "        inputs=dropout1,\n",
    "        filters=64,\n",
    "        kernel_size=[3, 3],\n",
    "        padding=\"same\",\n",
    "        activation=None)\n",
    "    conv3_bn = tf.layers.batch_normalization(\n",
    "        inputs=conv3,\n",
    "        axis=-1,\n",
    "        momentum=0.9,\n",
    "        epsilon=0.001,\n",
    "        center=True,\n",
    "        scale=True)\n",
    "    conv3_bn_relu = tf.nn.relu(conv3_bn)\n",
    "\n",
    "    conv4 = tf.layers.conv2d(\n",
    "        inputs=conv3_bn_relu,\n",
    "        filters=64,\n",
    "        kernel_size=[3, 3],\n",
    "        padding=\"same\",\n",
    "        activation=None)\n",
    "    conv4_bn = tf.layers.batch_normalization(\n",
    "        inputs=conv4,\n",
    "        axis=-1,\n",
    "        momentum=0.9,\n",
    "        epsilon=0.001,\n",
    "        center=True,\n",
    "        scale=True,\n",
    "    )\n",
    "    conv4_bn_relu = tf.nn.relu(conv4_bn)\n",
    "    pool2 = tf.layers.max_pooling2d(\n",
    "        inputs=conv4_bn_relu, pool_size=[2, 2], strides=2)\n",
    "\n",
    "    dropout2 = tf.layers.dropout(\n",
    "        inputs=pool2, rate=0.6, training=mode == tf.estimator.ModeKeys.TRAIN)\n",
    "\n",
    "    conv5 = tf.layers.conv2d(\n",
    "        inputs=dropout2,\n",
    "        filters=128,\n",
    "        kernel_size=[3, 3],\n",
    "        padding=\"same\",\n",
    "        activation=None)\n",
    "    conv5_bn = tf.layers.batch_normalization(\n",
    "        inputs=conv5,\n",
    "        axis=-1,\n",
    "        momentum=0.9,\n",
    "        epsilon=0.001,\n",
    "        center=True,\n",
    "        scale=True)\n",
    "    conv5_bn_relu = tf.nn.relu(conv5_bn)\n",
    "\n",
    "    conv6 = tf.layers.conv2d(\n",
    "        inputs=conv5_bn_relu,\n",
    "        filters=128,\n",
    "        kernel_size=[3, 3],\n",
    "        padding=\"same\",\n",
    "        activation=None)\n",
    "    conv6_bn = tf.layers.batch_normalization(\n",
    "        inputs=conv6,\n",
    "        axis=-1,\n",
    "        momentum=0.9,\n",
    "        epsilon=0.001,\n",
    "        center=True,\n",
    "        scale=True,\n",
    "    )\n",
    "    conv6_bn_relu = tf.nn.relu(conv6_bn)\n",
    "    pool3 = tf.layers.max_pooling2d(\n",
    "        inputs=conv6_bn_relu, pool_size=[2, 2], strides=2)\n",
    "\n",
    "    dropout3 = tf.layers.dropout(\n",
    "        inputs=pool3, rate=0.6, training=mode == tf.estimator.ModeKeys.TRAIN)\n",
    "\n",
    "    flattened = tf.reshape(dropout3, [-1, 4 * 4 * 128])\n",
    "    dense1 = tf.layers.dense(inputs=flattened, units=2048, activation=None)\n",
    "    logits = tf.layers.dense(inputs=dense1, units=10)\n",
    "\n",
    "    predictions = {\n",
    "        \"classes\": tf.argmax(input=logits, axis=1),\n",
    "        \"probabilities\": tf.nn.softmax(logits, name=\"softmax_tensor\")\n",
    "    }\n",
    "    if mode == tf.estimator.ModeKeys.PREDICT:\n",
    "        return tf.estimator.EstimatorSpec(mode=mode, predictions=predictions)\n",
    "\n",
    "    loss = tf.losses.sparse_softmax_cross_entropy(labels=labels, logits=logits)\n",
    "\n",
    "    if mode == tf.estimator.ModeKeys.TRAIN:\n",
    "        optimizer = tf.train.AdamOptimizer(learning_rate=0.001)\n",
    "        train_op = optimizer.minimize(\n",
    "            loss=loss, global_step=tf.train.get_global_step())\n",
    "        return tf.estimator.EstimatorSpec(\n",
    "            mode=mode, loss=loss, train_op=train_op)\n",
    "\n",
    "    # Add evaluation metrics (for EVAL mode)\n",
    "    eval_metric_ops = {\n",
    "        \"accuracy\":\n",
    "        tf.metrics.accuracy(labels=labels, predictions=predictions[\"classes\"]),\n",
    "    }\n",
    "    return tf.estimator.EstimatorSpec(\n",
    "        mode=mode, loss=loss, eval_metric_ops=eval_metric_ops)"
   ]
  },
  {
   "cell_type": "code",
   "execution_count": 7,
   "metadata": {
    "ExecuteTime": {
     "end_time": "2018-10-10T09:42:39.588091Z",
     "start_time": "2018-10-10T09:42:39.579574Z"
    }
   },
   "outputs": [],
   "source": [
    "def current_loss(flag):\n",
    "    train_eval_input_fn = tf.estimator.inputs.numpy_input_fn(\n",
    "      x={\"x\": train_data},\n",
    "      y=train_labels,\n",
    "      shuffle=False)\n",
    "    eval_result1=cifar_classifier.evaluate(input_fn=train_eval_input_fn)\n",
    "    if flag:\n",
    "        print(\"%%%%%%% Train accuracy %%%%%%%%%%%%\\n\",eval_result1)\n",
    "    [a,b,c] = eval_result1.items()\n",
    "\n",
    "    # Evaluate the model and print results\n",
    "    eval_input_fn = tf.estimator.inputs.numpy_input_fn(\n",
    "      x={\"x\": test_data},\n",
    "      y=test_labels,\n",
    "      num_epochs=1,\n",
    "      shuffle=False)\n",
    "    eval_result2=cifar_classifier.evaluate(input_fn=eval_input_fn)\n",
    "    if flag:\n",
    "        print(\"######### Test accuracy #############\\n\",eval_result2)\n",
    "    [d,e,f] = eval_result2.items()\n",
    "    return a[1],d[1]"
   ]
  },
  {
   "cell_type": "code",
   "execution_count": 8,
   "metadata": {
    "ExecuteTime": {
     "end_time": "2018-10-10T09:42:40.188271Z",
     "start_time": "2018-10-10T09:42:40.183931Z"
    }
   },
   "outputs": [],
   "source": [
    "# Create the Estimator\n",
    "cifar_classifier = tf.estimator.Estimator(\n",
    "  model_fn=cnn_model_fn, model_dir=\"./cifar_90\")"
   ]
  },
  {
   "cell_type": "code",
   "execution_count": 9,
   "metadata": {
    "ExecuteTime": {
     "end_time": "2018-10-10T09:42:40.669236Z",
     "start_time": "2018-10-10T09:42:40.664742Z"
    }
   },
   "outputs": [],
   "source": [
    "# # Set up logging for predictions\n",
    "# # Log the values in the \"Softmax\" tensor with label \"probabilities\"\n",
    "# tensors_to_log = {\"probabilities\": \"softmax_tensor\"}\n",
    "# logging_hook = tf.train.LoggingTensorHook(\n",
    "#   tensors=tensors_to_log, every_n_iter=50)\n",
    "\n",
    "# # Train the model\n",
    "# while True:\n",
    "#     train_input_fn = tf.estimator.inputs.numpy_input_fn(\n",
    "#       x={\"x\": train_data},\n",
    "#       y=train_labels,\n",
    "#       batch_size=64,\n",
    "#       num_epochs=None,\n",
    "#       shuffle=True)\n",
    "\n",
    "#     cifar_classifier.train(\n",
    "#       input_fn=train_input_fn,\n",
    "#       steps= 1000,\n",
    "#       hooks=None)\n",
    "#     curr_result = current_loss(1)\n",
    "# #     if curr_result[0] - curr_result[1] > 0.10 or curr_result[1] > 0.98:\n",
    "# #        break\n",
    "#     #print(curr_result)\n",
    "# print (\"*****************END*******************\")"
   ]
  },
  {
   "cell_type": "code",
   "execution_count": 10,
   "metadata": {
    "ExecuteTime": {
     "end_time": "2018-10-10T09:42:41.146348Z",
     "start_time": "2018-10-10T09:42:41.143806Z"
    }
   },
   "outputs": [],
   "source": [
    "# current_loss(0)"
   ]
  },
  {
   "cell_type": "code",
   "execution_count": 11,
   "metadata": {
    "ExecuteTime": {
     "end_time": "2018-10-10T09:42:41.623148Z",
     "start_time": "2018-10-10T09:42:41.615698Z"
    },
    "scrolled": true
   },
   "outputs": [
    {
     "data": {
      "text/plain": [
       "(10000, 32, 32, 3)"
      ]
     },
     "execution_count": 11,
     "metadata": {},
     "output_type": "execute_result"
    }
   ],
   "source": [
    "test_data.shape"
   ]
  },
  {
   "cell_type": "code",
   "execution_count": 20,
   "metadata": {
    "ExecuteTime": {
     "end_time": "2018-10-10T09:43:54.534316Z",
     "start_time": "2018-10-10T09:43:54.513005Z"
    }
   },
   "outputs": [
    {
     "name": "stdout",
     "output_type": "stream",
     "text": [
      "(10000, 1024, 3)\n"
     ]
    }
   ],
   "source": [
    "test = np.copy(test_data)\n",
    "test = test.reshape(10000,1024,3)\n",
    "print(test.shape)"
   ]
  },
  {
   "cell_type": "code",
   "execution_count": 21,
   "metadata": {
    "ExecuteTime": {
     "end_time": "2018-10-10T09:43:56.401101Z",
     "start_time": "2018-10-10T09:43:55.656423Z"
    }
   },
   "outputs": [],
   "source": [
    "for i in range(0,3):\n",
    "    test[:,:,i] = SP.Scaling(test[:,:,i],0.9)"
   ]
  },
  {
   "cell_type": "code",
   "execution_count": 17,
   "metadata": {
    "ExecuteTime": {
     "end_time": "2018-10-10T09:43:37.021620Z",
     "start_time": "2018-10-10T09:43:27.521011Z"
    }
   },
   "outputs": [
    {
     "name": "stdout",
     "output_type": "stream",
     "text": [
      "%%%%%%% Train accuracy %%%%%%%%%%%%\n",
      " {'accuracy': 0.8247, 'loss': 0.5899375, 'global_step': 265003}\n",
      "######### Test accuracy #############\n",
      " {'accuracy': 0.7927, 'loss': 0.73559433, 'global_step': 265003}\n"
     ]
    }
   ],
   "source": [
    "SP.Test(train_data,train_labels,test_data,test_labels,cifar_classifier)"
   ]
  },
  {
   "cell_type": "code",
   "execution_count": 22,
   "metadata": {
    "ExecuteTime": {
     "end_time": "2018-10-10T09:44:01.123354Z",
     "start_time": "2018-10-10T09:44:01.016696Z"
    }
   },
   "outputs": [],
   "source": [
    "test = (test-mean)/(std+1e-7)"
   ]
  },
  {
   "cell_type": "code",
   "execution_count": 25,
   "metadata": {
    "ExecuteTime": {
     "end_time": "2018-10-10T09:49:05.117673Z",
     "start_time": "2018-10-10T09:48:55.588568Z"
    }
   },
   "outputs": [
    {
     "name": "stdout",
     "output_type": "stream",
     "text": [
      "%%%%%%% Train accuracy %%%%%%%%%%%%\n",
      " {'accuracy': 0.8247, 'loss': 0.5899375, 'global_step': 265003}\n",
      "######### Test accuracy #############\n",
      " {'accuracy': 0.6634, 'loss': 1.341758, 'global_step': 265003}\n"
     ]
    }
   ],
   "source": [
    "SP.Test(train_data,train_labels,test,test_labels,cifar_classifier)"
   ]
  },
  {
   "cell_type": "code",
   "execution_count": null,
   "metadata": {},
   "outputs": [],
   "source": []
  }
 ],
 "metadata": {
  "hide_input": false,
  "kernelspec": {
   "display_name": "Python 3",
   "language": "python",
   "name": "python3"
  },
  "language_info": {
   "codemirror_mode": {
    "name": "ipython",
    "version": 3
   },
   "file_extension": ".py",
   "mimetype": "text/x-python",
   "name": "python",
   "nbconvert_exporter": "python",
   "pygments_lexer": "ipython3",
   "version": "3.6.5"
  },
  "varInspector": {
   "cols": {
    "lenName": 16,
    "lenType": 16,
    "lenVar": 40
   },
   "kernels_config": {
    "python": {
     "delete_cmd_postfix": "",
     "delete_cmd_prefix": "del ",
     "library": "var_list.py",
     "varRefreshCmd": "print(var_dic_list())"
    },
    "r": {
     "delete_cmd_postfix": ") ",
     "delete_cmd_prefix": "rm(",
     "library": "var_list.r",
     "varRefreshCmd": "cat(var_dic_list()) "
    }
   },
   "types_to_exclude": [
    "module",
    "function",
    "builtin_function_or_method",
    "instance",
    "_Feature"
   ],
   "window_display": false
  }
 },
 "nbformat": 4,
 "nbformat_minor": 2
}
