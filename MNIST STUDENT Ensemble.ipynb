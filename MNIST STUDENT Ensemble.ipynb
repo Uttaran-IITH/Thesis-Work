{
 "cells": [
  {
   "cell_type": "code",
   "execution_count": 12,
   "metadata": {
    "ExecuteTime": {
     "end_time": "2018-09-03T12:31:44.349635Z",
     "start_time": "2018-09-03T12:31:44.334001Z"
    }
   },
   "outputs": [],
   "source": [
    "from __future__ import absolute_import\n",
    "from __future__ import division\n",
    "from __future__ import print_function\n",
    "\n",
    "import numpy as np\n",
    "import tensorflow as tf\n",
    "\n",
    "tf.logging.set_verbosity(tf.logging.ERROR)\n",
    "\n",
    "\n",
    "def cnn_model_fn(features, labels, mode):\n",
    "  input_layer = tf.reshape(features[\"x\"], [-1, 28, 28, 1])\n",
    "  \n",
    "  conv1 = tf.layers.conv2d(\n",
    "      inputs=input_layer,\n",
    "      filters=32,\n",
    "      kernel_size=[5, 5],\n",
    "      padding=\"same\",\n",
    "      activation=tf.nn.relu)\n",
    "\n",
    "  pool1 = tf.layers.max_pooling2d(inputs=conv1, pool_size=[2, 2], strides=2)\n",
    "\n",
    " \n",
    "  conv2 = tf.layers.conv2d(\n",
    "      inputs=pool1,\n",
    "      filters=64,\n",
    "      kernel_size=[5, 5],\n",
    "      padding=\"same\",\n",
    "      activation=tf.nn.relu)\n",
    "\n",
    " \n",
    "  pool2 = tf.layers.max_pooling2d(inputs=conv2, pool_size=[2, 2], strides=2)\n",
    "\n",
    "  \n",
    "  pool2_flat = tf.reshape(pool2, [-1, 7 * 7 * 64])\n",
    "\n",
    "  \n",
    "  dense = tf.layers.dense(inputs=pool2_flat, units=1024, activation=tf.nn.relu)\n",
    "\n",
    "  dropout = tf.layers.dropout(\n",
    "      inputs=dense, rate=0.4, training=mode == tf.estimator.ModeKeys.TRAIN)\n",
    "\n",
    "  logits = tf.layers.dense(inputs=dropout, units=10)\n",
    "\n",
    "  predictions = {\n",
    "      \"classes\": tf.argmax(input=logits, axis=1),\n",
    "      \"probabilities\": tf.nn.softmax(logits, name=\"softmax_tensor\")\n",
    "  }\n",
    "  if mode == tf.estimator.ModeKeys.PREDICT:\n",
    "    return tf.estimator.EstimatorSpec(mode=mode, predictions=predictions)\n",
    "\n",
    "  loss = tf.losses.sparse_softmax_cross_entropy(labels=labels, logits=logits)\n",
    "\n",
    "  if mode == tf.estimator.ModeKeys.TRAIN:\n",
    "    optimizer = tf.train.GradientDescentOptimizer(learning_rate=0.001)\n",
    "    train_op = optimizer.minimize(\n",
    "        loss=loss,\n",
    "        global_step=tf.train.get_global_step())\n",
    "    return tf.estimator.EstimatorSpec(mode=mode, loss=loss, train_op=train_op)\n",
    "\n",
    "  eval_metric_ops = {\n",
    "      \"accuracy\": tf.metrics.accuracy(\n",
    "          labels=labels, predictions=predictions[\"classes\"]),\n",
    "  }\n",
    "  return tf.estimator.EstimatorSpec(\n",
    "      mode=mode, loss=loss, eval_metric_ops=eval_metric_ops)\n"
   ]
  },
  {
   "cell_type": "code",
   "execution_count": 13,
   "metadata": {
    "ExecuteTime": {
     "end_time": "2018-09-03T12:31:44.976582Z",
     "start_time": "2018-09-03T12:31:44.562606Z"
    }
   },
   "outputs": [
    {
     "name": "stdout",
     "output_type": "stream",
     "text": [
      "Extracting MNIST-data/train-images-idx3-ubyte.gz\n",
      "Extracting MNIST-data/train-labels-idx1-ubyte.gz\n",
      "Extracting MNIST-data/t10k-images-idx3-ubyte.gz\n",
      "Extracting MNIST-data/t10k-labels-idx1-ubyte.gz\n"
     ]
    }
   ],
   "source": [
    "# Load training and eval data\n",
    "mnist = tf.contrib.learn.datasets.load_dataset(\"mnist\")\n",
    "train_data = mnist.train.images  # Returns np.array\n",
    "train_labels = np.asarray(mnist.train.labels, dtype=np.int32)\n",
    "eval_data = mnist.test.images  # Returns np.array\n",
    "eval_labels = np.asarray(mnist.test.labels, dtype=np.int32)\n",
    "acc_track = []\n",
    "temprature = 10\n",
    "loss_weight = 0.2"
   ]
  },
  {
   "cell_type": "code",
   "execution_count": 14,
   "metadata": {
    "ExecuteTime": {
     "end_time": "2018-09-03T12:31:45.066819Z",
     "start_time": "2018-09-03T12:31:45.064476Z"
    }
   },
   "outputs": [],
   "source": [
    "writef=open('output.txt','w')"
   ]
  },
  {
   "cell_type": "code",
   "execution_count": 15,
   "metadata": {
    "ExecuteTime": {
     "end_time": "2018-09-03T12:31:45.159457Z",
     "start_time": "2018-09-03T12:31:45.154785Z"
    }
   },
   "outputs": [],
   "source": [
    "def current_loss(classifier,flag):\n",
    "    train_eval_input_fn = tf.estimator.inputs.numpy_input_fn(\n",
    "      x={\"x\": train_data},\n",
    "      y=train_labels,\n",
    "      shuffle=False)\n",
    "    eval_result1=classifier.evaluate(input_fn=train_eval_input_fn)\n",
    "    if flag:\n",
    "        print(\"\\n%%%%%%% Train accuracy %%%%%%%%%%%% \",eval_result1)\n",
    "        writef.write(\"\\n%%%%%%% Train accuracy %%%%%%%%%%%% \"+str(eval_result1))\n",
    "    [a,b,c] = eval_result1.items()\n",
    "\n",
    "    # Evaluate the model and print results\n",
    "    eval_input_fn = tf.estimator.inputs.numpy_input_fn(\n",
    "      x={\"x\": eval_data},\n",
    "      y=eval_labels,\n",
    "      num_epochs=1,\n",
    "      shuffle=False)\n",
    "    eval_result2=classifier.evaluate(input_fn=eval_input_fn)\n",
    "    if flag:\n",
    "        print(\"\\n######### Test accuracy ############# \",eval_result2)\n",
    "        writef.write(\"\\n######### Test accuracy ############# \"+str(eval_result2))\n",
    "    [d,e,f] = eval_result2.items()\n",
    "    acc_track.append([a[1],d[1]])\n",
    "    return a[1],d[1]"
   ]
  },
  {
   "cell_type": "code",
   "execution_count": 16,
   "metadata": {
    "ExecuteTime": {
     "end_time": "2018-09-03T12:31:45.265178Z",
     "start_time": "2018-09-03T12:31:45.262312Z"
    }
   },
   "outputs": [],
   "source": [
    "# Evaluate the model and print results\n",
    "mnist_classifier = tf.estimator.Estimator(\n",
    "  model_fn=cnn_model_fn, model_dir=\"./models/mnist_convnet_model_test1\")\n",
    "# Set up logging for predictions\n",
    "# Log the values in the \"Softmax\" tensor with label \"probabilities\"\n",
    "tensors_to_log = {\"probabilities\": \"softmax_tensor\"}\n",
    "logging_hook = tf.train.LoggingTensorHook(\n",
    "  tensors=tensors_to_log, every_n_iter=50)"
   ]
  },
  {
   "cell_type": "code",
   "execution_count": 17,
   "metadata": {
    "ExecuteTime": {
     "end_time": "2018-09-03T12:31:45.524572Z",
     "start_time": "2018-09-03T12:31:45.521523Z"
    }
   },
   "outputs": [],
   "source": [
    "#cross entropy between two logits with temperature applied\n",
    "#returns a 1d array with loss for each row in the inputs\n",
    "def cross_entropy2(tar_soft_t, pred_logits_t):\n",
    "   pred_soft = tf.nn.softmax(pred_logits_t)\n",
    "   pred_log = tf.log(pred_soft)\n",
    "   product = -1 * tar_soft_t * pred_log\n",
    "   return tf.reduce_mean(product)\n",
    "    \n",
    "def custom_loss(y_true, pred_logits, tar_soft_t, pred_logits_t):\n",
    "   return loss_weight * tf.losses.sparse_softmax_cross_entropy(labels = y_true, logits = pred_logits) + (1-loss_weight) * cross_entropy2(tar_soft_t, pred_logits_t)"
   ]
  },
  {
   "cell_type": "code",
   "execution_count": 18,
   "metadata": {
    "ExecuteTime": {
     "end_time": "2018-09-03T12:31:45.791631Z",
     "start_time": "2018-09-03T12:31:45.779055Z"
    }
   },
   "outputs": [],
   "source": [
    "def ensemble_model_fn(features, labels, mode):\n",
    "  print(C,F,K,M,FC)\n",
    "  sess=tf.InteractiveSession()\n",
    "  tf.train.start_queue_runners(sess)\n",
    "  data=features['x'].eval()\n",
    "  out=labels.eval()\n",
    "  sess.close()\n",
    "  input_layer = tf.reshape(features[\"x\"], [-1, 28, 28, 1])\n",
    "  eval_teacher_fn = tf.estimator.inputs.numpy_input_fn(\n",
    "      x={\"x\":data},\n",
    "      y=out,\n",
    "      num_epochs=1,\n",
    "      shuffle=False)\n",
    "\n",
    "  predictions=mnist_classifier.predict(input_fn=eval_teacher_fn)\n",
    "  teacher_pred=list(predictions)\n",
    "  teacher_soft=[ p['probabilities'] for p in teacher_pred]\n",
    "  temp=np.array(teacher_soft)\n",
    "  teacher_soft_t=tf.convert_to_tensor(temp)\n",
    "#   print(teacher_soft_t)\n",
    "#   for i in predictions:\n",
    "#     print(i)\n",
    "#   output=list(predictions)\n",
    "  in_c=input_layer\n",
    "  j=0\n",
    "  size=28\n",
    "  while j<C:\n",
    "    conv = tf.layers.conv2d(\n",
    "      inputs=in_c,\n",
    "      filters=M,\n",
    "      kernel_size=[K, K],\n",
    "      padding=\"same\",\n",
    "      activation=tf.nn.relu)\n",
    "    in_c = tf.layers.max_pooling2d(inputs=conv, pool_size=[2, 2], strides=2)\n",
    "    size=int(size/2)\n",
    "#     print(size)\n",
    "    j += 1;\n",
    "    \n",
    "\n",
    "\n",
    "  # Flatten tensor into a batch of vectors\n",
    "  # Input Tensor Shape: [batch_size, 7, 7, 64]\n",
    "  # Output Tensor Shape: [batch_size, 7 * 7 * 64]\n",
    "  flat = tf.reshape(in_c, [-1, size*size*M])\n",
    "\n",
    "  # Dense Layer\n",
    "  # Densely connected layer with 1024 neurons\n",
    "  # Input Tensor Shape: [batch_size, 7 * 7 * 64]\n",
    "  # Output Tensor Shape: [batch_size, 1024]\n",
    "  \n",
    "  j=0\n",
    "  while j<F:\n",
    "    flat = tf.layers.dense(inputs=flat, units=FC, activation=tf.nn.relu)\n",
    "    j += 1\n",
    "\n",
    "  # Add dropout operation; 0.6 probability that element will be kept\n",
    "  dropout = tf.layers.dropout(\n",
    "      inputs=flat, rate=0.4, training=mode == tf.estimator.ModeKeys.TRAIN)\n",
    "\n",
    "  # Logits layer\n",
    "  # Input Tensor Shape: [batch_size, 1024]\n",
    "  # Output Tensor Shape: [batch_size, 10]\n",
    "  logits = tf.layers.dense(inputs=dropout, units=10)\n",
    "\n",
    "  predictions = {\n",
    "      # Generate predictions (for PREDICT and EVAL mode)\n",
    "      \"classes\": tf.argmax(input=logits, axis=1),\n",
    "      # Add `softmax_tensor` to the graph. It is used for PREDICT and by the\n",
    "      # `logging_hook`.\n",
    "      \"probabilities\": tf.nn.softmax(logits, name=\"softmax_tensor\")\n",
    "  }\n",
    "  if mode == tf.estimator.ModeKeys.PREDICT:\n",
    "    return tf.estimator.EstimatorSpec(mode=mode, predictions=predictions)\n",
    "\n",
    "  # Calculate Loss (for both TRAIN and EVAL modes)\n",
    "  #   loss = tf.losses.sparse_softmax_cross_entropy(labels=labels, logits=logits)\n",
    "  \n",
    "    \n",
    "#   student_pred=predictions['probabilities']\n",
    "#   sess1=tf.InteractiveSession()\n",
    "#   tf.train.start_queue_runners(sess1)\n",
    "#   student_soft=student_pred.eval()\n",
    "#   sess1.close()  \n",
    "  if mode == tf.estimator.ModeKeys.TRAIN:\n",
    "    pred_logits_t=tf.nn.softmax(logits/temprature, name=\"softmax_tensor\")\n",
    "#     print('a',labels,'b', logits,'c', teacher_soft_t ,'d', pred_logits_t)\n",
    "    loss=custom_loss(labels, logits,teacher_soft_t , pred_logits_t)\n",
    "  else:\n",
    "    loss = tf.losses.sparse_softmax_cross_entropy(labels=labels, logits=logits)\n",
    "  \n",
    "    \n",
    "  # Configure the Training Op (for TRAIN mode)\n",
    "  if mode == tf.estimator.ModeKeys.TRAIN:\n",
    "    optimizer = tf.train.GradientDescentOptimizer(learning_rate=0.001)\n",
    "    train_op = optimizer.minimize(\n",
    "        loss=loss,\n",
    "        global_step=tf.train.get_global_step())\n",
    "    return tf.estimator.EstimatorSpec(mode=mode, loss=loss, train_op=train_op)\n",
    "\n",
    "  # Add evaluation metrics (for EVAL mode)\n",
    "  eval_metric_ops = {\n",
    "      \"accuracy\": tf.metrics.accuracy(\n",
    "          labels=labels, predictions=predictions[\"classes\"]),\n",
    "  }\n",
    "  return tf.estimator.EstimatorSpec(\n",
    "      mode=mode, loss=loss, eval_metric_ops=eval_metric_ops)\n",
    "\n"
   ]
  },
  {
   "cell_type": "code",
   "execution_count": 19,
   "metadata": {
    "ExecuteTime": {
     "end_time": "2018-09-03T12:31:46.038051Z",
     "start_time": "2018-09-03T12:31:46.033667Z"
    }
   },
   "outputs": [],
   "source": [
    "def cal_para(C,F,K,M,FC):\n",
    "    total  = C*(K*K*M);\n",
    "    size=28;\n",
    "    while(C):\n",
    "        size=size/2\n",
    "        C = C-1\n",
    "    if(F==0):\n",
    "        total += (size*size*M)*10\n",
    "        return total;\n",
    "    else:\n",
    "        t=(size*size*M)\n",
    "        while(F):\n",
    "            total += t*FC;\n",
    "            F=F-1\n",
    "        total += FC*10;\n",
    "        return total\n",
    "    \n",
    "def param_check(single_student_params,each_student_limit,each_student_params):\n",
    "    global total_param\n",
    "    soft_threshold = 30\n",
    "    if single_student_params - total_param + soft_threshold <0:  #stop training\n",
    "        return \"STOP\"\n",
    "    else:\n",
    "        if each_student_params > each_student_limit: #resample\n",
    "            return \"RESAMPLE\"\n",
    "        else :\n",
    "            total_param += each_student_params\n",
    "            return total_param"
   ]
  },
  {
   "cell_type": "code",
   "execution_count": 20,
   "metadata": {
    "ExecuteTime": {
     "end_time": "2018-09-03T12:31:47.223022Z",
     "start_time": "2018-09-03T12:31:47.218489Z"
    }
   },
   "outputs": [],
   "source": [
    "def train(C,F,K,M,FC):\n",
    "    student_classifier = tf.estimator.Estimator(\n",
    "      model_fn=ensemble_model_fn, model_dir=\"./models/ensemble/mnist_student\"+\"_C\"+str(C)+\"_F\"+str(F)+\"_K\"+str(K)+\"_M\"+str(M)+\"_FC\"+str(FC))\n",
    "\n",
    "#     temprature=10\n",
    "#     loss_weight=0.2\n",
    "\n",
    "    # Train the model\n",
    "    train_input_fn = tf.estimator.inputs.numpy_input_fn(\n",
    "      x={\"x\": train_data},\n",
    "      y=train_labels,\n",
    "      batch_size=100,\n",
    "      num_epochs=None,\n",
    "      shuffle=True)\n",
    "\n",
    "    student_classifier.train(\n",
    "      input_fn=train_input_fn,\n",
    "      steps=10000,\n",
    "      hooks=None)\n",
    "    # Evaluate the model and print results\n",
    "    eval_input_fn = tf.estimator.inputs.numpy_input_fn(\n",
    "      x={\"x\": eval_data},\n",
    "      y=eval_labels,\n",
    "      num_epochs=1,\n",
    "      shuffle=False)\n",
    "    eval_result=student_classifier.evaluate(input_fn=eval_input_fn)\n",
    "    # output=list(predictions)\n",
    "    current_loss(student_classifier,1)"
   ]
  },
  {
   "cell_type": "code",
   "execution_count": 21,
   "metadata": {
    "ExecuteTime": {
     "end_time": "2018-09-03T13:57:58.483662Z",
     "start_time": "2018-09-03T12:31:47.711169Z"
    }
   },
   "outputs": [
    {
     "name": "stdout",
     "output_type": "stream",
     "text": [
      "103312.0 5165.6\n",
      "C3\n",
      "3 0 5 6 32\n",
      "3 0 5 6 32\n",
      "3 0 5 6 32\n",
      "ERROR:tensorflow:Exception in QueueRunner: Attempted to use a closed Session.\n"
     ]
    },
    {
     "name": "stderr",
     "output_type": "stream",
     "text": [
      "Exception in thread Thread-109:\n",
      "Traceback (most recent call last):\n",
      "  File \"/home/uttaran/anaconda3/lib/python3.6/threading.py\", line 916, in _bootstrap_inner\n",
      "    self.run()\n",
      "  File \"/home/uttaran/anaconda3/lib/python3.6/threading.py\", line 864, in run\n",
      "    self._target(*self._args, **self._kwargs)\n",
      "  File \"/home/uttaran/anaconda3/lib/python3.6/site-packages/tensorflow/python/estimator/inputs/queues/feeding_queue_runner.py\", line 94, in _run\n",
      "    sess.run(enqueue_op, feed_dict=feed_dict)\n",
      "  File \"/home/uttaran/anaconda3/lib/python3.6/site-packages/tensorflow/python/client/session.py\", line 889, in run\n",
      "    run_metadata_ptr)\n",
      "  File \"/home/uttaran/anaconda3/lib/python3.6/site-packages/tensorflow/python/client/session.py\", line 1047, in _run\n",
      "    raise RuntimeError('Attempted to use a closed Session.')\n",
      "RuntimeError: Attempted to use a closed Session.\n",
      "\n"
     ]
    },
    {
     "name": "stdout",
     "output_type": "stream",
     "text": [
      "\n",
      "%%%%%%% Train accuracy %%%%%%%%%%%%  {'accuracy': 0.19254431, 'loss': 2.2634115, 'global_step': 10000}\n",
      "3 0 5 6 32\n",
      "ERROR:tensorflow:Exception in QueueRunner: Attempted to use a closed Session.\n"
     ]
    },
    {
     "name": "stderr",
     "output_type": "stream",
     "text": [
      "Exception in thread Thread-114:\n",
      "Traceback (most recent call last):\n",
      "  File \"/home/uttaran/anaconda3/lib/python3.6/threading.py\", line 916, in _bootstrap_inner\n",
      "    self.run()\n",
      "  File \"/home/uttaran/anaconda3/lib/python3.6/threading.py\", line 864, in run\n",
      "    self._target(*self._args, **self._kwargs)\n",
      "  File \"/home/uttaran/anaconda3/lib/python3.6/site-packages/tensorflow/python/estimator/inputs/queues/feeding_queue_runner.py\", line 94, in _run\n",
      "    sess.run(enqueue_op, feed_dict=feed_dict)\n",
      "  File \"/home/uttaran/anaconda3/lib/python3.6/site-packages/tensorflow/python/client/session.py\", line 889, in run\n",
      "    run_metadata_ptr)\n",
      "  File \"/home/uttaran/anaconda3/lib/python3.6/site-packages/tensorflow/python/client/session.py\", line 1047, in _run\n",
      "    raise RuntimeError('Attempted to use a closed Session.')\n",
      "RuntimeError: Attempted to use a closed Session.\n",
      "\n"
     ]
    },
    {
     "name": "stdout",
     "output_type": "stream",
     "text": [
      "\n",
      "######### Test accuracy #############  {'accuracy': 0.18781199, 'loss': 2.2626162, 'global_step': 10000}\n",
      "C2\n",
      "C3\n",
      "3 0 1 4 10\n",
      "3 0 1 4 10\n",
      "ERROR:tensorflow:Exception in QueueRunner: Attempted to use a closed Session.\n"
     ]
    },
    {
     "name": "stderr",
     "output_type": "stream",
     "text": [
      "Exception in thread Thread-125:\n",
      "Traceback (most recent call last):\n",
      "  File \"/home/uttaran/anaconda3/lib/python3.6/threading.py\", line 916, in _bootstrap_inner\n",
      "    self.run()\n",
      "  File \"/home/uttaran/anaconda3/lib/python3.6/threading.py\", line 864, in run\n",
      "    self._target(*self._args, **self._kwargs)\n",
      "  File \"/home/uttaran/anaconda3/lib/python3.6/site-packages/tensorflow/python/estimator/inputs/queues/feeding_queue_runner.py\", line 94, in _run\n",
      "    sess.run(enqueue_op, feed_dict=feed_dict)\n",
      "  File \"/home/uttaran/anaconda3/lib/python3.6/site-packages/tensorflow/python/client/session.py\", line 889, in run\n",
      "    run_metadata_ptr)\n",
      "  File \"/home/uttaran/anaconda3/lib/python3.6/site-packages/tensorflow/python/client/session.py\", line 1047, in _run\n",
      "    raise RuntimeError('Attempted to use a closed Session.')\n",
      "RuntimeError: Attempted to use a closed Session.\n",
      "\n"
     ]
    },
    {
     "name": "stdout",
     "output_type": "stream",
     "text": [
      "3 0 1 4 10\n",
      "ERROR:tensorflow:Exception in QueueRunner: Attempted to use a closed Session.\n"
     ]
    },
    {
     "name": "stderr",
     "output_type": "stream",
     "text": [
      "Exception in thread Thread-131:\n",
      "Traceback (most recent call last):\n",
      "  File \"/home/uttaran/anaconda3/lib/python3.6/threading.py\", line 916, in _bootstrap_inner\n",
      "    self.run()\n",
      "  File \"/home/uttaran/anaconda3/lib/python3.6/threading.py\", line 864, in run\n",
      "    self._target(*self._args, **self._kwargs)\n",
      "  File \"/home/uttaran/anaconda3/lib/python3.6/site-packages/tensorflow/python/estimator/inputs/queues/feeding_queue_runner.py\", line 94, in _run\n",
      "    sess.run(enqueue_op, feed_dict=feed_dict)\n",
      "  File \"/home/uttaran/anaconda3/lib/python3.6/site-packages/tensorflow/python/client/session.py\", line 889, in run\n",
      "    run_metadata_ptr)\n",
      "  File \"/home/uttaran/anaconda3/lib/python3.6/site-packages/tensorflow/python/client/session.py\", line 1047, in _run\n",
      "    raise RuntimeError('Attempted to use a closed Session.')\n",
      "RuntimeError: Attempted to use a closed Session.\n",
      "\n"
     ]
    },
    {
     "name": "stdout",
     "output_type": "stream",
     "text": [
      "\n",
      "%%%%%%% Train accuracy %%%%%%%%%%%%  {'accuracy': 0.11240296, 'loss': 2.3017163, 'global_step': 10000}\n",
      "3 0 1 4 10\n",
      "ERROR:tensorflow:Exception in QueueRunner: Attempted to use a closed Session.\n"
     ]
    },
    {
     "name": "stderr",
     "output_type": "stream",
     "text": [
      "Exception in thread Thread-136:\n",
      "Traceback (most recent call last):\n",
      "  File \"/home/uttaran/anaconda3/lib/python3.6/threading.py\", line 916, in _bootstrap_inner\n",
      "    self.run()\n",
      "  File \"/home/uttaran/anaconda3/lib/python3.6/threading.py\", line 864, in run\n",
      "    self._target(*self._args, **self._kwargs)\n",
      "  File \"/home/uttaran/anaconda3/lib/python3.6/site-packages/tensorflow/python/estimator/inputs/queues/feeding_queue_runner.py\", line 94, in _run\n",
      "    sess.run(enqueue_op, feed_dict=feed_dict)\n",
      "  File \"/home/uttaran/anaconda3/lib/python3.6/site-packages/tensorflow/python/client/session.py\", line 889, in run\n",
      "    run_metadata_ptr)\n",
      "  File \"/home/uttaran/anaconda3/lib/python3.6/site-packages/tensorflow/python/client/session.py\", line 1047, in _run\n",
      "    raise RuntimeError('Attempted to use a closed Session.')\n",
      "RuntimeError: Attempted to use a closed Session.\n",
      "\n"
     ]
    },
    {
     "name": "stdout",
     "output_type": "stream",
     "text": [
      "\n",
      "######### Test accuracy #############  {'accuracy': 0.112416804, 'loss': 2.3016665, 'global_step': 10000}\n",
      "C3\n",
      "3 0 3 8 64\n",
      "ERROR:tensorflow:Exception in QueueRunner: Attempted to use a closed Session.\n"
     ]
    },
    {
     "name": "stderr",
     "output_type": "stream",
     "text": [
      "Exception in thread Thread-141:\n",
      "Traceback (most recent call last):\n",
      "  File \"/home/uttaran/anaconda3/lib/python3.6/threading.py\", line 916, in _bootstrap_inner\n",
      "    self.run()\n",
      "  File \"/home/uttaran/anaconda3/lib/python3.6/threading.py\", line 864, in run\n",
      "    self._target(*self._args, **self._kwargs)\n",
      "  File \"/home/uttaran/anaconda3/lib/python3.6/site-packages/tensorflow/python/estimator/inputs/queues/feeding_queue_runner.py\", line 94, in _run\n",
      "    sess.run(enqueue_op, feed_dict=feed_dict)\n",
      "  File \"/home/uttaran/anaconda3/lib/python3.6/site-packages/tensorflow/python/client/session.py\", line 889, in run\n",
      "    run_metadata_ptr)\n",
      "  File \"/home/uttaran/anaconda3/lib/python3.6/site-packages/tensorflow/python/client/session.py\", line 1047, in _run\n",
      "    raise RuntimeError('Attempted to use a closed Session.')\n",
      "RuntimeError: Attempted to use a closed Session.\n",
      "\n"
     ]
    },
    {
     "name": "stdout",
     "output_type": "stream",
     "text": [
      "3 0 3 8 64\n",
      "ERROR:tensorflow:Exception in QueueRunner: Attempted to use a closed Session.\n"
     ]
    },
    {
     "name": "stderr",
     "output_type": "stream",
     "text": [
      "Exception in thread Thread-147:\n",
      "Traceback (most recent call last):\n",
      "  File \"/home/uttaran/anaconda3/lib/python3.6/threading.py\", line 916, in _bootstrap_inner\n",
      "    self.run()\n",
      "  File \"/home/uttaran/anaconda3/lib/python3.6/threading.py\", line 864, in run\n",
      "    self._target(*self._args, **self._kwargs)\n",
      "  File \"/home/uttaran/anaconda3/lib/python3.6/site-packages/tensorflow/python/estimator/inputs/queues/feeding_queue_runner.py\", line 94, in _run\n",
      "    sess.run(enqueue_op, feed_dict=feed_dict)\n",
      "  File \"/home/uttaran/anaconda3/lib/python3.6/site-packages/tensorflow/python/client/session.py\", line 889, in run\n",
      "    run_metadata_ptr)\n",
      "  File \"/home/uttaran/anaconda3/lib/python3.6/site-packages/tensorflow/python/client/session.py\", line 1047, in _run\n",
      "    raise RuntimeError('Attempted to use a closed Session.')\n",
      "RuntimeError: Attempted to use a closed Session.\n",
      "\n"
     ]
    },
    {
     "name": "stdout",
     "output_type": "stream",
     "text": [
      "3 0 3 8 64\n",
      "ERROR:tensorflow:Exception in QueueRunner: Attempted to use a closed Session.\n"
     ]
    },
    {
     "name": "stderr",
     "output_type": "stream",
     "text": [
      "Exception in thread Thread-153:\n",
      "Traceback (most recent call last):\n",
      "  File \"/home/uttaran/anaconda3/lib/python3.6/threading.py\", line 916, in _bootstrap_inner\n",
      "    self.run()\n",
      "  File \"/home/uttaran/anaconda3/lib/python3.6/threading.py\", line 864, in run\n",
      "    self._target(*self._args, **self._kwargs)\n",
      "  File \"/home/uttaran/anaconda3/lib/python3.6/site-packages/tensorflow/python/estimator/inputs/queues/feeding_queue_runner.py\", line 94, in _run\n",
      "    sess.run(enqueue_op, feed_dict=feed_dict)\n",
      "  File \"/home/uttaran/anaconda3/lib/python3.6/site-packages/tensorflow/python/client/session.py\", line 889, in run\n",
      "    run_metadata_ptr)\n",
      "  File \"/home/uttaran/anaconda3/lib/python3.6/site-packages/tensorflow/python/client/session.py\", line 1047, in _run\n",
      "    raise RuntimeError('Attempted to use a closed Session.')\n",
      "RuntimeError: Attempted to use a closed Session.\n",
      "\n"
     ]
    },
    {
     "name": "stdout",
     "output_type": "stream",
     "text": [
      "\n",
      "%%%%%%% Train accuracy %%%%%%%%%%%%  {'accuracy': 0.117932476, 'loss': 2.2884083, 'global_step': 10000}\n",
      "3 0 3 8 64\n",
      "ERROR:tensorflow:Exception in QueueRunner: Attempted to use a closed Session.\n"
     ]
    },
    {
     "name": "stderr",
     "output_type": "stream",
     "text": [
      "Exception in thread Thread-158:\n",
      "Traceback (most recent call last):\n",
      "  File \"/home/uttaran/anaconda3/lib/python3.6/threading.py\", line 916, in _bootstrap_inner\n",
      "    self.run()\n",
      "  File \"/home/uttaran/anaconda3/lib/python3.6/threading.py\", line 864, in run\n",
      "    self._target(*self._args, **self._kwargs)\n",
      "  File \"/home/uttaran/anaconda3/lib/python3.6/site-packages/tensorflow/python/estimator/inputs/queues/feeding_queue_runner.py\", line 94, in _run\n",
      "    sess.run(enqueue_op, feed_dict=feed_dict)\n",
      "  File \"/home/uttaran/anaconda3/lib/python3.6/site-packages/tensorflow/python/client/session.py\", line 889, in run\n",
      "    run_metadata_ptr)\n",
      "  File \"/home/uttaran/anaconda3/lib/python3.6/site-packages/tensorflow/python/client/session.py\", line 1047, in _run\n",
      "    raise RuntimeError('Attempted to use a closed Session.')\n",
      "RuntimeError: Attempted to use a closed Session.\n",
      "\n"
     ]
    },
    {
     "name": "stdout",
     "output_type": "stream",
     "text": [
      "\n",
      "######### Test accuracy #############  {'accuracy': 0.12094426, 'loss': 2.2882698, 'global_step': 10000}\n",
      "C2\n",
      "C2\n",
      "C2\n",
      "C3\n",
      "3 0 3 6 10\n",
      "ERROR:tensorflow:Exception in QueueRunner: Attempted to use a closed Session.\n"
     ]
    },
    {
     "name": "stderr",
     "output_type": "stream",
     "text": [
      "Exception in thread Thread-163:\n",
      "Traceback (most recent call last):\n",
      "  File \"/home/uttaran/anaconda3/lib/python3.6/threading.py\", line 916, in _bootstrap_inner\n",
      "    self.run()\n",
      "  File \"/home/uttaran/anaconda3/lib/python3.6/threading.py\", line 864, in run\n",
      "    self._target(*self._args, **self._kwargs)\n",
      "  File \"/home/uttaran/anaconda3/lib/python3.6/site-packages/tensorflow/python/estimator/inputs/queues/feeding_queue_runner.py\", line 94, in _run\n",
      "    sess.run(enqueue_op, feed_dict=feed_dict)\n",
      "  File \"/home/uttaran/anaconda3/lib/python3.6/site-packages/tensorflow/python/client/session.py\", line 889, in run\n",
      "    run_metadata_ptr)\n",
      "  File \"/home/uttaran/anaconda3/lib/python3.6/site-packages/tensorflow/python/client/session.py\", line 1047, in _run\n",
      "    raise RuntimeError('Attempted to use a closed Session.')\n",
      "RuntimeError: Attempted to use a closed Session.\n",
      "\n"
     ]
    },
    {
     "name": "stdout",
     "output_type": "stream",
     "text": [
      "3 0 3 6 10\n",
      "ERROR:tensorflow:Exception in QueueRunner: Attempted to use a closed Session.\n"
     ]
    },
    {
     "name": "stderr",
     "output_type": "stream",
     "text": [
      "Exception in thread Thread-169:\n",
      "Traceback (most recent call last):\n",
      "  File \"/home/uttaran/anaconda3/lib/python3.6/threading.py\", line 916, in _bootstrap_inner\n",
      "    self.run()\n",
      "  File \"/home/uttaran/anaconda3/lib/python3.6/threading.py\", line 864, in run\n",
      "    self._target(*self._args, **self._kwargs)\n",
      "  File \"/home/uttaran/anaconda3/lib/python3.6/site-packages/tensorflow/python/estimator/inputs/queues/feeding_queue_runner.py\", line 94, in _run\n",
      "    sess.run(enqueue_op, feed_dict=feed_dict)\n",
      "  File \"/home/uttaran/anaconda3/lib/python3.6/site-packages/tensorflow/python/client/session.py\", line 889, in run\n",
      "    run_metadata_ptr)\n",
      "  File \"/home/uttaran/anaconda3/lib/python3.6/site-packages/tensorflow/python/client/session.py\", line 1047, in _run\n",
      "    raise RuntimeError('Attempted to use a closed Session.')\n",
      "RuntimeError: Attempted to use a closed Session.\n",
      "\n"
     ]
    },
    {
     "name": "stdout",
     "output_type": "stream",
     "text": [
      "3 0 3 6 10\n",
      "ERROR:tensorflow:Exception in QueueRunner: Attempted to use a closed Session.\n"
     ]
    },
    {
     "name": "stderr",
     "output_type": "stream",
     "text": [
      "Exception in thread Thread-175:\n",
      "Traceback (most recent call last):\n",
      "  File \"/home/uttaran/anaconda3/lib/python3.6/threading.py\", line 916, in _bootstrap_inner\n",
      "    self.run()\n",
      "  File \"/home/uttaran/anaconda3/lib/python3.6/threading.py\", line 864, in run\n",
      "    self._target(*self._args, **self._kwargs)\n",
      "  File \"/home/uttaran/anaconda3/lib/python3.6/site-packages/tensorflow/python/estimator/inputs/queues/feeding_queue_runner.py\", line 94, in _run\n",
      "    sess.run(enqueue_op, feed_dict=feed_dict)\n",
      "  File \"/home/uttaran/anaconda3/lib/python3.6/site-packages/tensorflow/python/client/session.py\", line 889, in run\n",
      "    run_metadata_ptr)\n",
      "  File \"/home/uttaran/anaconda3/lib/python3.6/site-packages/tensorflow/python/client/session.py\", line 1047, in _run\n",
      "    raise RuntimeError('Attempted to use a closed Session.')\n",
      "RuntimeError: Attempted to use a closed Session.\n",
      "\n"
     ]
    },
    {
     "name": "stdout",
     "output_type": "stream",
     "text": [
      "\n",
      "%%%%%%% Train accuracy %%%%%%%%%%%%  {'accuracy': 0.14091109, 'loss': 2.2900496, 'global_step': 10000}\n",
      "3 0 3 6 10\n",
      "ERROR:tensorflow:Exception in QueueRunner: Attempted to use a closed Session.\n"
     ]
    },
    {
     "name": "stderr",
     "output_type": "stream",
     "text": [
      "Exception in thread Thread-180:\n",
      "Traceback (most recent call last):\n",
      "  File \"/home/uttaran/anaconda3/lib/python3.6/threading.py\", line 916, in _bootstrap_inner\n",
      "    self.run()\n",
      "  File \"/home/uttaran/anaconda3/lib/python3.6/threading.py\", line 864, in run\n",
      "    self._target(*self._args, **self._kwargs)\n",
      "  File \"/home/uttaran/anaconda3/lib/python3.6/site-packages/tensorflow/python/estimator/inputs/queues/feeding_queue_runner.py\", line 94, in _run\n",
      "    sess.run(enqueue_op, feed_dict=feed_dict)\n",
      "  File \"/home/uttaran/anaconda3/lib/python3.6/site-packages/tensorflow/python/client/session.py\", line 889, in run\n",
      "    run_metadata_ptr)\n",
      "  File \"/home/uttaran/anaconda3/lib/python3.6/site-packages/tensorflow/python/client/session.py\", line 1047, in _run\n",
      "    raise RuntimeError('Attempted to use a closed Session.')\n",
      "RuntimeError: Attempted to use a closed Session.\n",
      "\n"
     ]
    },
    {
     "name": "stdout",
     "output_type": "stream",
     "text": [
      "\n",
      "######### Test accuracy #############  {'accuracy': 0.14153494, 'loss': 2.2898762, 'global_step': 10000}\n",
      "C2\n",
      "C3\n",
      "2 1 7 4 10\n",
      "ERROR:tensorflow:Exception in QueueRunner: Attempted to use a closed Session.\n"
     ]
    },
    {
     "name": "stderr",
     "output_type": "stream",
     "text": [
      "Exception in thread Thread-185:\n",
      "Traceback (most recent call last):\n",
      "  File \"/home/uttaran/anaconda3/lib/python3.6/threading.py\", line 916, in _bootstrap_inner\n",
      "    self.run()\n",
      "  File \"/home/uttaran/anaconda3/lib/python3.6/threading.py\", line 864, in run\n",
      "    self._target(*self._args, **self._kwargs)\n",
      "  File \"/home/uttaran/anaconda3/lib/python3.6/site-packages/tensorflow/python/estimator/inputs/queues/feeding_queue_runner.py\", line 94, in _run\n",
      "    sess.run(enqueue_op, feed_dict=feed_dict)\n",
      "  File \"/home/uttaran/anaconda3/lib/python3.6/site-packages/tensorflow/python/client/session.py\", line 889, in run\n",
      "    run_metadata_ptr)\n",
      "  File \"/home/uttaran/anaconda3/lib/python3.6/site-packages/tensorflow/python/client/session.py\", line 1047, in _run\n",
      "    raise RuntimeError('Attempted to use a closed Session.')\n",
      "RuntimeError: Attempted to use a closed Session.\n",
      "\n"
     ]
    },
    {
     "name": "stdout",
     "output_type": "stream",
     "text": [
      "2 1 7 4 10\n",
      "ERROR:tensorflow:Exception in QueueRunner: Attempted to use a closed Session.\n"
     ]
    },
    {
     "name": "stderr",
     "output_type": "stream",
     "text": [
      "Exception in thread Thread-191:\n",
      "Traceback (most recent call last):\n",
      "  File \"/home/uttaran/anaconda3/lib/python3.6/threading.py\", line 916, in _bootstrap_inner\n",
      "    self.run()\n",
      "  File \"/home/uttaran/anaconda3/lib/python3.6/threading.py\", line 864, in run\n",
      "    self._target(*self._args, **self._kwargs)\n",
      "  File \"/home/uttaran/anaconda3/lib/python3.6/site-packages/tensorflow/python/estimator/inputs/queues/feeding_queue_runner.py\", line 94, in _run\n",
      "    sess.run(enqueue_op, feed_dict=feed_dict)\n",
      "  File \"/home/uttaran/anaconda3/lib/python3.6/site-packages/tensorflow/python/client/session.py\", line 889, in run\n",
      "    run_metadata_ptr)\n",
      "  File \"/home/uttaran/anaconda3/lib/python3.6/site-packages/tensorflow/python/client/session.py\", line 1047, in _run\n",
      "    raise RuntimeError('Attempted to use a closed Session.')\n",
      "RuntimeError: Attempted to use a closed Session.\n",
      "\n"
     ]
    },
    {
     "name": "stdout",
     "output_type": "stream",
     "text": [
      "2 1 7 4 10\n",
      "ERROR:tensorflow:Exception in QueueRunner: Attempted to use a closed Session.\n"
     ]
    },
    {
     "name": "stderr",
     "output_type": "stream",
     "text": [
      "Exception in thread Thread-197:\n",
      "Traceback (most recent call last):\n",
      "  File \"/home/uttaran/anaconda3/lib/python3.6/threading.py\", line 916, in _bootstrap_inner\n",
      "    self.run()\n",
      "  File \"/home/uttaran/anaconda3/lib/python3.6/threading.py\", line 864, in run\n",
      "    self._target(*self._args, **self._kwargs)\n",
      "  File \"/home/uttaran/anaconda3/lib/python3.6/site-packages/tensorflow/python/estimator/inputs/queues/feeding_queue_runner.py\", line 94, in _run\n",
      "    sess.run(enqueue_op, feed_dict=feed_dict)\n",
      "  File \"/home/uttaran/anaconda3/lib/python3.6/site-packages/tensorflow/python/client/session.py\", line 889, in run\n",
      "    run_metadata_ptr)\n",
      "  File \"/home/uttaran/anaconda3/lib/python3.6/site-packages/tensorflow/python/client/session.py\", line 1047, in _run\n",
      "    raise RuntimeError('Attempted to use a closed Session.')\n",
      "RuntimeError: Attempted to use a closed Session.\n",
      "\n"
     ]
    },
    {
     "name": "stdout",
     "output_type": "stream",
     "text": [
      "\n",
      "%%%%%%% Train accuracy %%%%%%%%%%%%  {'accuracy': 0.24511132, 'loss': 2.1929088, 'global_step': 10000}\n",
      "2 1 7 4 10\n",
      "\n",
      "######### Test accuracy #############  {'accuracy': 0.25707155, 'loss': 2.1890266, 'global_step': 10000}\n",
      "C3\n",
      "3 0 7 4 64\n",
      "3 0 7 4 64\n",
      "ERROR:tensorflow:Exception in QueueRunner: Attempted to use a closed Session.\n"
     ]
    },
    {
     "name": "stderr",
     "output_type": "stream",
     "text": [
      "Exception in thread Thread-213:\n",
      "Traceback (most recent call last):\n",
      "  File \"/home/uttaran/anaconda3/lib/python3.6/threading.py\", line 916, in _bootstrap_inner\n",
      "    self.run()\n",
      "  File \"/home/uttaran/anaconda3/lib/python3.6/threading.py\", line 864, in run\n",
      "    self._target(*self._args, **self._kwargs)\n",
      "  File \"/home/uttaran/anaconda3/lib/python3.6/site-packages/tensorflow/python/estimator/inputs/queues/feeding_queue_runner.py\", line 94, in _run\n",
      "    sess.run(enqueue_op, feed_dict=feed_dict)\n",
      "  File \"/home/uttaran/anaconda3/lib/python3.6/site-packages/tensorflow/python/client/session.py\", line 889, in run\n",
      "    run_metadata_ptr)\n",
      "  File \"/home/uttaran/anaconda3/lib/python3.6/site-packages/tensorflow/python/client/session.py\", line 1047, in _run\n",
      "    raise RuntimeError('Attempted to use a closed Session.')\n",
      "RuntimeError: Attempted to use a closed Session.\n",
      "\n"
     ]
    },
    {
     "name": "stdout",
     "output_type": "stream",
     "text": [
      "3 0 7 4 64\n",
      "ERROR:tensorflow:Exception in QueueRunner: Attempted to use a closed Session.\n"
     ]
    },
    {
     "name": "stderr",
     "output_type": "stream",
     "text": [
      "Exception in thread Thread-219:\n",
      "Traceback (most recent call last):\n",
      "  File \"/home/uttaran/anaconda3/lib/python3.6/threading.py\", line 916, in _bootstrap_inner\n",
      "    self.run()\n",
      "  File \"/home/uttaran/anaconda3/lib/python3.6/threading.py\", line 864, in run\n",
      "    self._target(*self._args, **self._kwargs)\n",
      "  File \"/home/uttaran/anaconda3/lib/python3.6/site-packages/tensorflow/python/estimator/inputs/queues/feeding_queue_runner.py\", line 94, in _run\n",
      "    sess.run(enqueue_op, feed_dict=feed_dict)\n",
      "  File \"/home/uttaran/anaconda3/lib/python3.6/site-packages/tensorflow/python/client/session.py\", line 889, in run\n",
      "    run_metadata_ptr)\n",
      "  File \"/home/uttaran/anaconda3/lib/python3.6/site-packages/tensorflow/python/client/session.py\", line 1047, in _run\n",
      "    raise RuntimeError('Attempted to use a closed Session.')\n",
      "RuntimeError: Attempted to use a closed Session.\n",
      "\n"
     ]
    },
    {
     "name": "stdout",
     "output_type": "stream",
     "text": [
      "\n",
      "%%%%%%% Train accuracy %%%%%%%%%%%%  {'accuracy': 0.37952247, 'loss': 2.1159894, 'global_step': 10000}\n",
      "3 0 7 4 64\n",
      "\n",
      "######### Test accuracy #############  {'accuracy': 0.38144758, 'loss': 2.1115613, 'global_step': 10000}\n",
      "C3\n",
      "3 0 7 8 64\n",
      "3 0 7 8 64\n",
      "3 0 7 8 64\n",
      "ERROR:tensorflow:Exception in QueueRunner: Attempted to use a closed Session.\n"
     ]
    },
    {
     "name": "stderr",
     "output_type": "stream",
     "text": [
      "Exception in thread Thread-241:\n",
      "Traceback (most recent call last):\n",
      "  File \"/home/uttaran/anaconda3/lib/python3.6/threading.py\", line 916, in _bootstrap_inner\n",
      "    self.run()\n",
      "  File \"/home/uttaran/anaconda3/lib/python3.6/threading.py\", line 864, in run\n",
      "    self._target(*self._args, **self._kwargs)\n",
      "  File \"/home/uttaran/anaconda3/lib/python3.6/site-packages/tensorflow/python/estimator/inputs/queues/feeding_queue_runner.py\", line 94, in _run\n",
      "    sess.run(enqueue_op, feed_dict=feed_dict)\n",
      "  File \"/home/uttaran/anaconda3/lib/python3.6/site-packages/tensorflow/python/client/session.py\", line 889, in run\n",
      "    run_metadata_ptr)\n",
      "  File \"/home/uttaran/anaconda3/lib/python3.6/site-packages/tensorflow/python/client/session.py\", line 1047, in _run\n",
      "    raise RuntimeError('Attempted to use a closed Session.')\n",
      "RuntimeError: Attempted to use a closed Session.\n",
      "\n"
     ]
    },
    {
     "name": "stdout",
     "output_type": "stream",
     "text": [
      "\n",
      "%%%%%%% Train accuracy %%%%%%%%%%%%  {'accuracy': 0.69774425, 'loss': 1.5310047, 'global_step': 10000}\n",
      "3 0 7 8 64\n",
      "ERROR:tensorflow:Exception in QueueRunner: Attempted to use a closed Session.\n"
     ]
    },
    {
     "name": "stderr",
     "output_type": "stream",
     "text": [
      "Exception in thread Thread-246:\n",
      "Traceback (most recent call last):\n",
      "  File \"/home/uttaran/anaconda3/lib/python3.6/threading.py\", line 916, in _bootstrap_inner\n",
      "    self.run()\n",
      "  File \"/home/uttaran/anaconda3/lib/python3.6/threading.py\", line 864, in run\n",
      "    self._target(*self._args, **self._kwargs)\n",
      "  File \"/home/uttaran/anaconda3/lib/python3.6/site-packages/tensorflow/python/estimator/inputs/queues/feeding_queue_runner.py\", line 94, in _run\n",
      "    sess.run(enqueue_op, feed_dict=feed_dict)\n",
      "  File \"/home/uttaran/anaconda3/lib/python3.6/site-packages/tensorflow/python/client/session.py\", line 889, in run\n",
      "    run_metadata_ptr)\n",
      "  File \"/home/uttaran/anaconda3/lib/python3.6/site-packages/tensorflow/python/client/session.py\", line 1047, in _run\n",
      "    raise RuntimeError('Attempted to use a closed Session.')\n",
      "RuntimeError: Attempted to use a closed Session.\n",
      "\n"
     ]
    },
    {
     "name": "stdout",
     "output_type": "stream",
     "text": [
      "\n",
      "######### Test accuracy #############  {'accuracy': 0.70517886, 'loss': 1.5063871, 'global_step': 10000}\n",
      "C2\n",
      "C2\n",
      "C3\n",
      "3 0 1 4 10\n",
      "ERROR:tensorflow:Exception in QueueRunner: Attempted to use a closed Session.\n"
     ]
    },
    {
     "name": "stderr",
     "output_type": "stream",
     "text": [
      "Exception in thread Thread-251:\n",
      "Traceback (most recent call last):\n",
      "  File \"/home/uttaran/anaconda3/lib/python3.6/threading.py\", line 916, in _bootstrap_inner\n",
      "    self.run()\n",
      "  File \"/home/uttaran/anaconda3/lib/python3.6/threading.py\", line 864, in run\n",
      "    self._target(*self._args, **self._kwargs)\n",
      "  File \"/home/uttaran/anaconda3/lib/python3.6/site-packages/tensorflow/python/estimator/inputs/queues/feeding_queue_runner.py\", line 94, in _run\n",
      "    sess.run(enqueue_op, feed_dict=feed_dict)\n",
      "  File \"/home/uttaran/anaconda3/lib/python3.6/site-packages/tensorflow/python/client/session.py\", line 889, in run\n",
      "    run_metadata_ptr)\n",
      "  File \"/home/uttaran/anaconda3/lib/python3.6/site-packages/tensorflow/python/client/session.py\", line 1047, in _run\n",
      "    raise RuntimeError('Attempted to use a closed Session.')\n",
      "RuntimeError: Attempted to use a closed Session.\n",
      "\n"
     ]
    },
    {
     "name": "stdout",
     "output_type": "stream",
     "text": [
      "3 0 1 4 10\n",
      "ERROR:tensorflow:Exception in QueueRunner: Attempted to use a closed Session.\n"
     ]
    },
    {
     "name": "stderr",
     "output_type": "stream",
     "text": [
      "Exception in thread Thread-256:\n",
      "Traceback (most recent call last):\n",
      "  File \"/home/uttaran/anaconda3/lib/python3.6/threading.py\", line 916, in _bootstrap_inner\n",
      "    self.run()\n",
      "  File \"/home/uttaran/anaconda3/lib/python3.6/threading.py\", line 864, in run\n",
      "    self._target(*self._args, **self._kwargs)\n",
      "  File \"/home/uttaran/anaconda3/lib/python3.6/site-packages/tensorflow/python/estimator/inputs/queues/feeding_queue_runner.py\", line 94, in _run\n",
      "    sess.run(enqueue_op, feed_dict=feed_dict)\n",
      "  File \"/home/uttaran/anaconda3/lib/python3.6/site-packages/tensorflow/python/client/session.py\", line 889, in run\n",
      "    run_metadata_ptr)\n",
      "  File \"/home/uttaran/anaconda3/lib/python3.6/site-packages/tensorflow/python/client/session.py\", line 1047, in _run\n",
      "    raise RuntimeError('Attempted to use a closed Session.')\n",
      "RuntimeError: Attempted to use a closed Session.\n",
      "\n"
     ]
    },
    {
     "name": "stdout",
     "output_type": "stream",
     "text": [
      "3 0 1 4 10\n",
      "ERROR:tensorflow:Exception in QueueRunner: Attempted to use a closed Session.\n"
     ]
    },
    {
     "name": "stderr",
     "output_type": "stream",
     "text": [
      "Exception in thread Thread-261:\n",
      "Traceback (most recent call last):\n",
      "  File \"/home/uttaran/anaconda3/lib/python3.6/threading.py\", line 916, in _bootstrap_inner\n",
      "    self.run()\n",
      "  File \"/home/uttaran/anaconda3/lib/python3.6/threading.py\", line 864, in run\n",
      "    self._target(*self._args, **self._kwargs)\n",
      "  File \"/home/uttaran/anaconda3/lib/python3.6/site-packages/tensorflow/python/estimator/inputs/queues/feeding_queue_runner.py\", line 94, in _run\n",
      "    sess.run(enqueue_op, feed_dict=feed_dict)\n",
      "  File \"/home/uttaran/anaconda3/lib/python3.6/site-packages/tensorflow/python/client/session.py\", line 889, in run\n",
      "    run_metadata_ptr)\n",
      "  File \"/home/uttaran/anaconda3/lib/python3.6/site-packages/tensorflow/python/client/session.py\", line 1047, in _run\n",
      "    raise RuntimeError('Attempted to use a closed Session.')\n",
      "RuntimeError: Attempted to use a closed Session.\n",
      "\n"
     ]
    },
    {
     "name": "stdout",
     "output_type": "stream",
     "text": [
      "\n",
      "%%%%%%% Train accuracy %%%%%%%%%%%%  {'accuracy': 0.11240296, 'loss': 2.3014183, 'global_step': 20000}\n",
      "3 0 1 4 10\n",
      "ERROR:tensorflow:Exception in QueueRunner: Attempted to use a closed Session.\n"
     ]
    },
    {
     "name": "stderr",
     "output_type": "stream",
     "text": [
      "Exception in thread Thread-266:\n",
      "Traceback (most recent call last):\n",
      "  File \"/home/uttaran/anaconda3/lib/python3.6/threading.py\", line 916, in _bootstrap_inner\n",
      "    self.run()\n",
      "  File \"/home/uttaran/anaconda3/lib/python3.6/threading.py\", line 864, in run\n",
      "    self._target(*self._args, **self._kwargs)\n",
      "  File \"/home/uttaran/anaconda3/lib/python3.6/site-packages/tensorflow/python/estimator/inputs/queues/feeding_queue_runner.py\", line 94, in _run\n",
      "    sess.run(enqueue_op, feed_dict=feed_dict)\n",
      "  File \"/home/uttaran/anaconda3/lib/python3.6/site-packages/tensorflow/python/client/session.py\", line 889, in run\n",
      "    run_metadata_ptr)\n",
      "  File \"/home/uttaran/anaconda3/lib/python3.6/site-packages/tensorflow/python/client/session.py\", line 1047, in _run\n",
      "    raise RuntimeError('Attempted to use a closed Session.')\n",
      "RuntimeError: Attempted to use a closed Session.\n",
      "\n"
     ]
    },
    {
     "name": "stdout",
     "output_type": "stream",
     "text": [
      "\n",
      "######### Test accuracy #############  {'accuracy': 0.112416804, 'loss': 2.3013706, 'global_step': 20000}\n",
      "C2\n",
      "C3\n",
      "3 0 5 4 64\n",
      "ERROR:tensorflow:Exception in QueueRunner: Attempted to use a closed Session.\n"
     ]
    },
    {
     "name": "stderr",
     "output_type": "stream",
     "text": [
      "Exception in thread Thread-271:\n",
      "Traceback (most recent call last):\n",
      "  File \"/home/uttaran/anaconda3/lib/python3.6/threading.py\", line 916, in _bootstrap_inner\n",
      "    self.run()\n",
      "  File \"/home/uttaran/anaconda3/lib/python3.6/threading.py\", line 864, in run\n",
      "    self._target(*self._args, **self._kwargs)\n",
      "  File \"/home/uttaran/anaconda3/lib/python3.6/site-packages/tensorflow/python/estimator/inputs/queues/feeding_queue_runner.py\", line 94, in _run\n",
      "    sess.run(enqueue_op, feed_dict=feed_dict)\n",
      "  File \"/home/uttaran/anaconda3/lib/python3.6/site-packages/tensorflow/python/client/session.py\", line 889, in run\n",
      "    run_metadata_ptr)\n",
      "  File \"/home/uttaran/anaconda3/lib/python3.6/site-packages/tensorflow/python/client/session.py\", line 1047, in _run\n",
      "    raise RuntimeError('Attempted to use a closed Session.')\n",
      "RuntimeError: Attempted to use a closed Session.\n",
      "\n"
     ]
    },
    {
     "name": "stdout",
     "output_type": "stream",
     "text": [
      "3 0 5 4 64\n",
      "ERROR:tensorflow:Exception in QueueRunner: Attempted to use a closed Session.\n"
     ]
    },
    {
     "name": "stderr",
     "output_type": "stream",
     "text": [
      "Exception in thread Thread-277:\n",
      "Traceback (most recent call last):\n",
      "  File \"/home/uttaran/anaconda3/lib/python3.6/threading.py\", line 916, in _bootstrap_inner\n",
      "    self.run()\n",
      "  File \"/home/uttaran/anaconda3/lib/python3.6/threading.py\", line 864, in run\n",
      "    self._target(*self._args, **self._kwargs)\n",
      "  File \"/home/uttaran/anaconda3/lib/python3.6/site-packages/tensorflow/python/estimator/inputs/queues/feeding_queue_runner.py\", line 94, in _run\n",
      "    sess.run(enqueue_op, feed_dict=feed_dict)\n",
      "  File \"/home/uttaran/anaconda3/lib/python3.6/site-packages/tensorflow/python/client/session.py\", line 889, in run\n",
      "    run_metadata_ptr)\n",
      "  File \"/home/uttaran/anaconda3/lib/python3.6/site-packages/tensorflow/python/client/session.py\", line 1047, in _run\n",
      "    raise RuntimeError('Attempted to use a closed Session.')\n",
      "RuntimeError: Attempted to use a closed Session.\n",
      "\n"
     ]
    },
    {
     "name": "stdout",
     "output_type": "stream",
     "text": [
      "3 0 5 4 64\n",
      "\n",
      "%%%%%%% Train accuracy %%%%%%%%%%%%  {'accuracy': 0.20894976, 'loss': 2.238068, 'global_step': 10000}\n",
      "3 0 5 4 64\n",
      "\n",
      "######### Test accuracy #############  {'accuracy': 0.21162646, 'loss': 2.2363262, 'global_step': 10000}\n",
      "C2\n",
      "C2\n",
      "C2\n",
      "C2\n",
      "C2\n",
      "C3\n",
      "2 1 5 6 10\n",
      "ERROR:tensorflow:Exception in QueueRunner: Attempted to use a closed Session.\n"
     ]
    },
    {
     "name": "stderr",
     "output_type": "stream",
     "text": [
      "Exception in thread Thread-293:\n",
      "Traceback (most recent call last):\n",
      "  File \"/home/uttaran/anaconda3/lib/python3.6/threading.py\", line 916, in _bootstrap_inner\n",
      "    self.run()\n",
      "  File \"/home/uttaran/anaconda3/lib/python3.6/threading.py\", line 864, in run\n",
      "    self._target(*self._args, **self._kwargs)\n",
      "  File \"/home/uttaran/anaconda3/lib/python3.6/site-packages/tensorflow/python/estimator/inputs/queues/feeding_queue_runner.py\", line 94, in _run\n",
      "    sess.run(enqueue_op, feed_dict=feed_dict)\n",
      "  File \"/home/uttaran/anaconda3/lib/python3.6/site-packages/tensorflow/python/client/session.py\", line 889, in run\n",
      "    run_metadata_ptr)\n",
      "  File \"/home/uttaran/anaconda3/lib/python3.6/site-packages/tensorflow/python/client/session.py\", line 1047, in _run\n",
      "    raise RuntimeError('Attempted to use a closed Session.')\n",
      "RuntimeError: Attempted to use a closed Session.\n",
      "\n"
     ]
    },
    {
     "name": "stdout",
     "output_type": "stream",
     "text": [
      "2 1 5 6 10\n",
      "ERROR:tensorflow:Exception in QueueRunner: Attempted to use a closed Session.\n"
     ]
    },
    {
     "name": "stderr",
     "output_type": "stream",
     "text": [
      "Exception in thread Thread-299:\n",
      "Traceback (most recent call last):\n",
      "  File \"/home/uttaran/anaconda3/lib/python3.6/threading.py\", line 916, in _bootstrap_inner\n",
      "    self.run()\n",
      "  File \"/home/uttaran/anaconda3/lib/python3.6/threading.py\", line 864, in run\n",
      "    self._target(*self._args, **self._kwargs)\n",
      "  File \"/home/uttaran/anaconda3/lib/python3.6/site-packages/tensorflow/python/estimator/inputs/queues/feeding_queue_runner.py\", line 94, in _run\n",
      "    sess.run(enqueue_op, feed_dict=feed_dict)\n",
      "  File \"/home/uttaran/anaconda3/lib/python3.6/site-packages/tensorflow/python/client/session.py\", line 889, in run\n",
      "    run_metadata_ptr)\n",
      "  File \"/home/uttaran/anaconda3/lib/python3.6/site-packages/tensorflow/python/client/session.py\", line 1047, in _run\n",
      "    raise RuntimeError('Attempted to use a closed Session.')\n",
      "RuntimeError: Attempted to use a closed Session.\n",
      "\n"
     ]
    },
    {
     "name": "stdout",
     "output_type": "stream",
     "text": [
      "2 1 5 6 10\n",
      "ERROR:tensorflow:Exception in QueueRunner: Attempted to use a closed Session.\n"
     ]
    },
    {
     "name": "stderr",
     "output_type": "stream",
     "text": [
      "Exception in thread Thread-305:\n",
      "Traceback (most recent call last):\n",
      "  File \"/home/uttaran/anaconda3/lib/python3.6/threading.py\", line 916, in _bootstrap_inner\n",
      "    self.run()\n",
      "  File \"/home/uttaran/anaconda3/lib/python3.6/threading.py\", line 864, in run\n",
      "    self._target(*self._args, **self._kwargs)\n",
      "  File \"/home/uttaran/anaconda3/lib/python3.6/site-packages/tensorflow/python/estimator/inputs/queues/feeding_queue_runner.py\", line 94, in _run\n",
      "    sess.run(enqueue_op, feed_dict=feed_dict)\n",
      "  File \"/home/uttaran/anaconda3/lib/python3.6/site-packages/tensorflow/python/client/session.py\", line 889, in run\n",
      "    run_metadata_ptr)\n",
      "  File \"/home/uttaran/anaconda3/lib/python3.6/site-packages/tensorflow/python/client/session.py\", line 1047, in _run\n",
      "    raise RuntimeError('Attempted to use a closed Session.')\n",
      "RuntimeError: Attempted to use a closed Session.\n",
      "\n"
     ]
    },
    {
     "name": "stdout",
     "output_type": "stream",
     "text": [
      "\n",
      "%%%%%%% Train accuracy %%%%%%%%%%%%  {'accuracy': 0.12988868, 'loss': 2.2119904, 'global_step': 10000}\n",
      "2 1 5 6 10\n",
      "ERROR:tensorflow:Exception in QueueRunner: Attempted to use a closed Session.\n"
     ]
    },
    {
     "name": "stderr",
     "output_type": "stream",
     "text": [
      "Exception in thread Thread-310:\n",
      "Traceback (most recent call last):\n",
      "  File \"/home/uttaran/anaconda3/lib/python3.6/threading.py\", line 916, in _bootstrap_inner\n",
      "    self.run()\n",
      "  File \"/home/uttaran/anaconda3/lib/python3.6/threading.py\", line 864, in run\n",
      "    self._target(*self._args, **self._kwargs)\n",
      "  File \"/home/uttaran/anaconda3/lib/python3.6/site-packages/tensorflow/python/estimator/inputs/queues/feeding_queue_runner.py\", line 94, in _run\n",
      "    sess.run(enqueue_op, feed_dict=feed_dict)\n",
      "  File \"/home/uttaran/anaconda3/lib/python3.6/site-packages/tensorflow/python/client/session.py\", line 889, in run\n",
      "    run_metadata_ptr)\n",
      "  File \"/home/uttaran/anaconda3/lib/python3.6/site-packages/tensorflow/python/client/session.py\", line 1047, in _run\n",
      "    raise RuntimeError('Attempted to use a closed Session.')\n",
      "RuntimeError: Attempted to use a closed Session.\n",
      "\n"
     ]
    },
    {
     "name": "stdout",
     "output_type": "stream",
     "text": [
      "\n",
      "######### Test accuracy #############  {'accuracy': 0.12759984, 'loss': 2.2109585, 'global_step': 10000}\n",
      "C3\n",
      "3 0 1 4 32\n",
      "3 0 1 4 32\n",
      "ERROR:tensorflow:Exception in QueueRunner: Attempted to use a closed Session.\n"
     ]
    },
    {
     "name": "stderr",
     "output_type": "stream",
     "text": [
      "Exception in thread Thread-321:\n",
      "Traceback (most recent call last):\n",
      "  File \"/home/uttaran/anaconda3/lib/python3.6/threading.py\", line 916, in _bootstrap_inner\n",
      "    self.run()\n",
      "  File \"/home/uttaran/anaconda3/lib/python3.6/threading.py\", line 864, in run\n",
      "    self._target(*self._args, **self._kwargs)\n",
      "  File \"/home/uttaran/anaconda3/lib/python3.6/site-packages/tensorflow/python/estimator/inputs/queues/feeding_queue_runner.py\", line 94, in _run\n",
      "    sess.run(enqueue_op, feed_dict=feed_dict)\n",
      "  File \"/home/uttaran/anaconda3/lib/python3.6/site-packages/tensorflow/python/client/session.py\", line 889, in run\n",
      "    run_metadata_ptr)\n",
      "  File \"/home/uttaran/anaconda3/lib/python3.6/site-packages/tensorflow/python/client/session.py\", line 1047, in _run\n",
      "    raise RuntimeError('Attempted to use a closed Session.')\n",
      "RuntimeError: Attempted to use a closed Session.\n",
      "\n"
     ]
    },
    {
     "name": "stdout",
     "output_type": "stream",
     "text": [
      "3 0 1 4 32\n",
      "ERROR:tensorflow:Exception in QueueRunner: Attempted to use a closed Session.\n"
     ]
    },
    {
     "name": "stderr",
     "output_type": "stream",
     "text": [
      "Exception in thread Thread-327:\n",
      "Traceback (most recent call last):\n",
      "  File \"/home/uttaran/anaconda3/lib/python3.6/threading.py\", line 916, in _bootstrap_inner\n",
      "    self.run()\n",
      "  File \"/home/uttaran/anaconda3/lib/python3.6/threading.py\", line 864, in run\n",
      "    self._target(*self._args, **self._kwargs)\n",
      "  File \"/home/uttaran/anaconda3/lib/python3.6/site-packages/tensorflow/python/estimator/inputs/queues/feeding_queue_runner.py\", line 94, in _run\n",
      "    sess.run(enqueue_op, feed_dict=feed_dict)\n",
      "  File \"/home/uttaran/anaconda3/lib/python3.6/site-packages/tensorflow/python/client/session.py\", line 889, in run\n",
      "    run_metadata_ptr)\n",
      "  File \"/home/uttaran/anaconda3/lib/python3.6/site-packages/tensorflow/python/client/session.py\", line 1047, in _run\n",
      "    raise RuntimeError('Attempted to use a closed Session.')\n",
      "RuntimeError: Attempted to use a closed Session.\n",
      "\n"
     ]
    },
    {
     "name": "stdout",
     "output_type": "stream",
     "text": [
      "\n",
      "%%%%%%% Train accuracy %%%%%%%%%%%%  {'accuracy': 0.11240296, 'loss': 2.3021219, 'global_step': 10000}\n",
      "3 0 1 4 32\n",
      "ERROR:tensorflow:Exception in QueueRunner: Attempted to use a closed Session.\n"
     ]
    },
    {
     "name": "stderr",
     "output_type": "stream",
     "text": [
      "Exception in thread Thread-332:\n",
      "Traceback (most recent call last):\n",
      "  File \"/home/uttaran/anaconda3/lib/python3.6/threading.py\", line 916, in _bootstrap_inner\n",
      "    self.run()\n",
      "  File \"/home/uttaran/anaconda3/lib/python3.6/threading.py\", line 864, in run\n",
      "    self._target(*self._args, **self._kwargs)\n",
      "  File \"/home/uttaran/anaconda3/lib/python3.6/site-packages/tensorflow/python/estimator/inputs/queues/feeding_queue_runner.py\", line 94, in _run\n",
      "    sess.run(enqueue_op, feed_dict=feed_dict)\n",
      "  File \"/home/uttaran/anaconda3/lib/python3.6/site-packages/tensorflow/python/client/session.py\", line 889, in run\n",
      "    run_metadata_ptr)\n",
      "  File \"/home/uttaran/anaconda3/lib/python3.6/site-packages/tensorflow/python/client/session.py\", line 1047, in _run\n",
      "    raise RuntimeError('Attempted to use a closed Session.')\n",
      "RuntimeError: Attempted to use a closed Session.\n",
      "\n"
     ]
    },
    {
     "name": "stdout",
     "output_type": "stream",
     "text": [
      "\n",
      "######### Test accuracy #############  {'accuracy': 0.112416804, 'loss': 2.3021145, 'global_step': 10000}\n",
      "C2\n",
      "C3\n",
      "3 0 5 2 10\n",
      "ERROR:tensorflow:Exception in QueueRunner: Attempted to use a closed Session.\n"
     ]
    },
    {
     "name": "stderr",
     "output_type": "stream",
     "text": [
      "Exception in thread Thread-337:\n",
      "Traceback (most recent call last):\n",
      "  File \"/home/uttaran/anaconda3/lib/python3.6/threading.py\", line 916, in _bootstrap_inner\n",
      "    self.run()\n",
      "  File \"/home/uttaran/anaconda3/lib/python3.6/threading.py\", line 864, in run\n",
      "    self._target(*self._args, **self._kwargs)\n",
      "  File \"/home/uttaran/anaconda3/lib/python3.6/site-packages/tensorflow/python/estimator/inputs/queues/feeding_queue_runner.py\", line 94, in _run\n",
      "    sess.run(enqueue_op, feed_dict=feed_dict)\n",
      "  File \"/home/uttaran/anaconda3/lib/python3.6/site-packages/tensorflow/python/client/session.py\", line 889, in run\n",
      "    run_metadata_ptr)\n",
      "  File \"/home/uttaran/anaconda3/lib/python3.6/site-packages/tensorflow/python/client/session.py\", line 1047, in _run\n",
      "    raise RuntimeError('Attempted to use a closed Session.')\n",
      "RuntimeError: Attempted to use a closed Session.\n",
      "\n"
     ]
    },
    {
     "name": "stdout",
     "output_type": "stream",
     "text": [
      "3 0 5 2 10\n",
      "3 0 5 2 10\n",
      "ERROR:tensorflow:Exception in QueueRunner: Attempted to use a closed Session.\n"
     ]
    },
    {
     "name": "stderr",
     "output_type": "stream",
     "text": [
      "Exception in thread Thread-349:\n",
      "Traceback (most recent call last):\n",
      "  File \"/home/uttaran/anaconda3/lib/python3.6/threading.py\", line 916, in _bootstrap_inner\n",
      "    self.run()\n",
      "  File \"/home/uttaran/anaconda3/lib/python3.6/threading.py\", line 864, in run\n",
      "    self._target(*self._args, **self._kwargs)\n",
      "  File \"/home/uttaran/anaconda3/lib/python3.6/site-packages/tensorflow/python/estimator/inputs/queues/feeding_queue_runner.py\", line 94, in _run\n",
      "    sess.run(enqueue_op, feed_dict=feed_dict)\n",
      "  File \"/home/uttaran/anaconda3/lib/python3.6/site-packages/tensorflow/python/client/session.py\", line 889, in run\n",
      "    run_metadata_ptr)\n",
      "  File \"/home/uttaran/anaconda3/lib/python3.6/site-packages/tensorflow/python/client/session.py\", line 1047, in _run\n",
      "    raise RuntimeError('Attempted to use a closed Session.')\n",
      "RuntimeError: Attempted to use a closed Session.\n",
      "\n"
     ]
    },
    {
     "name": "stdout",
     "output_type": "stream",
     "text": [
      "\n",
      "%%%%%%% Train accuracy %%%%%%%%%%%%  {'accuracy': 0.19997802, 'loss': 2.2697065, 'global_step': 10000}\n",
      "3 0 5 2 10\n",
      "ERROR:tensorflow:Exception in QueueRunner: Attempted to use a closed Session.\n"
     ]
    },
    {
     "name": "stderr",
     "output_type": "stream",
     "text": [
      "Exception in thread Thread-354:\n",
      "Traceback (most recent call last):\n",
      "  File \"/home/uttaran/anaconda3/lib/python3.6/threading.py\", line 916, in _bootstrap_inner\n",
      "    self.run()\n",
      "  File \"/home/uttaran/anaconda3/lib/python3.6/threading.py\", line 864, in run\n",
      "    self._target(*self._args, **self._kwargs)\n",
      "  File \"/home/uttaran/anaconda3/lib/python3.6/site-packages/tensorflow/python/estimator/inputs/queues/feeding_queue_runner.py\", line 94, in _run\n",
      "    sess.run(enqueue_op, feed_dict=feed_dict)\n",
      "  File \"/home/uttaran/anaconda3/lib/python3.6/site-packages/tensorflow/python/client/session.py\", line 889, in run\n",
      "    run_metadata_ptr)\n",
      "  File \"/home/uttaran/anaconda3/lib/python3.6/site-packages/tensorflow/python/client/session.py\", line 1047, in _run\n",
      "    raise RuntimeError('Attempted to use a closed Session.')\n",
      "RuntimeError: Attempted to use a closed Session.\n",
      "\n"
     ]
    },
    {
     "name": "stdout",
     "output_type": "stream",
     "text": [
      "\n",
      "######### Test accuracy #############  {'accuracy': 0.20330699, 'loss': 2.2689357, 'global_step': 10000}\n",
      "C3\n",
      "2 1 3 2 32\n",
      "ERROR:tensorflow:Exception in QueueRunner: Attempted to use a closed Session.\n"
     ]
    },
    {
     "name": "stderr",
     "output_type": "stream",
     "text": [
      "Exception in thread Thread-359:\n",
      "Traceback (most recent call last):\n",
      "  File \"/home/uttaran/anaconda3/lib/python3.6/threading.py\", line 916, in _bootstrap_inner\n",
      "    self.run()\n",
      "  File \"/home/uttaran/anaconda3/lib/python3.6/threading.py\", line 864, in run\n",
      "    self._target(*self._args, **self._kwargs)\n",
      "  File \"/home/uttaran/anaconda3/lib/python3.6/site-packages/tensorflow/python/estimator/inputs/queues/feeding_queue_runner.py\", line 94, in _run\n",
      "    sess.run(enqueue_op, feed_dict=feed_dict)\n",
      "  File \"/home/uttaran/anaconda3/lib/python3.6/site-packages/tensorflow/python/client/session.py\", line 889, in run\n",
      "    run_metadata_ptr)\n",
      "  File \"/home/uttaran/anaconda3/lib/python3.6/site-packages/tensorflow/python/client/session.py\", line 1047, in _run\n",
      "    raise RuntimeError('Attempted to use a closed Session.')\n",
      "RuntimeError: Attempted to use a closed Session.\n",
      "\n"
     ]
    },
    {
     "name": "stdout",
     "output_type": "stream",
     "text": [
      "2 1 3 2 32\n",
      "ERROR:tensorflow:Exception in QueueRunner: Attempted to use a closed Session.\n"
     ]
    },
    {
     "name": "stderr",
     "output_type": "stream",
     "text": [
      "Exception in thread Thread-365:\n",
      "Traceback (most recent call last):\n",
      "  File \"/home/uttaran/anaconda3/lib/python3.6/threading.py\", line 916, in _bootstrap_inner\n",
      "    self.run()\n",
      "  File \"/home/uttaran/anaconda3/lib/python3.6/threading.py\", line 864, in run\n",
      "    self._target(*self._args, **self._kwargs)\n",
      "  File \"/home/uttaran/anaconda3/lib/python3.6/site-packages/tensorflow/python/estimator/inputs/queues/feeding_queue_runner.py\", line 94, in _run\n",
      "    sess.run(enqueue_op, feed_dict=feed_dict)\n",
      "  File \"/home/uttaran/anaconda3/lib/python3.6/site-packages/tensorflow/python/client/session.py\", line 889, in run\n",
      "    run_metadata_ptr)\n",
      "  File \"/home/uttaran/anaconda3/lib/python3.6/site-packages/tensorflow/python/client/session.py\", line 1047, in _run\n",
      "    raise RuntimeError('Attempted to use a closed Session.')\n",
      "RuntimeError: Attempted to use a closed Session.\n",
      "\n"
     ]
    },
    {
     "name": "stdout",
     "output_type": "stream",
     "text": [
      "2 1 3 2 32\n",
      "ERROR:tensorflow:Exception in QueueRunner: Attempted to use a closed Session.\n"
     ]
    },
    {
     "name": "stderr",
     "output_type": "stream",
     "text": [
      "Exception in thread Thread-371:\n",
      "Traceback (most recent call last):\n",
      "  File \"/home/uttaran/anaconda3/lib/python3.6/threading.py\", line 916, in _bootstrap_inner\n",
      "    self.run()\n",
      "  File \"/home/uttaran/anaconda3/lib/python3.6/threading.py\", line 864, in run\n",
      "    self._target(*self._args, **self._kwargs)\n",
      "  File \"/home/uttaran/anaconda3/lib/python3.6/site-packages/tensorflow/python/estimator/inputs/queues/feeding_queue_runner.py\", line 94, in _run\n",
      "    sess.run(enqueue_op, feed_dict=feed_dict)\n",
      "  File \"/home/uttaran/anaconda3/lib/python3.6/site-packages/tensorflow/python/client/session.py\", line 889, in run\n",
      "    run_metadata_ptr)\n",
      "  File \"/home/uttaran/anaconda3/lib/python3.6/site-packages/tensorflow/python/client/session.py\", line 1047, in _run\n",
      "    raise RuntimeError('Attempted to use a closed Session.')\n",
      "RuntimeError: Attempted to use a closed Session.\n",
      "\n"
     ]
    },
    {
     "name": "stdout",
     "output_type": "stream",
     "text": [
      "\n",
      "%%%%%%% Train accuracy %%%%%%%%%%%%  {'accuracy': 0.21561447, 'loss': 2.2910461, 'global_step': 10000}\n",
      "2 1 3 2 32\n",
      "\n",
      "######### Test accuracy #############  {'accuracy': 0.22264975, 'loss': 2.2903154, 'global_step': 10000}\n",
      "C2\n",
      "C3\n",
      "3 0 1 4 64\n",
      "3 0 1 4 64\n",
      "3 0 1 4 64\n",
      "ERROR:tensorflow:Exception in QueueRunner: Attempted to use a closed Session.\n"
     ]
    },
    {
     "name": "stderr",
     "output_type": "stream",
     "text": [
      "Exception in thread Thread-393:\n",
      "Traceback (most recent call last):\n",
      "  File \"/home/uttaran/anaconda3/lib/python3.6/threading.py\", line 916, in _bootstrap_inner\n",
      "    self.run()\n",
      "  File \"/home/uttaran/anaconda3/lib/python3.6/threading.py\", line 864, in run\n",
      "    self._target(*self._args, **self._kwargs)\n",
      "  File \"/home/uttaran/anaconda3/lib/python3.6/site-packages/tensorflow/python/estimator/inputs/queues/feeding_queue_runner.py\", line 94, in _run\n",
      "    sess.run(enqueue_op, feed_dict=feed_dict)\n",
      "  File \"/home/uttaran/anaconda3/lib/python3.6/site-packages/tensorflow/python/client/session.py\", line 889, in run\n",
      "    run_metadata_ptr)\n",
      "  File \"/home/uttaran/anaconda3/lib/python3.6/site-packages/tensorflow/python/client/session.py\", line 1047, in _run\n",
      "    raise RuntimeError('Attempted to use a closed Session.')\n",
      "RuntimeError: Attempted to use a closed Session.\n",
      "\n"
     ]
    },
    {
     "name": "stdout",
     "output_type": "stream",
     "text": [
      "\n",
      "%%%%%%% Train accuracy %%%%%%%%%%%%  {'accuracy': 0.11240296, 'loss': 2.3021162, 'global_step': 10000}\n",
      "3 0 1 4 64\n",
      "ERROR:tensorflow:Exception in QueueRunner: Attempted to use a closed Session.\n"
     ]
    },
    {
     "name": "stderr",
     "output_type": "stream",
     "text": [
      "Exception in thread Thread-398:\n",
      "Traceback (most recent call last):\n",
      "  File \"/home/uttaran/anaconda3/lib/python3.6/threading.py\", line 916, in _bootstrap_inner\n",
      "    self.run()\n",
      "  File \"/home/uttaran/anaconda3/lib/python3.6/threading.py\", line 864, in run\n",
      "    self._target(*self._args, **self._kwargs)\n",
      "  File \"/home/uttaran/anaconda3/lib/python3.6/site-packages/tensorflow/python/estimator/inputs/queues/feeding_queue_runner.py\", line 94, in _run\n",
      "    sess.run(enqueue_op, feed_dict=feed_dict)\n",
      "  File \"/home/uttaran/anaconda3/lib/python3.6/site-packages/tensorflow/python/client/session.py\", line 889, in run\n",
      "    run_metadata_ptr)\n",
      "  File \"/home/uttaran/anaconda3/lib/python3.6/site-packages/tensorflow/python/client/session.py\", line 1047, in _run\n",
      "    raise RuntimeError('Attempted to use a closed Session.')\n",
      "RuntimeError: Attempted to use a closed Session.\n",
      "\n"
     ]
    },
    {
     "name": "stdout",
     "output_type": "stream",
     "text": [
      "\n",
      "######### Test accuracy #############  {'accuracy': 0.112416804, 'loss': 2.3021069, 'global_step': 10000}\n",
      "C2\n",
      "C3\n",
      "3 0 5 6 64\n",
      "ERROR:tensorflow:Exception in QueueRunner: Attempted to use a closed Session.\n"
     ]
    },
    {
     "name": "stderr",
     "output_type": "stream",
     "text": [
      "Exception in thread Thread-403:\n",
      "Traceback (most recent call last):\n",
      "  File \"/home/uttaran/anaconda3/lib/python3.6/threading.py\", line 916, in _bootstrap_inner\n",
      "    self.run()\n",
      "  File \"/home/uttaran/anaconda3/lib/python3.6/threading.py\", line 864, in run\n",
      "    self._target(*self._args, **self._kwargs)\n",
      "  File \"/home/uttaran/anaconda3/lib/python3.6/site-packages/tensorflow/python/estimator/inputs/queues/feeding_queue_runner.py\", line 94, in _run\n",
      "    sess.run(enqueue_op, feed_dict=feed_dict)\n",
      "  File \"/home/uttaran/anaconda3/lib/python3.6/site-packages/tensorflow/python/client/session.py\", line 889, in run\n",
      "    run_metadata_ptr)\n",
      "  File \"/home/uttaran/anaconda3/lib/python3.6/site-packages/tensorflow/python/client/session.py\", line 1047, in _run\n",
      "    raise RuntimeError('Attempted to use a closed Session.')\n",
      "RuntimeError: Attempted to use a closed Session.\n",
      "\n"
     ]
    },
    {
     "name": "stdout",
     "output_type": "stream",
     "text": [
      "3 0 5 6 64\n",
      "ERROR:tensorflow:Exception in QueueRunner: Attempted to use a closed Session.\n"
     ]
    },
    {
     "name": "stderr",
     "output_type": "stream",
     "text": [
      "Exception in thread Thread-409:\n",
      "Traceback (most recent call last):\n",
      "  File \"/home/uttaran/anaconda3/lib/python3.6/threading.py\", line 916, in _bootstrap_inner\n",
      "    self.run()\n",
      "  File \"/home/uttaran/anaconda3/lib/python3.6/threading.py\", line 864, in run\n",
      "    self._target(*self._args, **self._kwargs)\n",
      "  File \"/home/uttaran/anaconda3/lib/python3.6/site-packages/tensorflow/python/estimator/inputs/queues/feeding_queue_runner.py\", line 94, in _run\n",
      "    sess.run(enqueue_op, feed_dict=feed_dict)\n",
      "  File \"/home/uttaran/anaconda3/lib/python3.6/site-packages/tensorflow/python/client/session.py\", line 889, in run\n",
      "    run_metadata_ptr)\n",
      "  File \"/home/uttaran/anaconda3/lib/python3.6/site-packages/tensorflow/python/client/session.py\", line 1047, in _run\n",
      "    raise RuntimeError('Attempted to use a closed Session.')\n",
      "RuntimeError: Attempted to use a closed Session.\n",
      "\n"
     ]
    },
    {
     "name": "stdout",
     "output_type": "stream",
     "text": [
      "3 0 5 6 64\n",
      "ERROR:tensorflow:Exception in QueueRunner: Attempted to use a closed Session.\n"
     ]
    },
    {
     "name": "stderr",
     "output_type": "stream",
     "text": [
      "Exception in thread Thread-415:\n",
      "Traceback (most recent call last):\n",
      "  File \"/home/uttaran/anaconda3/lib/python3.6/threading.py\", line 916, in _bootstrap_inner\n",
      "    self.run()\n",
      "  File \"/home/uttaran/anaconda3/lib/python3.6/threading.py\", line 864, in run\n",
      "    self._target(*self._args, **self._kwargs)\n",
      "  File \"/home/uttaran/anaconda3/lib/python3.6/site-packages/tensorflow/python/estimator/inputs/queues/feeding_queue_runner.py\", line 94, in _run\n",
      "    sess.run(enqueue_op, feed_dict=feed_dict)\n",
      "  File \"/home/uttaran/anaconda3/lib/python3.6/site-packages/tensorflow/python/client/session.py\", line 889, in run\n",
      "    run_metadata_ptr)\n",
      "  File \"/home/uttaran/anaconda3/lib/python3.6/site-packages/tensorflow/python/client/session.py\", line 1047, in _run\n",
      "    raise RuntimeError('Attempted to use a closed Session.')\n",
      "RuntimeError: Attempted to use a closed Session.\n",
      "\n"
     ]
    },
    {
     "name": "stdout",
     "output_type": "stream",
     "text": [
      "\n",
      "%%%%%%% Train accuracy %%%%%%%%%%%%  {'accuracy': 0.3158232, 'loss': 2.2262278, 'global_step': 10000}\n",
      "3 0 5 6 64\n",
      "ERROR:tensorflow:Exception in QueueRunner: Attempted to use a closed Session.\n"
     ]
    },
    {
     "name": "stderr",
     "output_type": "stream",
     "text": [
      "Exception in thread Thread-420:\n",
      "Traceback (most recent call last):\n",
      "  File \"/home/uttaran/anaconda3/lib/python3.6/threading.py\", line 916, in _bootstrap_inner\n",
      "    self.run()\n",
      "  File \"/home/uttaran/anaconda3/lib/python3.6/threading.py\", line 864, in run\n",
      "    self._target(*self._args, **self._kwargs)\n",
      "  File \"/home/uttaran/anaconda3/lib/python3.6/site-packages/tensorflow/python/estimator/inputs/queues/feeding_queue_runner.py\", line 94, in _run\n",
      "    sess.run(enqueue_op, feed_dict=feed_dict)\n",
      "  File \"/home/uttaran/anaconda3/lib/python3.6/site-packages/tensorflow/python/client/session.py\", line 889, in run\n",
      "    run_metadata_ptr)\n",
      "  File \"/home/uttaran/anaconda3/lib/python3.6/site-packages/tensorflow/python/client/session.py\", line 1047, in _run\n",
      "    raise RuntimeError('Attempted to use a closed Session.')\n",
      "RuntimeError: Attempted to use a closed Session.\n",
      "\n"
     ]
    },
    {
     "name": "stdout",
     "output_type": "stream",
     "text": [
      "\n",
      "######### Test accuracy #############  {'accuracy': 0.31010816, 'loss': 2.2265885, 'global_step': 10000}\n",
      "C3\n",
      "3 0 7 2 128\n",
      "3 0 7 2 128\n",
      "ERROR:tensorflow:Exception in QueueRunner: Attempted to use a closed Session.\n"
     ]
    },
    {
     "name": "stderr",
     "output_type": "stream",
     "text": [
      "Exception in thread Thread-431:\n",
      "Traceback (most recent call last):\n",
      "  File \"/home/uttaran/anaconda3/lib/python3.6/threading.py\", line 916, in _bootstrap_inner\n",
      "    self.run()\n",
      "  File \"/home/uttaran/anaconda3/lib/python3.6/threading.py\", line 864, in run\n",
      "    self._target(*self._args, **self._kwargs)\n",
      "  File \"/home/uttaran/anaconda3/lib/python3.6/site-packages/tensorflow/python/estimator/inputs/queues/feeding_queue_runner.py\", line 94, in _run\n",
      "    sess.run(enqueue_op, feed_dict=feed_dict)\n",
      "  File \"/home/uttaran/anaconda3/lib/python3.6/site-packages/tensorflow/python/client/session.py\", line 889, in run\n",
      "    run_metadata_ptr)\n",
      "  File \"/home/uttaran/anaconda3/lib/python3.6/site-packages/tensorflow/python/client/session.py\", line 1047, in _run\n",
      "    raise RuntimeError('Attempted to use a closed Session.')\n",
      "RuntimeError: Attempted to use a closed Session.\n",
      "\n"
     ]
    },
    {
     "name": "stdout",
     "output_type": "stream",
     "text": [
      "3 0 7 2 128\n",
      "ERROR:tensorflow:Exception in QueueRunner: Attempted to use a closed Session.\n"
     ]
    },
    {
     "name": "stderr",
     "output_type": "stream",
     "text": [
      "Exception in thread Thread-437:\n",
      "Traceback (most recent call last):\n",
      "  File \"/home/uttaran/anaconda3/lib/python3.6/threading.py\", line 916, in _bootstrap_inner\n",
      "    self.run()\n",
      "  File \"/home/uttaran/anaconda3/lib/python3.6/threading.py\", line 864, in run\n",
      "    self._target(*self._args, **self._kwargs)\n",
      "  File \"/home/uttaran/anaconda3/lib/python3.6/site-packages/tensorflow/python/estimator/inputs/queues/feeding_queue_runner.py\", line 94, in _run\n",
      "    sess.run(enqueue_op, feed_dict=feed_dict)\n",
      "  File \"/home/uttaran/anaconda3/lib/python3.6/site-packages/tensorflow/python/client/session.py\", line 889, in run\n",
      "    run_metadata_ptr)\n",
      "  File \"/home/uttaran/anaconda3/lib/python3.6/site-packages/tensorflow/python/client/session.py\", line 1047, in _run\n",
      "    raise RuntimeError('Attempted to use a closed Session.')\n",
      "RuntimeError: Attempted to use a closed Session.\n",
      "\n"
     ]
    },
    {
     "name": "stdout",
     "output_type": "stream",
     "text": [
      "\n",
      "%%%%%%% Train accuracy %%%%%%%%%%%%  {'accuracy': 0.3006262, 'loss': 2.2105722, 'global_step': 10000}\n",
      "3 0 7 2 128\n",
      "ERROR:tensorflow:Exception in QueueRunner: Attempted to use a closed Session.\n"
     ]
    },
    {
     "name": "stderr",
     "output_type": "stream",
     "text": [
      "Exception in thread Thread-442:\n",
      "Traceback (most recent call last):\n",
      "  File \"/home/uttaran/anaconda3/lib/python3.6/threading.py\", line 916, in _bootstrap_inner\n",
      "    self.run()\n",
      "  File \"/home/uttaran/anaconda3/lib/python3.6/threading.py\", line 864, in run\n",
      "    self._target(*self._args, **self._kwargs)\n",
      "  File \"/home/uttaran/anaconda3/lib/python3.6/site-packages/tensorflow/python/estimator/inputs/queues/feeding_queue_runner.py\", line 94, in _run\n",
      "    sess.run(enqueue_op, feed_dict=feed_dict)\n",
      "  File \"/home/uttaran/anaconda3/lib/python3.6/site-packages/tensorflow/python/client/session.py\", line 889, in run\n",
      "    run_metadata_ptr)\n",
      "  File \"/home/uttaran/anaconda3/lib/python3.6/site-packages/tensorflow/python/client/session.py\", line 1047, in _run\n",
      "    raise RuntimeError('Attempted to use a closed Session.')\n",
      "RuntimeError: Attempted to use a closed Session.\n",
      "\n"
     ]
    },
    {
     "name": "stdout",
     "output_type": "stream",
     "text": [
      "\n",
      "######### Test accuracy #############  {'accuracy': 0.30095673, 'loss': 2.207219, 'global_step': 10000}\n",
      "C2\n",
      "C3\n",
      "2 1 1 2 10\n",
      "2 1 1 2 10\n",
      "2 1 1 2 10\n",
      "ERROR:tensorflow:Exception in QueueRunner: Attempted to use a closed Session.\n"
     ]
    },
    {
     "name": "stderr",
     "output_type": "stream",
     "text": [
      "Exception in thread Thread-459:\n",
      "Traceback (most recent call last):\n",
      "  File \"/home/uttaran/anaconda3/lib/python3.6/threading.py\", line 916, in _bootstrap_inner\n",
      "    self.run()\n",
      "  File \"/home/uttaran/anaconda3/lib/python3.6/threading.py\", line 864, in run\n",
      "    self._target(*self._args, **self._kwargs)\n",
      "  File \"/home/uttaran/anaconda3/lib/python3.6/site-packages/tensorflow/python/estimator/inputs/queues/feeding_queue_runner.py\", line 94, in _run\n",
      "    sess.run(enqueue_op, feed_dict=feed_dict)\n",
      "  File \"/home/uttaran/anaconda3/lib/python3.6/site-packages/tensorflow/python/client/session.py\", line 889, in run\n",
      "    run_metadata_ptr)\n",
      "  File \"/home/uttaran/anaconda3/lib/python3.6/site-packages/tensorflow/python/client/session.py\", line 1047, in _run\n",
      "    raise RuntimeError('Attempted to use a closed Session.')\n",
      "RuntimeError: Attempted to use a closed Session.\n",
      "\n"
     ]
    },
    {
     "name": "stdout",
     "output_type": "stream",
     "text": [
      "\n",
      "%%%%%%% Train accuracy %%%%%%%%%%%%  {'accuracy': 0.1363703, 'loss': 2.281456, 'global_step': 10000}\n",
      "2 1 1 2 10\n",
      "ERROR:tensorflow:Exception in QueueRunner: Attempted to use a closed Session.\n"
     ]
    },
    {
     "name": "stderr",
     "output_type": "stream",
     "text": [
      "Exception in thread Thread-464:\n",
      "Traceback (most recent call last):\n",
      "  File \"/home/uttaran/anaconda3/lib/python3.6/threading.py\", line 916, in _bootstrap_inner\n",
      "    self.run()\n",
      "  File \"/home/uttaran/anaconda3/lib/python3.6/threading.py\", line 864, in run\n",
      "    self._target(*self._args, **self._kwargs)\n",
      "  File \"/home/uttaran/anaconda3/lib/python3.6/site-packages/tensorflow/python/estimator/inputs/queues/feeding_queue_runner.py\", line 94, in _run\n",
      "    sess.run(enqueue_op, feed_dict=feed_dict)\n",
      "  File \"/home/uttaran/anaconda3/lib/python3.6/site-packages/tensorflow/python/client/session.py\", line 889, in run\n",
      "    run_metadata_ptr)\n",
      "  File \"/home/uttaran/anaconda3/lib/python3.6/site-packages/tensorflow/python/client/session.py\", line 1047, in _run\n",
      "    raise RuntimeError('Attempted to use a closed Session.')\n",
      "RuntimeError: Attempted to use a closed Session.\n",
      "\n"
     ]
    },
    {
     "name": "stdout",
     "output_type": "stream",
     "text": [
      "\n",
      "######### Test accuracy #############  {'accuracy': 0.13581531, 'loss': 2.2807407, 'global_step': 10000}\n",
      "C2\n",
      "C3\n",
      "2 1 7 2 32\n",
      "ERROR:tensorflow:Exception in QueueRunner: Attempted to use a closed Session.\n"
     ]
    },
    {
     "name": "stderr",
     "output_type": "stream",
     "text": [
      "Exception in thread Thread-469:\n",
      "Traceback (most recent call last):\n",
      "  File \"/home/uttaran/anaconda3/lib/python3.6/threading.py\", line 916, in _bootstrap_inner\n",
      "    self.run()\n",
      "  File \"/home/uttaran/anaconda3/lib/python3.6/threading.py\", line 864, in run\n",
      "    self._target(*self._args, **self._kwargs)\n",
      "  File \"/home/uttaran/anaconda3/lib/python3.6/site-packages/tensorflow/python/estimator/inputs/queues/feeding_queue_runner.py\", line 94, in _run\n",
      "    sess.run(enqueue_op, feed_dict=feed_dict)\n",
      "  File \"/home/uttaran/anaconda3/lib/python3.6/site-packages/tensorflow/python/client/session.py\", line 889, in run\n",
      "    run_metadata_ptr)\n",
      "  File \"/home/uttaran/anaconda3/lib/python3.6/site-packages/tensorflow/python/client/session.py\", line 1047, in _run\n",
      "    raise RuntimeError('Attempted to use a closed Session.')\n",
      "RuntimeError: Attempted to use a closed Session.\n",
      "\n"
     ]
    },
    {
     "name": "stdout",
     "output_type": "stream",
     "text": [
      "2 1 7 2 32\n",
      "ERROR:tensorflow:Exception in QueueRunner: Attempted to use a closed Session.\n"
     ]
    },
    {
     "name": "stderr",
     "output_type": "stream",
     "text": [
      "Exception in thread Thread-475:\n",
      "Traceback (most recent call last):\n",
      "  File \"/home/uttaran/anaconda3/lib/python3.6/threading.py\", line 916, in _bootstrap_inner\n",
      "    self.run()\n",
      "  File \"/home/uttaran/anaconda3/lib/python3.6/threading.py\", line 864, in run\n",
      "    self._target(*self._args, **self._kwargs)\n",
      "  File \"/home/uttaran/anaconda3/lib/python3.6/site-packages/tensorflow/python/estimator/inputs/queues/feeding_queue_runner.py\", line 94, in _run\n",
      "    sess.run(enqueue_op, feed_dict=feed_dict)\n",
      "  File \"/home/uttaran/anaconda3/lib/python3.6/site-packages/tensorflow/python/client/session.py\", line 889, in run\n",
      "    run_metadata_ptr)\n",
      "  File \"/home/uttaran/anaconda3/lib/python3.6/site-packages/tensorflow/python/client/session.py\", line 1047, in _run\n",
      "    raise RuntimeError('Attempted to use a closed Session.')\n",
      "RuntimeError: Attempted to use a closed Session.\n",
      "\n"
     ]
    },
    {
     "name": "stdout",
     "output_type": "stream",
     "text": [
      "2 1 7 2 32\n",
      "ERROR:tensorflow:Exception in QueueRunner: Attempted to use a closed Session.\n"
     ]
    },
    {
     "name": "stderr",
     "output_type": "stream",
     "text": [
      "Exception in thread Thread-481:\n",
      "Traceback (most recent call last):\n",
      "  File \"/home/uttaran/anaconda3/lib/python3.6/threading.py\", line 916, in _bootstrap_inner\n",
      "    self.run()\n",
      "  File \"/home/uttaran/anaconda3/lib/python3.6/threading.py\", line 864, in run\n",
      "    self._target(*self._args, **self._kwargs)\n",
      "  File \"/home/uttaran/anaconda3/lib/python3.6/site-packages/tensorflow/python/estimator/inputs/queues/feeding_queue_runner.py\", line 94, in _run\n",
      "    sess.run(enqueue_op, feed_dict=feed_dict)\n",
      "  File \"/home/uttaran/anaconda3/lib/python3.6/site-packages/tensorflow/python/client/session.py\", line 889, in run\n",
      "    run_metadata_ptr)\n",
      "  File \"/home/uttaran/anaconda3/lib/python3.6/site-packages/tensorflow/python/client/session.py\", line 1047, in _run\n",
      "    raise RuntimeError('Attempted to use a closed Session.')\n",
      "RuntimeError: Attempted to use a closed Session.\n",
      "\n"
     ]
    },
    {
     "name": "stdout",
     "output_type": "stream",
     "text": [
      "\n",
      "%%%%%%% Train accuracy %%%%%%%%%%%%  {'accuracy': 0.24882819, 'loss': 2.1636336, 'global_step': 10000}\n",
      "2 1 7 2 32\n",
      "ERROR:tensorflow:Exception in QueueRunner: Attempted to use a closed Session.\n"
     ]
    },
    {
     "name": "stderr",
     "output_type": "stream",
     "text": [
      "Exception in thread Thread-486:\n",
      "Traceback (most recent call last):\n",
      "  File \"/home/uttaran/anaconda3/lib/python3.6/threading.py\", line 916, in _bootstrap_inner\n",
      "    self.run()\n",
      "  File \"/home/uttaran/anaconda3/lib/python3.6/threading.py\", line 864, in run\n",
      "    self._target(*self._args, **self._kwargs)\n",
      "  File \"/home/uttaran/anaconda3/lib/python3.6/site-packages/tensorflow/python/estimator/inputs/queues/feeding_queue_runner.py\", line 94, in _run\n",
      "    sess.run(enqueue_op, feed_dict=feed_dict)\n",
      "  File \"/home/uttaran/anaconda3/lib/python3.6/site-packages/tensorflow/python/client/session.py\", line 889, in run\n",
      "    run_metadata_ptr)\n",
      "  File \"/home/uttaran/anaconda3/lib/python3.6/site-packages/tensorflow/python/client/session.py\", line 1047, in _run\n",
      "    raise RuntimeError('Attempted to use a closed Session.')\n",
      "RuntimeError: Attempted to use a closed Session.\n",
      "\n"
     ]
    },
    {
     "name": "stdout",
     "output_type": "stream",
     "text": [
      "\n",
      "######### Test accuracy #############  {'accuracy': 0.24636023, 'loss': 2.1646392, 'global_step': 10000}\n",
      "C2\n",
      "C2\n",
      "C2\n",
      "C2\n",
      "C2\n",
      "C3\n",
      "2 1 7 2 10\n",
      "2 1 7 2 10\n",
      "ERROR:tensorflow:Exception in QueueRunner: Attempted to use a closed Session.\n"
     ]
    },
    {
     "name": "stderr",
     "output_type": "stream",
     "text": [
      "Exception in thread Thread-497:\n",
      "Traceback (most recent call last):\n",
      "  File \"/home/uttaran/anaconda3/lib/python3.6/threading.py\", line 916, in _bootstrap_inner\n",
      "    self.run()\n",
      "  File \"/home/uttaran/anaconda3/lib/python3.6/threading.py\", line 864, in run\n",
      "    self._target(*self._args, **self._kwargs)\n",
      "  File \"/home/uttaran/anaconda3/lib/python3.6/site-packages/tensorflow/python/estimator/inputs/queues/feeding_queue_runner.py\", line 94, in _run\n",
      "    sess.run(enqueue_op, feed_dict=feed_dict)\n",
      "  File \"/home/uttaran/anaconda3/lib/python3.6/site-packages/tensorflow/python/client/session.py\", line 889, in run\n",
      "    run_metadata_ptr)\n",
      "  File \"/home/uttaran/anaconda3/lib/python3.6/site-packages/tensorflow/python/client/session.py\", line 1047, in _run\n",
      "    raise RuntimeError('Attempted to use a closed Session.')\n",
      "RuntimeError: Attempted to use a closed Session.\n",
      "\n"
     ]
    },
    {
     "name": "stdout",
     "output_type": "stream",
     "text": [
      "2 1 7 2 10\n",
      "ERROR:tensorflow:Exception in QueueRunner: Attempted to use a closed Session.\n"
     ]
    },
    {
     "name": "stderr",
     "output_type": "stream",
     "text": [
      "Exception in thread Thread-503:\n",
      "Traceback (most recent call last):\n",
      "  File \"/home/uttaran/anaconda3/lib/python3.6/threading.py\", line 916, in _bootstrap_inner\n",
      "    self.run()\n",
      "  File \"/home/uttaran/anaconda3/lib/python3.6/threading.py\", line 864, in run\n",
      "    self._target(*self._args, **self._kwargs)\n",
      "  File \"/home/uttaran/anaconda3/lib/python3.6/site-packages/tensorflow/python/estimator/inputs/queues/feeding_queue_runner.py\", line 94, in _run\n",
      "    sess.run(enqueue_op, feed_dict=feed_dict)\n",
      "  File \"/home/uttaran/anaconda3/lib/python3.6/site-packages/tensorflow/python/client/session.py\", line 889, in run\n",
      "    run_metadata_ptr)\n",
      "  File \"/home/uttaran/anaconda3/lib/python3.6/site-packages/tensorflow/python/client/session.py\", line 1047, in _run\n",
      "    raise RuntimeError('Attempted to use a closed Session.')\n",
      "RuntimeError: Attempted to use a closed Session.\n",
      "\n"
     ]
    },
    {
     "name": "stdout",
     "output_type": "stream",
     "text": [
      "\n",
      "%%%%%%% Train accuracy %%%%%%%%%%%%  {'accuracy': 0.29859382, 'loss': 2.04073, 'global_step': 10000}\n",
      "2 1 7 2 10\n",
      "\n",
      "######### Test accuracy #############  {'accuracy': 0.3030366, 'loss': 2.0369828, 'global_step': 10000}\n",
      "C3\n",
      "3 0 1 2 10\n",
      "3 0 1 2 10\n",
      "ERROR:tensorflow:Exception in QueueRunner: Attempted to use a closed Session.\n"
     ]
    },
    {
     "name": "stderr",
     "output_type": "stream",
     "text": [
      "Exception in thread Thread-519:\n",
      "Traceback (most recent call last):\n",
      "  File \"/home/uttaran/anaconda3/lib/python3.6/threading.py\", line 916, in _bootstrap_inner\n",
      "    self.run()\n",
      "  File \"/home/uttaran/anaconda3/lib/python3.6/threading.py\", line 864, in run\n",
      "    self._target(*self._args, **self._kwargs)\n",
      "  File \"/home/uttaran/anaconda3/lib/python3.6/site-packages/tensorflow/python/estimator/inputs/queues/feeding_queue_runner.py\", line 94, in _run\n",
      "    sess.run(enqueue_op, feed_dict=feed_dict)\n",
      "  File \"/home/uttaran/anaconda3/lib/python3.6/site-packages/tensorflow/python/client/session.py\", line 889, in run\n",
      "    run_metadata_ptr)\n",
      "  File \"/home/uttaran/anaconda3/lib/python3.6/site-packages/tensorflow/python/client/session.py\", line 1047, in _run\n",
      "    raise RuntimeError('Attempted to use a closed Session.')\n",
      "RuntimeError: Attempted to use a closed Session.\n",
      "\n"
     ]
    },
    {
     "name": "stdout",
     "output_type": "stream",
     "text": [
      "3 0 1 2 10\n",
      "ERROR:tensorflow:Exception in QueueRunner: Attempted to use a closed Session.\n"
     ]
    },
    {
     "name": "stderr",
     "output_type": "stream",
     "text": [
      "Exception in thread Thread-525:\n",
      "Traceback (most recent call last):\n",
      "  File \"/home/uttaran/anaconda3/lib/python3.6/threading.py\", line 916, in _bootstrap_inner\n",
      "    self.run()\n",
      "  File \"/home/uttaran/anaconda3/lib/python3.6/threading.py\", line 864, in run\n",
      "    self._target(*self._args, **self._kwargs)\n",
      "  File \"/home/uttaran/anaconda3/lib/python3.6/site-packages/tensorflow/python/estimator/inputs/queues/feeding_queue_runner.py\", line 94, in _run\n",
      "    sess.run(enqueue_op, feed_dict=feed_dict)\n",
      "  File \"/home/uttaran/anaconda3/lib/python3.6/site-packages/tensorflow/python/client/session.py\", line 889, in run\n",
      "    run_metadata_ptr)\n",
      "  File \"/home/uttaran/anaconda3/lib/python3.6/site-packages/tensorflow/python/client/session.py\", line 1047, in _run\n",
      "    raise RuntimeError('Attempted to use a closed Session.')\n",
      "RuntimeError: Attempted to use a closed Session.\n",
      "\n"
     ]
    },
    {
     "name": "stdout",
     "output_type": "stream",
     "text": [
      "\n",
      "%%%%%%% Train accuracy %%%%%%%%%%%%  {'accuracy': 0.11240296, 'loss': 2.3021243, 'global_step': 10000}\n",
      "3 0 1 2 10\n",
      "ERROR:tensorflow:Exception in QueueRunner: Attempted to use a closed Session.\n"
     ]
    },
    {
     "name": "stderr",
     "output_type": "stream",
     "text": [
      "Exception in thread Thread-530:\n",
      "Traceback (most recent call last):\n",
      "  File \"/home/uttaran/anaconda3/lib/python3.6/threading.py\", line 916, in _bootstrap_inner\n",
      "    self.run()\n",
      "  File \"/home/uttaran/anaconda3/lib/python3.6/threading.py\", line 864, in run\n",
      "    self._target(*self._args, **self._kwargs)\n",
      "  File \"/home/uttaran/anaconda3/lib/python3.6/site-packages/tensorflow/python/estimator/inputs/queues/feeding_queue_runner.py\", line 94, in _run\n",
      "    sess.run(enqueue_op, feed_dict=feed_dict)\n",
      "  File \"/home/uttaran/anaconda3/lib/python3.6/site-packages/tensorflow/python/client/session.py\", line 889, in run\n",
      "    run_metadata_ptr)\n",
      "  File \"/home/uttaran/anaconda3/lib/python3.6/site-packages/tensorflow/python/client/session.py\", line 1047, in _run\n",
      "    raise RuntimeError('Attempted to use a closed Session.')\n",
      "RuntimeError: Attempted to use a closed Session.\n",
      "\n"
     ]
    },
    {
     "name": "stdout",
     "output_type": "stream",
     "text": [
      "\n",
      "######### Test accuracy #############  {'accuracy': 0.112416804, 'loss': 2.302117, 'global_step': 10000}\n",
      "C3\n",
      "3 0 3 6 32\n",
      "3 0 3 6 32\n",
      "ERROR:tensorflow:Exception in QueueRunner: Attempted to use a closed Session.\n"
     ]
    },
    {
     "name": "stderr",
     "output_type": "stream",
     "text": [
      "Exception in thread Thread-541:\n",
      "Traceback (most recent call last):\n",
      "  File \"/home/uttaran/anaconda3/lib/python3.6/threading.py\", line 916, in _bootstrap_inner\n",
      "    self.run()\n",
      "  File \"/home/uttaran/anaconda3/lib/python3.6/threading.py\", line 864, in run\n",
      "    self._target(*self._args, **self._kwargs)\n",
      "  File \"/home/uttaran/anaconda3/lib/python3.6/site-packages/tensorflow/python/estimator/inputs/queues/feeding_queue_runner.py\", line 94, in _run\n",
      "    sess.run(enqueue_op, feed_dict=feed_dict)\n",
      "  File \"/home/uttaran/anaconda3/lib/python3.6/site-packages/tensorflow/python/client/session.py\", line 889, in run\n",
      "    run_metadata_ptr)\n",
      "  File \"/home/uttaran/anaconda3/lib/python3.6/site-packages/tensorflow/python/client/session.py\", line 1047, in _run\n",
      "    raise RuntimeError('Attempted to use a closed Session.')\n",
      "RuntimeError: Attempted to use a closed Session.\n",
      "\n"
     ]
    },
    {
     "name": "stdout",
     "output_type": "stream",
     "text": [
      "3 0 3 6 32\n",
      "\n",
      "%%%%%%% Train accuracy %%%%%%%%%%%%  {'accuracy': 0.30809653, 'loss': 2.1954262, 'global_step': 10000}\n",
      "3 0 3 6 32\n",
      "\n",
      "######### Test accuracy #############  {'accuracy': 0.31925955, 'loss': 2.1912203, 'global_step': 10000}\n",
      "C3\n",
      "3 0 3 4 128\n",
      "3 0 3 4 128\n",
      "ERROR:tensorflow:Exception in QueueRunner: Attempted to use a closed Session.\n"
     ]
    },
    {
     "name": "stderr",
     "output_type": "stream",
     "text": [
      "Exception in thread Thread-563:\n",
      "Traceback (most recent call last):\n",
      "  File \"/home/uttaran/anaconda3/lib/python3.6/threading.py\", line 916, in _bootstrap_inner\n",
      "    self.run()\n",
      "  File \"/home/uttaran/anaconda3/lib/python3.6/threading.py\", line 864, in run\n",
      "    self._target(*self._args, **self._kwargs)\n",
      "  File \"/home/uttaran/anaconda3/lib/python3.6/site-packages/tensorflow/python/estimator/inputs/queues/feeding_queue_runner.py\", line 94, in _run\n",
      "    sess.run(enqueue_op, feed_dict=feed_dict)\n",
      "  File \"/home/uttaran/anaconda3/lib/python3.6/site-packages/tensorflow/python/client/session.py\", line 889, in run\n",
      "    run_metadata_ptr)\n",
      "  File \"/home/uttaran/anaconda3/lib/python3.6/site-packages/tensorflow/python/client/session.py\", line 1047, in _run\n",
      "    raise RuntimeError('Attempted to use a closed Session.')\n",
      "RuntimeError: Attempted to use a closed Session.\n",
      "\n"
     ]
    },
    {
     "name": "stdout",
     "output_type": "stream",
     "text": [
      "3 0 3 4 128\n",
      "ERROR:tensorflow:Exception in QueueRunner: Attempted to use a closed Session.\n"
     ]
    },
    {
     "name": "stderr",
     "output_type": "stream",
     "text": [
      "Exception in thread Thread-569:\n",
      "Traceback (most recent call last):\n",
      "  File \"/home/uttaran/anaconda3/lib/python3.6/threading.py\", line 916, in _bootstrap_inner\n",
      "    self.run()\n",
      "  File \"/home/uttaran/anaconda3/lib/python3.6/threading.py\", line 864, in run\n",
      "    self._target(*self._args, **self._kwargs)\n",
      "  File \"/home/uttaran/anaconda3/lib/python3.6/site-packages/tensorflow/python/estimator/inputs/queues/feeding_queue_runner.py\", line 94, in _run\n",
      "    sess.run(enqueue_op, feed_dict=feed_dict)\n",
      "  File \"/home/uttaran/anaconda3/lib/python3.6/site-packages/tensorflow/python/client/session.py\", line 889, in run\n",
      "    run_metadata_ptr)\n",
      "  File \"/home/uttaran/anaconda3/lib/python3.6/site-packages/tensorflow/python/client/session.py\", line 1047, in _run\n",
      "    raise RuntimeError('Attempted to use a closed Session.')\n",
      "RuntimeError: Attempted to use a closed Session.\n",
      "\n"
     ]
    },
    {
     "name": "stdout",
     "output_type": "stream",
     "text": [
      "\n",
      "%%%%%%% Train accuracy %%%%%%%%%%%%  {'accuracy': 0.20318222, 'loss': 2.2729807, 'global_step': 10000}\n",
      "3 0 3 4 128\n",
      "ERROR:tensorflow:Exception in QueueRunner: Attempted to use a closed Session.\n"
     ]
    },
    {
     "name": "stderr",
     "output_type": "stream",
     "text": [
      "Exception in thread Thread-574:\n",
      "Traceback (most recent call last):\n",
      "  File \"/home/uttaran/anaconda3/lib/python3.6/threading.py\", line 916, in _bootstrap_inner\n",
      "    self.run()\n",
      "  File \"/home/uttaran/anaconda3/lib/python3.6/threading.py\", line 864, in run\n",
      "    self._target(*self._args, **self._kwargs)\n",
      "  File \"/home/uttaran/anaconda3/lib/python3.6/site-packages/tensorflow/python/estimator/inputs/queues/feeding_queue_runner.py\", line 94, in _run\n",
      "    sess.run(enqueue_op, feed_dict=feed_dict)\n",
      "  File \"/home/uttaran/anaconda3/lib/python3.6/site-packages/tensorflow/python/client/session.py\", line 889, in run\n",
      "    run_metadata_ptr)\n",
      "  File \"/home/uttaran/anaconda3/lib/python3.6/site-packages/tensorflow/python/client/session.py\", line 1047, in _run\n",
      "    raise RuntimeError('Attempted to use a closed Session.')\n",
      "RuntimeError: Attempted to use a closed Session.\n",
      "\n"
     ]
    },
    {
     "name": "stdout",
     "output_type": "stream",
     "text": [
      "\n",
      "######### Test accuracy #############  {'accuracy': 0.20195508, 'loss': 2.2723484, 'global_step': 10000}\n",
      "C3\n",
      "2 1 1 4 10\n",
      "2 1 1 4 10\n",
      "ERROR:tensorflow:Exception in QueueRunner: Attempted to use a closed Session.\n"
     ]
    },
    {
     "name": "stderr",
     "output_type": "stream",
     "text": [
      "Exception in thread Thread-585:\n",
      "Traceback (most recent call last):\n",
      "  File \"/home/uttaran/anaconda3/lib/python3.6/threading.py\", line 916, in _bootstrap_inner\n",
      "    self.run()\n",
      "  File \"/home/uttaran/anaconda3/lib/python3.6/threading.py\", line 864, in run\n",
      "    self._target(*self._args, **self._kwargs)\n",
      "  File \"/home/uttaran/anaconda3/lib/python3.6/site-packages/tensorflow/python/estimator/inputs/queues/feeding_queue_runner.py\", line 94, in _run\n",
      "    sess.run(enqueue_op, feed_dict=feed_dict)\n",
      "  File \"/home/uttaran/anaconda3/lib/python3.6/site-packages/tensorflow/python/client/session.py\", line 889, in run\n",
      "    run_metadata_ptr)\n",
      "  File \"/home/uttaran/anaconda3/lib/python3.6/site-packages/tensorflow/python/client/session.py\", line 1047, in _run\n",
      "    raise RuntimeError('Attempted to use a closed Session.')\n",
      "RuntimeError: Attempted to use a closed Session.\n",
      "\n"
     ]
    },
    {
     "name": "stdout",
     "output_type": "stream",
     "text": [
      "2 1 1 4 10\n",
      "ERROR:tensorflow:Exception in QueueRunner: Attempted to use a closed Session.\n"
     ]
    },
    {
     "name": "stderr",
     "output_type": "stream",
     "text": [
      "Exception in thread Thread-591:\n",
      "Traceback (most recent call last):\n",
      "  File \"/home/uttaran/anaconda3/lib/python3.6/threading.py\", line 916, in _bootstrap_inner\n",
      "    self.run()\n",
      "  File \"/home/uttaran/anaconda3/lib/python3.6/threading.py\", line 864, in run\n",
      "    self._target(*self._args, **self._kwargs)\n",
      "  File \"/home/uttaran/anaconda3/lib/python3.6/site-packages/tensorflow/python/estimator/inputs/queues/feeding_queue_runner.py\", line 94, in _run\n",
      "    sess.run(enqueue_op, feed_dict=feed_dict)\n",
      "  File \"/home/uttaran/anaconda3/lib/python3.6/site-packages/tensorflow/python/client/session.py\", line 889, in run\n",
      "    run_metadata_ptr)\n",
      "  File \"/home/uttaran/anaconda3/lib/python3.6/site-packages/tensorflow/python/client/session.py\", line 1047, in _run\n",
      "    raise RuntimeError('Attempted to use a closed Session.')\n",
      "RuntimeError: Attempted to use a closed Session.\n",
      "\n"
     ]
    },
    {
     "name": "stdout",
     "output_type": "stream",
     "text": [
      "\n",
      "%%%%%%% Train accuracy %%%%%%%%%%%%  {'accuracy': 0.14819834, 'loss': 2.287606, 'global_step': 10000}\n",
      "2 1 1 4 10\n",
      "ERROR:tensorflow:Exception in QueueRunner: Attempted to use a closed Session.\n"
     ]
    },
    {
     "name": "stderr",
     "output_type": "stream",
     "text": [
      "Exception in thread Thread-596:\n",
      "Traceback (most recent call last):\n",
      "  File \"/home/uttaran/anaconda3/lib/python3.6/threading.py\", line 916, in _bootstrap_inner\n",
      "    self.run()\n",
      "  File \"/home/uttaran/anaconda3/lib/python3.6/threading.py\", line 864, in run\n",
      "    self._target(*self._args, **self._kwargs)\n",
      "  File \"/home/uttaran/anaconda3/lib/python3.6/site-packages/tensorflow/python/estimator/inputs/queues/feeding_queue_runner.py\", line 94, in _run\n",
      "    sess.run(enqueue_op, feed_dict=feed_dict)\n",
      "  File \"/home/uttaran/anaconda3/lib/python3.6/site-packages/tensorflow/python/client/session.py\", line 889, in run\n",
      "    run_metadata_ptr)\n",
      "  File \"/home/uttaran/anaconda3/lib/python3.6/site-packages/tensorflow/python/client/session.py\", line 1047, in _run\n",
      "    raise RuntimeError('Attempted to use a closed Session.')\n",
      "RuntimeError: Attempted to use a closed Session.\n",
      "\n"
     ]
    },
    {
     "name": "stdout",
     "output_type": "stream",
     "text": [
      "\n",
      "######### Test accuracy #############  {'accuracy': 0.14923045, 'loss': 2.2882488, 'global_step': 10000}\n",
      "C2\n",
      "C2\n",
      "C2\n",
      "C2\n",
      "C2\n",
      "C2\n",
      "C2\n",
      "C2\n",
      "C3\n",
      "3 0 7 8 64\n",
      "3 0 7 8 64\n",
      "ERROR:tensorflow:Exception in QueueRunner: Attempted to use a closed Session.\n"
     ]
    },
    {
     "name": "stderr",
     "output_type": "stream",
     "text": [
      "Exception in thread Thread-606:\n",
      "Traceback (most recent call last):\n",
      "  File \"/home/uttaran/anaconda3/lib/python3.6/threading.py\", line 916, in _bootstrap_inner\n",
      "    self.run()\n",
      "  File \"/home/uttaran/anaconda3/lib/python3.6/threading.py\", line 864, in run\n",
      "    self._target(*self._args, **self._kwargs)\n",
      "  File \"/home/uttaran/anaconda3/lib/python3.6/site-packages/tensorflow/python/estimator/inputs/queues/feeding_queue_runner.py\", line 94, in _run\n",
      "    sess.run(enqueue_op, feed_dict=feed_dict)\n",
      "  File \"/home/uttaran/anaconda3/lib/python3.6/site-packages/tensorflow/python/client/session.py\", line 889, in run\n",
      "    run_metadata_ptr)\n",
      "  File \"/home/uttaran/anaconda3/lib/python3.6/site-packages/tensorflow/python/client/session.py\", line 1047, in _run\n",
      "    raise RuntimeError('Attempted to use a closed Session.')\n",
      "RuntimeError: Attempted to use a closed Session.\n",
      "\n"
     ]
    },
    {
     "name": "stdout",
     "output_type": "stream",
     "text": [
      "3 0 7 8 64\n",
      "ERROR:tensorflow:Exception in QueueRunner: Attempted to use a closed Session.\n"
     ]
    },
    {
     "name": "stderr",
     "output_type": "stream",
     "text": [
      "Exception in thread Thread-611:\n",
      "Traceback (most recent call last):\n",
      "  File \"/home/uttaran/anaconda3/lib/python3.6/threading.py\", line 916, in _bootstrap_inner\n",
      "    self.run()\n",
      "  File \"/home/uttaran/anaconda3/lib/python3.6/threading.py\", line 864, in run\n",
      "    self._target(*self._args, **self._kwargs)\n",
      "  File \"/home/uttaran/anaconda3/lib/python3.6/site-packages/tensorflow/python/estimator/inputs/queues/feeding_queue_runner.py\", line 94, in _run\n",
      "    sess.run(enqueue_op, feed_dict=feed_dict)\n",
      "  File \"/home/uttaran/anaconda3/lib/python3.6/site-packages/tensorflow/python/client/session.py\", line 889, in run\n",
      "    run_metadata_ptr)\n",
      "  File \"/home/uttaran/anaconda3/lib/python3.6/site-packages/tensorflow/python/client/session.py\", line 1047, in _run\n",
      "    raise RuntimeError('Attempted to use a closed Session.')\n",
      "RuntimeError: Attempted to use a closed Session.\n",
      "\n"
     ]
    },
    {
     "name": "stdout",
     "output_type": "stream",
     "text": [
      "\n",
      "%%%%%%% Train accuracy %%%%%%%%%%%%  {'accuracy': 0.8572213, 'loss': 0.5908533, 'global_step': 20000}\n",
      "3 0 7 8 64\n",
      "ERROR:tensorflow:Exception in QueueRunner: Attempted to use a closed Session.\n"
     ]
    },
    {
     "name": "stderr",
     "output_type": "stream",
     "text": [
      "Exception in thread Thread-616:\n",
      "Traceback (most recent call last):\n",
      "  File \"/home/uttaran/anaconda3/lib/python3.6/threading.py\", line 916, in _bootstrap_inner\n",
      "    self.run()\n",
      "  File \"/home/uttaran/anaconda3/lib/python3.6/threading.py\", line 864, in run\n",
      "    self._target(*self._args, **self._kwargs)\n",
      "  File \"/home/uttaran/anaconda3/lib/python3.6/site-packages/tensorflow/python/estimator/inputs/queues/feeding_queue_runner.py\", line 94, in _run\n",
      "    sess.run(enqueue_op, feed_dict=feed_dict)\n",
      "  File \"/home/uttaran/anaconda3/lib/python3.6/site-packages/tensorflow/python/client/session.py\", line 889, in run\n",
      "    run_metadata_ptr)\n",
      "  File \"/home/uttaran/anaconda3/lib/python3.6/site-packages/tensorflow/python/client/session.py\", line 1047, in _run\n",
      "    raise RuntimeError('Attempted to use a closed Session.')\n",
      "RuntimeError: Attempted to use a closed Session.\n",
      "\n"
     ]
    },
    {
     "name": "stdout",
     "output_type": "stream",
     "text": [
      "\n",
      "######### Test accuracy #############  {'accuracy': 0.86512065, 'loss': 0.5613862, 'global_step': 20000}\n",
      "C2\n",
      "C2\n",
      "C3\n",
      "3 0 3 2 64\n",
      "3 0 3 2 64\n",
      "ERROR:tensorflow:Exception in QueueRunner: Attempted to use a closed Session.\n"
     ]
    },
    {
     "name": "stderr",
     "output_type": "stream",
     "text": [
      "Exception in thread Thread-627:\n",
      "Traceback (most recent call last):\n",
      "  File \"/home/uttaran/anaconda3/lib/python3.6/threading.py\", line 916, in _bootstrap_inner\n",
      "    self.run()\n",
      "  File \"/home/uttaran/anaconda3/lib/python3.6/threading.py\", line 864, in run\n",
      "    self._target(*self._args, **self._kwargs)\n",
      "  File \"/home/uttaran/anaconda3/lib/python3.6/site-packages/tensorflow/python/estimator/inputs/queues/feeding_queue_runner.py\", line 94, in _run\n",
      "    sess.run(enqueue_op, feed_dict=feed_dict)\n",
      "  File \"/home/uttaran/anaconda3/lib/python3.6/site-packages/tensorflow/python/client/session.py\", line 889, in run\n",
      "    run_metadata_ptr)\n",
      "  File \"/home/uttaran/anaconda3/lib/python3.6/site-packages/tensorflow/python/client/session.py\", line 1047, in _run\n",
      "    raise RuntimeError('Attempted to use a closed Session.')\n",
      "RuntimeError: Attempted to use a closed Session.\n",
      "\n"
     ]
    },
    {
     "name": "stdout",
     "output_type": "stream",
     "text": [
      "3 0 3 2 64\n",
      "\n",
      "%%%%%%% Train accuracy %%%%%%%%%%%%  {'accuracy': 0.12357185, 'loss': 2.296777, 'global_step': 10000}\n",
      "3 0 3 2 64\n",
      "ERROR:tensorflow:Exception in QueueRunner: Attempted to use a closed Session.\n"
     ]
    },
    {
     "name": "stderr",
     "output_type": "stream",
     "text": [
      "Exception in thread Thread-638:\n",
      "Traceback (most recent call last):\n",
      "  File \"/home/uttaran/anaconda3/lib/python3.6/threading.py\", line 916, in _bootstrap_inner\n",
      "    self.run()\n",
      "  File \"/home/uttaran/anaconda3/lib/python3.6/threading.py\", line 864, in run\n",
      "    self._target(*self._args, **self._kwargs)\n",
      "  File \"/home/uttaran/anaconda3/lib/python3.6/site-packages/tensorflow/python/estimator/inputs/queues/feeding_queue_runner.py\", line 94, in _run\n",
      "    sess.run(enqueue_op, feed_dict=feed_dict)\n",
      "  File \"/home/uttaran/anaconda3/lib/python3.6/site-packages/tensorflow/python/client/session.py\", line 889, in run\n",
      "    run_metadata_ptr)\n",
      "  File \"/home/uttaran/anaconda3/lib/python3.6/site-packages/tensorflow/python/client/session.py\", line 1047, in _run\n",
      "    raise RuntimeError('Attempted to use a closed Session.')\n",
      "RuntimeError: Attempted to use a closed Session.\n",
      "\n"
     ]
    },
    {
     "name": "stdout",
     "output_type": "stream",
     "text": [
      "\n",
      "######### Test accuracy #############  {'accuracy': 0.12895174, 'loss': 2.296495, 'global_step': 10000}\n",
      "C3\n",
      "3 0 5 2 64\n",
      "3 0 5 2 64\n",
      "ERROR:tensorflow:Exception in QueueRunner: Attempted to use a closed Session.\n"
     ]
    },
    {
     "name": "stderr",
     "output_type": "stream",
     "text": [
      "Exception in thread Thread-649:\n",
      "Traceback (most recent call last):\n",
      "  File \"/home/uttaran/anaconda3/lib/python3.6/threading.py\", line 916, in _bootstrap_inner\n",
      "    self.run()\n",
      "  File \"/home/uttaran/anaconda3/lib/python3.6/threading.py\", line 864, in run\n",
      "    self._target(*self._args, **self._kwargs)\n",
      "  File \"/home/uttaran/anaconda3/lib/python3.6/site-packages/tensorflow/python/estimator/inputs/queues/feeding_queue_runner.py\", line 94, in _run\n",
      "    sess.run(enqueue_op, feed_dict=feed_dict)\n",
      "  File \"/home/uttaran/anaconda3/lib/python3.6/site-packages/tensorflow/python/client/session.py\", line 889, in run\n",
      "    run_metadata_ptr)\n",
      "  File \"/home/uttaran/anaconda3/lib/python3.6/site-packages/tensorflow/python/client/session.py\", line 1047, in _run\n",
      "    raise RuntimeError('Attempted to use a closed Session.')\n",
      "RuntimeError: Attempted to use a closed Session.\n",
      "\n"
     ]
    },
    {
     "name": "stdout",
     "output_type": "stream",
     "text": [
      "3 0 5 2 64\n",
      "\n",
      "%%%%%%% Train accuracy %%%%%%%%%%%%  {'accuracy': 0.18901055, 'loss': 2.2871656, 'global_step': 10000}\n",
      "3 0 5 2 64\n",
      "ERROR:tensorflow:Exception in QueueRunner: Attempted to use a closed Session.\n"
     ]
    },
    {
     "name": "stderr",
     "output_type": "stream",
     "text": [
      "Exception in thread Thread-660:\n",
      "Traceback (most recent call last):\n",
      "  File \"/home/uttaran/anaconda3/lib/python3.6/threading.py\", line 916, in _bootstrap_inner\n",
      "    self.run()\n",
      "  File \"/home/uttaran/anaconda3/lib/python3.6/threading.py\", line 864, in run\n",
      "    self._target(*self._args, **self._kwargs)\n",
      "  File \"/home/uttaran/anaconda3/lib/python3.6/site-packages/tensorflow/python/estimator/inputs/queues/feeding_queue_runner.py\", line 94, in _run\n",
      "    sess.run(enqueue_op, feed_dict=feed_dict)\n",
      "  File \"/home/uttaran/anaconda3/lib/python3.6/site-packages/tensorflow/python/client/session.py\", line 889, in run\n",
      "    run_metadata_ptr)\n",
      "  File \"/home/uttaran/anaconda3/lib/python3.6/site-packages/tensorflow/python/client/session.py\", line 1047, in _run\n",
      "    raise RuntimeError('Attempted to use a closed Session.')\n",
      "RuntimeError: Attempted to use a closed Session.\n",
      "\n"
     ]
    },
    {
     "name": "stdout",
     "output_type": "stream",
     "text": [
      "\n",
      "######### Test accuracy #############  {'accuracy': 0.18937188, 'loss': 2.2870274, 'global_step': 10000}\n",
      "C3\n",
      "3 0 3 4 128\n",
      "ERROR:tensorflow:Exception in QueueRunner: Attempted to use a closed Session.\n"
     ]
    },
    {
     "name": "stderr",
     "output_type": "stream",
     "text": [
      "Exception in thread Thread-665:\n",
      "Traceback (most recent call last):\n",
      "  File \"/home/uttaran/anaconda3/lib/python3.6/threading.py\", line 916, in _bootstrap_inner\n",
      "    self.run()\n",
      "  File \"/home/uttaran/anaconda3/lib/python3.6/threading.py\", line 864, in run\n",
      "    self._target(*self._args, **self._kwargs)\n",
      "  File \"/home/uttaran/anaconda3/lib/python3.6/site-packages/tensorflow/python/estimator/inputs/queues/feeding_queue_runner.py\", line 94, in _run\n",
      "    sess.run(enqueue_op, feed_dict=feed_dict)\n",
      "  File \"/home/uttaran/anaconda3/lib/python3.6/site-packages/tensorflow/python/client/session.py\", line 889, in run\n",
      "    run_metadata_ptr)\n",
      "  File \"/home/uttaran/anaconda3/lib/python3.6/site-packages/tensorflow/python/client/session.py\", line 1047, in _run\n",
      "    raise RuntimeError('Attempted to use a closed Session.')\n",
      "RuntimeError: Attempted to use a closed Session.\n",
      "\n"
     ]
    },
    {
     "name": "stdout",
     "output_type": "stream",
     "text": [
      "3 0 3 4 128\n",
      "3 0 3 4 128\n",
      "ERROR:tensorflow:Exception in QueueRunner: Attempted to use a closed Session.\n"
     ]
    },
    {
     "name": "stderr",
     "output_type": "stream",
     "text": [
      "Exception in thread Thread-675:\n",
      "Traceback (most recent call last):\n",
      "  File \"/home/uttaran/anaconda3/lib/python3.6/threading.py\", line 916, in _bootstrap_inner\n",
      "    self.run()\n",
      "  File \"/home/uttaran/anaconda3/lib/python3.6/threading.py\", line 864, in run\n",
      "    self._target(*self._args, **self._kwargs)\n",
      "  File \"/home/uttaran/anaconda3/lib/python3.6/site-packages/tensorflow/python/estimator/inputs/queues/feeding_queue_runner.py\", line 94, in _run\n",
      "    sess.run(enqueue_op, feed_dict=feed_dict)\n",
      "  File \"/home/uttaran/anaconda3/lib/python3.6/site-packages/tensorflow/python/client/session.py\", line 889, in run\n",
      "    run_metadata_ptr)\n",
      "  File \"/home/uttaran/anaconda3/lib/python3.6/site-packages/tensorflow/python/client/session.py\", line 1047, in _run\n",
      "    raise RuntimeError('Attempted to use a closed Session.')\n",
      "RuntimeError: Attempted to use a closed Session.\n",
      "\n"
     ]
    },
    {
     "name": "stdout",
     "output_type": "stream",
     "text": [
      "\n",
      "%%%%%%% Train accuracy %%%%%%%%%%%%  {'accuracy': 0.2365424, 'loss': 2.2253494, 'global_step': 20000}\n",
      "3 0 3 4 128\n",
      "\n",
      "######### Test accuracy #############  {'accuracy': 0.24396838, 'loss': 2.223156, 'global_step': 20000}\n",
      "C3\n",
      "3 0 1 2 32\n",
      "ERROR:tensorflow:Exception in QueueRunner: Attempted to use a closed Session.\n"
     ]
    },
    {
     "name": "stderr",
     "output_type": "stream",
     "text": [
      "Exception in thread Thread-685:\n",
      "Traceback (most recent call last):\n",
      "  File \"/home/uttaran/anaconda3/lib/python3.6/threading.py\", line 916, in _bootstrap_inner\n",
      "    self.run()\n",
      "  File \"/home/uttaran/anaconda3/lib/python3.6/threading.py\", line 864, in run\n",
      "    self._target(*self._args, **self._kwargs)\n",
      "  File \"/home/uttaran/anaconda3/lib/python3.6/site-packages/tensorflow/python/estimator/inputs/queues/feeding_queue_runner.py\", line 94, in _run\n",
      "    sess.run(enqueue_op, feed_dict=feed_dict)\n",
      "  File \"/home/uttaran/anaconda3/lib/python3.6/site-packages/tensorflow/python/client/session.py\", line 889, in run\n",
      "    run_metadata_ptr)\n",
      "  File \"/home/uttaran/anaconda3/lib/python3.6/site-packages/tensorflow/python/client/session.py\", line 1047, in _run\n",
      "    raise RuntimeError('Attempted to use a closed Session.')\n",
      "RuntimeError: Attempted to use a closed Session.\n",
      "\n"
     ]
    },
    {
     "name": "stdout",
     "output_type": "stream",
     "text": [
      "3 0 1 2 32\n",
      "3 0 1 2 32\n",
      "\n",
      "%%%%%%% Train accuracy %%%%%%%%%%%%  {'accuracy': 0.11240296, 'loss': 2.3021166, 'global_step': 10000}\n",
      "3 0 1 2 32\n",
      "ERROR:tensorflow:Exception in QueueRunner: Attempted to use a closed Session.\n"
     ]
    },
    {
     "name": "stderr",
     "output_type": "stream",
     "text": [
      "Exception in thread Thread-702:\n",
      "Traceback (most recent call last):\n",
      "  File \"/home/uttaran/anaconda3/lib/python3.6/threading.py\", line 916, in _bootstrap_inner\n",
      "    self.run()\n",
      "  File \"/home/uttaran/anaconda3/lib/python3.6/threading.py\", line 864, in run\n",
      "    self._target(*self._args, **self._kwargs)\n",
      "  File \"/home/uttaran/anaconda3/lib/python3.6/site-packages/tensorflow/python/estimator/inputs/queues/feeding_queue_runner.py\", line 94, in _run\n",
      "    sess.run(enqueue_op, feed_dict=feed_dict)\n",
      "  File \"/home/uttaran/anaconda3/lib/python3.6/site-packages/tensorflow/python/client/session.py\", line 889, in run\n",
      "    run_metadata_ptr)\n",
      "  File \"/home/uttaran/anaconda3/lib/python3.6/site-packages/tensorflow/python/client/session.py\", line 1047, in _run\n",
      "    raise RuntimeError('Attempted to use a closed Session.')\n",
      "RuntimeError: Attempted to use a closed Session.\n",
      "\n"
     ]
    },
    {
     "name": "stdout",
     "output_type": "stream",
     "text": [
      "\n",
      "######### Test accuracy #############  {'accuracy': 0.112416804, 'loss': 2.3021097, 'global_step': 10000}\n",
      "C2\n",
      "C2\n",
      "C2\n",
      "C3\n",
      "3 0 7 6 64\n",
      "3 0 7 6 64\n",
      "3 0 7 6 64\n",
      "ERROR:tensorflow:Exception in QueueRunner: Attempted to use a closed Session.\n"
     ]
    },
    {
     "name": "stderr",
     "output_type": "stream",
     "text": [
      "Exception in thread Thread-719:\n",
      "Traceback (most recent call last):\n",
      "  File \"/home/uttaran/anaconda3/lib/python3.6/threading.py\", line 916, in _bootstrap_inner\n",
      "    self.run()\n",
      "  File \"/home/uttaran/anaconda3/lib/python3.6/threading.py\", line 864, in run\n",
      "    self._target(*self._args, **self._kwargs)\n",
      "  File \"/home/uttaran/anaconda3/lib/python3.6/site-packages/tensorflow/python/estimator/inputs/queues/feeding_queue_runner.py\", line 94, in _run\n",
      "    sess.run(enqueue_op, feed_dict=feed_dict)\n",
      "  File \"/home/uttaran/anaconda3/lib/python3.6/site-packages/tensorflow/python/client/session.py\", line 889, in run\n",
      "    run_metadata_ptr)\n",
      "  File \"/home/uttaran/anaconda3/lib/python3.6/site-packages/tensorflow/python/client/session.py\", line 1047, in _run\n",
      "    raise RuntimeError('Attempted to use a closed Session.')\n",
      "RuntimeError: Attempted to use a closed Session.\n",
      "\n"
     ]
    },
    {
     "name": "stdout",
     "output_type": "stream",
     "text": [
      "\n",
      "%%%%%%% Train accuracy %%%%%%%%%%%%  {'accuracy': 0.37763658, 'loss': 2.0885417, 'global_step': 10000}\n",
      "3 0 7 6 64\n",
      "ERROR:tensorflow:Exception in QueueRunner: Attempted to use a closed Session.\n"
     ]
    },
    {
     "name": "stderr",
     "output_type": "stream",
     "text": [
      "Exception in thread Thread-724:\n",
      "Traceback (most recent call last):\n",
      "  File \"/home/uttaran/anaconda3/lib/python3.6/threading.py\", line 916, in _bootstrap_inner\n",
      "    self.run()\n",
      "  File \"/home/uttaran/anaconda3/lib/python3.6/threading.py\", line 864, in run\n",
      "    self._target(*self._args, **self._kwargs)\n",
      "  File \"/home/uttaran/anaconda3/lib/python3.6/site-packages/tensorflow/python/estimator/inputs/queues/feeding_queue_runner.py\", line 94, in _run\n",
      "    sess.run(enqueue_op, feed_dict=feed_dict)\n",
      "  File \"/home/uttaran/anaconda3/lib/python3.6/site-packages/tensorflow/python/client/session.py\", line 889, in run\n",
      "    run_metadata_ptr)\n",
      "  File \"/home/uttaran/anaconda3/lib/python3.6/site-packages/tensorflow/python/client/session.py\", line 1047, in _run\n",
      "    raise RuntimeError('Attempted to use a closed Session.')\n",
      "RuntimeError: Attempted to use a closed Session.\n",
      "\n"
     ]
    },
    {
     "name": "stdout",
     "output_type": "stream",
     "text": [
      "\n",
      "######### Test accuracy #############  {'accuracy': 0.38144758, 'loss': 2.0842457, 'global_step': 10000}\n",
      "C3\n",
      "3 0 3 2 32\n",
      "3 0 3 2 32\n",
      "ERROR:tensorflow:Exception in QueueRunner: Attempted to use a closed Session.\n"
     ]
    },
    {
     "name": "stderr",
     "output_type": "stream",
     "text": [
      "Exception in thread Thread-735:\n",
      "Traceback (most recent call last):\n",
      "  File \"/home/uttaran/anaconda3/lib/python3.6/threading.py\", line 916, in _bootstrap_inner\n",
      "    self.run()\n",
      "  File \"/home/uttaran/anaconda3/lib/python3.6/threading.py\", line 864, in run\n",
      "    self._target(*self._args, **self._kwargs)\n",
      "  File \"/home/uttaran/anaconda3/lib/python3.6/site-packages/tensorflow/python/estimator/inputs/queues/feeding_queue_runner.py\", line 94, in _run\n",
      "    sess.run(enqueue_op, feed_dict=feed_dict)\n",
      "  File \"/home/uttaran/anaconda3/lib/python3.6/site-packages/tensorflow/python/client/session.py\", line 889, in run\n",
      "    run_metadata_ptr)\n",
      "  File \"/home/uttaran/anaconda3/lib/python3.6/site-packages/tensorflow/python/client/session.py\", line 1047, in _run\n",
      "    raise RuntimeError('Attempted to use a closed Session.')\n",
      "RuntimeError: Attempted to use a closed Session.\n",
      "\n"
     ]
    },
    {
     "name": "stdout",
     "output_type": "stream",
     "text": [
      "3 0 3 2 32\n",
      "ERROR:tensorflow:Exception in QueueRunner: Attempted to use a closed Session.\n"
     ]
    },
    {
     "name": "stderr",
     "output_type": "stream",
     "text": [
      "Exception in thread Thread-741:\n",
      "Traceback (most recent call last):\n",
      "  File \"/home/uttaran/anaconda3/lib/python3.6/threading.py\", line 916, in _bootstrap_inner\n",
      "    self.run()\n",
      "  File \"/home/uttaran/anaconda3/lib/python3.6/threading.py\", line 864, in run\n",
      "    self._target(*self._args, **self._kwargs)\n",
      "  File \"/home/uttaran/anaconda3/lib/python3.6/site-packages/tensorflow/python/estimator/inputs/queues/feeding_queue_runner.py\", line 94, in _run\n",
      "    sess.run(enqueue_op, feed_dict=feed_dict)\n",
      "  File \"/home/uttaran/anaconda3/lib/python3.6/site-packages/tensorflow/python/client/session.py\", line 889, in run\n",
      "    run_metadata_ptr)\n",
      "  File \"/home/uttaran/anaconda3/lib/python3.6/site-packages/tensorflow/python/client/session.py\", line 1047, in _run\n",
      "    raise RuntimeError('Attempted to use a closed Session.')\n",
      "RuntimeError: Attempted to use a closed Session.\n",
      "\n"
     ]
    },
    {
     "name": "stdout",
     "output_type": "stream",
     "text": [
      "\n",
      "%%%%%%% Train accuracy %%%%%%%%%%%%  {'accuracy': 0.118371904, 'loss': 2.3013628, 'global_step': 10000}\n",
      "3 0 3 2 32\n",
      "ERROR:tensorflow:Exception in QueueRunner: Attempted to use a closed Session.\n"
     ]
    },
    {
     "name": "stderr",
     "output_type": "stream",
     "text": [
      "Exception in thread Thread-746:\n",
      "Traceback (most recent call last):\n",
      "  File \"/home/uttaran/anaconda3/lib/python3.6/threading.py\", line 916, in _bootstrap_inner\n",
      "    self.run()\n",
      "  File \"/home/uttaran/anaconda3/lib/python3.6/threading.py\", line 864, in run\n",
      "    self._target(*self._args, **self._kwargs)\n",
      "  File \"/home/uttaran/anaconda3/lib/python3.6/site-packages/tensorflow/python/estimator/inputs/queues/feeding_queue_runner.py\", line 94, in _run\n",
      "    sess.run(enqueue_op, feed_dict=feed_dict)\n",
      "  File \"/home/uttaran/anaconda3/lib/python3.6/site-packages/tensorflow/python/client/session.py\", line 889, in run\n",
      "    run_metadata_ptr)\n",
      "  File \"/home/uttaran/anaconda3/lib/python3.6/site-packages/tensorflow/python/client/session.py\", line 1047, in _run\n",
      "    raise RuntimeError('Attempted to use a closed Session.')\n",
      "RuntimeError: Attempted to use a closed Session.\n",
      "\n"
     ]
    },
    {
     "name": "stdout",
     "output_type": "stream",
     "text": [
      "\n",
      "######### Test accuracy #############  {'accuracy': 0.117616475, 'loss': 2.3014443, 'global_step': 10000}\n",
      "C2\n",
      "C3\n",
      "3 0 1 2 10\n",
      "3 0 1 2 10\n",
      "ERROR:tensorflow:Exception in QueueRunner: Attempted to use a closed Session.\n"
     ]
    },
    {
     "name": "stderr",
     "output_type": "stream",
     "text": [
      "Exception in thread Thread-756:\n",
      "Traceback (most recent call last):\n",
      "  File \"/home/uttaran/anaconda3/lib/python3.6/threading.py\", line 916, in _bootstrap_inner\n",
      "    self.run()\n",
      "  File \"/home/uttaran/anaconda3/lib/python3.6/threading.py\", line 864, in run\n",
      "    self._target(*self._args, **self._kwargs)\n",
      "  File \"/home/uttaran/anaconda3/lib/python3.6/site-packages/tensorflow/python/estimator/inputs/queues/feeding_queue_runner.py\", line 94, in _run\n",
      "    sess.run(enqueue_op, feed_dict=feed_dict)\n",
      "  File \"/home/uttaran/anaconda3/lib/python3.6/site-packages/tensorflow/python/client/session.py\", line 889, in run\n",
      "    run_metadata_ptr)\n",
      "  File \"/home/uttaran/anaconda3/lib/python3.6/site-packages/tensorflow/python/client/session.py\", line 1047, in _run\n",
      "    raise RuntimeError('Attempted to use a closed Session.')\n",
      "RuntimeError: Attempted to use a closed Session.\n",
      "\n"
     ]
    },
    {
     "name": "stdout",
     "output_type": "stream",
     "text": [
      "3 0 1 2 10\n",
      "ERROR:tensorflow:Exception in QueueRunner: Attempted to use a closed Session.\n"
     ]
    },
    {
     "name": "stderr",
     "output_type": "stream",
     "text": [
      "Exception in thread Thread-761:\n",
      "Traceback (most recent call last):\n",
      "  File \"/home/uttaran/anaconda3/lib/python3.6/threading.py\", line 916, in _bootstrap_inner\n",
      "    self.run()\n",
      "  File \"/home/uttaran/anaconda3/lib/python3.6/threading.py\", line 864, in run\n",
      "    self._target(*self._args, **self._kwargs)\n",
      "  File \"/home/uttaran/anaconda3/lib/python3.6/site-packages/tensorflow/python/estimator/inputs/queues/feeding_queue_runner.py\", line 94, in _run\n",
      "    sess.run(enqueue_op, feed_dict=feed_dict)\n",
      "  File \"/home/uttaran/anaconda3/lib/python3.6/site-packages/tensorflow/python/client/session.py\", line 889, in run\n",
      "    run_metadata_ptr)\n",
      "  File \"/home/uttaran/anaconda3/lib/python3.6/site-packages/tensorflow/python/client/session.py\", line 1047, in _run\n",
      "    raise RuntimeError('Attempted to use a closed Session.')\n",
      "RuntimeError: Attempted to use a closed Session.\n",
      "\n"
     ]
    },
    {
     "name": "stdout",
     "output_type": "stream",
     "text": [
      "\n",
      "%%%%%%% Train accuracy %%%%%%%%%%%%  {'accuracy': 0.11240296, 'loss': 2.301812, 'global_step': 20000}\n",
      "3 0 1 2 10\n",
      "\n",
      "######### Test accuracy #############  {'accuracy': 0.112416804, 'loss': 2.3017974, 'global_step': 20000}\n",
      "C3\n",
      "3 0 5 6 64\n",
      "3 0 5 6 64\n",
      "ERROR:tensorflow:Exception in QueueRunner: Attempted to use a closed Session.\n"
     ]
    },
    {
     "name": "stderr",
     "output_type": "stream",
     "text": [
      "Exception in thread Thread-776:\n",
      "Traceback (most recent call last):\n",
      "  File \"/home/uttaran/anaconda3/lib/python3.6/threading.py\", line 916, in _bootstrap_inner\n",
      "    self.run()\n",
      "  File \"/home/uttaran/anaconda3/lib/python3.6/threading.py\", line 864, in run\n",
      "    self._target(*self._args, **self._kwargs)\n",
      "  File \"/home/uttaran/anaconda3/lib/python3.6/site-packages/tensorflow/python/estimator/inputs/queues/feeding_queue_runner.py\", line 94, in _run\n",
      "    sess.run(enqueue_op, feed_dict=feed_dict)\n",
      "  File \"/home/uttaran/anaconda3/lib/python3.6/site-packages/tensorflow/python/client/session.py\", line 889, in run\n",
      "    run_metadata_ptr)\n",
      "  File \"/home/uttaran/anaconda3/lib/python3.6/site-packages/tensorflow/python/client/session.py\", line 1047, in _run\n",
      "    raise RuntimeError('Attempted to use a closed Session.')\n",
      "RuntimeError: Attempted to use a closed Session.\n",
      "\n"
     ]
    },
    {
     "name": "stdout",
     "output_type": "stream",
     "text": [
      "3 0 5 6 64\n",
      "\n",
      "%%%%%%% Train accuracy %%%%%%%%%%%%  {'accuracy': 0.573971, 'loss': 1.8071814, 'global_step': 20000}\n",
      "3 0 5 6 64\n",
      "ERROR:tensorflow:Exception in QueueRunner: Attempted to use a closed Session.\n"
     ]
    },
    {
     "name": "stderr",
     "output_type": "stream",
     "text": [
      "Exception in thread Thread-786:\n",
      "Traceback (most recent call last):\n",
      "  File \"/home/uttaran/anaconda3/lib/python3.6/threading.py\", line 916, in _bootstrap_inner\n",
      "    self.run()\n",
      "  File \"/home/uttaran/anaconda3/lib/python3.6/threading.py\", line 864, in run\n",
      "    self._target(*self._args, **self._kwargs)\n",
      "  File \"/home/uttaran/anaconda3/lib/python3.6/site-packages/tensorflow/python/estimator/inputs/queues/feeding_queue_runner.py\", line 94, in _run\n",
      "    sess.run(enqueue_op, feed_dict=feed_dict)\n",
      "  File \"/home/uttaran/anaconda3/lib/python3.6/site-packages/tensorflow/python/client/session.py\", line 889, in run\n",
      "    run_metadata_ptr)\n",
      "  File \"/home/uttaran/anaconda3/lib/python3.6/site-packages/tensorflow/python/client/session.py\", line 1047, in _run\n",
      "    raise RuntimeError('Attempted to use a closed Session.')\n",
      "RuntimeError: Attempted to use a closed Session.\n",
      "\n"
     ]
    },
    {
     "name": "stdout",
     "output_type": "stream",
     "text": [
      "\n",
      "######### Test accuracy #############  {'accuracy': 0.5804908, 'loss': 1.798116, 'global_step': 20000}\n",
      "C3\n",
      "3 0 3 2 64\n",
      "3 0 3 2 64\n",
      "ERROR:tensorflow:Exception in QueueRunner: Attempted to use a closed Session.\n"
     ]
    },
    {
     "name": "stderr",
     "output_type": "stream",
     "text": [
      "Exception in thread Thread-796:\n",
      "Traceback (most recent call last):\n",
      "  File \"/home/uttaran/anaconda3/lib/python3.6/threading.py\", line 916, in _bootstrap_inner\n",
      "    self.run()\n",
      "  File \"/home/uttaran/anaconda3/lib/python3.6/threading.py\", line 864, in run\n",
      "    self._target(*self._args, **self._kwargs)\n",
      "  File \"/home/uttaran/anaconda3/lib/python3.6/site-packages/tensorflow/python/estimator/inputs/queues/feeding_queue_runner.py\", line 94, in _run\n",
      "    sess.run(enqueue_op, feed_dict=feed_dict)\n",
      "  File \"/home/uttaran/anaconda3/lib/python3.6/site-packages/tensorflow/python/client/session.py\", line 889, in run\n",
      "    run_metadata_ptr)\n",
      "  File \"/home/uttaran/anaconda3/lib/python3.6/site-packages/tensorflow/python/client/session.py\", line 1047, in _run\n",
      "    raise RuntimeError('Attempted to use a closed Session.')\n",
      "RuntimeError: Attempted to use a closed Session.\n",
      "\n"
     ]
    },
    {
     "name": "stdout",
     "output_type": "stream",
     "text": [
      "3 0 3 2 64\n",
      "ERROR:tensorflow:Exception in QueueRunner: Attempted to use a closed Session.\n"
     ]
    },
    {
     "name": "stderr",
     "output_type": "stream",
     "text": [
      "Exception in thread Thread-801:\n",
      "Traceback (most recent call last):\n",
      "  File \"/home/uttaran/anaconda3/lib/python3.6/threading.py\", line 916, in _bootstrap_inner\n",
      "    self.run()\n",
      "  File \"/home/uttaran/anaconda3/lib/python3.6/threading.py\", line 864, in run\n",
      "    self._target(*self._args, **self._kwargs)\n",
      "  File \"/home/uttaran/anaconda3/lib/python3.6/site-packages/tensorflow/python/estimator/inputs/queues/feeding_queue_runner.py\", line 94, in _run\n",
      "    sess.run(enqueue_op, feed_dict=feed_dict)\n",
      "  File \"/home/uttaran/anaconda3/lib/python3.6/site-packages/tensorflow/python/client/session.py\", line 889, in run\n",
      "    run_metadata_ptr)\n",
      "  File \"/home/uttaran/anaconda3/lib/python3.6/site-packages/tensorflow/python/client/session.py\", line 1047, in _run\n",
      "    raise RuntimeError('Attempted to use a closed Session.')\n",
      "RuntimeError: Attempted to use a closed Session.\n",
      "\n"
     ]
    },
    {
     "name": "stdout",
     "output_type": "stream",
     "text": [
      "\n",
      "%%%%%%% Train accuracy %%%%%%%%%%%%  {'accuracy': 0.13790831, 'loss': 2.2931595, 'global_step': 20000}\n",
      "3 0 3 2 64\n",
      "ERROR:tensorflow:Exception in QueueRunner: Attempted to use a closed Session.\n"
     ]
    },
    {
     "name": "stderr",
     "output_type": "stream",
     "text": [
      "Exception in thread Thread-806:\n",
      "Traceback (most recent call last):\n",
      "  File \"/home/uttaran/anaconda3/lib/python3.6/threading.py\", line 916, in _bootstrap_inner\n",
      "    self.run()\n",
      "  File \"/home/uttaran/anaconda3/lib/python3.6/threading.py\", line 864, in run\n",
      "    self._target(*self._args, **self._kwargs)\n",
      "  File \"/home/uttaran/anaconda3/lib/python3.6/site-packages/tensorflow/python/estimator/inputs/queues/feeding_queue_runner.py\", line 94, in _run\n",
      "    sess.run(enqueue_op, feed_dict=feed_dict)\n",
      "  File \"/home/uttaran/anaconda3/lib/python3.6/site-packages/tensorflow/python/client/session.py\", line 889, in run\n",
      "    run_metadata_ptr)\n",
      "  File \"/home/uttaran/anaconda3/lib/python3.6/site-packages/tensorflow/python/client/session.py\", line 1047, in _run\n",
      "    raise RuntimeError('Attempted to use a closed Session.')\n",
      "RuntimeError: Attempted to use a closed Session.\n",
      "\n"
     ]
    },
    {
     "name": "stdout",
     "output_type": "stream",
     "text": [
      "\n",
      "######### Test accuracy #############  {'accuracy': 0.14226289, 'loss': 2.292704, 'global_step': 20000}\n",
      "C2\n",
      "C2\n",
      "C2\n",
      "C3\n",
      "3 0 3 8 128\n",
      "3 0 3 8 128\n",
      "3 0 3 8 128\n",
      "\n",
      "%%%%%%% Train accuracy %%%%%%%%%%%%  {'accuracy': 0.34753552, 'loss': 2.2031925, 'global_step': 10000}\n",
      "3 0 3 8 128\n",
      "\n",
      "######### Test accuracy #############  {'accuracy': 0.3563852, 'loss': 2.1999495, 'global_step': 10000}\n",
      "C3\n",
      "3 0 3 2 32\n",
      "3 0 3 2 32\n",
      "3 0 3 2 32\n",
      "ERROR:tensorflow:Exception in QueueRunner: Attempted to use a closed Session.\n"
     ]
    },
    {
     "name": "stderr",
     "output_type": "stream",
     "text": [
      "Exception in thread Thread-843:\n",
      "Traceback (most recent call last):\n",
      "  File \"/home/uttaran/anaconda3/lib/python3.6/threading.py\", line 916, in _bootstrap_inner\n",
      "    self.run()\n",
      "  File \"/home/uttaran/anaconda3/lib/python3.6/threading.py\", line 864, in run\n",
      "    self._target(*self._args, **self._kwargs)\n",
      "  File \"/home/uttaran/anaconda3/lib/python3.6/site-packages/tensorflow/python/estimator/inputs/queues/feeding_queue_runner.py\", line 94, in _run\n",
      "    sess.run(enqueue_op, feed_dict=feed_dict)\n",
      "  File \"/home/uttaran/anaconda3/lib/python3.6/site-packages/tensorflow/python/client/session.py\", line 889, in run\n",
      "    run_metadata_ptr)\n",
      "  File \"/home/uttaran/anaconda3/lib/python3.6/site-packages/tensorflow/python/client/session.py\", line 1047, in _run\n",
      "    raise RuntimeError('Attempted to use a closed Session.')\n",
      "RuntimeError: Attempted to use a closed Session.\n",
      "\n"
     ]
    },
    {
     "name": "stdout",
     "output_type": "stream",
     "text": [
      "\n",
      "%%%%%%% Train accuracy %%%%%%%%%%%%  {'accuracy': 0.11533251, 'loss': 2.2994773, 'global_step': 20000}\n",
      "3 0 3 2 32\n",
      "ERROR:tensorflow:Exception in QueueRunner: Attempted to use a closed Session.\n"
     ]
    },
    {
     "name": "stderr",
     "output_type": "stream",
     "text": [
      "Exception in thread Thread-848:\n",
      "Traceback (most recent call last):\n",
      "  File \"/home/uttaran/anaconda3/lib/python3.6/threading.py\", line 916, in _bootstrap_inner\n",
      "    self.run()\n",
      "  File \"/home/uttaran/anaconda3/lib/python3.6/threading.py\", line 864, in run\n",
      "    self._target(*self._args, **self._kwargs)\n",
      "  File \"/home/uttaran/anaconda3/lib/python3.6/site-packages/tensorflow/python/estimator/inputs/queues/feeding_queue_runner.py\", line 94, in _run\n",
      "    sess.run(enqueue_op, feed_dict=feed_dict)\n",
      "  File \"/home/uttaran/anaconda3/lib/python3.6/site-packages/tensorflow/python/client/session.py\", line 889, in run\n",
      "    run_metadata_ptr)\n",
      "  File \"/home/uttaran/anaconda3/lib/python3.6/site-packages/tensorflow/python/client/session.py\", line 1047, in _run\n",
      "    raise RuntimeError('Attempted to use a closed Session.')\n",
      "RuntimeError: Attempted to use a closed Session.\n",
      "\n"
     ]
    },
    {
     "name": "stdout",
     "output_type": "stream",
     "text": [
      "\n",
      "######### Test accuracy #############  {'accuracy': 0.115640596, 'loss': 2.2997108, 'global_step': 20000}\n",
      "C3\n",
      "3 0 7 2 64\n",
      "3 0 7 2 64\n",
      "3 0 7 2 64\n",
      "\n",
      "%%%%%%% Train accuracy %%%%%%%%%%%%  {'accuracy': 0.20840047, 'loss': 2.2486699, 'global_step': 10000}\n",
      "3 0 7 2 64\n",
      "ERROR:tensorflow:Exception in QueueRunner: Attempted to use a closed Session.\n"
     ]
    },
    {
     "name": "stderr",
     "output_type": "stream",
     "text": [
      "Exception in thread Thread-870:\n",
      "Traceback (most recent call last):\n",
      "  File \"/home/uttaran/anaconda3/lib/python3.6/threading.py\", line 916, in _bootstrap_inner\n",
      "    self.run()\n",
      "  File \"/home/uttaran/anaconda3/lib/python3.6/threading.py\", line 864, in run\n",
      "    self._target(*self._args, **self._kwargs)\n",
      "  File \"/home/uttaran/anaconda3/lib/python3.6/site-packages/tensorflow/python/estimator/inputs/queues/feeding_queue_runner.py\", line 94, in _run\n",
      "    sess.run(enqueue_op, feed_dict=feed_dict)\n",
      "  File \"/home/uttaran/anaconda3/lib/python3.6/site-packages/tensorflow/python/client/session.py\", line 889, in run\n",
      "    run_metadata_ptr)\n",
      "  File \"/home/uttaran/anaconda3/lib/python3.6/site-packages/tensorflow/python/client/session.py\", line 1047, in _run\n",
      "    raise RuntimeError('Attempted to use a closed Session.')\n",
      "RuntimeError: Attempted to use a closed Session.\n",
      "\n"
     ]
    },
    {
     "name": "stdout",
     "output_type": "stream",
     "text": [
      "\n",
      "######### Test accuracy #############  {'accuracy': 0.21141846, 'loss': 2.2452974, 'global_step': 10000}\n",
      "C3\n",
      "3 0 1 6 32\n",
      "ERROR:tensorflow:Exception in QueueRunner: Attempted to use a closed Session.\n"
     ]
    },
    {
     "name": "stderr",
     "output_type": "stream",
     "text": [
      "Exception in thread Thread-875:\n",
      "Traceback (most recent call last):\n",
      "  File \"/home/uttaran/anaconda3/lib/python3.6/threading.py\", line 916, in _bootstrap_inner\n",
      "    self.run()\n",
      "  File \"/home/uttaran/anaconda3/lib/python3.6/threading.py\", line 864, in run\n",
      "    self._target(*self._args, **self._kwargs)\n",
      "  File \"/home/uttaran/anaconda3/lib/python3.6/site-packages/tensorflow/python/estimator/inputs/queues/feeding_queue_runner.py\", line 94, in _run\n",
      "    sess.run(enqueue_op, feed_dict=feed_dict)\n",
      "  File \"/home/uttaran/anaconda3/lib/python3.6/site-packages/tensorflow/python/client/session.py\", line 889, in run\n",
      "    run_metadata_ptr)\n",
      "  File \"/home/uttaran/anaconda3/lib/python3.6/site-packages/tensorflow/python/client/session.py\", line 1047, in _run\n",
      "    raise RuntimeError('Attempted to use a closed Session.')\n",
      "RuntimeError: Attempted to use a closed Session.\n",
      "\n"
     ]
    },
    {
     "name": "stdout",
     "output_type": "stream",
     "text": [
      "3 0 1 6 32\n",
      "3 0 1 6 32\n",
      "ERROR:tensorflow:Exception in QueueRunner: Attempted to use a closed Session.\n"
     ]
    },
    {
     "name": "stderr",
     "output_type": "stream",
     "text": [
      "Exception in thread Thread-887:\n",
      "Traceback (most recent call last):\n",
      "  File \"/home/uttaran/anaconda3/lib/python3.6/threading.py\", line 916, in _bootstrap_inner\n",
      "    self.run()\n",
      "  File \"/home/uttaran/anaconda3/lib/python3.6/threading.py\", line 864, in run\n",
      "    self._target(*self._args, **self._kwargs)\n",
      "  File \"/home/uttaran/anaconda3/lib/python3.6/site-packages/tensorflow/python/estimator/inputs/queues/feeding_queue_runner.py\", line 94, in _run\n",
      "    sess.run(enqueue_op, feed_dict=feed_dict)\n",
      "  File \"/home/uttaran/anaconda3/lib/python3.6/site-packages/tensorflow/python/client/session.py\", line 889, in run\n",
      "    run_metadata_ptr)\n",
      "  File \"/home/uttaran/anaconda3/lib/python3.6/site-packages/tensorflow/python/client/session.py\", line 1047, in _run\n",
      "    raise RuntimeError('Attempted to use a closed Session.')\n",
      "RuntimeError: Attempted to use a closed Session.\n",
      "\n"
     ]
    },
    {
     "name": "stdout",
     "output_type": "stream",
     "text": [
      "\n",
      "%%%%%%% Train accuracy %%%%%%%%%%%%  {'accuracy': 0.16782628, 'loss': 2.2983718, 'global_step': 10000}\n",
      "3 0 1 6 32\n",
      "ERROR:tensorflow:Exception in QueueRunner: Attempted to use a closed Session.\n"
     ]
    },
    {
     "name": "stderr",
     "output_type": "stream",
     "text": [
      "Exception in thread Thread-892:\n",
      "Traceback (most recent call last):\n",
      "  File \"/home/uttaran/anaconda3/lib/python3.6/threading.py\", line 916, in _bootstrap_inner\n",
      "    self.run()\n",
      "  File \"/home/uttaran/anaconda3/lib/python3.6/threading.py\", line 864, in run\n",
      "    self._target(*self._args, **self._kwargs)\n",
      "  File \"/home/uttaran/anaconda3/lib/python3.6/site-packages/tensorflow/python/estimator/inputs/queues/feeding_queue_runner.py\", line 94, in _run\n",
      "    sess.run(enqueue_op, feed_dict=feed_dict)\n",
      "  File \"/home/uttaran/anaconda3/lib/python3.6/site-packages/tensorflow/python/client/session.py\", line 889, in run\n",
      "    run_metadata_ptr)\n",
      "  File \"/home/uttaran/anaconda3/lib/python3.6/site-packages/tensorflow/python/client/session.py\", line 1047, in _run\n",
      "    raise RuntimeError('Attempted to use a closed Session.')\n",
      "RuntimeError: Attempted to use a closed Session.\n",
      "\n"
     ]
    },
    {
     "name": "stdout",
     "output_type": "stream",
     "text": [
      "\n",
      "######### Test accuracy #############  {'accuracy': 0.16597338, 'loss': 2.29838, 'global_step': 10000}\n",
      "C2\n",
      "C2\n",
      "C2\n",
      "C2\n",
      "C2\n",
      "C2\n",
      "C3\n",
      "2 1 5 2 10\n",
      "2 1 5 2 10\n",
      "ERROR:tensorflow:Exception in QueueRunner: Attempted to use a closed Session.\n"
     ]
    },
    {
     "name": "stderr",
     "output_type": "stream",
     "text": [
      "Exception in thread Thread-903:\n",
      "Traceback (most recent call last):\n",
      "  File \"/home/uttaran/anaconda3/lib/python3.6/threading.py\", line 916, in _bootstrap_inner\n",
      "    self.run()\n",
      "  File \"/home/uttaran/anaconda3/lib/python3.6/threading.py\", line 864, in run\n",
      "    self._target(*self._args, **self._kwargs)\n",
      "  File \"/home/uttaran/anaconda3/lib/python3.6/site-packages/tensorflow/python/estimator/inputs/queues/feeding_queue_runner.py\", line 94, in _run\n",
      "    sess.run(enqueue_op, feed_dict=feed_dict)\n",
      "  File \"/home/uttaran/anaconda3/lib/python3.6/site-packages/tensorflow/python/client/session.py\", line 889, in run\n",
      "    run_metadata_ptr)\n",
      "  File \"/home/uttaran/anaconda3/lib/python3.6/site-packages/tensorflow/python/client/session.py\", line 1047, in _run\n",
      "    raise RuntimeError('Attempted to use a closed Session.')\n",
      "RuntimeError: Attempted to use a closed Session.\n",
      "\n"
     ]
    },
    {
     "name": "stdout",
     "output_type": "stream",
     "text": [
      "2 1 5 2 10\n",
      "ERROR:tensorflow:Exception in QueueRunner: Attempted to use a closed Session.\n"
     ]
    },
    {
     "name": "stderr",
     "output_type": "stream",
     "text": [
      "Exception in thread Thread-909:\n",
      "Traceback (most recent call last):\n",
      "  File \"/home/uttaran/anaconda3/lib/python3.6/threading.py\", line 916, in _bootstrap_inner\n",
      "    self.run()\n",
      "  File \"/home/uttaran/anaconda3/lib/python3.6/threading.py\", line 864, in run\n",
      "    self._target(*self._args, **self._kwargs)\n",
      "  File \"/home/uttaran/anaconda3/lib/python3.6/site-packages/tensorflow/python/estimator/inputs/queues/feeding_queue_runner.py\", line 94, in _run\n",
      "    sess.run(enqueue_op, feed_dict=feed_dict)\n",
      "  File \"/home/uttaran/anaconda3/lib/python3.6/site-packages/tensorflow/python/client/session.py\", line 889, in run\n",
      "    run_metadata_ptr)\n",
      "  File \"/home/uttaran/anaconda3/lib/python3.6/site-packages/tensorflow/python/client/session.py\", line 1047, in _run\n",
      "    raise RuntimeError('Attempted to use a closed Session.')\n",
      "RuntimeError: Attempted to use a closed Session.\n",
      "\n"
     ]
    },
    {
     "name": "stdout",
     "output_type": "stream",
     "text": [
      "\n",
      "%%%%%%% Train accuracy %%%%%%%%%%%%  {'accuracy': 0.26354915, 'loss': 2.028184, 'global_step': 10000}\n",
      "2 1 5 2 10\n",
      "\n",
      "######### Test accuracy #############  {'accuracy': 0.27142262, 'loss': 2.0229938, 'global_step': 10000}\n",
      "C2\n",
      "C3\n",
      "3 0 7 2 10\n",
      "ERROR:tensorflow:Exception in QueueRunner: Attempted to use a closed Session.\n"
     ]
    },
    {
     "name": "stderr",
     "output_type": "stream",
     "text": [
      "Exception in thread Thread-919:\n",
      "Traceback (most recent call last):\n",
      "  File \"/home/uttaran/anaconda3/lib/python3.6/threading.py\", line 916, in _bootstrap_inner\n",
      "    self.run()\n",
      "  File \"/home/uttaran/anaconda3/lib/python3.6/threading.py\", line 864, in run\n",
      "    self._target(*self._args, **self._kwargs)\n",
      "  File \"/home/uttaran/anaconda3/lib/python3.6/site-packages/tensorflow/python/estimator/inputs/queues/feeding_queue_runner.py\", line 94, in _run\n",
      "    sess.run(enqueue_op, feed_dict=feed_dict)\n",
      "  File \"/home/uttaran/anaconda3/lib/python3.6/site-packages/tensorflow/python/client/session.py\", line 889, in run\n",
      "    run_metadata_ptr)\n",
      "  File \"/home/uttaran/anaconda3/lib/python3.6/site-packages/tensorflow/python/client/session.py\", line 1047, in _run\n",
      "    raise RuntimeError('Attempted to use a closed Session.')\n",
      "RuntimeError: Attempted to use a closed Session.\n",
      "\n"
     ]
    },
    {
     "name": "stdout",
     "output_type": "stream",
     "text": [
      "3 0 7 2 10\n",
      "ERROR:tensorflow:Exception in QueueRunner: Attempted to use a closed Session.\n"
     ]
    },
    {
     "name": "stderr",
     "output_type": "stream",
     "text": [
      "Exception in thread Thread-925:\n",
      "Traceback (most recent call last):\n",
      "  File \"/home/uttaran/anaconda3/lib/python3.6/threading.py\", line 916, in _bootstrap_inner\n",
      "    self.run()\n",
      "  File \"/home/uttaran/anaconda3/lib/python3.6/threading.py\", line 864, in run\n",
      "    self._target(*self._args, **self._kwargs)\n",
      "  File \"/home/uttaran/anaconda3/lib/python3.6/site-packages/tensorflow/python/estimator/inputs/queues/feeding_queue_runner.py\", line 94, in _run\n",
      "    sess.run(enqueue_op, feed_dict=feed_dict)\n",
      "  File \"/home/uttaran/anaconda3/lib/python3.6/site-packages/tensorflow/python/client/session.py\", line 889, in run\n",
      "    run_metadata_ptr)\n",
      "  File \"/home/uttaran/anaconda3/lib/python3.6/site-packages/tensorflow/python/client/session.py\", line 1047, in _run\n",
      "    raise RuntimeError('Attempted to use a closed Session.')\n",
      "RuntimeError: Attempted to use a closed Session.\n",
      "\n"
     ]
    },
    {
     "name": "stdout",
     "output_type": "stream",
     "text": [
      "3 0 7 2 10\n",
      "ERROR:tensorflow:Exception in QueueRunner: Attempted to use a closed Session.\n"
     ]
    },
    {
     "name": "stderr",
     "output_type": "stream",
     "text": [
      "Exception in thread Thread-931:\n",
      "Traceback (most recent call last):\n",
      "  File \"/home/uttaran/anaconda3/lib/python3.6/threading.py\", line 916, in _bootstrap_inner\n",
      "    self.run()\n",
      "  File \"/home/uttaran/anaconda3/lib/python3.6/threading.py\", line 864, in run\n",
      "    self._target(*self._args, **self._kwargs)\n",
      "  File \"/home/uttaran/anaconda3/lib/python3.6/site-packages/tensorflow/python/estimator/inputs/queues/feeding_queue_runner.py\", line 94, in _run\n",
      "    sess.run(enqueue_op, feed_dict=feed_dict)\n",
      "  File \"/home/uttaran/anaconda3/lib/python3.6/site-packages/tensorflow/python/client/session.py\", line 889, in run\n",
      "    run_metadata_ptr)\n",
      "  File \"/home/uttaran/anaconda3/lib/python3.6/site-packages/tensorflow/python/client/session.py\", line 1047, in _run\n",
      "    raise RuntimeError('Attempted to use a closed Session.')\n",
      "RuntimeError: Attempted to use a closed Session.\n",
      "\n"
     ]
    },
    {
     "name": "stdout",
     "output_type": "stream",
     "text": [
      "\n",
      "%%%%%%% Train accuracy %%%%%%%%%%%%  {'accuracy': 0.3207668, 'loss': 2.1097956, 'global_step': 10000}\n",
      "3 0 7 2 10\n",
      "ERROR:tensorflow:Exception in QueueRunner: Attempted to use a closed Session.\n"
     ]
    },
    {
     "name": "stderr",
     "output_type": "stream",
     "text": [
      "Exception in thread Thread-936:\n",
      "Traceback (most recent call last):\n",
      "  File \"/home/uttaran/anaconda3/lib/python3.6/threading.py\", line 916, in _bootstrap_inner\n",
      "    self.run()\n",
      "  File \"/home/uttaran/anaconda3/lib/python3.6/threading.py\", line 864, in run\n",
      "    self._target(*self._args, **self._kwargs)\n",
      "  File \"/home/uttaran/anaconda3/lib/python3.6/site-packages/tensorflow/python/estimator/inputs/queues/feeding_queue_runner.py\", line 94, in _run\n",
      "    sess.run(enqueue_op, feed_dict=feed_dict)\n",
      "  File \"/home/uttaran/anaconda3/lib/python3.6/site-packages/tensorflow/python/client/session.py\", line 889, in run\n",
      "    run_metadata_ptr)\n",
      "  File \"/home/uttaran/anaconda3/lib/python3.6/site-packages/tensorflow/python/client/session.py\", line 1047, in _run\n",
      "    raise RuntimeError('Attempted to use a closed Session.')\n",
      "RuntimeError: Attempted to use a closed Session.\n",
      "\n"
     ]
    },
    {
     "name": "stdout",
     "output_type": "stream",
     "text": [
      "\n",
      "######### Test accuracy #############  {'accuracy': 0.33735442, 'loss': 2.097495, 'global_step': 10000}\n",
      "C3\n",
      "3 0 5 4 64\n",
      "3 0 5 4 64\n",
      "ERROR:tensorflow:Exception in QueueRunner: Attempted to use a closed Session.\n"
     ]
    },
    {
     "name": "stderr",
     "output_type": "stream",
     "text": [
      "Exception in thread Thread-946:\n",
      "Traceback (most recent call last):\n",
      "  File \"/home/uttaran/anaconda3/lib/python3.6/threading.py\", line 916, in _bootstrap_inner\n",
      "    self.run()\n",
      "  File \"/home/uttaran/anaconda3/lib/python3.6/threading.py\", line 864, in run\n",
      "    self._target(*self._args, **self._kwargs)\n",
      "  File \"/home/uttaran/anaconda3/lib/python3.6/site-packages/tensorflow/python/estimator/inputs/queues/feeding_queue_runner.py\", line 94, in _run\n",
      "    sess.run(enqueue_op, feed_dict=feed_dict)\n",
      "  File \"/home/uttaran/anaconda3/lib/python3.6/site-packages/tensorflow/python/client/session.py\", line 889, in run\n",
      "    run_metadata_ptr)\n",
      "  File \"/home/uttaran/anaconda3/lib/python3.6/site-packages/tensorflow/python/client/session.py\", line 1047, in _run\n",
      "    raise RuntimeError('Attempted to use a closed Session.')\n",
      "RuntimeError: Attempted to use a closed Session.\n",
      "\n"
     ]
    },
    {
     "name": "stdout",
     "output_type": "stream",
     "text": [
      "3 0 5 4 64\n",
      "ERROR:tensorflow:Exception in QueueRunner: Attempted to use a closed Session.\n"
     ]
    },
    {
     "name": "stderr",
     "output_type": "stream",
     "text": [
      "Exception in thread Thread-951:\n",
      "Traceback (most recent call last):\n",
      "  File \"/home/uttaran/anaconda3/lib/python3.6/threading.py\", line 916, in _bootstrap_inner\n",
      "    self.run()\n",
      "  File \"/home/uttaran/anaconda3/lib/python3.6/threading.py\", line 864, in run\n",
      "    self._target(*self._args, **self._kwargs)\n",
      "  File \"/home/uttaran/anaconda3/lib/python3.6/site-packages/tensorflow/python/estimator/inputs/queues/feeding_queue_runner.py\", line 94, in _run\n",
      "    sess.run(enqueue_op, feed_dict=feed_dict)\n",
      "  File \"/home/uttaran/anaconda3/lib/python3.6/site-packages/tensorflow/python/client/session.py\", line 889, in run\n",
      "    run_metadata_ptr)\n",
      "  File \"/home/uttaran/anaconda3/lib/python3.6/site-packages/tensorflow/python/client/session.py\", line 1047, in _run\n",
      "    raise RuntimeError('Attempted to use a closed Session.')\n",
      "RuntimeError: Attempted to use a closed Session.\n",
      "\n"
     ]
    },
    {
     "name": "stdout",
     "output_type": "stream",
     "text": [
      "\n",
      "%%%%%%% Train accuracy %%%%%%%%%%%%  {'accuracy': 0.49542257, 'loss': 1.8687125, 'global_step': 20000}\n",
      "3 0 5 4 64\n",
      "ERROR:tensorflow:Exception in QueueRunner: Attempted to use a closed Session.\n"
     ]
    },
    {
     "name": "stderr",
     "output_type": "stream",
     "text": [
      "Exception in thread Thread-956:\n",
      "Traceback (most recent call last):\n",
      "  File \"/home/uttaran/anaconda3/lib/python3.6/threading.py\", line 916, in _bootstrap_inner\n",
      "    self.run()\n",
      "  File \"/home/uttaran/anaconda3/lib/python3.6/threading.py\", line 864, in run\n",
      "    self._target(*self._args, **self._kwargs)\n",
      "  File \"/home/uttaran/anaconda3/lib/python3.6/site-packages/tensorflow/python/estimator/inputs/queues/feeding_queue_runner.py\", line 94, in _run\n",
      "    sess.run(enqueue_op, feed_dict=feed_dict)\n",
      "  File \"/home/uttaran/anaconda3/lib/python3.6/site-packages/tensorflow/python/client/session.py\", line 889, in run\n",
      "    run_metadata_ptr)\n",
      "  File \"/home/uttaran/anaconda3/lib/python3.6/site-packages/tensorflow/python/client/session.py\", line 1047, in _run\n",
      "    raise RuntimeError('Attempted to use a closed Session.')\n",
      "RuntimeError: Attempted to use a closed Session.\n",
      "\n"
     ]
    },
    {
     "name": "stdout",
     "output_type": "stream",
     "text": [
      "\n",
      "######### Test accuracy #############  {'accuracy': 0.500416, 'loss': 1.864816, 'global_step': 20000}\n",
      "C3\n",
      "3 0 3 8 64\n",
      "ERROR:tensorflow:Exception in QueueRunner: Attempted to use a closed Session.\n"
     ]
    },
    {
     "name": "stderr",
     "output_type": "stream",
     "text": [
      "Exception in thread Thread-961:\n",
      "Traceback (most recent call last):\n",
      "  File \"/home/uttaran/anaconda3/lib/python3.6/threading.py\", line 916, in _bootstrap_inner\n",
      "    self.run()\n",
      "  File \"/home/uttaran/anaconda3/lib/python3.6/threading.py\", line 864, in run\n",
      "    self._target(*self._args, **self._kwargs)\n",
      "  File \"/home/uttaran/anaconda3/lib/python3.6/site-packages/tensorflow/python/estimator/inputs/queues/feeding_queue_runner.py\", line 94, in _run\n",
      "    sess.run(enqueue_op, feed_dict=feed_dict)\n",
      "  File \"/home/uttaran/anaconda3/lib/python3.6/site-packages/tensorflow/python/client/session.py\", line 889, in run\n",
      "    run_metadata_ptr)\n",
      "  File \"/home/uttaran/anaconda3/lib/python3.6/site-packages/tensorflow/python/client/session.py\", line 1047, in _run\n",
      "    raise RuntimeError('Attempted to use a closed Session.')\n",
      "RuntimeError: Attempted to use a closed Session.\n",
      "\n"
     ]
    },
    {
     "name": "stdout",
     "output_type": "stream",
     "text": [
      "3 0 3 8 64\n",
      "ERROR:tensorflow:Exception in QueueRunner: Attempted to use a closed Session.\n"
     ]
    },
    {
     "name": "stderr",
     "output_type": "stream",
     "text": [
      "Exception in thread Thread-966:\n",
      "Traceback (most recent call last):\n",
      "  File \"/home/uttaran/anaconda3/lib/python3.6/threading.py\", line 916, in _bootstrap_inner\n",
      "    self.run()\n",
      "  File \"/home/uttaran/anaconda3/lib/python3.6/threading.py\", line 864, in run\n",
      "    self._target(*self._args, **self._kwargs)\n",
      "  File \"/home/uttaran/anaconda3/lib/python3.6/site-packages/tensorflow/python/estimator/inputs/queues/feeding_queue_runner.py\", line 94, in _run\n",
      "    sess.run(enqueue_op, feed_dict=feed_dict)\n",
      "  File \"/home/uttaran/anaconda3/lib/python3.6/site-packages/tensorflow/python/client/session.py\", line 889, in run\n",
      "    run_metadata_ptr)\n",
      "  File \"/home/uttaran/anaconda3/lib/python3.6/site-packages/tensorflow/python/client/session.py\", line 1047, in _run\n",
      "    raise RuntimeError('Attempted to use a closed Session.')\n",
      "RuntimeError: Attempted to use a closed Session.\n",
      "\n"
     ]
    },
    {
     "name": "stdout",
     "output_type": "stream",
     "text": [
      "3 0 3 8 64\n",
      "\n",
      "%%%%%%% Train accuracy %%%%%%%%%%%%  {'accuracy': 0.1974696, 'loss': 2.263703, 'global_step': 20000}\n",
      "3 0 3 8 64\n",
      "\n",
      "######### Test accuracy #############  {'accuracy': 0.19904326, 'loss': 2.2632663, 'global_step': 20000}\n",
      "C2\n",
      "C2\n",
      "C3\n",
      "3 0 3 6 10\n",
      "ERROR:tensorflow:Exception in QueueRunner: Attempted to use a closed Session.\n"
     ]
    },
    {
     "name": "stderr",
     "output_type": "stream",
     "text": [
      "Exception in thread Thread-981:\n",
      "Traceback (most recent call last):\n",
      "  File \"/home/uttaran/anaconda3/lib/python3.6/threading.py\", line 916, in _bootstrap_inner\n",
      "    self.run()\n",
      "  File \"/home/uttaran/anaconda3/lib/python3.6/threading.py\", line 864, in run\n",
      "    self._target(*self._args, **self._kwargs)\n",
      "  File \"/home/uttaran/anaconda3/lib/python3.6/site-packages/tensorflow/python/estimator/inputs/queues/feeding_queue_runner.py\", line 94, in _run\n",
      "    sess.run(enqueue_op, feed_dict=feed_dict)\n",
      "  File \"/home/uttaran/anaconda3/lib/python3.6/site-packages/tensorflow/python/client/session.py\", line 889, in run\n",
      "    run_metadata_ptr)\n",
      "  File \"/home/uttaran/anaconda3/lib/python3.6/site-packages/tensorflow/python/client/session.py\", line 1047, in _run\n",
      "    raise RuntimeError('Attempted to use a closed Session.')\n",
      "RuntimeError: Attempted to use a closed Session.\n",
      "\n"
     ]
    },
    {
     "name": "stdout",
     "output_type": "stream",
     "text": [
      "3 0 3 6 10\n",
      "3 0 3 6 10\n",
      "ERROR:tensorflow:Exception in QueueRunner: Attempted to use a closed Session.\n"
     ]
    },
    {
     "name": "stderr",
     "output_type": "stream",
     "text": [
      "Exception in thread Thread-991:\n",
      "Traceback (most recent call last):\n",
      "  File \"/home/uttaran/anaconda3/lib/python3.6/threading.py\", line 916, in _bootstrap_inner\n",
      "    self.run()\n",
      "  File \"/home/uttaran/anaconda3/lib/python3.6/threading.py\", line 864, in run\n",
      "    self._target(*self._args, **self._kwargs)\n",
      "  File \"/home/uttaran/anaconda3/lib/python3.6/site-packages/tensorflow/python/estimator/inputs/queues/feeding_queue_runner.py\", line 94, in _run\n",
      "    sess.run(enqueue_op, feed_dict=feed_dict)\n",
      "  File \"/home/uttaran/anaconda3/lib/python3.6/site-packages/tensorflow/python/client/session.py\", line 889, in run\n",
      "    run_metadata_ptr)\n",
      "  File \"/home/uttaran/anaconda3/lib/python3.6/site-packages/tensorflow/python/client/session.py\", line 1047, in _run\n",
      "    raise RuntimeError('Attempted to use a closed Session.')\n",
      "RuntimeError: Attempted to use a closed Session.\n",
      "\n"
     ]
    },
    {
     "name": "stdout",
     "output_type": "stream",
     "text": [
      "\n",
      "%%%%%%% Train accuracy %%%%%%%%%%%%  {'accuracy': 0.16204043, 'loss': 2.2754004, 'global_step': 20000}\n",
      "3 0 3 6 10\n",
      "ERROR:tensorflow:Exception in QueueRunner: Attempted to use a closed Session.\n"
     ]
    },
    {
     "name": "stderr",
     "output_type": "stream",
     "text": [
      "Exception in thread Thread-996:\n",
      "Traceback (most recent call last):\n",
      "  File \"/home/uttaran/anaconda3/lib/python3.6/threading.py\", line 916, in _bootstrap_inner\n",
      "    self.run()\n",
      "  File \"/home/uttaran/anaconda3/lib/python3.6/threading.py\", line 864, in run\n",
      "    self._target(*self._args, **self._kwargs)\n",
      "  File \"/home/uttaran/anaconda3/lib/python3.6/site-packages/tensorflow/python/estimator/inputs/queues/feeding_queue_runner.py\", line 94, in _run\n",
      "    sess.run(enqueue_op, feed_dict=feed_dict)\n",
      "  File \"/home/uttaran/anaconda3/lib/python3.6/site-packages/tensorflow/python/client/session.py\", line 889, in run\n",
      "    run_metadata_ptr)\n",
      "  File \"/home/uttaran/anaconda3/lib/python3.6/site-packages/tensorflow/python/client/session.py\", line 1047, in _run\n",
      "    raise RuntimeError('Attempted to use a closed Session.')\n",
      "RuntimeError: Attempted to use a closed Session.\n",
      "\n"
     ]
    },
    {
     "name": "stdout",
     "output_type": "stream",
     "text": [
      "\n",
      "######### Test accuracy #############  {'accuracy': 0.15890183, 'loss': 2.2751224, 'global_step': 20000}\n",
      "C2\n",
      "C2\n",
      "C3\n",
      "3 0 7 8 64\n",
      "ERROR:tensorflow:Exception in QueueRunner: Attempted to use a closed Session.\n"
     ]
    },
    {
     "name": "stderr",
     "output_type": "stream",
     "text": [
      "Exception in thread Thread-1001:\n",
      "Traceback (most recent call last):\n",
      "  File \"/home/uttaran/anaconda3/lib/python3.6/threading.py\", line 916, in _bootstrap_inner\n",
      "    self.run()\n",
      "  File \"/home/uttaran/anaconda3/lib/python3.6/threading.py\", line 864, in run\n",
      "    self._target(*self._args, **self._kwargs)\n",
      "  File \"/home/uttaran/anaconda3/lib/python3.6/site-packages/tensorflow/python/estimator/inputs/queues/feeding_queue_runner.py\", line 94, in _run\n",
      "    sess.run(enqueue_op, feed_dict=feed_dict)\n",
      "  File \"/home/uttaran/anaconda3/lib/python3.6/site-packages/tensorflow/python/client/session.py\", line 889, in run\n",
      "    run_metadata_ptr)\n",
      "  File \"/home/uttaran/anaconda3/lib/python3.6/site-packages/tensorflow/python/client/session.py\", line 1047, in _run\n",
      "    raise RuntimeError('Attempted to use a closed Session.')\n",
      "RuntimeError: Attempted to use a closed Session.\n",
      "\n"
     ]
    },
    {
     "name": "stdout",
     "output_type": "stream",
     "text": [
      "3 0 7 8 64\n",
      "3 0 7 8 64\n",
      "\n",
      "%%%%%%% Train accuracy %%%%%%%%%%%%  {'accuracy': 0.90184194, 'loss': 0.3818525, 'global_step': 30000}\n",
      "3 0 7 8 64\n",
      "ERROR:tensorflow:Exception in QueueRunner: Attempted to use a closed Session.\n"
     ]
    },
    {
     "name": "stderr",
     "output_type": "stream",
     "text": [
      "Exception in thread Thread-1016:\n",
      "Traceback (most recent call last):\n",
      "  File \"/home/uttaran/anaconda3/lib/python3.6/threading.py\", line 916, in _bootstrap_inner\n",
      "    self.run()\n",
      "  File \"/home/uttaran/anaconda3/lib/python3.6/threading.py\", line 864, in run\n",
      "    self._target(*self._args, **self._kwargs)\n",
      "  File \"/home/uttaran/anaconda3/lib/python3.6/site-packages/tensorflow/python/estimator/inputs/queues/feeding_queue_runner.py\", line 94, in _run\n",
      "    sess.run(enqueue_op, feed_dict=feed_dict)\n",
      "  File \"/home/uttaran/anaconda3/lib/python3.6/site-packages/tensorflow/python/client/session.py\", line 889, in run\n",
      "    run_metadata_ptr)\n",
      "  File \"/home/uttaran/anaconda3/lib/python3.6/site-packages/tensorflow/python/client/session.py\", line 1047, in _run\n",
      "    raise RuntimeError('Attempted to use a closed Session.')\n",
      "RuntimeError: Attempted to use a closed Session.\n",
      "\n"
     ]
    },
    {
     "name": "stdout",
     "output_type": "stream",
     "text": [
      "\n",
      "######### Test accuracy #############  {'accuracy': 0.9080699, 'loss': 0.35741287, 'global_step': 30000}\n",
      "C3\n",
      "3 0 7 4 128\n",
      "3 0 7 4 128\n",
      "3 0 7 4 128\n",
      "\n",
      "%%%%%%% Train accuracy %%%%%%%%%%%%  {'accuracy': 0.18084444, 'loss': 2.276686, 'global_step': 10000}\n",
      "3 0 7 4 128\n",
      "ERROR:tensorflow:Exception in QueueRunner: Attempted to use a closed Session.\n"
     ]
    },
    {
     "name": "stderr",
     "output_type": "stream",
     "text": [
      "Exception in thread Thread-1038:\n",
      "Traceback (most recent call last):\n",
      "  File \"/home/uttaran/anaconda3/lib/python3.6/threading.py\", line 916, in _bootstrap_inner\n",
      "    self.run()\n",
      "  File \"/home/uttaran/anaconda3/lib/python3.6/threading.py\", line 864, in run\n",
      "    self._target(*self._args, **self._kwargs)\n",
      "  File \"/home/uttaran/anaconda3/lib/python3.6/site-packages/tensorflow/python/estimator/inputs/queues/feeding_queue_runner.py\", line 94, in _run\n",
      "    sess.run(enqueue_op, feed_dict=feed_dict)\n",
      "  File \"/home/uttaran/anaconda3/lib/python3.6/site-packages/tensorflow/python/client/session.py\", line 889, in run\n",
      "    run_metadata_ptr)\n",
      "  File \"/home/uttaran/anaconda3/lib/python3.6/site-packages/tensorflow/python/client/session.py\", line 1047, in _run\n",
      "    raise RuntimeError('Attempted to use a closed Session.')\n",
      "RuntimeError: Attempted to use a closed Session.\n",
      "\n"
     ]
    },
    {
     "name": "stdout",
     "output_type": "stream",
     "text": [
      "\n",
      "######### Test accuracy #############  {'accuracy': 0.18094842, 'loss': 2.2761428, 'global_step': 10000}\n",
      "C2\n",
      "C3\n",
      "2 1 3 2 32\n",
      "2 1 3 2 32\n",
      "2 1 3 2 32\n",
      "ERROR:tensorflow:Exception in QueueRunner: Attempted to use a closed Session.\n"
     ]
    },
    {
     "name": "stderr",
     "output_type": "stream",
     "text": [
      "Exception in thread Thread-1053:\n",
      "Traceback (most recent call last):\n",
      "  File \"/home/uttaran/anaconda3/lib/python3.6/threading.py\", line 916, in _bootstrap_inner\n",
      "    self.run()\n",
      "  File \"/home/uttaran/anaconda3/lib/python3.6/threading.py\", line 864, in run\n",
      "    self._target(*self._args, **self._kwargs)\n",
      "  File \"/home/uttaran/anaconda3/lib/python3.6/site-packages/tensorflow/python/estimator/inputs/queues/feeding_queue_runner.py\", line 94, in _run\n",
      "    sess.run(enqueue_op, feed_dict=feed_dict)\n",
      "  File \"/home/uttaran/anaconda3/lib/python3.6/site-packages/tensorflow/python/client/session.py\", line 889, in run\n",
      "    run_metadata_ptr)\n",
      "  File \"/home/uttaran/anaconda3/lib/python3.6/site-packages/tensorflow/python/client/session.py\", line 1047, in _run\n",
      "    raise RuntimeError('Attempted to use a closed Session.')\n",
      "RuntimeError: Attempted to use a closed Session.\n",
      "\n"
     ]
    },
    {
     "name": "stdout",
     "output_type": "stream",
     "text": [
      "\n",
      "%%%%%%% Train accuracy %%%%%%%%%%%%  {'accuracy': 0.24232826, 'loss': 2.2727668, 'global_step': 20000}\n",
      "2 1 3 2 32\n",
      "ERROR:tensorflow:Exception in QueueRunner: Attempted to use a closed Session.\n"
     ]
    },
    {
     "name": "stderr",
     "output_type": "stream",
     "text": [
      "Exception in thread Thread-1058:\n",
      "Traceback (most recent call last):\n",
      "  File \"/home/uttaran/anaconda3/lib/python3.6/threading.py\", line 916, in _bootstrap_inner\n",
      "    self.run()\n",
      "  File \"/home/uttaran/anaconda3/lib/python3.6/threading.py\", line 864, in run\n",
      "    self._target(*self._args, **self._kwargs)\n",
      "  File \"/home/uttaran/anaconda3/lib/python3.6/site-packages/tensorflow/python/estimator/inputs/queues/feeding_queue_runner.py\", line 94, in _run\n",
      "    sess.run(enqueue_op, feed_dict=feed_dict)\n",
      "  File \"/home/uttaran/anaconda3/lib/python3.6/site-packages/tensorflow/python/client/session.py\", line 889, in run\n",
      "    run_metadata_ptr)\n",
      "  File \"/home/uttaran/anaconda3/lib/python3.6/site-packages/tensorflow/python/client/session.py\", line 1047, in _run\n",
      "    raise RuntimeError('Attempted to use a closed Session.')\n",
      "RuntimeError: Attempted to use a closed Session.\n",
      "\n"
     ]
    },
    {
     "name": "stdout",
     "output_type": "stream",
     "text": [
      "\n",
      "######### Test accuracy #############  {'accuracy': 0.25249586, 'loss': 2.2718046, 'global_step': 20000}\n",
      "C3\n",
      "3 0 7 2 32\n",
      "ERROR:tensorflow:Exception in QueueRunner: Attempted to use a closed Session.\n"
     ]
    },
    {
     "name": "stderr",
     "output_type": "stream",
     "text": [
      "Exception in thread Thread-1063:\n",
      "Traceback (most recent call last):\n",
      "  File \"/home/uttaran/anaconda3/lib/python3.6/threading.py\", line 916, in _bootstrap_inner\n",
      "    self.run()\n",
      "  File \"/home/uttaran/anaconda3/lib/python3.6/threading.py\", line 864, in run\n",
      "    self._target(*self._args, **self._kwargs)\n",
      "  File \"/home/uttaran/anaconda3/lib/python3.6/site-packages/tensorflow/python/estimator/inputs/queues/feeding_queue_runner.py\", line 94, in _run\n",
      "    sess.run(enqueue_op, feed_dict=feed_dict)\n",
      "  File \"/home/uttaran/anaconda3/lib/python3.6/site-packages/tensorflow/python/client/session.py\", line 889, in run\n",
      "    run_metadata_ptr)\n",
      "  File \"/home/uttaran/anaconda3/lib/python3.6/site-packages/tensorflow/python/client/session.py\", line 1047, in _run\n",
      "    raise RuntimeError('Attempted to use a closed Session.')\n",
      "RuntimeError: Attempted to use a closed Session.\n",
      "\n"
     ]
    },
    {
     "name": "stdout",
     "output_type": "stream",
     "text": [
      "3 0 7 2 32\n",
      "3 0 7 2 32\n",
      "ERROR:tensorflow:Exception in QueueRunner: Attempted to use a closed Session.\n"
     ]
    },
    {
     "name": "stderr",
     "output_type": "stream",
     "text": [
      "Exception in thread Thread-1075:\n",
      "Traceback (most recent call last):\n",
      "  File \"/home/uttaran/anaconda3/lib/python3.6/threading.py\", line 916, in _bootstrap_inner\n",
      "    self.run()\n",
      "  File \"/home/uttaran/anaconda3/lib/python3.6/threading.py\", line 864, in run\n",
      "    self._target(*self._args, **self._kwargs)\n",
      "  File \"/home/uttaran/anaconda3/lib/python3.6/site-packages/tensorflow/python/estimator/inputs/queues/feeding_queue_runner.py\", line 94, in _run\n",
      "    sess.run(enqueue_op, feed_dict=feed_dict)\n",
      "  File \"/home/uttaran/anaconda3/lib/python3.6/site-packages/tensorflow/python/client/session.py\", line 889, in run\n",
      "    run_metadata_ptr)\n",
      "  File \"/home/uttaran/anaconda3/lib/python3.6/site-packages/tensorflow/python/client/session.py\", line 1047, in _run\n",
      "    raise RuntimeError('Attempted to use a closed Session.')\n",
      "RuntimeError: Attempted to use a closed Session.\n",
      "\n"
     ]
    },
    {
     "name": "stdout",
     "output_type": "stream",
     "text": [
      "\n",
      "%%%%%%% Train accuracy %%%%%%%%%%%%  {'accuracy': 0.1356196, 'loss': 2.2957516, 'global_step': 10000}\n",
      "3 0 7 2 32\n",
      "ERROR:tensorflow:Exception in QueueRunner: Attempted to use a closed Session.\n"
     ]
    },
    {
     "name": "stderr",
     "output_type": "stream",
     "text": [
      "Exception in thread Thread-1080:\n",
      "Traceback (most recent call last):\n",
      "  File \"/home/uttaran/anaconda3/lib/python3.6/threading.py\", line 916, in _bootstrap_inner\n",
      "    self.run()\n",
      "  File \"/home/uttaran/anaconda3/lib/python3.6/threading.py\", line 864, in run\n",
      "    self._target(*self._args, **self._kwargs)\n",
      "  File \"/home/uttaran/anaconda3/lib/python3.6/site-packages/tensorflow/python/estimator/inputs/queues/feeding_queue_runner.py\", line 94, in _run\n",
      "    sess.run(enqueue_op, feed_dict=feed_dict)\n",
      "  File \"/home/uttaran/anaconda3/lib/python3.6/site-packages/tensorflow/python/client/session.py\", line 889, in run\n",
      "    run_metadata_ptr)\n",
      "  File \"/home/uttaran/anaconda3/lib/python3.6/site-packages/tensorflow/python/client/session.py\", line 1047, in _run\n",
      "    raise RuntimeError('Attempted to use a closed Session.')\n",
      "RuntimeError: Attempted to use a closed Session.\n",
      "\n"
     ]
    },
    {
     "name": "stdout",
     "output_type": "stream",
     "text": [
      "\n",
      "######### Test accuracy #############  {'accuracy': 0.13664725, 'loss': 2.295625, 'global_step': 10000}\n",
      "C2\n",
      "C3\n",
      "3 0 5 4 10\n",
      "3 0 5 4 10\n",
      "ERROR:tensorflow:Exception in QueueRunner: Attempted to use a closed Session.\n"
     ]
    },
    {
     "name": "stderr",
     "output_type": "stream",
     "text": [
      "Exception in thread Thread-1091:\n",
      "Traceback (most recent call last):\n",
      "  File \"/home/uttaran/anaconda3/lib/python3.6/threading.py\", line 916, in _bootstrap_inner\n",
      "    self.run()\n",
      "  File \"/home/uttaran/anaconda3/lib/python3.6/threading.py\", line 864, in run\n",
      "    self._target(*self._args, **self._kwargs)\n",
      "  File \"/home/uttaran/anaconda3/lib/python3.6/site-packages/tensorflow/python/estimator/inputs/queues/feeding_queue_runner.py\", line 94, in _run\n",
      "    sess.run(enqueue_op, feed_dict=feed_dict)\n",
      "  File \"/home/uttaran/anaconda3/lib/python3.6/site-packages/tensorflow/python/client/session.py\", line 889, in run\n",
      "    run_metadata_ptr)\n",
      "  File \"/home/uttaran/anaconda3/lib/python3.6/site-packages/tensorflow/python/client/session.py\", line 1047, in _run\n",
      "    raise RuntimeError('Attempted to use a closed Session.')\n",
      "RuntimeError: Attempted to use a closed Session.\n",
      "\n"
     ]
    },
    {
     "name": "stdout",
     "output_type": "stream",
     "text": [
      "3 0 5 4 10\n",
      "\n",
      "%%%%%%% Train accuracy %%%%%%%%%%%%  {'accuracy': 0.25117183, 'loss': 2.2695076, 'global_step': 10000}\n",
      "3 0 5 4 10\n",
      "ERROR:tensorflow:Exception in QueueRunner: Attempted to use a closed Session.\n"
     ]
    },
    {
     "name": "stderr",
     "output_type": "stream",
     "text": [
      "Exception in thread Thread-1102:\n",
      "Traceback (most recent call last):\n",
      "  File \"/home/uttaran/anaconda3/lib/python3.6/threading.py\", line 916, in _bootstrap_inner\n",
      "    self.run()\n",
      "  File \"/home/uttaran/anaconda3/lib/python3.6/threading.py\", line 864, in run\n",
      "    self._target(*self._args, **self._kwargs)\n",
      "  File \"/home/uttaran/anaconda3/lib/python3.6/site-packages/tensorflow/python/estimator/inputs/queues/feeding_queue_runner.py\", line 94, in _run\n",
      "    sess.run(enqueue_op, feed_dict=feed_dict)\n",
      "  File \"/home/uttaran/anaconda3/lib/python3.6/site-packages/tensorflow/python/client/session.py\", line 889, in run\n",
      "    run_metadata_ptr)\n",
      "  File \"/home/uttaran/anaconda3/lib/python3.6/site-packages/tensorflow/python/client/session.py\", line 1047, in _run\n",
      "    raise RuntimeError('Attempted to use a closed Session.')\n",
      "RuntimeError: Attempted to use a closed Session.\n",
      "\n"
     ]
    },
    {
     "name": "stdout",
     "output_type": "stream",
     "text": [
      "\n",
      "######### Test accuracy #############  {'accuracy': 0.2548877, 'loss': 2.269239, 'global_step': 10000}\n",
      "C2\n",
      "C3\n",
      "3 0 1 4 32\n",
      "3 0 1 4 32\n",
      "ERROR:tensorflow:Exception in QueueRunner: Attempted to use a closed Session.\n"
     ]
    },
    {
     "name": "stderr",
     "output_type": "stream",
     "text": [
      "Exception in thread Thread-1112:\n",
      "Traceback (most recent call last):\n",
      "  File \"/home/uttaran/anaconda3/lib/python3.6/threading.py\", line 916, in _bootstrap_inner\n",
      "    self.run()\n",
      "  File \"/home/uttaran/anaconda3/lib/python3.6/threading.py\", line 864, in run\n",
      "    self._target(*self._args, **self._kwargs)\n",
      "  File \"/home/uttaran/anaconda3/lib/python3.6/site-packages/tensorflow/python/estimator/inputs/queues/feeding_queue_runner.py\", line 94, in _run\n",
      "    sess.run(enqueue_op, feed_dict=feed_dict)\n",
      "  File \"/home/uttaran/anaconda3/lib/python3.6/site-packages/tensorflow/python/client/session.py\", line 889, in run\n",
      "    run_metadata_ptr)\n",
      "  File \"/home/uttaran/anaconda3/lib/python3.6/site-packages/tensorflow/python/client/session.py\", line 1047, in _run\n",
      "    raise RuntimeError('Attempted to use a closed Session.')\n",
      "RuntimeError: Attempted to use a closed Session.\n",
      "\n"
     ]
    },
    {
     "name": "stdout",
     "output_type": "stream",
     "text": [
      "3 0 1 4 32\n",
      "ERROR:tensorflow:Exception in QueueRunner: Attempted to use a closed Session.\n"
     ]
    },
    {
     "name": "stderr",
     "output_type": "stream",
     "text": [
      "Exception in thread Thread-1117:\n",
      "Traceback (most recent call last):\n",
      "  File \"/home/uttaran/anaconda3/lib/python3.6/threading.py\", line 916, in _bootstrap_inner\n",
      "    self.run()\n",
      "  File \"/home/uttaran/anaconda3/lib/python3.6/threading.py\", line 864, in run\n",
      "    self._target(*self._args, **self._kwargs)\n",
      "  File \"/home/uttaran/anaconda3/lib/python3.6/site-packages/tensorflow/python/estimator/inputs/queues/feeding_queue_runner.py\", line 94, in _run\n",
      "    sess.run(enqueue_op, feed_dict=feed_dict)\n",
      "  File \"/home/uttaran/anaconda3/lib/python3.6/site-packages/tensorflow/python/client/session.py\", line 889, in run\n",
      "    run_metadata_ptr)\n",
      "  File \"/home/uttaran/anaconda3/lib/python3.6/site-packages/tensorflow/python/client/session.py\", line 1047, in _run\n",
      "    raise RuntimeError('Attempted to use a closed Session.')\n",
      "RuntimeError: Attempted to use a closed Session.\n",
      "\n"
     ]
    },
    {
     "name": "stdout",
     "output_type": "stream",
     "text": [
      "\n",
      "%%%%%%% Train accuracy %%%%%%%%%%%%  {'accuracy': 0.11240296, 'loss': 2.3018084, 'global_step': 20000}\n",
      "3 0 1 4 32\n",
      "ERROR:tensorflow:Exception in QueueRunner: Attempted to use a closed Session.\n"
     ]
    },
    {
     "name": "stderr",
     "output_type": "stream",
     "text": [
      "Exception in thread Thread-1122:\n",
      "Traceback (most recent call last):\n",
      "  File \"/home/uttaran/anaconda3/lib/python3.6/threading.py\", line 916, in _bootstrap_inner\n",
      "    self.run()\n",
      "  File \"/home/uttaran/anaconda3/lib/python3.6/threading.py\", line 864, in run\n",
      "    self._target(*self._args, **self._kwargs)\n",
      "  File \"/home/uttaran/anaconda3/lib/python3.6/site-packages/tensorflow/python/estimator/inputs/queues/feeding_queue_runner.py\", line 94, in _run\n",
      "    sess.run(enqueue_op, feed_dict=feed_dict)\n",
      "  File \"/home/uttaran/anaconda3/lib/python3.6/site-packages/tensorflow/python/client/session.py\", line 889, in run\n",
      "    run_metadata_ptr)\n",
      "  File \"/home/uttaran/anaconda3/lib/python3.6/site-packages/tensorflow/python/client/session.py\", line 1047, in _run\n",
      "    raise RuntimeError('Attempted to use a closed Session.')\n",
      "RuntimeError: Attempted to use a closed Session.\n",
      "\n"
     ]
    },
    {
     "name": "stdout",
     "output_type": "stream",
     "text": [
      "\n",
      "######### Test accuracy #############  {'accuracy': 0.112416804, 'loss': 2.3017929, 'global_step': 20000}\n",
      "C3\n",
      "3 0 5 4 128\n",
      "3 0 5 4 128\n",
      "ERROR:tensorflow:Exception in QueueRunner: Attempted to use a closed Session.\n"
     ]
    },
    {
     "name": "stderr",
     "output_type": "stream",
     "text": [
      "Exception in thread Thread-1133:\n",
      "Traceback (most recent call last):\n",
      "  File \"/home/uttaran/anaconda3/lib/python3.6/threading.py\", line 916, in _bootstrap_inner\n",
      "    self.run()\n",
      "  File \"/home/uttaran/anaconda3/lib/python3.6/threading.py\", line 864, in run\n",
      "    self._target(*self._args, **self._kwargs)\n",
      "  File \"/home/uttaran/anaconda3/lib/python3.6/site-packages/tensorflow/python/estimator/inputs/queues/feeding_queue_runner.py\", line 94, in _run\n",
      "    sess.run(enqueue_op, feed_dict=feed_dict)\n",
      "  File \"/home/uttaran/anaconda3/lib/python3.6/site-packages/tensorflow/python/client/session.py\", line 889, in run\n",
      "    run_metadata_ptr)\n",
      "  File \"/home/uttaran/anaconda3/lib/python3.6/site-packages/tensorflow/python/client/session.py\", line 1047, in _run\n",
      "    raise RuntimeError('Attempted to use a closed Session.')\n",
      "RuntimeError: Attempted to use a closed Session.\n",
      "\n"
     ]
    },
    {
     "name": "stdout",
     "output_type": "stream",
     "text": [
      "3 0 5 4 128\n",
      "ERROR:tensorflow:Exception in QueueRunner: Attempted to use a closed Session.\n"
     ]
    },
    {
     "name": "stderr",
     "output_type": "stream",
     "text": [
      "Exception in thread Thread-1139:\n",
      "Traceback (most recent call last):\n",
      "  File \"/home/uttaran/anaconda3/lib/python3.6/threading.py\", line 916, in _bootstrap_inner\n",
      "    self.run()\n",
      "  File \"/home/uttaran/anaconda3/lib/python3.6/threading.py\", line 864, in run\n",
      "    self._target(*self._args, **self._kwargs)\n",
      "  File \"/home/uttaran/anaconda3/lib/python3.6/site-packages/tensorflow/python/estimator/inputs/queues/feeding_queue_runner.py\", line 94, in _run\n",
      "    sess.run(enqueue_op, feed_dict=feed_dict)\n",
      "  File \"/home/uttaran/anaconda3/lib/python3.6/site-packages/tensorflow/python/client/session.py\", line 889, in run\n",
      "    run_metadata_ptr)\n",
      "  File \"/home/uttaran/anaconda3/lib/python3.6/site-packages/tensorflow/python/client/session.py\", line 1047, in _run\n",
      "    raise RuntimeError('Attempted to use a closed Session.')\n",
      "RuntimeError: Attempted to use a closed Session.\n",
      "\n"
     ]
    },
    {
     "name": "stdout",
     "output_type": "stream",
     "text": [
      "\n",
      "%%%%%%% Train accuracy %%%%%%%%%%%%  {'accuracy': 0.24196206, 'loss': 2.195319, 'global_step': 10000}\n",
      "3 0 5 4 128\n",
      "\n",
      "######### Test accuracy #############  {'accuracy': 0.24906406, 'loss': 2.19158, 'global_step': 10000}\n",
      "C3\n",
      "2 1 7 8 10\n",
      "2 1 7 8 10\n",
      "2 1 7 8 10\n",
      "ERROR:tensorflow:Exception in QueueRunner: Attempted to use a closed Session.\n"
     ]
    },
    {
     "name": "stderr",
     "output_type": "stream",
     "text": [
      "Exception in thread Thread-1161:\n",
      "Traceback (most recent call last):\n",
      "  File \"/home/uttaran/anaconda3/lib/python3.6/threading.py\", line 916, in _bootstrap_inner\n",
      "    self.run()\n",
      "  File \"/home/uttaran/anaconda3/lib/python3.6/threading.py\", line 864, in run\n",
      "    self._target(*self._args, **self._kwargs)\n",
      "  File \"/home/uttaran/anaconda3/lib/python3.6/site-packages/tensorflow/python/estimator/inputs/queues/feeding_queue_runner.py\", line 94, in _run\n",
      "    sess.run(enqueue_op, feed_dict=feed_dict)\n",
      "  File \"/home/uttaran/anaconda3/lib/python3.6/site-packages/tensorflow/python/client/session.py\", line 889, in run\n",
      "    run_metadata_ptr)\n",
      "  File \"/home/uttaran/anaconda3/lib/python3.6/site-packages/tensorflow/python/client/session.py\", line 1047, in _run\n",
      "    raise RuntimeError('Attempted to use a closed Session.')\n",
      "RuntimeError: Attempted to use a closed Session.\n",
      "\n"
     ]
    },
    {
     "name": "stdout",
     "output_type": "stream",
     "text": [
      "\n",
      "%%%%%%% Train accuracy %%%%%%%%%%%%  {'accuracy': 0.27852643, 'loss': 2.1585724, 'global_step': 10000}\n",
      "2 1 7 8 10\n",
      "\n",
      "######### Test accuracy #############  {'accuracy': 0.28816557, 'loss': 2.1540403, 'global_step': 10000}\n",
      "C3\n",
      "3 0 1 8 32\n",
      "3 0 1 8 32\n",
      "3 0 1 8 32\n",
      "\n",
      "%%%%%%% Train accuracy %%%%%%%%%%%%  {'accuracy': 0.098414384, 'loss': 2.3002372, 'global_step': 10000}\n",
      "3 0 1 8 32\n",
      "\n",
      "######### Test accuracy #############  {'accuracy': 0.097857736, 'loss': 2.300159, 'global_step': 10000}\n",
      "C2\n",
      "C3\n",
      "3 0 5 4 64\n",
      "3 0 5 4 64\n",
      "ERROR:tensorflow:Exception in QueueRunner: Attempted to use a closed Session.\n"
     ]
    },
    {
     "name": "stderr",
     "output_type": "stream",
     "text": [
      "Exception in thread Thread-1198:\n",
      "Traceback (most recent call last):\n",
      "  File \"/home/uttaran/anaconda3/lib/python3.6/threading.py\", line 916, in _bootstrap_inner\n",
      "    self.run()\n",
      "  File \"/home/uttaran/anaconda3/lib/python3.6/threading.py\", line 864, in run\n",
      "    self._target(*self._args, **self._kwargs)\n",
      "  File \"/home/uttaran/anaconda3/lib/python3.6/site-packages/tensorflow/python/estimator/inputs/queues/feeding_queue_runner.py\", line 94, in _run\n",
      "    sess.run(enqueue_op, feed_dict=feed_dict)\n",
      "  File \"/home/uttaran/anaconda3/lib/python3.6/site-packages/tensorflow/python/client/session.py\", line 889, in run\n",
      "    run_metadata_ptr)\n",
      "  File \"/home/uttaran/anaconda3/lib/python3.6/site-packages/tensorflow/python/client/session.py\", line 1047, in _run\n",
      "    raise RuntimeError('Attempted to use a closed Session.')\n",
      "RuntimeError: Attempted to use a closed Session.\n",
      "\n"
     ]
    },
    {
     "name": "stdout",
     "output_type": "stream",
     "text": [
      "3 0 5 4 64\n",
      "ERROR:tensorflow:Exception in QueueRunner: Attempted to use a closed Session.\n"
     ]
    },
    {
     "name": "stderr",
     "output_type": "stream",
     "text": [
      "Exception in thread Thread-1203:\n",
      "Traceback (most recent call last):\n",
      "  File \"/home/uttaran/anaconda3/lib/python3.6/threading.py\", line 916, in _bootstrap_inner\n",
      "    self.run()\n",
      "  File \"/home/uttaran/anaconda3/lib/python3.6/threading.py\", line 864, in run\n",
      "    self._target(*self._args, **self._kwargs)\n",
      "  File \"/home/uttaran/anaconda3/lib/python3.6/site-packages/tensorflow/python/estimator/inputs/queues/feeding_queue_runner.py\", line 94, in _run\n",
      "    sess.run(enqueue_op, feed_dict=feed_dict)\n",
      "  File \"/home/uttaran/anaconda3/lib/python3.6/site-packages/tensorflow/python/client/session.py\", line 889, in run\n",
      "    run_metadata_ptr)\n",
      "  File \"/home/uttaran/anaconda3/lib/python3.6/site-packages/tensorflow/python/client/session.py\", line 1047, in _run\n",
      "    raise RuntimeError('Attempted to use a closed Session.')\n",
      "RuntimeError: Attempted to use a closed Session.\n",
      "\n"
     ]
    },
    {
     "name": "stdout",
     "output_type": "stream",
     "text": [
      "\n",
      "%%%%%%% Train accuracy %%%%%%%%%%%%  {'accuracy': 0.76563644, 'loss': 1.0736401, 'global_step': 30000}\n",
      "3 0 5 4 64\n",
      "ERROR:tensorflow:Exception in QueueRunner: Attempted to use a closed Session.\n"
     ]
    },
    {
     "name": "stderr",
     "output_type": "stream",
     "text": [
      "Exception in thread Thread-1208:\n",
      "Traceback (most recent call last):\n",
      "  File \"/home/uttaran/anaconda3/lib/python3.6/threading.py\", line 916, in _bootstrap_inner\n",
      "    self.run()\n",
      "  File \"/home/uttaran/anaconda3/lib/python3.6/threading.py\", line 864, in run\n",
      "    self._target(*self._args, **self._kwargs)\n",
      "  File \"/home/uttaran/anaconda3/lib/python3.6/site-packages/tensorflow/python/estimator/inputs/queues/feeding_queue_runner.py\", line 94, in _run\n",
      "    sess.run(enqueue_op, feed_dict=feed_dict)\n",
      "  File \"/home/uttaran/anaconda3/lib/python3.6/site-packages/tensorflow/python/client/session.py\", line 889, in run\n",
      "    run_metadata_ptr)\n",
      "  File \"/home/uttaran/anaconda3/lib/python3.6/site-packages/tensorflow/python/client/session.py\", line 1047, in _run\n",
      "    raise RuntimeError('Attempted to use a closed Session.')\n",
      "RuntimeError: Attempted to use a closed Session.\n",
      "\n"
     ]
    },
    {
     "name": "stdout",
     "output_type": "stream",
     "text": [
      "\n",
      "######### Test accuracy #############  {'accuracy': 0.7706947, 'loss': 1.0574069, 'global_step': 30000}\n",
      "C2\n",
      "C2\n",
      "C2\n",
      "C2\n",
      "C2\n",
      "C3\n",
      "3 0 1 4 32\n",
      "3 0 1 4 32\n",
      "ERROR:tensorflow:Exception in QueueRunner: Attempted to use a closed Session.\n"
     ]
    },
    {
     "name": "stderr",
     "output_type": "stream",
     "text": [
      "Exception in thread Thread-1218:\n",
      "Traceback (most recent call last):\n",
      "  File \"/home/uttaran/anaconda3/lib/python3.6/threading.py\", line 916, in _bootstrap_inner\n",
      "    self.run()\n",
      "  File \"/home/uttaran/anaconda3/lib/python3.6/threading.py\", line 864, in run\n",
      "    self._target(*self._args, **self._kwargs)\n",
      "  File \"/home/uttaran/anaconda3/lib/python3.6/site-packages/tensorflow/python/estimator/inputs/queues/feeding_queue_runner.py\", line 94, in _run\n",
      "    sess.run(enqueue_op, feed_dict=feed_dict)\n",
      "  File \"/home/uttaran/anaconda3/lib/python3.6/site-packages/tensorflow/python/client/session.py\", line 889, in run\n",
      "    run_metadata_ptr)\n",
      "  File \"/home/uttaran/anaconda3/lib/python3.6/site-packages/tensorflow/python/client/session.py\", line 1047, in _run\n",
      "    raise RuntimeError('Attempted to use a closed Session.')\n",
      "RuntimeError: Attempted to use a closed Session.\n",
      "\n"
     ]
    },
    {
     "name": "stdout",
     "output_type": "stream",
     "text": [
      "3 0 1 4 32\n",
      "ERROR:tensorflow:Exception in QueueRunner: Attempted to use a closed Session.\n"
     ]
    },
    {
     "name": "stderr",
     "output_type": "stream",
     "text": [
      "Exception in thread Thread-1223:\n",
      "Traceback (most recent call last):\n",
      "  File \"/home/uttaran/anaconda3/lib/python3.6/threading.py\", line 916, in _bootstrap_inner\n",
      "    self.run()\n",
      "  File \"/home/uttaran/anaconda3/lib/python3.6/threading.py\", line 864, in run\n",
      "    self._target(*self._args, **self._kwargs)\n",
      "  File \"/home/uttaran/anaconda3/lib/python3.6/site-packages/tensorflow/python/estimator/inputs/queues/feeding_queue_runner.py\", line 94, in _run\n",
      "    sess.run(enqueue_op, feed_dict=feed_dict)\n",
      "  File \"/home/uttaran/anaconda3/lib/python3.6/site-packages/tensorflow/python/client/session.py\", line 889, in run\n",
      "    run_metadata_ptr)\n",
      "  File \"/home/uttaran/anaconda3/lib/python3.6/site-packages/tensorflow/python/client/session.py\", line 1047, in _run\n",
      "    raise RuntimeError('Attempted to use a closed Session.')\n",
      "RuntimeError: Attempted to use a closed Session.\n",
      "\n"
     ]
    },
    {
     "name": "stdout",
     "output_type": "stream",
     "text": [
      "\n",
      "%%%%%%% Train accuracy %%%%%%%%%%%%  {'accuracy': 0.11240296, 'loss': 2.3015997, 'global_step': 30000}\n",
      "3 0 1 4 32\n",
      "ERROR:tensorflow:Exception in QueueRunner: Attempted to use a closed Session.\n"
     ]
    },
    {
     "name": "stderr",
     "output_type": "stream",
     "text": [
      "Exception in thread Thread-1228:\n",
      "Traceback (most recent call last):\n",
      "  File \"/home/uttaran/anaconda3/lib/python3.6/threading.py\", line 916, in _bootstrap_inner\n",
      "    self.run()\n",
      "  File \"/home/uttaran/anaconda3/lib/python3.6/threading.py\", line 864, in run\n",
      "    self._target(*self._args, **self._kwargs)\n",
      "  File \"/home/uttaran/anaconda3/lib/python3.6/site-packages/tensorflow/python/estimator/inputs/queues/feeding_queue_runner.py\", line 94, in _run\n",
      "    sess.run(enqueue_op, feed_dict=feed_dict)\n",
      "  File \"/home/uttaran/anaconda3/lib/python3.6/site-packages/tensorflow/python/client/session.py\", line 889, in run\n",
      "    run_metadata_ptr)\n",
      "  File \"/home/uttaran/anaconda3/lib/python3.6/site-packages/tensorflow/python/client/session.py\", line 1047, in _run\n",
      "    raise RuntimeError('Attempted to use a closed Session.')\n",
      "RuntimeError: Attempted to use a closed Session.\n",
      "\n"
     ]
    },
    {
     "name": "stdout",
     "output_type": "stream",
     "text": [
      "\n",
      "######### Test accuracy #############  {'accuracy': 0.112416804, 'loss': 2.3015766, 'global_step': 30000}\n",
      "C2\n",
      "C2\n",
      "C3\n",
      "3 0 7 4 128\n",
      "3 0 7 4 128\n",
      "3 0 7 4 128\n",
      "\n",
      "%%%%%%% Train accuracy %%%%%%%%%%%%  {'accuracy': 0.21803135, 'loss': 2.1976314, 'global_step': 20000}\n",
      "3 0 7 4 128\n",
      "ERROR:tensorflow:Exception in QueueRunner: Attempted to use a closed Session.\n"
     ]
    },
    {
     "name": "stderr",
     "output_type": "stream",
     "text": [
      "Exception in thread Thread-1248:\n",
      "Traceback (most recent call last):\n",
      "  File \"/home/uttaran/anaconda3/lib/python3.6/threading.py\", line 916, in _bootstrap_inner\n",
      "    self.run()\n",
      "  File \"/home/uttaran/anaconda3/lib/python3.6/threading.py\", line 864, in run\n",
      "    self._target(*self._args, **self._kwargs)\n",
      "  File \"/home/uttaran/anaconda3/lib/python3.6/site-packages/tensorflow/python/estimator/inputs/queues/feeding_queue_runner.py\", line 94, in _run\n",
      "    sess.run(enqueue_op, feed_dict=feed_dict)\n",
      "  File \"/home/uttaran/anaconda3/lib/python3.6/site-packages/tensorflow/python/client/session.py\", line 889, in run\n",
      "    run_metadata_ptr)\n",
      "  File \"/home/uttaran/anaconda3/lib/python3.6/site-packages/tensorflow/python/client/session.py\", line 1047, in _run\n",
      "    raise RuntimeError('Attempted to use a closed Session.')\n",
      "RuntimeError: Attempted to use a closed Session.\n",
      "\n"
     ]
    },
    {
     "name": "stdout",
     "output_type": "stream",
     "text": [
      "\n",
      "######### Test accuracy #############  {'accuracy': 0.21661814, 'loss': 2.1959767, 'global_step': 20000}\n",
      "C3\n",
      "3 0 5 2 64\n",
      "ERROR:tensorflow:Exception in QueueRunner: Attempted to use a closed Session.\n"
     ]
    },
    {
     "name": "stderr",
     "output_type": "stream",
     "text": [
      "Exception in thread Thread-1253:\n",
      "Traceback (most recent call last):\n",
      "  File \"/home/uttaran/anaconda3/lib/python3.6/threading.py\", line 916, in _bootstrap_inner\n",
      "    self.run()\n",
      "  File \"/home/uttaran/anaconda3/lib/python3.6/threading.py\", line 864, in run\n",
      "    self._target(*self._args, **self._kwargs)\n",
      "  File \"/home/uttaran/anaconda3/lib/python3.6/site-packages/tensorflow/python/estimator/inputs/queues/feeding_queue_runner.py\", line 94, in _run\n",
      "    sess.run(enqueue_op, feed_dict=feed_dict)\n",
      "  File \"/home/uttaran/anaconda3/lib/python3.6/site-packages/tensorflow/python/client/session.py\", line 889, in run\n",
      "    run_metadata_ptr)\n",
      "  File \"/home/uttaran/anaconda3/lib/python3.6/site-packages/tensorflow/python/client/session.py\", line 1047, in _run\n",
      "    raise RuntimeError('Attempted to use a closed Session.')\n",
      "RuntimeError: Attempted to use a closed Session.\n",
      "\n"
     ]
    },
    {
     "name": "stdout",
     "output_type": "stream",
     "text": [
      "3 0 5 2 64\n",
      "3 0 5 2 64\n",
      "ERROR:tensorflow:Exception in QueueRunner: Attempted to use a closed Session.\n"
     ]
    },
    {
     "name": "stderr",
     "output_type": "stream",
     "text": [
      "Exception in thread Thread-1263:\n",
      "Traceback (most recent call last):\n",
      "  File \"/home/uttaran/anaconda3/lib/python3.6/threading.py\", line 916, in _bootstrap_inner\n",
      "    self.run()\n",
      "  File \"/home/uttaran/anaconda3/lib/python3.6/threading.py\", line 864, in run\n",
      "    self._target(*self._args, **self._kwargs)\n",
      "  File \"/home/uttaran/anaconda3/lib/python3.6/site-packages/tensorflow/python/estimator/inputs/queues/feeding_queue_runner.py\", line 94, in _run\n",
      "    sess.run(enqueue_op, feed_dict=feed_dict)\n",
      "  File \"/home/uttaran/anaconda3/lib/python3.6/site-packages/tensorflow/python/client/session.py\", line 889, in run\n",
      "    run_metadata_ptr)\n",
      "  File \"/home/uttaran/anaconda3/lib/python3.6/site-packages/tensorflow/python/client/session.py\", line 1047, in _run\n",
      "    raise RuntimeError('Attempted to use a closed Session.')\n",
      "RuntimeError: Attempted to use a closed Session.\n",
      "\n"
     ]
    },
    {
     "name": "stdout",
     "output_type": "stream",
     "text": [
      "\n",
      "%%%%%%% Train accuracy %%%%%%%%%%%%  {'accuracy': 0.23562692, 'loss': 2.2629693, 'global_step': 20000}\n",
      "3 0 5 2 64\n",
      "ERROR:tensorflow:Exception in QueueRunner: Attempted to use a closed Session.\n"
     ]
    },
    {
     "name": "stderr",
     "output_type": "stream",
     "text": [
      "Exception in thread Thread-1268:\n",
      "Traceback (most recent call last):\n",
      "  File \"/home/uttaran/anaconda3/lib/python3.6/threading.py\", line 916, in _bootstrap_inner\n",
      "    self.run()\n",
      "  File \"/home/uttaran/anaconda3/lib/python3.6/threading.py\", line 864, in run\n",
      "    self._target(*self._args, **self._kwargs)\n",
      "  File \"/home/uttaran/anaconda3/lib/python3.6/site-packages/tensorflow/python/estimator/inputs/queues/feeding_queue_runner.py\", line 94, in _run\n",
      "    sess.run(enqueue_op, feed_dict=feed_dict)\n",
      "  File \"/home/uttaran/anaconda3/lib/python3.6/site-packages/tensorflow/python/client/session.py\", line 889, in run\n",
      "    run_metadata_ptr)\n",
      "  File \"/home/uttaran/anaconda3/lib/python3.6/site-packages/tensorflow/python/client/session.py\", line 1047, in _run\n",
      "    raise RuntimeError('Attempted to use a closed Session.')\n",
      "RuntimeError: Attempted to use a closed Session.\n",
      "\n"
     ]
    },
    {
     "name": "stdout",
     "output_type": "stream",
     "text": [
      "\n",
      "######### Test accuracy #############  {'accuracy': 0.2388727, 'loss': 2.2623587, 'global_step': 20000}\n",
      "C2\n",
      "C2\n",
      "C2\n",
      "C2\n",
      "C2\n",
      "C2\n",
      "C3\n",
      "2 1 5 6 10\n",
      "ERROR:tensorflow:Exception in QueueRunner: Attempted to use a closed Session.\n"
     ]
    },
    {
     "name": "stderr",
     "output_type": "stream",
     "text": [
      "Exception in thread Thread-1273:\n",
      "Traceback (most recent call last):\n",
      "  File \"/home/uttaran/anaconda3/lib/python3.6/threading.py\", line 916, in _bootstrap_inner\n",
      "    self.run()\n",
      "  File \"/home/uttaran/anaconda3/lib/python3.6/threading.py\", line 864, in run\n",
      "    self._target(*self._args, **self._kwargs)\n",
      "  File \"/home/uttaran/anaconda3/lib/python3.6/site-packages/tensorflow/python/estimator/inputs/queues/feeding_queue_runner.py\", line 94, in _run\n",
      "    sess.run(enqueue_op, feed_dict=feed_dict)\n",
      "  File \"/home/uttaran/anaconda3/lib/python3.6/site-packages/tensorflow/python/client/session.py\", line 889, in run\n",
      "    run_metadata_ptr)\n",
      "  File \"/home/uttaran/anaconda3/lib/python3.6/site-packages/tensorflow/python/client/session.py\", line 1047, in _run\n",
      "    raise RuntimeError('Attempted to use a closed Session.')\n",
      "RuntimeError: Attempted to use a closed Session.\n",
      "\n"
     ]
    },
    {
     "name": "stdout",
     "output_type": "stream",
     "text": [
      "2 1 5 6 10\n",
      "ERROR:tensorflow:Exception in QueueRunner: Attempted to use a closed Session.\n"
     ]
    },
    {
     "name": "stderr",
     "output_type": "stream",
     "text": [
      "Exception in thread Thread-1278:\n",
      "Traceback (most recent call last):\n",
      "  File \"/home/uttaran/anaconda3/lib/python3.6/threading.py\", line 916, in _bootstrap_inner\n",
      "    self.run()\n",
      "  File \"/home/uttaran/anaconda3/lib/python3.6/threading.py\", line 864, in run\n",
      "    self._target(*self._args, **self._kwargs)\n",
      "  File \"/home/uttaran/anaconda3/lib/python3.6/site-packages/tensorflow/python/estimator/inputs/queues/feeding_queue_runner.py\", line 94, in _run\n",
      "    sess.run(enqueue_op, feed_dict=feed_dict)\n",
      "  File \"/home/uttaran/anaconda3/lib/python3.6/site-packages/tensorflow/python/client/session.py\", line 889, in run\n",
      "    run_metadata_ptr)\n",
      "  File \"/home/uttaran/anaconda3/lib/python3.6/site-packages/tensorflow/python/client/session.py\", line 1047, in _run\n",
      "    raise RuntimeError('Attempted to use a closed Session.')\n",
      "RuntimeError: Attempted to use a closed Session.\n",
      "\n"
     ]
    },
    {
     "name": "stdout",
     "output_type": "stream",
     "text": [
      "2 1 5 6 10\n",
      "ERROR:tensorflow:Exception in QueueRunner: Attempted to use a closed Session.\n"
     ]
    },
    {
     "name": "stderr",
     "output_type": "stream",
     "text": [
      "Exception in thread Thread-1283:\n",
      "Traceback (most recent call last):\n",
      "  File \"/home/uttaran/anaconda3/lib/python3.6/threading.py\", line 916, in _bootstrap_inner\n",
      "    self.run()\n",
      "  File \"/home/uttaran/anaconda3/lib/python3.6/threading.py\", line 864, in run\n",
      "    self._target(*self._args, **self._kwargs)\n",
      "  File \"/home/uttaran/anaconda3/lib/python3.6/site-packages/tensorflow/python/estimator/inputs/queues/feeding_queue_runner.py\", line 94, in _run\n",
      "    sess.run(enqueue_op, feed_dict=feed_dict)\n",
      "  File \"/home/uttaran/anaconda3/lib/python3.6/site-packages/tensorflow/python/client/session.py\", line 889, in run\n",
      "    run_metadata_ptr)\n",
      "  File \"/home/uttaran/anaconda3/lib/python3.6/site-packages/tensorflow/python/client/session.py\", line 1047, in _run\n",
      "    raise RuntimeError('Attempted to use a closed Session.')\n",
      "RuntimeError: Attempted to use a closed Session.\n",
      "\n"
     ]
    },
    {
     "name": "stdout",
     "output_type": "stream",
     "text": [
      "\n",
      "%%%%%%% Train accuracy %%%%%%%%%%%%  {'accuracy': 0.37034935, 'loss': 1.9287001, 'global_step': 20000}\n",
      "2 1 5 6 10\n",
      "ERROR:tensorflow:Exception in QueueRunner: Attempted to use a closed Session.\n"
     ]
    },
    {
     "name": "stderr",
     "output_type": "stream",
     "text": [
      "Exception in thread Thread-1288:\n",
      "Traceback (most recent call last):\n",
      "  File \"/home/uttaran/anaconda3/lib/python3.6/threading.py\", line 916, in _bootstrap_inner\n",
      "    self.run()\n",
      "  File \"/home/uttaran/anaconda3/lib/python3.6/threading.py\", line 864, in run\n",
      "    self._target(*self._args, **self._kwargs)\n",
      "  File \"/home/uttaran/anaconda3/lib/python3.6/site-packages/tensorflow/python/estimator/inputs/queues/feeding_queue_runner.py\", line 94, in _run\n",
      "    sess.run(enqueue_op, feed_dict=feed_dict)\n",
      "  File \"/home/uttaran/anaconda3/lib/python3.6/site-packages/tensorflow/python/client/session.py\", line 889, in run\n",
      "    run_metadata_ptr)\n",
      "  File \"/home/uttaran/anaconda3/lib/python3.6/site-packages/tensorflow/python/client/session.py\", line 1047, in _run\n",
      "    raise RuntimeError('Attempted to use a closed Session.')\n",
      "RuntimeError: Attempted to use a closed Session.\n",
      "\n"
     ]
    },
    {
     "name": "stdout",
     "output_type": "stream",
     "text": [
      "\n",
      "######### Test accuracy #############  {'accuracy': 0.37281615, 'loss': 1.9262666, 'global_step': 20000}\n",
      "C2\n",
      "C3\n",
      "3 0 3 8 128\n",
      "3 0 3 8 128\n",
      "ERROR:tensorflow:Exception in QueueRunner: Attempted to use a closed Session.\n"
     ]
    },
    {
     "name": "stderr",
     "output_type": "stream",
     "text": [
      "Exception in thread Thread-1298:\n",
      "Traceback (most recent call last):\n",
      "  File \"/home/uttaran/anaconda3/lib/python3.6/threading.py\", line 916, in _bootstrap_inner\n",
      "    self.run()\n",
      "  File \"/home/uttaran/anaconda3/lib/python3.6/threading.py\", line 864, in run\n",
      "    self._target(*self._args, **self._kwargs)\n",
      "  File \"/home/uttaran/anaconda3/lib/python3.6/site-packages/tensorflow/python/estimator/inputs/queues/feeding_queue_runner.py\", line 94, in _run\n",
      "    sess.run(enqueue_op, feed_dict=feed_dict)\n",
      "  File \"/home/uttaran/anaconda3/lib/python3.6/site-packages/tensorflow/python/client/session.py\", line 889, in run\n",
      "    run_metadata_ptr)\n",
      "  File \"/home/uttaran/anaconda3/lib/python3.6/site-packages/tensorflow/python/client/session.py\", line 1047, in _run\n",
      "    raise RuntimeError('Attempted to use a closed Session.')\n",
      "RuntimeError: Attempted to use a closed Session.\n",
      "\n"
     ]
    },
    {
     "name": "stdout",
     "output_type": "stream",
     "text": [
      "3 0 3 8 128\n",
      "ERROR:tensorflow:Exception in QueueRunner: Attempted to use a closed Session.\n"
     ]
    },
    {
     "name": "stderr",
     "output_type": "stream",
     "text": [
      "Exception in thread Thread-1303:\n",
      "Traceback (most recent call last):\n",
      "  File \"/home/uttaran/anaconda3/lib/python3.6/threading.py\", line 916, in _bootstrap_inner\n",
      "    self.run()\n",
      "  File \"/home/uttaran/anaconda3/lib/python3.6/threading.py\", line 864, in run\n",
      "    self._target(*self._args, **self._kwargs)\n",
      "  File \"/home/uttaran/anaconda3/lib/python3.6/site-packages/tensorflow/python/estimator/inputs/queues/feeding_queue_runner.py\", line 94, in _run\n",
      "    sess.run(enqueue_op, feed_dict=feed_dict)\n",
      "  File \"/home/uttaran/anaconda3/lib/python3.6/site-packages/tensorflow/python/client/session.py\", line 889, in run\n",
      "    run_metadata_ptr)\n",
      "  File \"/home/uttaran/anaconda3/lib/python3.6/site-packages/tensorflow/python/client/session.py\", line 1047, in _run\n",
      "    raise RuntimeError('Attempted to use a closed Session.')\n",
      "RuntimeError: Attempted to use a closed Session.\n",
      "\n"
     ]
    },
    {
     "name": "stdout",
     "output_type": "stream",
     "text": [
      "\n",
      "%%%%%%% Train accuracy %%%%%%%%%%%%  {'accuracy': 0.5241687, 'loss': 1.9468306, 'global_step': 20000}\n",
      "3 0 3 8 128\n",
      "ERROR:tensorflow:Exception in QueueRunner: Attempted to use a closed Session.\n"
     ]
    },
    {
     "name": "stderr",
     "output_type": "stream",
     "text": [
      "Exception in thread Thread-1308:\n",
      "Traceback (most recent call last):\n",
      "  File \"/home/uttaran/anaconda3/lib/python3.6/threading.py\", line 916, in _bootstrap_inner\n",
      "    self.run()\n",
      "  File \"/home/uttaran/anaconda3/lib/python3.6/threading.py\", line 864, in run\n",
      "    self._target(*self._args, **self._kwargs)\n",
      "  File \"/home/uttaran/anaconda3/lib/python3.6/site-packages/tensorflow/python/estimator/inputs/queues/feeding_queue_runner.py\", line 94, in _run\n",
      "    sess.run(enqueue_op, feed_dict=feed_dict)\n",
      "  File \"/home/uttaran/anaconda3/lib/python3.6/site-packages/tensorflow/python/client/session.py\", line 889, in run\n",
      "    run_metadata_ptr)\n",
      "  File \"/home/uttaran/anaconda3/lib/python3.6/site-packages/tensorflow/python/client/session.py\", line 1047, in _run\n",
      "    raise RuntimeError('Attempted to use a closed Session.')\n",
      "RuntimeError: Attempted to use a closed Session.\n",
      "\n"
     ]
    },
    {
     "name": "stdout",
     "output_type": "stream",
     "text": [
      "\n",
      "######### Test accuracy #############  {'accuracy': 0.53369385, 'loss': 1.938078, 'global_step': 20000}\n",
      "C2\n",
      "C2\n",
      "C2\n",
      "C3\n",
      "3 0 3 8 128\n",
      "3 0 3 8 128\n",
      "ERROR:tensorflow:Exception in QueueRunner: Attempted to use a closed Session.\n"
     ]
    },
    {
     "name": "stderr",
     "output_type": "stream",
     "text": [
      "Exception in thread Thread-1318:\n",
      "Traceback (most recent call last):\n",
      "  File \"/home/uttaran/anaconda3/lib/python3.6/threading.py\", line 916, in _bootstrap_inner\n",
      "    self.run()\n",
      "  File \"/home/uttaran/anaconda3/lib/python3.6/threading.py\", line 864, in run\n",
      "    self._target(*self._args, **self._kwargs)\n",
      "  File \"/home/uttaran/anaconda3/lib/python3.6/site-packages/tensorflow/python/estimator/inputs/queues/feeding_queue_runner.py\", line 94, in _run\n",
      "    sess.run(enqueue_op, feed_dict=feed_dict)\n",
      "  File \"/home/uttaran/anaconda3/lib/python3.6/site-packages/tensorflow/python/client/session.py\", line 889, in run\n",
      "    run_metadata_ptr)\n",
      "  File \"/home/uttaran/anaconda3/lib/python3.6/site-packages/tensorflow/python/client/session.py\", line 1047, in _run\n",
      "    raise RuntimeError('Attempted to use a closed Session.')\n",
      "RuntimeError: Attempted to use a closed Session.\n",
      "\n"
     ]
    },
    {
     "name": "stdout",
     "output_type": "stream",
     "text": [
      "3 0 3 8 128\n",
      "ERROR:tensorflow:Exception in QueueRunner: Attempted to use a closed Session.\n"
     ]
    },
    {
     "name": "stderr",
     "output_type": "stream",
     "text": [
      "Exception in thread Thread-1323:\n",
      "Traceback (most recent call last):\n",
      "  File \"/home/uttaran/anaconda3/lib/python3.6/threading.py\", line 916, in _bootstrap_inner\n",
      "    self.run()\n",
      "  File \"/home/uttaran/anaconda3/lib/python3.6/threading.py\", line 864, in run\n",
      "    self._target(*self._args, **self._kwargs)\n",
      "  File \"/home/uttaran/anaconda3/lib/python3.6/site-packages/tensorflow/python/estimator/inputs/queues/feeding_queue_runner.py\", line 94, in _run\n",
      "    sess.run(enqueue_op, feed_dict=feed_dict)\n",
      "  File \"/home/uttaran/anaconda3/lib/python3.6/site-packages/tensorflow/python/client/session.py\", line 889, in run\n",
      "    run_metadata_ptr)\n",
      "  File \"/home/uttaran/anaconda3/lib/python3.6/site-packages/tensorflow/python/client/session.py\", line 1047, in _run\n",
      "    raise RuntimeError('Attempted to use a closed Session.')\n",
      "RuntimeError: Attempted to use a closed Session.\n",
      "\n"
     ]
    },
    {
     "name": "stdout",
     "output_type": "stream",
     "text": [
      "\n",
      "%%%%%%% Train accuracy %%%%%%%%%%%%  {'accuracy': 0.6874176, 'loss': 1.4102206, 'global_step': 30000}\n",
      "3 0 3 8 128\n",
      "\n",
      "######### Test accuracy #############  {'accuracy': 0.703931, 'loss': 1.3873831, 'global_step': 30000}\n",
      "C3\n",
      "2 1 1 6 10\n",
      "2 1 1 6 10\n",
      "ERROR:tensorflow:Exception in QueueRunner: Attempted to use a closed Session.\n"
     ]
    },
    {
     "name": "stderr",
     "output_type": "stream",
     "text": [
      "Exception in thread Thread-1339:\n",
      "Traceback (most recent call last):\n",
      "  File \"/home/uttaran/anaconda3/lib/python3.6/threading.py\", line 916, in _bootstrap_inner\n",
      "    self.run()\n",
      "  File \"/home/uttaran/anaconda3/lib/python3.6/threading.py\", line 864, in run\n",
      "    self._target(*self._args, **self._kwargs)\n",
      "  File \"/home/uttaran/anaconda3/lib/python3.6/site-packages/tensorflow/python/estimator/inputs/queues/feeding_queue_runner.py\", line 94, in _run\n",
      "    sess.run(enqueue_op, feed_dict=feed_dict)\n",
      "  File \"/home/uttaran/anaconda3/lib/python3.6/site-packages/tensorflow/python/client/session.py\", line 889, in run\n",
      "    run_metadata_ptr)\n",
      "  File \"/home/uttaran/anaconda3/lib/python3.6/site-packages/tensorflow/python/client/session.py\", line 1047, in _run\n",
      "    raise RuntimeError('Attempted to use a closed Session.')\n",
      "RuntimeError: Attempted to use a closed Session.\n",
      "\n"
     ]
    },
    {
     "name": "stdout",
     "output_type": "stream",
     "text": [
      "2 1 1 6 10\n",
      "ERROR:tensorflow:Exception in QueueRunner: Attempted to use a closed Session.\n"
     ]
    },
    {
     "name": "stderr",
     "output_type": "stream",
     "text": [
      "Exception in thread Thread-1345:\n",
      "Traceback (most recent call last):\n",
      "  File \"/home/uttaran/anaconda3/lib/python3.6/threading.py\", line 916, in _bootstrap_inner\n",
      "    self.run()\n",
      "  File \"/home/uttaran/anaconda3/lib/python3.6/threading.py\", line 864, in run\n",
      "    self._target(*self._args, **self._kwargs)\n",
      "  File \"/home/uttaran/anaconda3/lib/python3.6/site-packages/tensorflow/python/estimator/inputs/queues/feeding_queue_runner.py\", line 94, in _run\n",
      "    sess.run(enqueue_op, feed_dict=feed_dict)\n",
      "  File \"/home/uttaran/anaconda3/lib/python3.6/site-packages/tensorflow/python/client/session.py\", line 889, in run\n",
      "    run_metadata_ptr)\n",
      "  File \"/home/uttaran/anaconda3/lib/python3.6/site-packages/tensorflow/python/client/session.py\", line 1047, in _run\n",
      "    raise RuntimeError('Attempted to use a closed Session.')\n",
      "RuntimeError: Attempted to use a closed Session.\n",
      "\n"
     ]
    },
    {
     "name": "stdout",
     "output_type": "stream",
     "text": [
      "\n",
      "%%%%%%% Train accuracy %%%%%%%%%%%%  {'accuracy': 0.20063718, 'loss': 2.2381163, 'global_step': 10000}\n",
      "2 1 1 6 10\n",
      "ERROR:tensorflow:Exception in QueueRunner: Attempted to use a closed Session.\n"
     ]
    },
    {
     "name": "stderr",
     "output_type": "stream",
     "text": [
      "Exception in thread Thread-1350:\n",
      "Traceback (most recent call last):\n",
      "  File \"/home/uttaran/anaconda3/lib/python3.6/threading.py\", line 916, in _bootstrap_inner\n",
      "    self.run()\n",
      "  File \"/home/uttaran/anaconda3/lib/python3.6/threading.py\", line 864, in run\n",
      "    self._target(*self._args, **self._kwargs)\n",
      "  File \"/home/uttaran/anaconda3/lib/python3.6/site-packages/tensorflow/python/estimator/inputs/queues/feeding_queue_runner.py\", line 94, in _run\n",
      "    sess.run(enqueue_op, feed_dict=feed_dict)\n",
      "  File \"/home/uttaran/anaconda3/lib/python3.6/site-packages/tensorflow/python/client/session.py\", line 889, in run\n",
      "    run_metadata_ptr)\n",
      "  File \"/home/uttaran/anaconda3/lib/python3.6/site-packages/tensorflow/python/client/session.py\", line 1047, in _run\n",
      "    raise RuntimeError('Attempted to use a closed Session.')\n",
      "RuntimeError: Attempted to use a closed Session.\n",
      "\n"
     ]
    },
    {
     "name": "stdout",
     "output_type": "stream",
     "text": [
      "\n",
      "######### Test accuracy #############  {'accuracy': 0.2078827, 'loss': 2.237352, 'global_step': 10000}\n",
      "C2\n",
      "C3\n",
      "3 0 1 6 32\n",
      "ERROR:tensorflow:Exception in QueueRunner: Attempted to use a closed Session.\n"
     ]
    },
    {
     "name": "stderr",
     "output_type": "stream",
     "text": [
      "Exception in thread Thread-1355:\n",
      "Traceback (most recent call last):\n",
      "  File \"/home/uttaran/anaconda3/lib/python3.6/threading.py\", line 916, in _bootstrap_inner\n",
      "    self.run()\n",
      "  File \"/home/uttaran/anaconda3/lib/python3.6/threading.py\", line 864, in run\n",
      "    self._target(*self._args, **self._kwargs)\n",
      "  File \"/home/uttaran/anaconda3/lib/python3.6/site-packages/tensorflow/python/estimator/inputs/queues/feeding_queue_runner.py\", line 94, in _run\n",
      "    sess.run(enqueue_op, feed_dict=feed_dict)\n",
      "  File \"/home/uttaran/anaconda3/lib/python3.6/site-packages/tensorflow/python/client/session.py\", line 889, in run\n",
      "    run_metadata_ptr)\n",
      "  File \"/home/uttaran/anaconda3/lib/python3.6/site-packages/tensorflow/python/client/session.py\", line 1047, in _run\n",
      "    raise RuntimeError('Attempted to use a closed Session.')\n",
      "RuntimeError: Attempted to use a closed Session.\n",
      "\n"
     ]
    },
    {
     "name": "stdout",
     "output_type": "stream",
     "text": [
      "3 0 1 6 32\n",
      "ERROR:tensorflow:Exception in QueueRunner: Attempted to use a closed Session.\n"
     ]
    },
    {
     "name": "stderr",
     "output_type": "stream",
     "text": [
      "Exception in thread Thread-1360:\n",
      "Traceback (most recent call last):\n",
      "  File \"/home/uttaran/anaconda3/lib/python3.6/threading.py\", line 916, in _bootstrap_inner\n",
      "    self.run()\n",
      "  File \"/home/uttaran/anaconda3/lib/python3.6/threading.py\", line 864, in run\n",
      "    self._target(*self._args, **self._kwargs)\n",
      "  File \"/home/uttaran/anaconda3/lib/python3.6/site-packages/tensorflow/python/estimator/inputs/queues/feeding_queue_runner.py\", line 94, in _run\n",
      "    sess.run(enqueue_op, feed_dict=feed_dict)\n",
      "  File \"/home/uttaran/anaconda3/lib/python3.6/site-packages/tensorflow/python/client/session.py\", line 889, in run\n",
      "    run_metadata_ptr)\n",
      "  File \"/home/uttaran/anaconda3/lib/python3.6/site-packages/tensorflow/python/client/session.py\", line 1047, in _run\n",
      "    raise RuntimeError('Attempted to use a closed Session.')\n",
      "RuntimeError: Attempted to use a closed Session.\n",
      "\n"
     ]
    },
    {
     "name": "stdout",
     "output_type": "stream",
     "text": [
      "3 0 1 6 32\n",
      "ERROR:tensorflow:Exception in QueueRunner: Attempted to use a closed Session.\n"
     ]
    },
    {
     "name": "stderr",
     "output_type": "stream",
     "text": [
      "Exception in thread Thread-1365:\n",
      "Traceback (most recent call last):\n",
      "  File \"/home/uttaran/anaconda3/lib/python3.6/threading.py\", line 916, in _bootstrap_inner\n",
      "    self.run()\n",
      "  File \"/home/uttaran/anaconda3/lib/python3.6/threading.py\", line 864, in run\n",
      "    self._target(*self._args, **self._kwargs)\n",
      "  File \"/home/uttaran/anaconda3/lib/python3.6/site-packages/tensorflow/python/estimator/inputs/queues/feeding_queue_runner.py\", line 94, in _run\n",
      "    sess.run(enqueue_op, feed_dict=feed_dict)\n",
      "  File \"/home/uttaran/anaconda3/lib/python3.6/site-packages/tensorflow/python/client/session.py\", line 889, in run\n",
      "    run_metadata_ptr)\n",
      "  File \"/home/uttaran/anaconda3/lib/python3.6/site-packages/tensorflow/python/client/session.py\", line 1047, in _run\n",
      "    raise RuntimeError('Attempted to use a closed Session.')\n",
      "RuntimeError: Attempted to use a closed Session.\n",
      "\n"
     ]
    },
    {
     "name": "stdout",
     "output_type": "stream",
     "text": [
      "\n",
      "%%%%%%% Train accuracy %%%%%%%%%%%%  {'accuracy': 0.1745093, 'loss': 2.2960658, 'global_step': 20000}\n",
      "3 0 1 6 32\n",
      "ERROR:tensorflow:Exception in QueueRunner: Attempted to use a closed Session.\n"
     ]
    },
    {
     "name": "stderr",
     "output_type": "stream",
     "text": [
      "Exception in thread Thread-1370:\n",
      "Traceback (most recent call last):\n",
      "  File \"/home/uttaran/anaconda3/lib/python3.6/threading.py\", line 916, in _bootstrap_inner\n",
      "    self.run()\n",
      "  File \"/home/uttaran/anaconda3/lib/python3.6/threading.py\", line 864, in run\n",
      "    self._target(*self._args, **self._kwargs)\n",
      "  File \"/home/uttaran/anaconda3/lib/python3.6/site-packages/tensorflow/python/estimator/inputs/queues/feeding_queue_runner.py\", line 94, in _run\n",
      "    sess.run(enqueue_op, feed_dict=feed_dict)\n",
      "  File \"/home/uttaran/anaconda3/lib/python3.6/site-packages/tensorflow/python/client/session.py\", line 889, in run\n",
      "    run_metadata_ptr)\n",
      "  File \"/home/uttaran/anaconda3/lib/python3.6/site-packages/tensorflow/python/client/session.py\", line 1047, in _run\n",
      "    raise RuntimeError('Attempted to use a closed Session.')\n",
      "RuntimeError: Attempted to use a closed Session.\n",
      "\n"
     ]
    },
    {
     "name": "stdout",
     "output_type": "stream",
     "text": [
      "\n",
      "######### Test accuracy #############  {'accuracy': 0.17481281, 'loss': 2.2959971, 'global_step': 20000}\n",
      "C2\n",
      "C3\n",
      "2 1 3 8 10\n",
      "2 1 3 8 10\n",
      "ERROR:tensorflow:Exception in QueueRunner: Attempted to use a closed Session.\n"
     ]
    },
    {
     "name": "stderr",
     "output_type": "stream",
     "text": [
      "Exception in thread Thread-1381:\n",
      "Traceback (most recent call last):\n",
      "  File \"/home/uttaran/anaconda3/lib/python3.6/threading.py\", line 916, in _bootstrap_inner\n",
      "    self.run()\n",
      "  File \"/home/uttaran/anaconda3/lib/python3.6/threading.py\", line 864, in run\n",
      "    self._target(*self._args, **self._kwargs)\n",
      "  File \"/home/uttaran/anaconda3/lib/python3.6/site-packages/tensorflow/python/estimator/inputs/queues/feeding_queue_runner.py\", line 94, in _run\n",
      "    sess.run(enqueue_op, feed_dict=feed_dict)\n",
      "  File \"/home/uttaran/anaconda3/lib/python3.6/site-packages/tensorflow/python/client/session.py\", line 889, in run\n",
      "    run_metadata_ptr)\n",
      "  File \"/home/uttaran/anaconda3/lib/python3.6/site-packages/tensorflow/python/client/session.py\", line 1047, in _run\n",
      "    raise RuntimeError('Attempted to use a closed Session.')\n",
      "RuntimeError: Attempted to use a closed Session.\n",
      "\n"
     ]
    },
    {
     "name": "stdout",
     "output_type": "stream",
     "text": [
      "2 1 3 8 10\n",
      "\n",
      "%%%%%%% Train accuracy %%%%%%%%%%%%  {'accuracy': 0.17760363, 'loss': 2.284547, 'global_step': 10000}\n",
      "2 1 3 8 10\n",
      "ERROR:tensorflow:Exception in QueueRunner: Attempted to use a closed Session.\n"
     ]
    },
    {
     "name": "stderr",
     "output_type": "stream",
     "text": [
      "Exception in thread Thread-1392:\n",
      "Traceback (most recent call last):\n",
      "  File \"/home/uttaran/anaconda3/lib/python3.6/threading.py\", line 916, in _bootstrap_inner\n",
      "    self.run()\n",
      "  File \"/home/uttaran/anaconda3/lib/python3.6/threading.py\", line 864, in run\n",
      "    self._target(*self._args, **self._kwargs)\n",
      "  File \"/home/uttaran/anaconda3/lib/python3.6/site-packages/tensorflow/python/estimator/inputs/queues/feeding_queue_runner.py\", line 94, in _run\n",
      "    sess.run(enqueue_op, feed_dict=feed_dict)\n",
      "  File \"/home/uttaran/anaconda3/lib/python3.6/site-packages/tensorflow/python/client/session.py\", line 889, in run\n",
      "    run_metadata_ptr)\n",
      "  File \"/home/uttaran/anaconda3/lib/python3.6/site-packages/tensorflow/python/client/session.py\", line 1047, in _run\n",
      "    raise RuntimeError('Attempted to use a closed Session.')\n",
      "RuntimeError: Attempted to use a closed Session.\n",
      "\n"
     ]
    },
    {
     "name": "stdout",
     "output_type": "stream",
     "text": [
      "\n",
      "######### Test accuracy #############  {'accuracy': 0.18375623, 'loss': 2.2841141, 'global_step': 10000}\n",
      "C2\n",
      "C3\n",
      "3 0 7 4 128\n",
      "3 0 7 4 128\n",
      "ERROR:tensorflow:Exception in QueueRunner: Attempted to use a closed Session.\n"
     ]
    },
    {
     "name": "stderr",
     "output_type": "stream",
     "text": [
      "Exception in thread Thread-1402:\n",
      "Traceback (most recent call last):\n",
      "  File \"/home/uttaran/anaconda3/lib/python3.6/threading.py\", line 916, in _bootstrap_inner\n",
      "    self.run()\n",
      "  File \"/home/uttaran/anaconda3/lib/python3.6/threading.py\", line 864, in run\n",
      "    self._target(*self._args, **self._kwargs)\n",
      "  File \"/home/uttaran/anaconda3/lib/python3.6/site-packages/tensorflow/python/estimator/inputs/queues/feeding_queue_runner.py\", line 94, in _run\n",
      "    sess.run(enqueue_op, feed_dict=feed_dict)\n",
      "  File \"/home/uttaran/anaconda3/lib/python3.6/site-packages/tensorflow/python/client/session.py\", line 889, in run\n",
      "    run_metadata_ptr)\n",
      "  File \"/home/uttaran/anaconda3/lib/python3.6/site-packages/tensorflow/python/client/session.py\", line 1047, in _run\n",
      "    raise RuntimeError('Attempted to use a closed Session.')\n",
      "RuntimeError: Attempted to use a closed Session.\n",
      "\n"
     ]
    },
    {
     "name": "stdout",
     "output_type": "stream",
     "text": [
      "3 0 7 4 128\n",
      "ERROR:tensorflow:Exception in QueueRunner: Attempted to use a closed Session.\n"
     ]
    },
    {
     "name": "stderr",
     "output_type": "stream",
     "text": [
      "Exception in thread Thread-1407:\n",
      "Traceback (most recent call last):\n",
      "  File \"/home/uttaran/anaconda3/lib/python3.6/threading.py\", line 916, in _bootstrap_inner\n",
      "    self.run()\n",
      "  File \"/home/uttaran/anaconda3/lib/python3.6/threading.py\", line 864, in run\n",
      "    self._target(*self._args, **self._kwargs)\n",
      "  File \"/home/uttaran/anaconda3/lib/python3.6/site-packages/tensorflow/python/estimator/inputs/queues/feeding_queue_runner.py\", line 94, in _run\n",
      "    sess.run(enqueue_op, feed_dict=feed_dict)\n",
      "  File \"/home/uttaran/anaconda3/lib/python3.6/site-packages/tensorflow/python/client/session.py\", line 889, in run\n",
      "    run_metadata_ptr)\n",
      "  File \"/home/uttaran/anaconda3/lib/python3.6/site-packages/tensorflow/python/client/session.py\", line 1047, in _run\n",
      "    raise RuntimeError('Attempted to use a closed Session.')\n",
      "RuntimeError: Attempted to use a closed Session.\n",
      "\n"
     ]
    },
    {
     "name": "stdout",
     "output_type": "stream",
     "text": [
      "\n",
      "%%%%%%% Train accuracy %%%%%%%%%%%%  {'accuracy': 0.52493775, 'loss': 1.765595, 'global_step': 30000}\n",
      "3 0 7 4 128\n",
      "ERROR:tensorflow:Exception in QueueRunner: Attempted to use a closed Session.\n"
     ]
    },
    {
     "name": "stderr",
     "output_type": "stream",
     "text": [
      "Exception in thread Thread-1412:\n",
      "Traceback (most recent call last):\n",
      "  File \"/home/uttaran/anaconda3/lib/python3.6/threading.py\", line 916, in _bootstrap_inner\n",
      "    self.run()\n",
      "  File \"/home/uttaran/anaconda3/lib/python3.6/threading.py\", line 864, in run\n",
      "    self._target(*self._args, **self._kwargs)\n",
      "  File \"/home/uttaran/anaconda3/lib/python3.6/site-packages/tensorflow/python/estimator/inputs/queues/feeding_queue_runner.py\", line 94, in _run\n",
      "    sess.run(enqueue_op, feed_dict=feed_dict)\n",
      "  File \"/home/uttaran/anaconda3/lib/python3.6/site-packages/tensorflow/python/client/session.py\", line 889, in run\n",
      "    run_metadata_ptr)\n",
      "  File \"/home/uttaran/anaconda3/lib/python3.6/site-packages/tensorflow/python/client/session.py\", line 1047, in _run\n",
      "    raise RuntimeError('Attempted to use a closed Session.')\n",
      "RuntimeError: Attempted to use a closed Session.\n",
      "\n"
     ]
    },
    {
     "name": "stdout",
     "output_type": "stream",
     "text": [
      "\n",
      "######### Test accuracy #############  {'accuracy': 0.52839017, 'loss': 1.7496113, 'global_step': 30000}\n",
      "C2\n",
      "C2\n",
      "C2\n",
      "C3\n",
      "3 0 7 4 128\n",
      "3 0 7 4 128\n",
      "ERROR:tensorflow:Exception in QueueRunner: Attempted to use a closed Session.\n"
     ]
    },
    {
     "name": "stderr",
     "output_type": "stream",
     "text": [
      "Exception in thread Thread-1422:\n",
      "Traceback (most recent call last):\n",
      "  File \"/home/uttaran/anaconda3/lib/python3.6/threading.py\", line 916, in _bootstrap_inner\n",
      "    self.run()\n",
      "  File \"/home/uttaran/anaconda3/lib/python3.6/threading.py\", line 864, in run\n",
      "    self._target(*self._args, **self._kwargs)\n",
      "  File \"/home/uttaran/anaconda3/lib/python3.6/site-packages/tensorflow/python/estimator/inputs/queues/feeding_queue_runner.py\", line 94, in _run\n",
      "    sess.run(enqueue_op, feed_dict=feed_dict)\n",
      "  File \"/home/uttaran/anaconda3/lib/python3.6/site-packages/tensorflow/python/client/session.py\", line 889, in run\n",
      "    run_metadata_ptr)\n",
      "  File \"/home/uttaran/anaconda3/lib/python3.6/site-packages/tensorflow/python/client/session.py\", line 1047, in _run\n",
      "    raise RuntimeError('Attempted to use a closed Session.')\n",
      "RuntimeError: Attempted to use a closed Session.\n",
      "\n"
     ]
    },
    {
     "name": "stdout",
     "output_type": "stream",
     "text": [
      "3 0 7 4 128\n",
      "ERROR:tensorflow:Exception in QueueRunner: Attempted to use a closed Session.\n"
     ]
    },
    {
     "name": "stderr",
     "output_type": "stream",
     "text": [
      "Exception in thread Thread-1427:\n",
      "Traceback (most recent call last):\n",
      "  File \"/home/uttaran/anaconda3/lib/python3.6/threading.py\", line 916, in _bootstrap_inner\n",
      "    self.run()\n",
      "  File \"/home/uttaran/anaconda3/lib/python3.6/threading.py\", line 864, in run\n",
      "    self._target(*self._args, **self._kwargs)\n",
      "  File \"/home/uttaran/anaconda3/lib/python3.6/site-packages/tensorflow/python/estimator/inputs/queues/feeding_queue_runner.py\", line 94, in _run\n",
      "    sess.run(enqueue_op, feed_dict=feed_dict)\n",
      "  File \"/home/uttaran/anaconda3/lib/python3.6/site-packages/tensorflow/python/client/session.py\", line 889, in run\n",
      "    run_metadata_ptr)\n",
      "  File \"/home/uttaran/anaconda3/lib/python3.6/site-packages/tensorflow/python/client/session.py\", line 1047, in _run\n",
      "    raise RuntimeError('Attempted to use a closed Session.')\n",
      "RuntimeError: Attempted to use a closed Session.\n",
      "\n"
     ]
    },
    {
     "name": "stdout",
     "output_type": "stream",
     "text": [
      "\n",
      "%%%%%%% Train accuracy %%%%%%%%%%%%  {'accuracy': 0.77887434, 'loss': 0.97167104, 'global_step': 40000}\n",
      "3 0 7 4 128\n",
      "ERROR:tensorflow:Exception in QueueRunner: Attempted to use a closed Session.\n"
     ]
    },
    {
     "name": "stderr",
     "output_type": "stream",
     "text": [
      "Exception in thread Thread-1432:\n",
      "Traceback (most recent call last):\n",
      "  File \"/home/uttaran/anaconda3/lib/python3.6/threading.py\", line 916, in _bootstrap_inner\n",
      "    self.run()\n",
      "  File \"/home/uttaran/anaconda3/lib/python3.6/threading.py\", line 864, in run\n",
      "    self._target(*self._args, **self._kwargs)\n",
      "  File \"/home/uttaran/anaconda3/lib/python3.6/site-packages/tensorflow/python/estimator/inputs/queues/feeding_queue_runner.py\", line 94, in _run\n",
      "    sess.run(enqueue_op, feed_dict=feed_dict)\n",
      "  File \"/home/uttaran/anaconda3/lib/python3.6/site-packages/tensorflow/python/client/session.py\", line 889, in run\n",
      "    run_metadata_ptr)\n",
      "  File \"/home/uttaran/anaconda3/lib/python3.6/site-packages/tensorflow/python/client/session.py\", line 1047, in _run\n",
      "    raise RuntimeError('Attempted to use a closed Session.')\n",
      "RuntimeError: Attempted to use a closed Session.\n",
      "\n"
     ]
    },
    {
     "name": "stdout",
     "output_type": "stream",
     "text": [
      "\n",
      "######### Test accuracy #############  {'accuracy': 0.7869176, 'loss': 0.9419365, 'global_step': 40000}\n",
      "C2\n",
      "C2\n",
      "C2\n",
      "C2\n",
      "C3\n",
      "3 0 1 8 10\n",
      "3 0 1 8 10\n",
      "ERROR:tensorflow:Exception in QueueRunner: Attempted to use a closed Session.\n"
     ]
    },
    {
     "name": "stderr",
     "output_type": "stream",
     "text": [
      "Exception in thread Thread-1443:\n",
      "Traceback (most recent call last):\n",
      "  File \"/home/uttaran/anaconda3/lib/python3.6/threading.py\", line 916, in _bootstrap_inner\n",
      "    self.run()\n",
      "  File \"/home/uttaran/anaconda3/lib/python3.6/threading.py\", line 864, in run\n",
      "    self._target(*self._args, **self._kwargs)\n",
      "  File \"/home/uttaran/anaconda3/lib/python3.6/site-packages/tensorflow/python/estimator/inputs/queues/feeding_queue_runner.py\", line 94, in _run\n",
      "    sess.run(enqueue_op, feed_dict=feed_dict)\n",
      "  File \"/home/uttaran/anaconda3/lib/python3.6/site-packages/tensorflow/python/client/session.py\", line 889, in run\n",
      "    run_metadata_ptr)\n",
      "  File \"/home/uttaran/anaconda3/lib/python3.6/site-packages/tensorflow/python/client/session.py\", line 1047, in _run\n",
      "    raise RuntimeError('Attempted to use a closed Session.')\n",
      "RuntimeError: Attempted to use a closed Session.\n",
      "\n"
     ]
    },
    {
     "name": "stdout",
     "output_type": "stream",
     "text": [
      "3 0 1 8 10\n",
      "ERROR:tensorflow:Exception in QueueRunner: Attempted to use a closed Session.\n"
     ]
    },
    {
     "name": "stderr",
     "output_type": "stream",
     "text": [
      "Exception in thread Thread-1449:\n",
      "Traceback (most recent call last):\n",
      "  File \"/home/uttaran/anaconda3/lib/python3.6/threading.py\", line 916, in _bootstrap_inner\n",
      "    self.run()\n",
      "  File \"/home/uttaran/anaconda3/lib/python3.6/threading.py\", line 864, in run\n",
      "    self._target(*self._args, **self._kwargs)\n",
      "  File \"/home/uttaran/anaconda3/lib/python3.6/site-packages/tensorflow/python/estimator/inputs/queues/feeding_queue_runner.py\", line 94, in _run\n",
      "    sess.run(enqueue_op, feed_dict=feed_dict)\n",
      "  File \"/home/uttaran/anaconda3/lib/python3.6/site-packages/tensorflow/python/client/session.py\", line 889, in run\n",
      "    run_metadata_ptr)\n",
      "  File \"/home/uttaran/anaconda3/lib/python3.6/site-packages/tensorflow/python/client/session.py\", line 1047, in _run\n",
      "    raise RuntimeError('Attempted to use a closed Session.')\n",
      "RuntimeError: Attempted to use a closed Session.\n",
      "\n"
     ]
    },
    {
     "name": "stdout",
     "output_type": "stream",
     "text": [
      "\n",
      "%%%%%%% Train accuracy %%%%%%%%%%%%  {'accuracy': 0.08356526, 'loss': 2.3006532, 'global_step': 10000}\n",
      "3 0 1 8 10\n",
      "ERROR:tensorflow:Exception in QueueRunner: Attempted to use a closed Session.\n"
     ]
    },
    {
     "name": "stderr",
     "output_type": "stream",
     "text": [
      "Exception in thread Thread-1454:\n",
      "Traceback (most recent call last):\n",
      "  File \"/home/uttaran/anaconda3/lib/python3.6/threading.py\", line 916, in _bootstrap_inner\n",
      "    self.run()\n",
      "  File \"/home/uttaran/anaconda3/lib/python3.6/threading.py\", line 864, in run\n",
      "    self._target(*self._args, **self._kwargs)\n",
      "  File \"/home/uttaran/anaconda3/lib/python3.6/site-packages/tensorflow/python/estimator/inputs/queues/feeding_queue_runner.py\", line 94, in _run\n",
      "    sess.run(enqueue_op, feed_dict=feed_dict)\n",
      "  File \"/home/uttaran/anaconda3/lib/python3.6/site-packages/tensorflow/python/client/session.py\", line 889, in run\n",
      "    run_metadata_ptr)\n",
      "  File \"/home/uttaran/anaconda3/lib/python3.6/site-packages/tensorflow/python/client/session.py\", line 1047, in _run\n",
      "    raise RuntimeError('Attempted to use a closed Session.')\n",
      "RuntimeError: Attempted to use a closed Session.\n",
      "\n"
     ]
    },
    {
     "name": "stdout",
     "output_type": "stream",
     "text": [
      "\n",
      "######### Test accuracy #############  {'accuracy': 0.08257072, 'loss': 2.3001542, 'global_step': 10000}\n",
      "C3\n",
      "2 1 3 2 10\n",
      "ERROR:tensorflow:Exception in QueueRunner: Attempted to use a closed Session.\n"
     ]
    },
    {
     "name": "stderr",
     "output_type": "stream",
     "text": [
      "Exception in thread Thread-1459:\n",
      "Traceback (most recent call last):\n",
      "  File \"/home/uttaran/anaconda3/lib/python3.6/threading.py\", line 916, in _bootstrap_inner\n",
      "    self.run()\n",
      "  File \"/home/uttaran/anaconda3/lib/python3.6/threading.py\", line 864, in run\n",
      "    self._target(*self._args, **self._kwargs)\n",
      "  File \"/home/uttaran/anaconda3/lib/python3.6/site-packages/tensorflow/python/estimator/inputs/queues/feeding_queue_runner.py\", line 94, in _run\n",
      "    sess.run(enqueue_op, feed_dict=feed_dict)\n",
      "  File \"/home/uttaran/anaconda3/lib/python3.6/site-packages/tensorflow/python/client/session.py\", line 889, in run\n",
      "    run_metadata_ptr)\n",
      "  File \"/home/uttaran/anaconda3/lib/python3.6/site-packages/tensorflow/python/client/session.py\", line 1047, in _run\n",
      "    raise RuntimeError('Attempted to use a closed Session.')\n",
      "RuntimeError: Attempted to use a closed Session.\n",
      "\n"
     ]
    },
    {
     "name": "stdout",
     "output_type": "stream",
     "text": [
      "2 1 3 2 10\n",
      "ERROR:tensorflow:Exception in QueueRunner: Attempted to use a closed Session.\n"
     ]
    },
    {
     "name": "stderr",
     "output_type": "stream",
     "text": [
      "Exception in thread Thread-1465:\n",
      "Traceback (most recent call last):\n",
      "  File \"/home/uttaran/anaconda3/lib/python3.6/threading.py\", line 916, in _bootstrap_inner\n",
      "    self.run()\n",
      "  File \"/home/uttaran/anaconda3/lib/python3.6/threading.py\", line 864, in run\n",
      "    self._target(*self._args, **self._kwargs)\n",
      "  File \"/home/uttaran/anaconda3/lib/python3.6/site-packages/tensorflow/python/estimator/inputs/queues/feeding_queue_runner.py\", line 94, in _run\n",
      "    sess.run(enqueue_op, feed_dict=feed_dict)\n",
      "  File \"/home/uttaran/anaconda3/lib/python3.6/site-packages/tensorflow/python/client/session.py\", line 889, in run\n",
      "    run_metadata_ptr)\n",
      "  File \"/home/uttaran/anaconda3/lib/python3.6/site-packages/tensorflow/python/client/session.py\", line 1047, in _run\n",
      "    raise RuntimeError('Attempted to use a closed Session.')\n",
      "RuntimeError: Attempted to use a closed Session.\n",
      "\n"
     ]
    },
    {
     "name": "stdout",
     "output_type": "stream",
     "text": [
      "2 1 3 2 10\n",
      "ERROR:tensorflow:Exception in QueueRunner: Attempted to use a closed Session.\n"
     ]
    },
    {
     "name": "stderr",
     "output_type": "stream",
     "text": [
      "Exception in thread Thread-1471:\n",
      "Traceback (most recent call last):\n",
      "  File \"/home/uttaran/anaconda3/lib/python3.6/threading.py\", line 916, in _bootstrap_inner\n",
      "    self.run()\n",
      "  File \"/home/uttaran/anaconda3/lib/python3.6/threading.py\", line 864, in run\n",
      "    self._target(*self._args, **self._kwargs)\n",
      "  File \"/home/uttaran/anaconda3/lib/python3.6/site-packages/tensorflow/python/estimator/inputs/queues/feeding_queue_runner.py\", line 94, in _run\n",
      "    sess.run(enqueue_op, feed_dict=feed_dict)\n",
      "  File \"/home/uttaran/anaconda3/lib/python3.6/site-packages/tensorflow/python/client/session.py\", line 889, in run\n",
      "    run_metadata_ptr)\n",
      "  File \"/home/uttaran/anaconda3/lib/python3.6/site-packages/tensorflow/python/client/session.py\", line 1047, in _run\n",
      "    raise RuntimeError('Attempted to use a closed Session.')\n",
      "RuntimeError: Attempted to use a closed Session.\n",
      "\n"
     ]
    },
    {
     "name": "stdout",
     "output_type": "stream",
     "text": [
      "\n",
      "%%%%%%% Train accuracy %%%%%%%%%%%%  {'accuracy': 0.13598579, 'loss': 2.2980208, 'global_step': 10000}\n",
      "2 1 3 2 10\n",
      "\n",
      "######### Test accuracy #############  {'accuracy': 0.1373752, 'loss': 2.2979748, 'global_step': 10000}\n",
      "C2\n",
      "C2\n",
      "C2\n",
      "C2\n",
      "C2\n",
      "C2\n",
      "C3\n",
      "3 0 7 4 32\n",
      "3 0 7 4 32\n",
      "ERROR:tensorflow:Exception in QueueRunner: Attempted to use a closed Session.\n"
     ]
    },
    {
     "name": "stderr",
     "output_type": "stream",
     "text": [
      "Exception in thread Thread-1487:\n",
      "Traceback (most recent call last):\n",
      "  File \"/home/uttaran/anaconda3/lib/python3.6/threading.py\", line 916, in _bootstrap_inner\n",
      "    self.run()\n",
      "  File \"/home/uttaran/anaconda3/lib/python3.6/threading.py\", line 864, in run\n",
      "    self._target(*self._args, **self._kwargs)\n",
      "  File \"/home/uttaran/anaconda3/lib/python3.6/site-packages/tensorflow/python/estimator/inputs/queues/feeding_queue_runner.py\", line 94, in _run\n",
      "    sess.run(enqueue_op, feed_dict=feed_dict)\n",
      "  File \"/home/uttaran/anaconda3/lib/python3.6/site-packages/tensorflow/python/client/session.py\", line 889, in run\n",
      "    run_metadata_ptr)\n",
      "  File \"/home/uttaran/anaconda3/lib/python3.6/site-packages/tensorflow/python/client/session.py\", line 1047, in _run\n",
      "    raise RuntimeError('Attempted to use a closed Session.')\n",
      "RuntimeError: Attempted to use a closed Session.\n",
      "\n"
     ]
    },
    {
     "name": "stdout",
     "output_type": "stream",
     "text": [
      "3 0 7 4 32\n",
      "ERROR:tensorflow:Exception in QueueRunner: Attempted to use a closed Session.\n"
     ]
    },
    {
     "name": "stderr",
     "output_type": "stream",
     "text": [
      "Exception in thread Thread-1493:\n",
      "Traceback (most recent call last):\n",
      "  File \"/home/uttaran/anaconda3/lib/python3.6/threading.py\", line 916, in _bootstrap_inner\n",
      "    self.run()\n",
      "  File \"/home/uttaran/anaconda3/lib/python3.6/threading.py\", line 864, in run\n",
      "    self._target(*self._args, **self._kwargs)\n",
      "  File \"/home/uttaran/anaconda3/lib/python3.6/site-packages/tensorflow/python/estimator/inputs/queues/feeding_queue_runner.py\", line 94, in _run\n",
      "    sess.run(enqueue_op, feed_dict=feed_dict)\n",
      "  File \"/home/uttaran/anaconda3/lib/python3.6/site-packages/tensorflow/python/client/session.py\", line 889, in run\n",
      "    run_metadata_ptr)\n",
      "  File \"/home/uttaran/anaconda3/lib/python3.6/site-packages/tensorflow/python/client/session.py\", line 1047, in _run\n",
      "    raise RuntimeError('Attempted to use a closed Session.')\n",
      "RuntimeError: Attempted to use a closed Session.\n",
      "\n"
     ]
    },
    {
     "name": "stdout",
     "output_type": "stream",
     "text": [
      "\n",
      "%%%%%%% Train accuracy %%%%%%%%%%%%  {'accuracy': 0.5640838, 'loss': 1.7342812, 'global_step': 10000}\n",
      "3 0 7 4 32\n",
      "ERROR:tensorflow:Exception in QueueRunner: Attempted to use a closed Session.\n"
     ]
    },
    {
     "name": "stderr",
     "output_type": "stream",
     "text": [
      "Exception in thread Thread-1498:\n",
      "Traceback (most recent call last):\n",
      "  File \"/home/uttaran/anaconda3/lib/python3.6/threading.py\", line 916, in _bootstrap_inner\n",
      "    self.run()\n",
      "  File \"/home/uttaran/anaconda3/lib/python3.6/threading.py\", line 864, in run\n",
      "    self._target(*self._args, **self._kwargs)\n",
      "  File \"/home/uttaran/anaconda3/lib/python3.6/site-packages/tensorflow/python/estimator/inputs/queues/feeding_queue_runner.py\", line 94, in _run\n",
      "    sess.run(enqueue_op, feed_dict=feed_dict)\n",
      "  File \"/home/uttaran/anaconda3/lib/python3.6/site-packages/tensorflow/python/client/session.py\", line 889, in run\n",
      "    run_metadata_ptr)\n",
      "  File \"/home/uttaran/anaconda3/lib/python3.6/site-packages/tensorflow/python/client/session.py\", line 1047, in _run\n",
      "    raise RuntimeError('Attempted to use a closed Session.')\n",
      "RuntimeError: Attempted to use a closed Session.\n",
      "\n"
     ]
    },
    {
     "name": "stdout",
     "output_type": "stream",
     "text": [
      "\n",
      "######### Test accuracy #############  {'accuracy': 0.57882696, 'loss': 1.716661, 'global_step': 10000}\n",
      "C2\n",
      "C2\n",
      "C3\n",
      "3 0 3 6 128\n",
      "ERROR:tensorflow:Exception in QueueRunner: Attempted to use a closed Session.\n"
     ]
    },
    {
     "name": "stderr",
     "output_type": "stream",
     "text": [
      "Exception in thread Thread-1503:\n",
      "Traceback (most recent call last):\n",
      "  File \"/home/uttaran/anaconda3/lib/python3.6/threading.py\", line 916, in _bootstrap_inner\n",
      "    self.run()\n",
      "  File \"/home/uttaran/anaconda3/lib/python3.6/threading.py\", line 864, in run\n",
      "    self._target(*self._args, **self._kwargs)\n",
      "  File \"/home/uttaran/anaconda3/lib/python3.6/site-packages/tensorflow/python/estimator/inputs/queues/feeding_queue_runner.py\", line 94, in _run\n",
      "    sess.run(enqueue_op, feed_dict=feed_dict)\n",
      "  File \"/home/uttaran/anaconda3/lib/python3.6/site-packages/tensorflow/python/client/session.py\", line 889, in run\n",
      "    run_metadata_ptr)\n",
      "  File \"/home/uttaran/anaconda3/lib/python3.6/site-packages/tensorflow/python/client/session.py\", line 1047, in _run\n",
      "    raise RuntimeError('Attempted to use a closed Session.')\n",
      "RuntimeError: Attempted to use a closed Session.\n",
      "\n"
     ]
    },
    {
     "name": "stdout",
     "output_type": "stream",
     "text": [
      "3 0 3 6 128\n",
      "3 0 3 6 128\n",
      "ERROR:tensorflow:Exception in QueueRunner: Attempted to use a closed Session.\n"
     ]
    },
    {
     "name": "stderr",
     "output_type": "stream",
     "text": [
      "Exception in thread Thread-1515:\n",
      "Traceback (most recent call last):\n",
      "  File \"/home/uttaran/anaconda3/lib/python3.6/threading.py\", line 916, in _bootstrap_inner\n",
      "    self.run()\n",
      "  File \"/home/uttaran/anaconda3/lib/python3.6/threading.py\", line 864, in run\n",
      "    self._target(*self._args, **self._kwargs)\n",
      "  File \"/home/uttaran/anaconda3/lib/python3.6/site-packages/tensorflow/python/estimator/inputs/queues/feeding_queue_runner.py\", line 94, in _run\n",
      "    sess.run(enqueue_op, feed_dict=feed_dict)\n",
      "  File \"/home/uttaran/anaconda3/lib/python3.6/site-packages/tensorflow/python/client/session.py\", line 889, in run\n",
      "    run_metadata_ptr)\n",
      "  File \"/home/uttaran/anaconda3/lib/python3.6/site-packages/tensorflow/python/client/session.py\", line 1047, in _run\n",
      "    raise RuntimeError('Attempted to use a closed Session.')\n",
      "RuntimeError: Attempted to use a closed Session.\n",
      "\n"
     ]
    },
    {
     "name": "stdout",
     "output_type": "stream",
     "text": [
      "\n",
      "%%%%%%% Train accuracy %%%%%%%%%%%%  {'accuracy': 0.30767542, 'loss': 2.1769195, 'global_step': 10000}\n",
      "3 0 3 6 128\n",
      "ERROR:tensorflow:Exception in QueueRunner: Attempted to use a closed Session.\n"
     ]
    },
    {
     "name": "stderr",
     "output_type": "stream",
     "text": [
      "Exception in thread Thread-1520:\n",
      "Traceback (most recent call last):\n",
      "  File \"/home/uttaran/anaconda3/lib/python3.6/threading.py\", line 916, in _bootstrap_inner\n",
      "    self.run()\n",
      "  File \"/home/uttaran/anaconda3/lib/python3.6/threading.py\", line 864, in run\n",
      "    self._target(*self._args, **self._kwargs)\n",
      "  File \"/home/uttaran/anaconda3/lib/python3.6/site-packages/tensorflow/python/estimator/inputs/queues/feeding_queue_runner.py\", line 94, in _run\n",
      "    sess.run(enqueue_op, feed_dict=feed_dict)\n",
      "  File \"/home/uttaran/anaconda3/lib/python3.6/site-packages/tensorflow/python/client/session.py\", line 889, in run\n",
      "    run_metadata_ptr)\n",
      "  File \"/home/uttaran/anaconda3/lib/python3.6/site-packages/tensorflow/python/client/session.py\", line 1047, in _run\n",
      "    raise RuntimeError('Attempted to use a closed Session.')\n",
      "RuntimeError: Attempted to use a closed Session.\n",
      "\n"
     ]
    },
    {
     "name": "stdout",
     "output_type": "stream",
     "text": [
      "\n",
      "######### Test accuracy #############  {'accuracy': 0.31146008, 'loss': 2.1752493, 'global_step': 10000}\n",
      "C2\n",
      "C3\n",
      "3 0 5 4 10\n",
      "3 0 5 4 10\n",
      "ERROR:tensorflow:Exception in QueueRunner: Attempted to use a closed Session.\n"
     ]
    },
    {
     "name": "stderr",
     "output_type": "stream",
     "text": [
      "Exception in thread Thread-1530:\n",
      "Traceback (most recent call last):\n",
      "  File \"/home/uttaran/anaconda3/lib/python3.6/threading.py\", line 916, in _bootstrap_inner\n",
      "    self.run()\n",
      "  File \"/home/uttaran/anaconda3/lib/python3.6/threading.py\", line 864, in run\n",
      "    self._target(*self._args, **self._kwargs)\n",
      "  File \"/home/uttaran/anaconda3/lib/python3.6/site-packages/tensorflow/python/estimator/inputs/queues/feeding_queue_runner.py\", line 94, in _run\n",
      "    sess.run(enqueue_op, feed_dict=feed_dict)\n",
      "  File \"/home/uttaran/anaconda3/lib/python3.6/site-packages/tensorflow/python/client/session.py\", line 889, in run\n",
      "    run_metadata_ptr)\n",
      "  File \"/home/uttaran/anaconda3/lib/python3.6/site-packages/tensorflow/python/client/session.py\", line 1047, in _run\n",
      "    raise RuntimeError('Attempted to use a closed Session.')\n",
      "RuntimeError: Attempted to use a closed Session.\n",
      "\n"
     ]
    },
    {
     "name": "stdout",
     "output_type": "stream",
     "text": [
      "3 0 5 4 10\n",
      "ERROR:tensorflow:Exception in QueueRunner: Attempted to use a closed Session.\n"
     ]
    },
    {
     "name": "stderr",
     "output_type": "stream",
     "text": [
      "Exception in thread Thread-1535:\n",
      "Traceback (most recent call last):\n",
      "  File \"/home/uttaran/anaconda3/lib/python3.6/threading.py\", line 916, in _bootstrap_inner\n",
      "    self.run()\n",
      "  File \"/home/uttaran/anaconda3/lib/python3.6/threading.py\", line 864, in run\n",
      "    self._target(*self._args, **self._kwargs)\n",
      "  File \"/home/uttaran/anaconda3/lib/python3.6/site-packages/tensorflow/python/estimator/inputs/queues/feeding_queue_runner.py\", line 94, in _run\n",
      "    sess.run(enqueue_op, feed_dict=feed_dict)\n",
      "  File \"/home/uttaran/anaconda3/lib/python3.6/site-packages/tensorflow/python/client/session.py\", line 889, in run\n",
      "    run_metadata_ptr)\n",
      "  File \"/home/uttaran/anaconda3/lib/python3.6/site-packages/tensorflow/python/client/session.py\", line 1047, in _run\n",
      "    raise RuntimeError('Attempted to use a closed Session.')\n",
      "RuntimeError: Attempted to use a closed Session.\n",
      "\n"
     ]
    },
    {
     "name": "stdout",
     "output_type": "stream",
     "text": [
      "\n",
      "%%%%%%% Train accuracy %%%%%%%%%%%%  {'accuracy': 0.31596968, 'loss': 2.0764756, 'global_step': 20000}\n",
      "3 0 5 4 10\n",
      "ERROR:tensorflow:Exception in QueueRunner: Attempted to use a closed Session.\n"
     ]
    },
    {
     "name": "stderr",
     "output_type": "stream",
     "text": [
      "Exception in thread Thread-1540:\n",
      "Traceback (most recent call last):\n",
      "  File \"/home/uttaran/anaconda3/lib/python3.6/threading.py\", line 916, in _bootstrap_inner\n",
      "    self.run()\n",
      "  File \"/home/uttaran/anaconda3/lib/python3.6/threading.py\", line 864, in run\n",
      "    self._target(*self._args, **self._kwargs)\n",
      "  File \"/home/uttaran/anaconda3/lib/python3.6/site-packages/tensorflow/python/estimator/inputs/queues/feeding_queue_runner.py\", line 94, in _run\n",
      "    sess.run(enqueue_op, feed_dict=feed_dict)\n",
      "  File \"/home/uttaran/anaconda3/lib/python3.6/site-packages/tensorflow/python/client/session.py\", line 889, in run\n",
      "    run_metadata_ptr)\n",
      "  File \"/home/uttaran/anaconda3/lib/python3.6/site-packages/tensorflow/python/client/session.py\", line 1047, in _run\n",
      "    raise RuntimeError('Attempted to use a closed Session.')\n",
      "RuntimeError: Attempted to use a closed Session.\n",
      "\n"
     ]
    },
    {
     "name": "stdout",
     "output_type": "stream",
     "text": [
      "\n",
      "######### Test accuracy #############  {'accuracy': 0.32144344, 'loss': 2.0700223, 'global_step': 20000}\n",
      "C3\n",
      "3 0 1 2 32\n",
      "3 0 1 2 32\n",
      "ERROR:tensorflow:Exception in QueueRunner: Attempted to use a closed Session.\n"
     ]
    },
    {
     "name": "stderr",
     "output_type": "stream",
     "text": [
      "Exception in thread Thread-1550:\n",
      "Traceback (most recent call last):\n",
      "  File \"/home/uttaran/anaconda3/lib/python3.6/threading.py\", line 916, in _bootstrap_inner\n",
      "    self.run()\n",
      "  File \"/home/uttaran/anaconda3/lib/python3.6/threading.py\", line 864, in run\n",
      "    self._target(*self._args, **self._kwargs)\n",
      "  File \"/home/uttaran/anaconda3/lib/python3.6/site-packages/tensorflow/python/estimator/inputs/queues/feeding_queue_runner.py\", line 94, in _run\n",
      "    sess.run(enqueue_op, feed_dict=feed_dict)\n",
      "  File \"/home/uttaran/anaconda3/lib/python3.6/site-packages/tensorflow/python/client/session.py\", line 889, in run\n",
      "    run_metadata_ptr)\n",
      "  File \"/home/uttaran/anaconda3/lib/python3.6/site-packages/tensorflow/python/client/session.py\", line 1047, in _run\n",
      "    raise RuntimeError('Attempted to use a closed Session.')\n",
      "RuntimeError: Attempted to use a closed Session.\n",
      "\n"
     ]
    },
    {
     "name": "stdout",
     "output_type": "stream",
     "text": [
      "3 0 1 2 32\n",
      "\n",
      "%%%%%%% Train accuracy %%%%%%%%%%%%  {'accuracy': 0.11240296, 'loss': 2.3018084, 'global_step': 20000}\n",
      "3 0 1 2 32\n",
      "\n",
      "######### Test accuracy #############  {'accuracy': 0.112416804, 'loss': 2.3017945, 'global_step': 20000}\n",
      "C3\n",
      "3 0 1 6 64\n",
      "3 0 1 6 64\n",
      "3 0 1 6 64\n",
      "ERROR:tensorflow:Exception in QueueRunner: Attempted to use a closed Session.\n"
     ]
    },
    {
     "name": "stderr",
     "output_type": "stream",
     "text": [
      "Exception in thread Thread-1577:\n",
      "Traceback (most recent call last):\n",
      "  File \"/home/uttaran/anaconda3/lib/python3.6/threading.py\", line 916, in _bootstrap_inner\n",
      "    self.run()\n",
      "  File \"/home/uttaran/anaconda3/lib/python3.6/threading.py\", line 864, in run\n",
      "    self._target(*self._args, **self._kwargs)\n",
      "  File \"/home/uttaran/anaconda3/lib/python3.6/site-packages/tensorflow/python/estimator/inputs/queues/feeding_queue_runner.py\", line 94, in _run\n",
      "    sess.run(enqueue_op, feed_dict=feed_dict)\n",
      "  File \"/home/uttaran/anaconda3/lib/python3.6/site-packages/tensorflow/python/client/session.py\", line 889, in run\n",
      "    run_metadata_ptr)\n",
      "  File \"/home/uttaran/anaconda3/lib/python3.6/site-packages/tensorflow/python/client/session.py\", line 1047, in _run\n",
      "    raise RuntimeError('Attempted to use a closed Session.')\n",
      "RuntimeError: Attempted to use a closed Session.\n",
      "\n"
     ]
    },
    {
     "name": "stdout",
     "output_type": "stream",
     "text": [
      "\n",
      "%%%%%%% Train accuracy %%%%%%%%%%%%  {'accuracy': 0.19673721, 'loss': 2.2754505, 'global_step': 10000}\n",
      "3 0 1 6 64\n",
      "ERROR:tensorflow:Exception in QueueRunner: Attempted to use a closed Session.\n"
     ]
    },
    {
     "name": "stderr",
     "output_type": "stream",
     "text": [
      "Exception in thread Thread-1582:\n",
      "Traceback (most recent call last):\n",
      "  File \"/home/uttaran/anaconda3/lib/python3.6/threading.py\", line 916, in _bootstrap_inner\n",
      "    self.run()\n",
      "  File \"/home/uttaran/anaconda3/lib/python3.6/threading.py\", line 864, in run\n",
      "    self._target(*self._args, **self._kwargs)\n",
      "  File \"/home/uttaran/anaconda3/lib/python3.6/site-packages/tensorflow/python/estimator/inputs/queues/feeding_queue_runner.py\", line 94, in _run\n",
      "    sess.run(enqueue_op, feed_dict=feed_dict)\n",
      "  File \"/home/uttaran/anaconda3/lib/python3.6/site-packages/tensorflow/python/client/session.py\", line 889, in run\n",
      "    run_metadata_ptr)\n",
      "  File \"/home/uttaran/anaconda3/lib/python3.6/site-packages/tensorflow/python/client/session.py\", line 1047, in _run\n",
      "    raise RuntimeError('Attempted to use a closed Session.')\n",
      "RuntimeError: Attempted to use a closed Session.\n",
      "\n"
     ]
    },
    {
     "name": "stdout",
     "output_type": "stream",
     "text": [
      "\n",
      "######### Test accuracy #############  {'accuracy': 0.2015391, 'loss': 2.274186, 'global_step': 10000}\n",
      "C3\n",
      "3 0 3 2 32\n",
      "3 0 3 2 32\n",
      "ERROR:tensorflow:Exception in QueueRunner: Attempted to use a closed Session.\n"
     ]
    },
    {
     "name": "stderr",
     "output_type": "stream",
     "text": [
      "Exception in thread Thread-1592:\n",
      "Traceback (most recent call last):\n",
      "  File \"/home/uttaran/anaconda3/lib/python3.6/threading.py\", line 916, in _bootstrap_inner\n",
      "    self.run()\n",
      "  File \"/home/uttaran/anaconda3/lib/python3.6/threading.py\", line 864, in run\n",
      "    self._target(*self._args, **self._kwargs)\n",
      "  File \"/home/uttaran/anaconda3/lib/python3.6/site-packages/tensorflow/python/estimator/inputs/queues/feeding_queue_runner.py\", line 94, in _run\n",
      "    sess.run(enqueue_op, feed_dict=feed_dict)\n",
      "  File \"/home/uttaran/anaconda3/lib/python3.6/site-packages/tensorflow/python/client/session.py\", line 889, in run\n",
      "    run_metadata_ptr)\n",
      "  File \"/home/uttaran/anaconda3/lib/python3.6/site-packages/tensorflow/python/client/session.py\", line 1047, in _run\n",
      "    raise RuntimeError('Attempted to use a closed Session.')\n",
      "RuntimeError: Attempted to use a closed Session.\n",
      "\n"
     ]
    },
    {
     "name": "stdout",
     "output_type": "stream",
     "text": [
      "3 0 3 2 32\n",
      "ERROR:tensorflow:Exception in QueueRunner: Attempted to use a closed Session.\n"
     ]
    },
    {
     "name": "stderr",
     "output_type": "stream",
     "text": [
      "Exception in thread Thread-1597:\n",
      "Traceback (most recent call last):\n",
      "  File \"/home/uttaran/anaconda3/lib/python3.6/threading.py\", line 916, in _bootstrap_inner\n",
      "    self.run()\n",
      "  File \"/home/uttaran/anaconda3/lib/python3.6/threading.py\", line 864, in run\n",
      "    self._target(*self._args, **self._kwargs)\n",
      "  File \"/home/uttaran/anaconda3/lib/python3.6/site-packages/tensorflow/python/estimator/inputs/queues/feeding_queue_runner.py\", line 94, in _run\n",
      "    sess.run(enqueue_op, feed_dict=feed_dict)\n",
      "  File \"/home/uttaran/anaconda3/lib/python3.6/site-packages/tensorflow/python/client/session.py\", line 889, in run\n",
      "    run_metadata_ptr)\n",
      "  File \"/home/uttaran/anaconda3/lib/python3.6/site-packages/tensorflow/python/client/session.py\", line 1047, in _run\n",
      "    raise RuntimeError('Attempted to use a closed Session.')\n",
      "RuntimeError: Attempted to use a closed Session.\n",
      "\n"
     ]
    },
    {
     "name": "stdout",
     "output_type": "stream",
     "text": [
      "\n",
      "%%%%%%% Train accuracy %%%%%%%%%%%%  {'accuracy': 0.114069134, 'loss': 2.2978501, 'global_step': 30000}\n",
      "3 0 3 2 32\n",
      "ERROR:tensorflow:Exception in QueueRunner: Attempted to use a closed Session.\n"
     ]
    },
    {
     "name": "stderr",
     "output_type": "stream",
     "text": [
      "Exception in thread Thread-1602:\n",
      "Traceback (most recent call last):\n",
      "  File \"/home/uttaran/anaconda3/lib/python3.6/threading.py\", line 916, in _bootstrap_inner\n",
      "    self.run()\n",
      "  File \"/home/uttaran/anaconda3/lib/python3.6/threading.py\", line 864, in run\n",
      "    self._target(*self._args, **self._kwargs)\n",
      "  File \"/home/uttaran/anaconda3/lib/python3.6/site-packages/tensorflow/python/estimator/inputs/queues/feeding_queue_runner.py\", line 94, in _run\n",
      "    sess.run(enqueue_op, feed_dict=feed_dict)\n",
      "  File \"/home/uttaran/anaconda3/lib/python3.6/site-packages/tensorflow/python/client/session.py\", line 889, in run\n",
      "    run_metadata_ptr)\n",
      "  File \"/home/uttaran/anaconda3/lib/python3.6/site-packages/tensorflow/python/client/session.py\", line 1047, in _run\n",
      "    raise RuntimeError('Attempted to use a closed Session.')\n",
      "RuntimeError: Attempted to use a closed Session.\n",
      "\n"
     ]
    },
    {
     "name": "stdout",
     "output_type": "stream",
     "text": [
      "\n",
      "######### Test accuracy #############  {'accuracy': 0.11356073, 'loss': 2.2982147, 'global_step': 30000}\n",
      "C3\n",
      "3 0 3 2 64\n",
      "3 0 3 2 64\n",
      "ERROR:tensorflow:Exception in QueueRunner: Attempted to use a closed Session.\n"
     ]
    },
    {
     "name": "stderr",
     "output_type": "stream",
     "text": [
      "Exception in thread Thread-1612:\n",
      "Traceback (most recent call last):\n",
      "  File \"/home/uttaran/anaconda3/lib/python3.6/threading.py\", line 916, in _bootstrap_inner\n",
      "    self.run()\n",
      "  File \"/home/uttaran/anaconda3/lib/python3.6/threading.py\", line 864, in run\n",
      "    self._target(*self._args, **self._kwargs)\n",
      "  File \"/home/uttaran/anaconda3/lib/python3.6/site-packages/tensorflow/python/estimator/inputs/queues/feeding_queue_runner.py\", line 94, in _run\n",
      "    sess.run(enqueue_op, feed_dict=feed_dict)\n",
      "  File \"/home/uttaran/anaconda3/lib/python3.6/site-packages/tensorflow/python/client/session.py\", line 889, in run\n",
      "    run_metadata_ptr)\n",
      "  File \"/home/uttaran/anaconda3/lib/python3.6/site-packages/tensorflow/python/client/session.py\", line 1047, in _run\n",
      "    raise RuntimeError('Attempted to use a closed Session.')\n",
      "RuntimeError: Attempted to use a closed Session.\n",
      "\n"
     ]
    },
    {
     "name": "stdout",
     "output_type": "stream",
     "text": [
      "3 0 3 2 64\n",
      "\n",
      "%%%%%%% Train accuracy %%%%%%%%%%%%  {'accuracy': 0.14834481, 'loss': 2.289445, 'global_step': 30000}\n",
      "3 0 3 2 64\n",
      "ERROR:tensorflow:Exception in QueueRunner: Attempted to use a closed Session.\n"
     ]
    },
    {
     "name": "stderr",
     "output_type": "stream",
     "text": [
      "Exception in thread Thread-1622:\n",
      "Traceback (most recent call last):\n",
      "  File \"/home/uttaran/anaconda3/lib/python3.6/threading.py\", line 916, in _bootstrap_inner\n",
      "    self.run()\n",
      "  File \"/home/uttaran/anaconda3/lib/python3.6/threading.py\", line 864, in run\n",
      "    self._target(*self._args, **self._kwargs)\n",
      "  File \"/home/uttaran/anaconda3/lib/python3.6/site-packages/tensorflow/python/estimator/inputs/queues/feeding_queue_runner.py\", line 94, in _run\n",
      "    sess.run(enqueue_op, feed_dict=feed_dict)\n",
      "  File \"/home/uttaran/anaconda3/lib/python3.6/site-packages/tensorflow/python/client/session.py\", line 889, in run\n",
      "    run_metadata_ptr)\n",
      "  File \"/home/uttaran/anaconda3/lib/python3.6/site-packages/tensorflow/python/client/session.py\", line 1047, in _run\n",
      "    raise RuntimeError('Attempted to use a closed Session.')\n",
      "RuntimeError: Attempted to use a closed Session.\n",
      "\n"
     ]
    },
    {
     "name": "stdout",
     "output_type": "stream",
     "text": [
      "\n",
      "######### Test accuracy #############  {'accuracy': 0.1500624, 'loss': 2.2889555, 'global_step': 30000}\n",
      "C3\n",
      "2 1 7 2 10\n",
      "2 1 7 2 10\n",
      "ERROR:tensorflow:Exception in QueueRunner: Attempted to use a closed Session.\n"
     ]
    },
    {
     "name": "stderr",
     "output_type": "stream",
     "text": [
      "Exception in thread Thread-1632:\n",
      "Traceback (most recent call last):\n",
      "  File \"/home/uttaran/anaconda3/lib/python3.6/threading.py\", line 916, in _bootstrap_inner\n",
      "    self.run()\n",
      "  File \"/home/uttaran/anaconda3/lib/python3.6/threading.py\", line 864, in run\n",
      "    self._target(*self._args, **self._kwargs)\n",
      "  File \"/home/uttaran/anaconda3/lib/python3.6/site-packages/tensorflow/python/estimator/inputs/queues/feeding_queue_runner.py\", line 94, in _run\n",
      "    sess.run(enqueue_op, feed_dict=feed_dict)\n",
      "  File \"/home/uttaran/anaconda3/lib/python3.6/site-packages/tensorflow/python/client/session.py\", line 889, in run\n",
      "    run_metadata_ptr)\n",
      "  File \"/home/uttaran/anaconda3/lib/python3.6/site-packages/tensorflow/python/client/session.py\", line 1047, in _run\n",
      "    raise RuntimeError('Attempted to use a closed Session.')\n",
      "RuntimeError: Attempted to use a closed Session.\n",
      "\n"
     ]
    },
    {
     "name": "stdout",
     "output_type": "stream",
     "text": [
      "2 1 7 2 10\n",
      "ERROR:tensorflow:Exception in QueueRunner: Attempted to use a closed Session.\n"
     ]
    },
    {
     "name": "stderr",
     "output_type": "stream",
     "text": [
      "Exception in thread Thread-1637:\n",
      "Traceback (most recent call last):\n",
      "  File \"/home/uttaran/anaconda3/lib/python3.6/threading.py\", line 916, in _bootstrap_inner\n",
      "    self.run()\n",
      "  File \"/home/uttaran/anaconda3/lib/python3.6/threading.py\", line 864, in run\n",
      "    self._target(*self._args, **self._kwargs)\n",
      "  File \"/home/uttaran/anaconda3/lib/python3.6/site-packages/tensorflow/python/estimator/inputs/queues/feeding_queue_runner.py\", line 94, in _run\n",
      "    sess.run(enqueue_op, feed_dict=feed_dict)\n",
      "  File \"/home/uttaran/anaconda3/lib/python3.6/site-packages/tensorflow/python/client/session.py\", line 889, in run\n",
      "    run_metadata_ptr)\n",
      "  File \"/home/uttaran/anaconda3/lib/python3.6/site-packages/tensorflow/python/client/session.py\", line 1047, in _run\n",
      "    raise RuntimeError('Attempted to use a closed Session.')\n",
      "RuntimeError: Attempted to use a closed Session.\n",
      "\n"
     ]
    },
    {
     "name": "stdout",
     "output_type": "stream",
     "text": [
      "\n",
      "%%%%%%% Train accuracy %%%%%%%%%%%%  {'accuracy': 0.5060056, 'loss': 1.6298648, 'global_step': 20000}\n",
      "2 1 7 2 10\n",
      "ERROR:tensorflow:Exception in QueueRunner: Attempted to use a closed Session.\n"
     ]
    },
    {
     "name": "stderr",
     "output_type": "stream",
     "text": [
      "Exception in thread Thread-1642:\n",
      "Traceback (most recent call last):\n",
      "  File \"/home/uttaran/anaconda3/lib/python3.6/threading.py\", line 916, in _bootstrap_inner\n",
      "    self.run()\n",
      "  File \"/home/uttaran/anaconda3/lib/python3.6/threading.py\", line 864, in run\n",
      "    self._target(*self._args, **self._kwargs)\n",
      "  File \"/home/uttaran/anaconda3/lib/python3.6/site-packages/tensorflow/python/estimator/inputs/queues/feeding_queue_runner.py\", line 94, in _run\n",
      "    sess.run(enqueue_op, feed_dict=feed_dict)\n",
      "  File \"/home/uttaran/anaconda3/lib/python3.6/site-packages/tensorflow/python/client/session.py\", line 889, in run\n",
      "    run_metadata_ptr)\n",
      "  File \"/home/uttaran/anaconda3/lib/python3.6/site-packages/tensorflow/python/client/session.py\", line 1047, in _run\n",
      "    raise RuntimeError('Attempted to use a closed Session.')\n",
      "RuntimeError: Attempted to use a closed Session.\n",
      "\n"
     ]
    },
    {
     "name": "stdout",
     "output_type": "stream",
     "text": [
      "\n",
      "######### Test accuracy #############  {'accuracy': 0.515079, 'loss': 1.621771, 'global_step': 20000}\n",
      "C2\n",
      "C3\n",
      "3 0 7 2 32\n",
      "ERROR:tensorflow:Exception in QueueRunner: Attempted to use a closed Session.\n"
     ]
    },
    {
     "name": "stderr",
     "output_type": "stream",
     "text": [
      "Exception in thread Thread-1647:\n",
      "Traceback (most recent call last):\n",
      "  File \"/home/uttaran/anaconda3/lib/python3.6/threading.py\", line 916, in _bootstrap_inner\n",
      "    self.run()\n",
      "  File \"/home/uttaran/anaconda3/lib/python3.6/threading.py\", line 864, in run\n",
      "    self._target(*self._args, **self._kwargs)\n",
      "  File \"/home/uttaran/anaconda3/lib/python3.6/site-packages/tensorflow/python/estimator/inputs/queues/feeding_queue_runner.py\", line 94, in _run\n",
      "    sess.run(enqueue_op, feed_dict=feed_dict)\n",
      "  File \"/home/uttaran/anaconda3/lib/python3.6/site-packages/tensorflow/python/client/session.py\", line 889, in run\n",
      "    run_metadata_ptr)\n",
      "  File \"/home/uttaran/anaconda3/lib/python3.6/site-packages/tensorflow/python/client/session.py\", line 1047, in _run\n",
      "    raise RuntimeError('Attempted to use a closed Session.')\n",
      "RuntimeError: Attempted to use a closed Session.\n",
      "\n"
     ]
    },
    {
     "name": "stdout",
     "output_type": "stream",
     "text": [
      "3 0 7 2 32\n",
      "ERROR:tensorflow:Exception in QueueRunner: Attempted to use a closed Session.\n"
     ]
    },
    {
     "name": "stderr",
     "output_type": "stream",
     "text": [
      "Exception in thread Thread-1652:\n",
      "Traceback (most recent call last):\n",
      "  File \"/home/uttaran/anaconda3/lib/python3.6/threading.py\", line 916, in _bootstrap_inner\n",
      "    self.run()\n",
      "  File \"/home/uttaran/anaconda3/lib/python3.6/threading.py\", line 864, in run\n",
      "    self._target(*self._args, **self._kwargs)\n",
      "  File \"/home/uttaran/anaconda3/lib/python3.6/site-packages/tensorflow/python/estimator/inputs/queues/feeding_queue_runner.py\", line 94, in _run\n",
      "    sess.run(enqueue_op, feed_dict=feed_dict)\n",
      "  File \"/home/uttaran/anaconda3/lib/python3.6/site-packages/tensorflow/python/client/session.py\", line 889, in run\n",
      "    run_metadata_ptr)\n",
      "  File \"/home/uttaran/anaconda3/lib/python3.6/site-packages/tensorflow/python/client/session.py\", line 1047, in _run\n",
      "    raise RuntimeError('Attempted to use a closed Session.')\n",
      "RuntimeError: Attempted to use a closed Session.\n",
      "\n"
     ]
    },
    {
     "name": "stdout",
     "output_type": "stream",
     "text": [
      "3 0 7 2 32\n",
      "ERROR:tensorflow:Exception in QueueRunner: Attempted to use a closed Session.\n"
     ]
    },
    {
     "name": "stderr",
     "output_type": "stream",
     "text": [
      "Exception in thread Thread-1657:\n",
      "Traceback (most recent call last):\n",
      "  File \"/home/uttaran/anaconda3/lib/python3.6/threading.py\", line 916, in _bootstrap_inner\n",
      "    self.run()\n",
      "  File \"/home/uttaran/anaconda3/lib/python3.6/threading.py\", line 864, in run\n",
      "    self._target(*self._args, **self._kwargs)\n",
      "  File \"/home/uttaran/anaconda3/lib/python3.6/site-packages/tensorflow/python/estimator/inputs/queues/feeding_queue_runner.py\", line 94, in _run\n",
      "    sess.run(enqueue_op, feed_dict=feed_dict)\n",
      "  File \"/home/uttaran/anaconda3/lib/python3.6/site-packages/tensorflow/python/client/session.py\", line 889, in run\n",
      "    run_metadata_ptr)\n",
      "  File \"/home/uttaran/anaconda3/lib/python3.6/site-packages/tensorflow/python/client/session.py\", line 1047, in _run\n",
      "    raise RuntimeError('Attempted to use a closed Session.')\n",
      "RuntimeError: Attempted to use a closed Session.\n",
      "\n"
     ]
    },
    {
     "name": "stdout",
     "output_type": "stream",
     "text": [
      "\n",
      "%%%%%%% Train accuracy %%%%%%%%%%%%  {'accuracy': 0.21643841, 'loss': 2.2740545, 'global_step': 20000}\n",
      "3 0 7 2 32\n",
      "ERROR:tensorflow:Exception in QueueRunner: Attempted to use a closed Session.\n"
     ]
    },
    {
     "name": "stderr",
     "output_type": "stream",
     "text": [
      "Exception in thread Thread-1662:\n",
      "Traceback (most recent call last):\n",
      "  File \"/home/uttaran/anaconda3/lib/python3.6/threading.py\", line 916, in _bootstrap_inner\n",
      "    self.run()\n",
      "  File \"/home/uttaran/anaconda3/lib/python3.6/threading.py\", line 864, in run\n",
      "    self._target(*self._args, **self._kwargs)\n",
      "  File \"/home/uttaran/anaconda3/lib/python3.6/site-packages/tensorflow/python/estimator/inputs/queues/feeding_queue_runner.py\", line 94, in _run\n",
      "    sess.run(enqueue_op, feed_dict=feed_dict)\n",
      "  File \"/home/uttaran/anaconda3/lib/python3.6/site-packages/tensorflow/python/client/session.py\", line 889, in run\n",
      "    run_metadata_ptr)\n",
      "  File \"/home/uttaran/anaconda3/lib/python3.6/site-packages/tensorflow/python/client/session.py\", line 1047, in _run\n",
      "    raise RuntimeError('Attempted to use a closed Session.')\n",
      "RuntimeError: Attempted to use a closed Session.\n",
      "\n"
     ]
    },
    {
     "name": "stdout",
     "output_type": "stream",
     "text": [
      "\n",
      "######### Test accuracy #############  {'accuracy': 0.21703412, 'loss': 2.2735937, 'global_step': 20000}\n",
      "C3\n",
      "2 1 7 4 10\n",
      "2 1 7 4 10\n",
      "2 1 7 4 10\n",
      "ERROR:tensorflow:Exception in QueueRunner: Attempted to use a closed Session.\n"
     ]
    },
    {
     "name": "stderr",
     "output_type": "stream",
     "text": [
      "Exception in thread Thread-1677:\n",
      "Traceback (most recent call last):\n",
      "  File \"/home/uttaran/anaconda3/lib/python3.6/threading.py\", line 916, in _bootstrap_inner\n",
      "    self.run()\n",
      "  File \"/home/uttaran/anaconda3/lib/python3.6/threading.py\", line 864, in run\n",
      "    self._target(*self._args, **self._kwargs)\n",
      "  File \"/home/uttaran/anaconda3/lib/python3.6/site-packages/tensorflow/python/estimator/inputs/queues/feeding_queue_runner.py\", line 94, in _run\n",
      "    sess.run(enqueue_op, feed_dict=feed_dict)\n",
      "  File \"/home/uttaran/anaconda3/lib/python3.6/site-packages/tensorflow/python/client/session.py\", line 889, in run\n",
      "    run_metadata_ptr)\n",
      "  File \"/home/uttaran/anaconda3/lib/python3.6/site-packages/tensorflow/python/client/session.py\", line 1047, in _run\n",
      "    raise RuntimeError('Attempted to use a closed Session.')\n",
      "RuntimeError: Attempted to use a closed Session.\n",
      "\n"
     ]
    },
    {
     "name": "stdout",
     "output_type": "stream",
     "text": [
      "\n",
      "%%%%%%% Train accuracy %%%%%%%%%%%%  {'accuracy': 0.38889703, 'loss': 1.8506708, 'global_step': 20000}\n",
      "2 1 7 4 10\n",
      "\n",
      "######### Test accuracy #############  {'accuracy': 0.39777455, 'loss': 1.8362242, 'global_step': 20000}\n",
      "C2\n",
      "C2\n",
      "C2\n",
      "C3\n",
      "2 1 7 2 32\n",
      "2 1 7 2 32\n",
      "ERROR:tensorflow:Exception in QueueRunner: Attempted to use a closed Session.\n"
     ]
    },
    {
     "name": "stderr",
     "output_type": "stream",
     "text": [
      "Exception in thread Thread-1692:\n",
      "Traceback (most recent call last):\n",
      "  File \"/home/uttaran/anaconda3/lib/python3.6/threading.py\", line 916, in _bootstrap_inner\n",
      "    self.run()\n",
      "  File \"/home/uttaran/anaconda3/lib/python3.6/threading.py\", line 864, in run\n",
      "    self._target(*self._args, **self._kwargs)\n",
      "  File \"/home/uttaran/anaconda3/lib/python3.6/site-packages/tensorflow/python/estimator/inputs/queues/feeding_queue_runner.py\", line 94, in _run\n",
      "    sess.run(enqueue_op, feed_dict=feed_dict)\n",
      "  File \"/home/uttaran/anaconda3/lib/python3.6/site-packages/tensorflow/python/client/session.py\", line 889, in run\n",
      "    run_metadata_ptr)\n",
      "  File \"/home/uttaran/anaconda3/lib/python3.6/site-packages/tensorflow/python/client/session.py\", line 1047, in _run\n",
      "    raise RuntimeError('Attempted to use a closed Session.')\n",
      "RuntimeError: Attempted to use a closed Session.\n",
      "\n"
     ]
    },
    {
     "name": "stdout",
     "output_type": "stream",
     "text": [
      "2 1 7 2 32\n",
      "ERROR:tensorflow:Exception in QueueRunner: Attempted to use a closed Session.\n"
     ]
    },
    {
     "name": "stderr",
     "output_type": "stream",
     "text": [
      "Exception in thread Thread-1697:\n",
      "Traceback (most recent call last):\n",
      "  File \"/home/uttaran/anaconda3/lib/python3.6/threading.py\", line 916, in _bootstrap_inner\n",
      "    self.run()\n",
      "  File \"/home/uttaran/anaconda3/lib/python3.6/threading.py\", line 864, in run\n",
      "    self._target(*self._args, **self._kwargs)\n",
      "  File \"/home/uttaran/anaconda3/lib/python3.6/site-packages/tensorflow/python/estimator/inputs/queues/feeding_queue_runner.py\", line 94, in _run\n",
      "    sess.run(enqueue_op, feed_dict=feed_dict)\n",
      "  File \"/home/uttaran/anaconda3/lib/python3.6/site-packages/tensorflow/python/client/session.py\", line 889, in run\n",
      "    run_metadata_ptr)\n",
      "  File \"/home/uttaran/anaconda3/lib/python3.6/site-packages/tensorflow/python/client/session.py\", line 1047, in _run\n",
      "    raise RuntimeError('Attempted to use a closed Session.')\n",
      "RuntimeError: Attempted to use a closed Session.\n",
      "\n"
     ]
    },
    {
     "name": "stdout",
     "output_type": "stream",
     "text": [
      "\n",
      "%%%%%%% Train accuracy %%%%%%%%%%%%  {'accuracy': 0.64770395, 'loss': 1.4568927, 'global_step': 20000}\n",
      "2 1 7 2 32\n",
      "ERROR:tensorflow:Exception in QueueRunner: Attempted to use a closed Session.\n"
     ]
    },
    {
     "name": "stderr",
     "output_type": "stream",
     "text": [
      "Exception in thread Thread-1702:\n",
      "Traceback (most recent call last):\n",
      "  File \"/home/uttaran/anaconda3/lib/python3.6/threading.py\", line 916, in _bootstrap_inner\n",
      "    self.run()\n",
      "  File \"/home/uttaran/anaconda3/lib/python3.6/threading.py\", line 864, in run\n",
      "    self._target(*self._args, **self._kwargs)\n",
      "  File \"/home/uttaran/anaconda3/lib/python3.6/site-packages/tensorflow/python/estimator/inputs/queues/feeding_queue_runner.py\", line 94, in _run\n",
      "    sess.run(enqueue_op, feed_dict=feed_dict)\n",
      "  File \"/home/uttaran/anaconda3/lib/python3.6/site-packages/tensorflow/python/client/session.py\", line 889, in run\n",
      "    run_metadata_ptr)\n",
      "  File \"/home/uttaran/anaconda3/lib/python3.6/site-packages/tensorflow/python/client/session.py\", line 1047, in _run\n",
      "    raise RuntimeError('Attempted to use a closed Session.')\n",
      "RuntimeError: Attempted to use a closed Session.\n",
      "\n"
     ]
    },
    {
     "name": "stdout",
     "output_type": "stream",
     "text": [
      "\n",
      "######### Test accuracy #############  {'accuracy': 0.64746255, 'loss': 1.4466664, 'global_step': 20000}\n",
      "C3\n",
      "3 0 1 6 128\n",
      "ERROR:tensorflow:Exception in QueueRunner: Attempted to use a closed Session.\n"
     ]
    },
    {
     "name": "stderr",
     "output_type": "stream",
     "text": [
      "Exception in thread Thread-1707:\n",
      "Traceback (most recent call last):\n",
      "  File \"/home/uttaran/anaconda3/lib/python3.6/threading.py\", line 916, in _bootstrap_inner\n",
      "    self.run()\n",
      "  File \"/home/uttaran/anaconda3/lib/python3.6/threading.py\", line 864, in run\n",
      "    self._target(*self._args, **self._kwargs)\n",
      "  File \"/home/uttaran/anaconda3/lib/python3.6/site-packages/tensorflow/python/estimator/inputs/queues/feeding_queue_runner.py\", line 94, in _run\n",
      "    sess.run(enqueue_op, feed_dict=feed_dict)\n",
      "  File \"/home/uttaran/anaconda3/lib/python3.6/site-packages/tensorflow/python/client/session.py\", line 889, in run\n",
      "    run_metadata_ptr)\n",
      "  File \"/home/uttaran/anaconda3/lib/python3.6/site-packages/tensorflow/python/client/session.py\", line 1047, in _run\n",
      "    raise RuntimeError('Attempted to use a closed Session.')\n",
      "RuntimeError: Attempted to use a closed Session.\n",
      "\n"
     ]
    },
    {
     "name": "stdout",
     "output_type": "stream",
     "text": [
      "3 0 1 6 128\n",
      "ERROR:tensorflow:Exception in QueueRunner: Attempted to use a closed Session.\n"
     ]
    },
    {
     "name": "stderr",
     "output_type": "stream",
     "text": [
      "Exception in thread Thread-1713:\n",
      "Traceback (most recent call last):\n",
      "  File \"/home/uttaran/anaconda3/lib/python3.6/threading.py\", line 916, in _bootstrap_inner\n",
      "    self.run()\n",
      "  File \"/home/uttaran/anaconda3/lib/python3.6/threading.py\", line 864, in run\n",
      "    self._target(*self._args, **self._kwargs)\n",
      "  File \"/home/uttaran/anaconda3/lib/python3.6/site-packages/tensorflow/python/estimator/inputs/queues/feeding_queue_runner.py\", line 94, in _run\n",
      "    sess.run(enqueue_op, feed_dict=feed_dict)\n",
      "  File \"/home/uttaran/anaconda3/lib/python3.6/site-packages/tensorflow/python/client/session.py\", line 889, in run\n",
      "    run_metadata_ptr)\n",
      "  File \"/home/uttaran/anaconda3/lib/python3.6/site-packages/tensorflow/python/client/session.py\", line 1047, in _run\n",
      "    raise RuntimeError('Attempted to use a closed Session.')\n",
      "RuntimeError: Attempted to use a closed Session.\n",
      "\n"
     ]
    },
    {
     "name": "stdout",
     "output_type": "stream",
     "text": [
      "3 0 1 6 128\n",
      "ERROR:tensorflow:Exception in QueueRunner: Attempted to use a closed Session.\n"
     ]
    },
    {
     "name": "stderr",
     "output_type": "stream",
     "text": [
      "Exception in thread Thread-1719:\n",
      "Traceback (most recent call last):\n",
      "  File \"/home/uttaran/anaconda3/lib/python3.6/threading.py\", line 916, in _bootstrap_inner\n",
      "    self.run()\n",
      "  File \"/home/uttaran/anaconda3/lib/python3.6/threading.py\", line 864, in run\n",
      "    self._target(*self._args, **self._kwargs)\n",
      "  File \"/home/uttaran/anaconda3/lib/python3.6/site-packages/tensorflow/python/estimator/inputs/queues/feeding_queue_runner.py\", line 94, in _run\n",
      "    sess.run(enqueue_op, feed_dict=feed_dict)\n",
      "  File \"/home/uttaran/anaconda3/lib/python3.6/site-packages/tensorflow/python/client/session.py\", line 889, in run\n",
      "    run_metadata_ptr)\n",
      "  File \"/home/uttaran/anaconda3/lib/python3.6/site-packages/tensorflow/python/client/session.py\", line 1047, in _run\n",
      "    raise RuntimeError('Attempted to use a closed Session.')\n",
      "RuntimeError: Attempted to use a closed Session.\n",
      "\n"
     ]
    },
    {
     "name": "stdout",
     "output_type": "stream",
     "text": [
      "\n",
      "%%%%%%% Train accuracy %%%%%%%%%%%%  {'accuracy': 0.15411235, 'loss': 2.2998083, 'global_step': 10000}\n",
      "3 0 1 6 128\n",
      "\n",
      "######### Test accuracy #############  {'accuracy': 0.1498544, 'loss': 2.3000178, 'global_step': 10000}\n",
      "C3\n",
      "3 0 7 2 10\n",
      "3 0 7 2 10\n",
      "ERROR:tensorflow:Exception in QueueRunner: Attempted to use a closed Session.\n"
     ]
    },
    {
     "name": "stderr",
     "output_type": "stream",
     "text": [
      "Exception in thread Thread-1734:\n",
      "Traceback (most recent call last):\n",
      "  File \"/home/uttaran/anaconda3/lib/python3.6/threading.py\", line 916, in _bootstrap_inner\n",
      "    self.run()\n",
      "  File \"/home/uttaran/anaconda3/lib/python3.6/threading.py\", line 864, in run\n",
      "    self._target(*self._args, **self._kwargs)\n",
      "  File \"/home/uttaran/anaconda3/lib/python3.6/site-packages/tensorflow/python/estimator/inputs/queues/feeding_queue_runner.py\", line 94, in _run\n",
      "    sess.run(enqueue_op, feed_dict=feed_dict)\n",
      "  File \"/home/uttaran/anaconda3/lib/python3.6/site-packages/tensorflow/python/client/session.py\", line 889, in run\n",
      "    run_metadata_ptr)\n",
      "  File \"/home/uttaran/anaconda3/lib/python3.6/site-packages/tensorflow/python/client/session.py\", line 1047, in _run\n",
      "    raise RuntimeError('Attempted to use a closed Session.')\n",
      "RuntimeError: Attempted to use a closed Session.\n",
      "\n"
     ]
    },
    {
     "name": "stdout",
     "output_type": "stream",
     "text": [
      "3 0 7 2 10\n",
      "ERROR:tensorflow:Exception in QueueRunner: Attempted to use a closed Session.\n"
     ]
    },
    {
     "name": "stderr",
     "output_type": "stream",
     "text": [
      "Exception in thread Thread-1739:\n",
      "Traceback (most recent call last):\n",
      "  File \"/home/uttaran/anaconda3/lib/python3.6/threading.py\", line 916, in _bootstrap_inner\n",
      "    self.run()\n",
      "  File \"/home/uttaran/anaconda3/lib/python3.6/threading.py\", line 864, in run\n",
      "    self._target(*self._args, **self._kwargs)\n",
      "  File \"/home/uttaran/anaconda3/lib/python3.6/site-packages/tensorflow/python/estimator/inputs/queues/feeding_queue_runner.py\", line 94, in _run\n",
      "    sess.run(enqueue_op, feed_dict=feed_dict)\n",
      "  File \"/home/uttaran/anaconda3/lib/python3.6/site-packages/tensorflow/python/client/session.py\", line 889, in run\n",
      "    run_metadata_ptr)\n",
      "  File \"/home/uttaran/anaconda3/lib/python3.6/site-packages/tensorflow/python/client/session.py\", line 1047, in _run\n",
      "    raise RuntimeError('Attempted to use a closed Session.')\n",
      "RuntimeError: Attempted to use a closed Session.\n",
      "\n"
     ]
    },
    {
     "name": "stdout",
     "output_type": "stream",
     "text": [
      "\n",
      "%%%%%%% Train accuracy %%%%%%%%%%%%  {'accuracy': 0.48943534, 'loss': 1.7212795, 'global_step': 20000}\n",
      "3 0 7 2 10\n",
      "ERROR:tensorflow:Exception in QueueRunner: Attempted to use a closed Session.\n"
     ]
    },
    {
     "name": "stderr",
     "output_type": "stream",
     "text": [
      "Exception in thread Thread-1744:\n",
      "Traceback (most recent call last):\n",
      "  File \"/home/uttaran/anaconda3/lib/python3.6/threading.py\", line 916, in _bootstrap_inner\n",
      "    self.run()\n",
      "  File \"/home/uttaran/anaconda3/lib/python3.6/threading.py\", line 864, in run\n",
      "    self._target(*self._args, **self._kwargs)\n",
      "  File \"/home/uttaran/anaconda3/lib/python3.6/site-packages/tensorflow/python/estimator/inputs/queues/feeding_queue_runner.py\", line 94, in _run\n",
      "    sess.run(enqueue_op, feed_dict=feed_dict)\n",
      "  File \"/home/uttaran/anaconda3/lib/python3.6/site-packages/tensorflow/python/client/session.py\", line 889, in run\n",
      "    run_metadata_ptr)\n",
      "  File \"/home/uttaran/anaconda3/lib/python3.6/site-packages/tensorflow/python/client/session.py\", line 1047, in _run\n",
      "    raise RuntimeError('Attempted to use a closed Session.')\n",
      "RuntimeError: Attempted to use a closed Session.\n",
      "\n"
     ]
    },
    {
     "name": "stdout",
     "output_type": "stream",
     "text": [
      "\n",
      "######### Test accuracy #############  {'accuracy': 0.5062396, 'loss': 1.6948425, 'global_step': 20000}\n",
      "C2\n",
      "C3\n",
      "2 1 1 8 10\n",
      "ERROR:tensorflow:Exception in QueueRunner: Attempted to use a closed Session.\n"
     ]
    },
    {
     "name": "stderr",
     "output_type": "stream",
     "text": [
      "Exception in thread Thread-1749:\n",
      "Traceback (most recent call last):\n",
      "  File \"/home/uttaran/anaconda3/lib/python3.6/threading.py\", line 916, in _bootstrap_inner\n",
      "    self.run()\n",
      "  File \"/home/uttaran/anaconda3/lib/python3.6/threading.py\", line 864, in run\n",
      "    self._target(*self._args, **self._kwargs)\n",
      "  File \"/home/uttaran/anaconda3/lib/python3.6/site-packages/tensorflow/python/estimator/inputs/queues/feeding_queue_runner.py\", line 94, in _run\n",
      "    sess.run(enqueue_op, feed_dict=feed_dict)\n",
      "  File \"/home/uttaran/anaconda3/lib/python3.6/site-packages/tensorflow/python/client/session.py\", line 889, in run\n",
      "    run_metadata_ptr)\n",
      "  File \"/home/uttaran/anaconda3/lib/python3.6/site-packages/tensorflow/python/client/session.py\", line 1047, in _run\n",
      "    raise RuntimeError('Attempted to use a closed Session.')\n",
      "RuntimeError: Attempted to use a closed Session.\n",
      "\n"
     ]
    },
    {
     "name": "stdout",
     "output_type": "stream",
     "text": [
      "2 1 1 8 10\n",
      "ERROR:tensorflow:Exception in QueueRunner: Attempted to use a closed Session.\n"
     ]
    },
    {
     "name": "stderr",
     "output_type": "stream",
     "text": [
      "Exception in thread Thread-1755:\n",
      "Traceback (most recent call last):\n",
      "  File \"/home/uttaran/anaconda3/lib/python3.6/threading.py\", line 916, in _bootstrap_inner\n",
      "    self.run()\n",
      "  File \"/home/uttaran/anaconda3/lib/python3.6/threading.py\", line 864, in run\n",
      "    self._target(*self._args, **self._kwargs)\n",
      "  File \"/home/uttaran/anaconda3/lib/python3.6/site-packages/tensorflow/python/estimator/inputs/queues/feeding_queue_runner.py\", line 94, in _run\n",
      "    sess.run(enqueue_op, feed_dict=feed_dict)\n",
      "  File \"/home/uttaran/anaconda3/lib/python3.6/site-packages/tensorflow/python/client/session.py\", line 889, in run\n",
      "    run_metadata_ptr)\n",
      "  File \"/home/uttaran/anaconda3/lib/python3.6/site-packages/tensorflow/python/client/session.py\", line 1047, in _run\n",
      "    raise RuntimeError('Attempted to use a closed Session.')\n",
      "RuntimeError: Attempted to use a closed Session.\n",
      "\n"
     ]
    },
    {
     "name": "stdout",
     "output_type": "stream",
     "text": [
      "2 1 1 8 10\n",
      "ERROR:tensorflow:Exception in QueueRunner: Attempted to use a closed Session.\n"
     ]
    },
    {
     "name": "stderr",
     "output_type": "stream",
     "text": [
      "Exception in thread Thread-1761:\n",
      "Traceback (most recent call last):\n",
      "  File \"/home/uttaran/anaconda3/lib/python3.6/threading.py\", line 916, in _bootstrap_inner\n",
      "    self.run()\n",
      "  File \"/home/uttaran/anaconda3/lib/python3.6/threading.py\", line 864, in run\n",
      "    self._target(*self._args, **self._kwargs)\n",
      "  File \"/home/uttaran/anaconda3/lib/python3.6/site-packages/tensorflow/python/estimator/inputs/queues/feeding_queue_runner.py\", line 94, in _run\n",
      "    sess.run(enqueue_op, feed_dict=feed_dict)\n",
      "  File \"/home/uttaran/anaconda3/lib/python3.6/site-packages/tensorflow/python/client/session.py\", line 889, in run\n",
      "    run_metadata_ptr)\n",
      "  File \"/home/uttaran/anaconda3/lib/python3.6/site-packages/tensorflow/python/client/session.py\", line 1047, in _run\n",
      "    raise RuntimeError('Attempted to use a closed Session.')\n",
      "RuntimeError: Attempted to use a closed Session.\n",
      "\n"
     ]
    },
    {
     "name": "stdout",
     "output_type": "stream",
     "text": [
      "\n",
      "%%%%%%% Train accuracy %%%%%%%%%%%%  {'accuracy': 0.29868537, 'loss': 2.1681116, 'global_step': 10000}\n",
      "2 1 1 8 10\n",
      "ERROR:tensorflow:Exception in QueueRunner: Attempted to use a closed Session.\n"
     ]
    },
    {
     "name": "stderr",
     "output_type": "stream",
     "text": [
      "Exception in thread Thread-1766:\n",
      "Traceback (most recent call last):\n",
      "  File \"/home/uttaran/anaconda3/lib/python3.6/threading.py\", line 916, in _bootstrap_inner\n",
      "    self.run()\n",
      "  File \"/home/uttaran/anaconda3/lib/python3.6/threading.py\", line 864, in run\n",
      "    self._target(*self._args, **self._kwargs)\n",
      "  File \"/home/uttaran/anaconda3/lib/python3.6/site-packages/tensorflow/python/estimator/inputs/queues/feeding_queue_runner.py\", line 94, in _run\n",
      "    sess.run(enqueue_op, feed_dict=feed_dict)\n",
      "  File \"/home/uttaran/anaconda3/lib/python3.6/site-packages/tensorflow/python/client/session.py\", line 889, in run\n",
      "    run_metadata_ptr)\n",
      "  File \"/home/uttaran/anaconda3/lib/python3.6/site-packages/tensorflow/python/client/session.py\", line 1047, in _run\n",
      "    raise RuntimeError('Attempted to use a closed Session.')\n",
      "RuntimeError: Attempted to use a closed Session.\n",
      "\n"
     ]
    },
    {
     "name": "stdout",
     "output_type": "stream",
     "text": [
      "\n",
      "######### Test accuracy #############  {'accuracy': 0.28972545, 'loss': 2.16771, 'global_step': 10000}\n",
      "C3\n",
      "3 0 1 6 32\n",
      "3 0 1 6 32\n",
      "ERROR:tensorflow:Exception in QueueRunner: Attempted to use a closed Session.\n"
     ]
    },
    {
     "name": "stderr",
     "output_type": "stream",
     "text": [
      "Exception in thread Thread-1776:\n",
      "Traceback (most recent call last):\n",
      "  File \"/home/uttaran/anaconda3/lib/python3.6/threading.py\", line 916, in _bootstrap_inner\n",
      "    self.run()\n",
      "  File \"/home/uttaran/anaconda3/lib/python3.6/threading.py\", line 864, in run\n",
      "    self._target(*self._args, **self._kwargs)\n",
      "  File \"/home/uttaran/anaconda3/lib/python3.6/site-packages/tensorflow/python/estimator/inputs/queues/feeding_queue_runner.py\", line 94, in _run\n",
      "    sess.run(enqueue_op, feed_dict=feed_dict)\n",
      "  File \"/home/uttaran/anaconda3/lib/python3.6/site-packages/tensorflow/python/client/session.py\", line 889, in run\n",
      "    run_metadata_ptr)\n",
      "  File \"/home/uttaran/anaconda3/lib/python3.6/site-packages/tensorflow/python/client/session.py\", line 1047, in _run\n",
      "    raise RuntimeError('Attempted to use a closed Session.')\n",
      "RuntimeError: Attempted to use a closed Session.\n",
      "\n"
     ]
    },
    {
     "name": "stdout",
     "output_type": "stream",
     "text": [
      "3 0 1 6 32\n",
      "ERROR:tensorflow:Exception in QueueRunner: Attempted to use a closed Session.\n"
     ]
    },
    {
     "name": "stderr",
     "output_type": "stream",
     "text": [
      "Exception in thread Thread-1781:\n",
      "Traceback (most recent call last):\n",
      "  File \"/home/uttaran/anaconda3/lib/python3.6/threading.py\", line 916, in _bootstrap_inner\n",
      "    self.run()\n",
      "  File \"/home/uttaran/anaconda3/lib/python3.6/threading.py\", line 864, in run\n",
      "    self._target(*self._args, **self._kwargs)\n",
      "  File \"/home/uttaran/anaconda3/lib/python3.6/site-packages/tensorflow/python/estimator/inputs/queues/feeding_queue_runner.py\", line 94, in _run\n",
      "    sess.run(enqueue_op, feed_dict=feed_dict)\n",
      "  File \"/home/uttaran/anaconda3/lib/python3.6/site-packages/tensorflow/python/client/session.py\", line 889, in run\n",
      "    run_metadata_ptr)\n",
      "  File \"/home/uttaran/anaconda3/lib/python3.6/site-packages/tensorflow/python/client/session.py\", line 1047, in _run\n",
      "    raise RuntimeError('Attempted to use a closed Session.')\n",
      "RuntimeError: Attempted to use a closed Session.\n",
      "\n"
     ]
    },
    {
     "name": "stdout",
     "output_type": "stream",
     "text": [
      "\n",
      "%%%%%%% Train accuracy %%%%%%%%%%%%  {'accuracy': 0.1856965, 'loss': 2.293316, 'global_step': 30000}\n",
      "3 0 1 6 32\n",
      "ERROR:tensorflow:Exception in QueueRunner: Attempted to use a closed Session.\n"
     ]
    },
    {
     "name": "stderr",
     "output_type": "stream",
     "text": [
      "Exception in thread Thread-1786:\n",
      "Traceback (most recent call last):\n",
      "  File \"/home/uttaran/anaconda3/lib/python3.6/threading.py\", line 916, in _bootstrap_inner\n",
      "    self.run()\n",
      "  File \"/home/uttaran/anaconda3/lib/python3.6/threading.py\", line 864, in run\n",
      "    self._target(*self._args, **self._kwargs)\n",
      "  File \"/home/uttaran/anaconda3/lib/python3.6/site-packages/tensorflow/python/estimator/inputs/queues/feeding_queue_runner.py\", line 94, in _run\n",
      "    sess.run(enqueue_op, feed_dict=feed_dict)\n",
      "  File \"/home/uttaran/anaconda3/lib/python3.6/site-packages/tensorflow/python/client/session.py\", line 889, in run\n",
      "    run_metadata_ptr)\n",
      "  File \"/home/uttaran/anaconda3/lib/python3.6/site-packages/tensorflow/python/client/session.py\", line 1047, in _run\n",
      "    raise RuntimeError('Attempted to use a closed Session.')\n",
      "RuntimeError: Attempted to use a closed Session.\n",
      "\n"
     ]
    },
    {
     "name": "stdout",
     "output_type": "stream",
     "text": [
      "\n",
      "######### Test accuracy #############  {'accuracy': 0.1860441, 'loss': 2.2931511, 'global_step': 30000}\n",
      "C2\n",
      "C3\n",
      "2 1 7 4 10\n",
      "ERROR:tensorflow:Exception in QueueRunner: Attempted to use a closed Session.\n"
     ]
    },
    {
     "name": "stderr",
     "output_type": "stream",
     "text": [
      "Exception in thread Thread-1791:\n",
      "Traceback (most recent call last):\n",
      "  File \"/home/uttaran/anaconda3/lib/python3.6/threading.py\", line 916, in _bootstrap_inner\n",
      "    self.run()\n",
      "  File \"/home/uttaran/anaconda3/lib/python3.6/threading.py\", line 864, in run\n",
      "    self._target(*self._args, **self._kwargs)\n",
      "  File \"/home/uttaran/anaconda3/lib/python3.6/site-packages/tensorflow/python/estimator/inputs/queues/feeding_queue_runner.py\", line 94, in _run\n",
      "    sess.run(enqueue_op, feed_dict=feed_dict)\n",
      "  File \"/home/uttaran/anaconda3/lib/python3.6/site-packages/tensorflow/python/client/session.py\", line 889, in run\n",
      "    run_metadata_ptr)\n",
      "  File \"/home/uttaran/anaconda3/lib/python3.6/site-packages/tensorflow/python/client/session.py\", line 1047, in _run\n",
      "    raise RuntimeError('Attempted to use a closed Session.')\n",
      "RuntimeError: Attempted to use a closed Session.\n",
      "\n"
     ]
    },
    {
     "name": "stdout",
     "output_type": "stream",
     "text": [
      "2 1 7 4 10\n",
      "ERROR:tensorflow:Exception in QueueRunner: Attempted to use a closed Session.\n"
     ]
    },
    {
     "name": "stderr",
     "output_type": "stream",
     "text": [
      "Exception in thread Thread-1796:\n",
      "Traceback (most recent call last):\n",
      "  File \"/home/uttaran/anaconda3/lib/python3.6/threading.py\", line 916, in _bootstrap_inner\n",
      "    self.run()\n",
      "  File \"/home/uttaran/anaconda3/lib/python3.6/threading.py\", line 864, in run\n",
      "    self._target(*self._args, **self._kwargs)\n",
      "  File \"/home/uttaran/anaconda3/lib/python3.6/site-packages/tensorflow/python/estimator/inputs/queues/feeding_queue_runner.py\", line 94, in _run\n",
      "    sess.run(enqueue_op, feed_dict=feed_dict)\n",
      "  File \"/home/uttaran/anaconda3/lib/python3.6/site-packages/tensorflow/python/client/session.py\", line 889, in run\n",
      "    run_metadata_ptr)\n",
      "  File \"/home/uttaran/anaconda3/lib/python3.6/site-packages/tensorflow/python/client/session.py\", line 1047, in _run\n",
      "    raise RuntimeError('Attempted to use a closed Session.')\n",
      "RuntimeError: Attempted to use a closed Session.\n",
      "\n"
     ]
    },
    {
     "name": "stdout",
     "output_type": "stream",
     "text": [
      "2 1 7 4 10\n",
      "ERROR:tensorflow:Exception in QueueRunner: Attempted to use a closed Session.\n"
     ]
    },
    {
     "name": "stderr",
     "output_type": "stream",
     "text": [
      "Exception in thread Thread-1801:\n",
      "Traceback (most recent call last):\n",
      "  File \"/home/uttaran/anaconda3/lib/python3.6/threading.py\", line 916, in _bootstrap_inner\n",
      "    self.run()\n",
      "  File \"/home/uttaran/anaconda3/lib/python3.6/threading.py\", line 864, in run\n",
      "    self._target(*self._args, **self._kwargs)\n",
      "  File \"/home/uttaran/anaconda3/lib/python3.6/site-packages/tensorflow/python/estimator/inputs/queues/feeding_queue_runner.py\", line 94, in _run\n",
      "    sess.run(enqueue_op, feed_dict=feed_dict)\n",
      "  File \"/home/uttaran/anaconda3/lib/python3.6/site-packages/tensorflow/python/client/session.py\", line 889, in run\n",
      "    run_metadata_ptr)\n",
      "  File \"/home/uttaran/anaconda3/lib/python3.6/site-packages/tensorflow/python/client/session.py\", line 1047, in _run\n",
      "    raise RuntimeError('Attempted to use a closed Session.')\n",
      "RuntimeError: Attempted to use a closed Session.\n",
      "\n"
     ]
    },
    {
     "name": "stdout",
     "output_type": "stream",
     "text": [
      "\n",
      "%%%%%%% Train accuracy %%%%%%%%%%%%  {'accuracy': 0.6293394, 'loss': 1.3704454, 'global_step': 30000}\n",
      "2 1 7 4 10\n",
      "ERROR:tensorflow:Exception in QueueRunner: Attempted to use a closed Session.\n"
     ]
    },
    {
     "name": "stderr",
     "output_type": "stream",
     "text": [
      "Exception in thread Thread-1806:\n",
      "Traceback (most recent call last):\n",
      "  File \"/home/uttaran/anaconda3/lib/python3.6/threading.py\", line 916, in _bootstrap_inner\n",
      "    self.run()\n",
      "  File \"/home/uttaran/anaconda3/lib/python3.6/threading.py\", line 864, in run\n",
      "    self._target(*self._args, **self._kwargs)\n",
      "  File \"/home/uttaran/anaconda3/lib/python3.6/site-packages/tensorflow/python/estimator/inputs/queues/feeding_queue_runner.py\", line 94, in _run\n",
      "    sess.run(enqueue_op, feed_dict=feed_dict)\n",
      "  File \"/home/uttaran/anaconda3/lib/python3.6/site-packages/tensorflow/python/client/session.py\", line 889, in run\n",
      "    run_metadata_ptr)\n",
      "  File \"/home/uttaran/anaconda3/lib/python3.6/site-packages/tensorflow/python/client/session.py\", line 1047, in _run\n",
      "    raise RuntimeError('Attempted to use a closed Session.')\n",
      "RuntimeError: Attempted to use a closed Session.\n",
      "\n"
     ]
    },
    {
     "name": "stdout",
     "output_type": "stream",
     "text": [
      "\n",
      "######### Test accuracy #############  {'accuracy': 0.6323835, 'loss': 1.3511553, 'global_step': 30000}\n",
      "C3\n",
      "3 0 7 4 32\n",
      "3 0 7 4 32\n",
      "ERROR:tensorflow:Exception in QueueRunner: Attempted to use a closed Session.\n"
     ]
    },
    {
     "name": "stderr",
     "output_type": "stream",
     "text": [
      "Exception in thread Thread-1816:\n",
      "Traceback (most recent call last):\n",
      "  File \"/home/uttaran/anaconda3/lib/python3.6/threading.py\", line 916, in _bootstrap_inner\n",
      "    self.run()\n",
      "  File \"/home/uttaran/anaconda3/lib/python3.6/threading.py\", line 864, in run\n",
      "    self._target(*self._args, **self._kwargs)\n",
      "  File \"/home/uttaran/anaconda3/lib/python3.6/site-packages/tensorflow/python/estimator/inputs/queues/feeding_queue_runner.py\", line 94, in _run\n",
      "    sess.run(enqueue_op, feed_dict=feed_dict)\n",
      "  File \"/home/uttaran/anaconda3/lib/python3.6/site-packages/tensorflow/python/client/session.py\", line 889, in run\n",
      "    run_metadata_ptr)\n",
      "  File \"/home/uttaran/anaconda3/lib/python3.6/site-packages/tensorflow/python/client/session.py\", line 1047, in _run\n",
      "    raise RuntimeError('Attempted to use a closed Session.')\n",
      "RuntimeError: Attempted to use a closed Session.\n",
      "\n"
     ]
    },
    {
     "name": "stdout",
     "output_type": "stream",
     "text": [
      "3 0 7 4 32\n",
      "ERROR:tensorflow:Exception in QueueRunner: Attempted to use a closed Session.\n"
     ]
    },
    {
     "name": "stderr",
     "output_type": "stream",
     "text": [
      "Exception in thread Thread-1821:\n",
      "Traceback (most recent call last):\n",
      "  File \"/home/uttaran/anaconda3/lib/python3.6/threading.py\", line 916, in _bootstrap_inner\n",
      "    self.run()\n",
      "  File \"/home/uttaran/anaconda3/lib/python3.6/threading.py\", line 864, in run\n",
      "    self._target(*self._args, **self._kwargs)\n",
      "  File \"/home/uttaran/anaconda3/lib/python3.6/site-packages/tensorflow/python/estimator/inputs/queues/feeding_queue_runner.py\", line 94, in _run\n",
      "    sess.run(enqueue_op, feed_dict=feed_dict)\n",
      "  File \"/home/uttaran/anaconda3/lib/python3.6/site-packages/tensorflow/python/client/session.py\", line 889, in run\n",
      "    run_metadata_ptr)\n",
      "  File \"/home/uttaran/anaconda3/lib/python3.6/site-packages/tensorflow/python/client/session.py\", line 1047, in _run\n",
      "    raise RuntimeError('Attempted to use a closed Session.')\n",
      "RuntimeError: Attempted to use a closed Session.\n",
      "\n"
     ]
    },
    {
     "name": "stdout",
     "output_type": "stream",
     "text": [
      "\n",
      "%%%%%%% Train accuracy %%%%%%%%%%%%  {'accuracy': 0.7367438, 'loss': 0.97448015, 'global_step': 20000}\n",
      "3 0 7 4 32\n",
      "ERROR:tensorflow:Exception in QueueRunner: Attempted to use a closed Session.\n"
     ]
    },
    {
     "name": "stderr",
     "output_type": "stream",
     "text": [
      "Exception in thread Thread-1826:\n",
      "Traceback (most recent call last):\n",
      "  File \"/home/uttaran/anaconda3/lib/python3.6/threading.py\", line 916, in _bootstrap_inner\n",
      "    self.run()\n",
      "  File \"/home/uttaran/anaconda3/lib/python3.6/threading.py\", line 864, in run\n",
      "    self._target(*self._args, **self._kwargs)\n",
      "  File \"/home/uttaran/anaconda3/lib/python3.6/site-packages/tensorflow/python/estimator/inputs/queues/feeding_queue_runner.py\", line 94, in _run\n",
      "    sess.run(enqueue_op, feed_dict=feed_dict)\n",
      "  File \"/home/uttaran/anaconda3/lib/python3.6/site-packages/tensorflow/python/client/session.py\", line 889, in run\n",
      "    run_metadata_ptr)\n",
      "  File \"/home/uttaran/anaconda3/lib/python3.6/site-packages/tensorflow/python/client/session.py\", line 1047, in _run\n",
      "    raise RuntimeError('Attempted to use a closed Session.')\n",
      "RuntimeError: Attempted to use a closed Session.\n",
      "\n"
     ]
    },
    {
     "name": "stdout",
     "output_type": "stream",
     "text": [
      "\n",
      "######### Test accuracy #############  {'accuracy': 0.74646425, 'loss': 0.94578916, 'global_step': 20000}\n",
      "C3\n",
      "2 1 7 4 10\n",
      "2 1 7 4 10\n",
      "ERROR:tensorflow:Exception in QueueRunner: Attempted to use a closed Session.\n"
     ]
    },
    {
     "name": "stderr",
     "output_type": "stream",
     "text": [
      "Exception in thread Thread-1836:\n",
      "Traceback (most recent call last):\n",
      "  File \"/home/uttaran/anaconda3/lib/python3.6/threading.py\", line 916, in _bootstrap_inner\n",
      "    self.run()\n",
      "  File \"/home/uttaran/anaconda3/lib/python3.6/threading.py\", line 864, in run\n",
      "    self._target(*self._args, **self._kwargs)\n",
      "  File \"/home/uttaran/anaconda3/lib/python3.6/site-packages/tensorflow/python/estimator/inputs/queues/feeding_queue_runner.py\", line 94, in _run\n",
      "    sess.run(enqueue_op, feed_dict=feed_dict)\n",
      "  File \"/home/uttaran/anaconda3/lib/python3.6/site-packages/tensorflow/python/client/session.py\", line 889, in run\n",
      "    run_metadata_ptr)\n",
      "  File \"/home/uttaran/anaconda3/lib/python3.6/site-packages/tensorflow/python/client/session.py\", line 1047, in _run\n",
      "    raise RuntimeError('Attempted to use a closed Session.')\n",
      "RuntimeError: Attempted to use a closed Session.\n",
      "\n"
     ]
    },
    {
     "name": "stdout",
     "output_type": "stream",
     "text": [
      "2 1 7 4 10\n",
      "ERROR:tensorflow:Exception in QueueRunner: Attempted to use a closed Session.\n"
     ]
    },
    {
     "name": "stderr",
     "output_type": "stream",
     "text": [
      "Exception in thread Thread-1841:\n",
      "Traceback (most recent call last):\n",
      "  File \"/home/uttaran/anaconda3/lib/python3.6/threading.py\", line 916, in _bootstrap_inner\n",
      "    self.run()\n",
      "  File \"/home/uttaran/anaconda3/lib/python3.6/threading.py\", line 864, in run\n",
      "    self._target(*self._args, **self._kwargs)\n",
      "  File \"/home/uttaran/anaconda3/lib/python3.6/site-packages/tensorflow/python/estimator/inputs/queues/feeding_queue_runner.py\", line 94, in _run\n",
      "    sess.run(enqueue_op, feed_dict=feed_dict)\n",
      "  File \"/home/uttaran/anaconda3/lib/python3.6/site-packages/tensorflow/python/client/session.py\", line 889, in run\n",
      "    run_metadata_ptr)\n",
      "  File \"/home/uttaran/anaconda3/lib/python3.6/site-packages/tensorflow/python/client/session.py\", line 1047, in _run\n",
      "    raise RuntimeError('Attempted to use a closed Session.')\n",
      "RuntimeError: Attempted to use a closed Session.\n",
      "\n"
     ]
    },
    {
     "name": "stdout",
     "output_type": "stream",
     "text": [
      "\n",
      "%%%%%%% Train accuracy %%%%%%%%%%%%  {'accuracy': 0.7193313, 'loss': 1.0923642, 'global_step': 40000}\n",
      "2 1 7 4 10\n",
      "ERROR:tensorflow:Exception in QueueRunner: Attempted to use a closed Session.\n"
     ]
    },
    {
     "name": "stderr",
     "output_type": "stream",
     "text": [
      "Exception in thread Thread-1846:\n",
      "Traceback (most recent call last):\n",
      "  File \"/home/uttaran/anaconda3/lib/python3.6/threading.py\", line 916, in _bootstrap_inner\n",
      "    self.run()\n",
      "  File \"/home/uttaran/anaconda3/lib/python3.6/threading.py\", line 864, in run\n",
      "    self._target(*self._args, **self._kwargs)\n",
      "  File \"/home/uttaran/anaconda3/lib/python3.6/site-packages/tensorflow/python/estimator/inputs/queues/feeding_queue_runner.py\", line 94, in _run\n",
      "    sess.run(enqueue_op, feed_dict=feed_dict)\n",
      "  File \"/home/uttaran/anaconda3/lib/python3.6/site-packages/tensorflow/python/client/session.py\", line 889, in run\n",
      "    run_metadata_ptr)\n",
      "  File \"/home/uttaran/anaconda3/lib/python3.6/site-packages/tensorflow/python/client/session.py\", line 1047, in _run\n",
      "    raise RuntimeError('Attempted to use a closed Session.')\n",
      "RuntimeError: Attempted to use a closed Session.\n",
      "\n"
     ]
    },
    {
     "name": "stdout",
     "output_type": "stream",
     "text": [
      "\n",
      "######### Test accuracy #############  {'accuracy': 0.71849, 'loss': 1.0745244, 'global_step': 40000}\n",
      "C1\n"
     ]
    }
   ],
   "source": [
    "conv=[1,2,3]\n",
    "fcl=[0,1,2] \n",
    "flag=0\n",
    "total_param=0\n",
    "single_student_para=cal_para(2,1,5,8,256)\n",
    "each_student_limit=single_student_para/20\n",
    "\n",
    "print(single_student_para,each_student_limit)\n",
    "while True:\n",
    "    C=np.random.choice(conv,replace=True)\n",
    "    F=np.random.choice(fcl,replace=True)\n",
    "    if C+F==3:\n",
    "        filters=[1,3,5,7]\n",
    "        feature_map=[2,4,6,8]\n",
    "        fully=[10,32,64,128]\n",
    "        K=np.random.choice(filters,replace=True)\n",
    "        M=np.random.choice(feature_map,replace=True)\n",
    "        FC=np.random.choice(fully,replace=True)\n",
    "        single_ensemble=cal_para(C,F,K,M,FC)\n",
    "        choice=param_check(single_student_para,each_student_limit,single_ensemble)\n",
    "        if choice==\"STOP\":\n",
    "            print(\"C1\")\n",
    "            flag=1\n",
    "            break;\n",
    "        elif choice==\"RESAMPLE\":\n",
    "            print(\"C2\")\n",
    "            continue;\n",
    "        else:\n",
    "            print(\"C3\")\n",
    "            s=str(\"\\n\")+str(C)+\" \"+str(F)+\" \"+str(K)+\" \"+str(M)+\" \"+str(FC)+\"\\n\"\n",
    "            writef.write(s)\n",
    "            train(C,F,K,M,FC)\n",
    "    if flag==1:\n",
    "        break\n"
   ]
  },
  {
   "cell_type": "code",
   "execution_count": 22,
   "metadata": {
    "ExecuteTime": {
     "end_time": "2018-09-03T13:57:58.595014Z",
     "start_time": "2018-09-03T13:57:58.593023Z"
    }
   },
   "outputs": [],
   "source": [
    "writef.close()"
   ]
  }
 ],
 "metadata": {
  "hide_input": false,
  "kernelspec": {
   "display_name": "Python 3",
   "language": "python",
   "name": "python3"
  },
  "language_info": {
   "codemirror_mode": {
    "name": "ipython",
    "version": 3
   },
   "file_extension": ".py",
   "mimetype": "text/x-python",
   "name": "python",
   "nbconvert_exporter": "python",
   "pygments_lexer": "ipython3",
   "version": "3.6.5"
  },
  "varInspector": {
   "cols": {
    "lenName": 16,
    "lenType": 16,
    "lenVar": 40
   },
   "kernels_config": {
    "python": {
     "delete_cmd_postfix": "",
     "delete_cmd_prefix": "del ",
     "library": "var_list.py",
     "varRefreshCmd": "print(var_dic_list())"
    },
    "r": {
     "delete_cmd_postfix": ") ",
     "delete_cmd_prefix": "rm(",
     "library": "var_list.r",
     "varRefreshCmd": "cat(var_dic_list()) "
    }
   },
   "types_to_exclude": [
    "module",
    "function",
    "builtin_function_or_method",
    "instance",
    "_Feature"
   ],
   "window_display": false
  }
 },
 "nbformat": 4,
 "nbformat_minor": 2
}
