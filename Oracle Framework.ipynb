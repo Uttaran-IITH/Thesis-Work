{
 "cells": [
  {
   "cell_type": "code",
   "execution_count": 355,
   "metadata": {
    "ExecuteTime": {
     "end_time": "2018-09-10T11:57:41.861789Z",
     "start_time": "2018-09-10T11:57:41.858286Z"
    }
   },
   "outputs": [],
   "source": [
    "import numpy as np\n",
    "import tensorflow as tf\n",
    "import matplotlib.pyplot as plt\n",
    "from scipy.spatial import distance"
   ]
  },
  {
   "cell_type": "code",
   "execution_count": 356,
   "metadata": {
    "ExecuteTime": {
     "end_time": "2018-09-10T11:57:42.563812Z",
     "start_time": "2018-09-10T11:57:42.125009Z"
    }
   },
   "outputs": [
    {
     "name": "stdout",
     "output_type": "stream",
     "text": [
      "Extracting MNIST-data/train-images-idx3-ubyte.gz\n",
      "Extracting MNIST-data/train-labels-idx1-ubyte.gz\n",
      "Extracting MNIST-data/t10k-images-idx3-ubyte.gz\n",
      "Extracting MNIST-data/t10k-labels-idx1-ubyte.gz\n"
     ]
    }
   ],
   "source": [
    "mnist = tf.contrib.learn.datasets.load_dataset(\"mnist\")\n",
    "train_data = mnist.train.images  # Returns np.array\n",
    "train_labels = np.asarray(mnist.train.labels, dtype=np.int32)"
   ]
  },
  {
   "cell_type": "code",
   "execution_count": 357,
   "metadata": {
    "ExecuteTime": {
     "end_time": "2018-09-10T11:57:42.583208Z",
     "start_time": "2018-09-10T11:57:42.571346Z"
    },
    "hide_input": true
   },
   "outputs": [],
   "source": [
    "# %load Structural_Perturbations.py\n",
    "\n",
    "\n",
    "# In[1]:\n",
    "\n",
    "\n",
    "import cv2\n",
    "import numpy as np\n",
    "import tensorflow as tf\n",
    "\n",
    "\n",
    "# In[2]:\n",
    "\n",
    "\n",
    "def Exposure(eval_data,e):\n",
    "    e = e/255\n",
    "    for i in range(0,eval_data.shape[0]):\n",
    "        eval_data[i][0:eval_data.shape[1] - 4]+=e\n",
    "        eval_data[i] = eval_data[i].clip(min=0,max=1)\n",
    "    return eval_data\n",
    "\n",
    "\n",
    "# In[3]:\n",
    "\n",
    "\n",
    "def Translation(eval_data,l):\n",
    "    temp = np.asarray(eval_data)\n",
    "    temp = np.reshape(temp,(-1,28,28))\n",
    "    M = np.float32([[1,0,l],[0,1,0]])\n",
    "    for i in range(0,eval_data.shape[0]):\n",
    "        temp[i] = cv2.warpAffine(temp[i],M,(28,28))\n",
    "        temp[i] = temp[i].clip(min=0,max=1)\n",
    "    temp = np.reshape(temp,[eval_data.shape[0],eval_data.shape[1]])\n",
    "    eval_data = temp\n",
    "    return eval_data\n",
    "\n",
    "\n",
    "# In[4]:\n",
    "\n",
    "\n",
    "def Rotation(eval_data,angle):\n",
    "    temp = eval_data.reshape(-1,28,28)\n",
    "    s,r,c = temp.shape\n",
    "    M = cv2.getRotationMatrix2D((c/2,r/2),angle,1)\n",
    "    for i in range (0,s):\n",
    "        temp[i] = cv2.warpAffine(temp[i],M,(c,r))\n",
    "        temp[i] = temp[i].clip(min=0,max=1)\n",
    "    return temp.reshape(-1,eval_data.shape[1])\n",
    "\n",
    "\n",
    "# In[5]:\n",
    "\n",
    "\n",
    "def Scaling(eval_data,l):\n",
    "    temp = eval_data.reshape(-1,28,28)\n",
    "    s,r,c = temp.shape\n",
    "    for i in range (0,s):\n",
    "        img = cv2.resize(temp[i],None,fx=l, fy=l, interpolation = cv2.INTER_CUBIC)\n",
    "        m = np.int((img.shape[0]-28)/2)\n",
    "        temp[i] = img[m:m+28,m:m+28]\n",
    "        temp[i] = temp[i].clip(min=0,max=1)\n",
    "    return temp.reshape(-1,eval_data.shape[1])\n",
    "\n",
    "\n",
    "# In[6]:\n",
    "\n",
    "\n",
    "def Display(eval_data,t):\n",
    "    l = np.array(eval_data[t])\n",
    "    l = [int (x * 255) for x in l]\n",
    "    l = np.asarray(l)\n",
    "    l = np.reshape(l,(-1,28))\n",
    "    plt.imshow(l,cmap='gray')\n",
    "\n",
    "\n",
    "# In[7]:\n",
    "\n",
    "\n",
    "def Plot(eval_data,eval_labels,mnist_classifier):\n",
    "    eval_input_fn = tf.estimator.inputs.numpy_input_fn(\n",
    "      x={\"x\": eval_data},\n",
    "      y=eval_labels,\n",
    "      num_epochs=1,\n",
    "      shuffle=False)\n",
    "    pred = mnist_classifier.predict(input_fn=eval_input_fn)\n",
    "    my_array = []\n",
    "    for i, x in enumerate(pred):\n",
    "        temp = x['probabilities']\n",
    "        pos = sorted(temp,reverse=True)\n",
    "        index = [pos.index(v) for v in temp]\n",
    "        my_array.append(index[eval_labels[i]])\n",
    "    count = collections.Counter(my_array)\n",
    "    keys = np.array(list(count.keys()))\n",
    "    values = np.array(list(count.values()))\n",
    "    grid = []\n",
    "    for i in range(0,keys.shape[0]):\n",
    "        grid.append([keys[i],values[i]])\n",
    "    grid = np.array(grid)\n",
    "    grid.view('i8,i8').sort(axis=0)\n",
    "    plt.plot(grid)\n",
    "\n",
    "\n",
    "# In[8]:\n",
    "\n",
    "\n",
    "def Test(train_data,train_labels,eval_data,eval_labels,mnist_classifier):\n",
    "    train_eval_input_fn = tf.estimator.inputs.numpy_input_fn(\n",
    "      x={\"x\": train_data},\n",
    "      y=train_labels,\n",
    "      shuffle=False)\n",
    "    eval_result1=mnist_classifier.evaluate(input_fn=train_eval_input_fn)\n",
    "    print(\"%%%%%%% Train accuracy %%%%%%%%%%%%\\n\",eval_result1)\n",
    "    [a,b,c] = eval_result1.items()\n",
    "\n",
    "    # Evaluate the model and print results\n",
    "    eval_input_fn = tf.estimator.inputs.numpy_input_fn(\n",
    "      x={\"x\": eval_data},\n",
    "      y=eval_labels,\n",
    "      num_epochs=1,\n",
    "      shuffle=False)\n",
    "    eval_result2=mnist_classifier.evaluate(input_fn=eval_input_fn)\n",
    "    print(\"######### Test accuracy #############\\n\",eval_result2)\n",
    "    [d,e,f] = eval_result2.items()\n",
    "\n"
   ]
  },
  {
   "cell_type": "code",
   "execution_count": 358,
   "metadata": {
    "ExecuteTime": {
     "end_time": "2018-09-10T11:57:42.610311Z",
     "start_time": "2018-09-10T11:57:42.590559Z"
    },
    "hide_input": true
   },
   "outputs": [],
   "source": [
    "avg = np.average(train_data)\n",
    "def Exp_def(data):\n",
    "    temp = data\n",
    "    local_avg = np.average(temp)\n",
    "    temp = temp + avg - local_avg\n",
    "    return temp"
   ]
  },
  {
   "cell_type": "code",
   "execution_count": 359,
   "metadata": {
    "ExecuteTime": {
     "end_time": "2018-09-10T11:57:42.769366Z",
     "start_time": "2018-09-10T11:57:42.764706Z"
    },
    "hide_input": true
   },
   "outputs": [],
   "source": [
    "def reference_image():\n",
    "    data = np.empty([train_data.shape[0],train_data.shape[1]+1])\n",
    "    for i in range (0,data.shape[0]):\n",
    "        data[i] = np.append(train_data[i],int(train_labels[i]))\n",
    "    data = data[data[:,784].argsort()]\n",
    "    a = 0.0\n",
    "    count=[]\n",
    "    for i in range (0,data.shape[0]):\n",
    "        if data[i,784]!= a:\n",
    "            count.append(i)\n",
    "            a += 1\n",
    "    count.append(data.shape[0]-1)\n",
    "    count = np.array(count)\n",
    "    a = 0\n",
    "    temp = []\n",
    "    s = 0\n",
    "    while a!=count.shape[0]:\n",
    "        temp.append(data[s:count[a]])\n",
    "        s = count[a]\n",
    "        a +=1\n",
    "    temp = np.array(temp)\n",
    "    for i in range(0,temp.shape[0]):\n",
    "        temp[i] = np.delete(temp[i],[784], axis=1)\n",
    "    avr = np.empty([temp.shape[0],28,28])\n",
    "    for i in range(0,temp.shape[0]):\n",
    "        temp[i] = temp[i].reshape(-1,28,28)\n",
    "        avr[i] = np.median(temp[i],axis=0)\n",
    "    avr = np.array(avr)\n",
    "    return avr"
   ]
  },
  {
   "cell_type": "code",
   "execution_count": 360,
   "metadata": {
    "ExecuteTime": {
     "end_time": "2018-09-10T11:57:44.010721Z",
     "start_time": "2018-09-10T11:57:42.976857Z"
    },
    "hide_input": false
   },
   "outputs": [],
   "source": [
    "# print (np.asarray((unique, counts)).T)\n",
    "#print(train_data.shape)\n",
    "ref = reference_image()"
   ]
  },
  {
   "cell_type": "code",
   "execution_count": 181,
   "metadata": {
    "ExecuteTime": {
     "end_time": "2018-09-10T11:04:03.537584Z",
     "start_time": "2018-09-10T11:04:03.391669Z"
    },
    "deletable": false,
    "editable": false,
    "hide_input": false,
    "run_control": {
     "frozen": true
    }
   },
   "outputs": [
    {
     "data": {
      "text/plain": [
       "<matplotlib.image.AxesImage at 0x7f48f7ee6cf8>"
      ]
     },
     "execution_count": 181,
     "metadata": {},
     "output_type": "execute_result"
    },
    {
     "data": {
      "image/png": "[encoded data removed]",
      "text/plain": [
       "<Figure size 432x288 with 1 Axes>"
      ]
     },
     "metadata": {},
     "output_type": "display_data"
    }
   ],
   "source": [
    "plt.imshow(ref[7],cmap='gray')"
   ]
  },
  {
   "cell_type": "code",
   "execution_count": 361,
   "metadata": {
    "ExecuteTime": {
     "end_time": "2018-09-10T11:57:44.026741Z",
     "start_time": "2018-09-10T11:57:44.020167Z"
    }
   },
   "outputs": [],
   "source": [
    "def Scale_def(data):\n",
    "    l = np.array(data)\n",
    "    l = [int (x * 255) for x in l]\n",
    "    l = np.asarray(l)\n",
    "    data = np.reshape(l,(-1,28))\n",
    "    m = 10\n",
    "    data = data.reshape(28,28)\n",
    "    co_ord = []\n",
    "    x = 20\n",
    "    for i in range (0,28):\n",
    "        for j in range (0,28):\n",
    "            if data[i][j] >= m:\n",
    "                co_ord.append([i,j])\n",
    "                x = 1\n",
    "                break\n",
    "            if x==1:\n",
    "                break\n",
    "    x = 0\n",
    "    for i in range (0,28):\n",
    "        for j in range (0,28):\n",
    "            if data[j][i] >= m:\n",
    "                co_ord.append([j,i])\n",
    "                x = 1\n",
    "                break\n",
    "            if x==1:\n",
    "                break\n",
    "    x = 0\n",
    "    for i in range (0,28):\n",
    "        for j in range (0,28):\n",
    "            if data[27 - i][27 - j] >= m:\n",
    "                co_ord.append([27 - i,27 - j])\n",
    "                x = 1\n",
    "                break\n",
    "            if x==1:\n",
    "                break\n",
    "    x = 0\n",
    "    for i in range (0,28):\n",
    "        for j in range (0,28):\n",
    "            if data[27 - j][27 - i] >= m:\n",
    "                co_ord.append([27 - j,27 - i])\n",
    "                x = 1\n",
    "                break\n",
    "            if x==1:\n",
    "                break\n",
    "    co_ord = np.array(co_ord)\n",
    "    dist = distance.euclidean(co_ord[0],co_ord[2]),distance.euclidean(co_ord[1],co_ord[3])\n",
    "    #print(co_ord)\n",
    "    return dist[0]/dist[1]"
   ]
  },
  {
   "cell_type": "code",
   "execution_count": 362,
   "metadata": {
    "ExecuteTime": {
     "end_time": "2018-09-10T11:57:44.135689Z",
     "start_time": "2018-09-10T11:57:44.035530Z"
    }
   },
   "outputs": [
    {
     "data": {
      "image/png": "[encoded data removed]",
      "text/plain": [
       "<Figure size 432x288 with 1 Axes>"
      ]
     },
     "metadata": {},
     "output_type": "display_data"
    }
   ],
   "source": [
    "ref = ref.reshape(10,784)\n",
    "Display(ref,1)"
   ]
  },
  {
   "cell_type": "code",
   "execution_count": 363,
   "metadata": {
    "ExecuteTime": {
     "end_time": "2018-09-10T11:57:44.155828Z",
     "start_time": "2018-09-10T11:57:44.143444Z"
    }
   },
   "outputs": [
    {
     "name": "stdout",
     "output_type": "stream",
     "text": [
      "[1.12318229 1.46025783 1.20185043 1.42213639 1.05266714 0.93896582\n",
      " 1.29389231 1.31245699 1.26841984 1.36963952]\n"
     ]
    }
   ],
   "source": [
    "scal1 = np.empty(ref.shape[0])\n",
    "for i in range (0,ref.shape[0]):\n",
    "    scal1[i] = Scale_def(ref[i])\n",
    "print(scal1)"
   ]
  },
  {
   "cell_type": "code",
   "execution_count": 364,
   "metadata": {
    "ExecuteTime": {
     "end_time": "2018-09-10T11:57:44.165428Z",
     "start_time": "2018-09-10T11:57:44.162890Z"
    }
   },
   "outputs": [],
   "source": [
    "ref = Scaling(ref,1.3)"
   ]
  },
  {
   "cell_type": "code",
   "execution_count": 365,
   "metadata": {
    "ExecuteTime": {
     "end_time": "2018-09-10T11:57:44.417922Z",
     "start_time": "2018-09-10T11:57:44.276890Z"
    }
   },
   "outputs": [
    {
     "data": {
      "image/png": "[encoded data removed]",
      "text/plain": [
       "<Figure size 432x288 with 1 Axes>"
      ]
     },
     "metadata": {},
     "output_type": "display_data"
    }
   ],
   "source": [
    "Display(ref,1)"
   ]
  },
  {
   "cell_type": "code",
   "execution_count": 366,
   "metadata": {
    "ExecuteTime": {
     "end_time": "2018-09-10T11:57:44.554990Z",
     "start_time": "2018-09-10T11:57:44.536239Z"
    }
   },
   "outputs": [
    {
     "name": "stdout",
     "output_type": "stream",
     "text": [
      "[1.13169683 1.32321673 1.26578432 1.48933569 1.05709492 1.03161048\n",
      " 1.28072007 1.23163431 1.29167914 1.36438208]\n"
     ]
    }
   ],
   "source": [
    "scal2 = np.empty(ref.shape[0])\n",
    "for i in range (0,ref.shape[0]):\n",
    "    scal2[i] = Scale_def(ref[i].reshape(784))\n",
    "print(scal2)"
   ]
  },
  {
   "cell_type": "code",
   "execution_count": 367,
   "metadata": {
    "ExecuteTime": {
     "end_time": "2018-09-10T11:57:45.461062Z",
     "start_time": "2018-09-10T11:57:45.317645Z"
    }
   },
   "outputs": [
    {
     "name": "stdout",
     "output_type": "stream",
     "text": [
      "0.13704109906837791\n"
     ]
    },
    {
     "data": {
      "text/plain": [
       "[<matplotlib.lines.Line2D at 0x7f48ee8c6d30>]"
      ]
     },
     "execution_count": 367,
     "metadata": {},
     "output_type": "execute_result"
    },
    {
     "data": {
      "image/png": "[encoded data removed]",
      "text/plain": [
       "<Figure size 432x288 with 1 Axes>"
      ]
     },
     "metadata": {},
     "output_type": "display_data"
    }
   ],
   "source": [
    "d = np.abs(scal1-scal2)\n",
    "# for i in range (0,ref.shape[0]):\n",
    "#     print(i,scal1[i],scal2[i],d[i])\n",
    "#     print(\"\\n\")\n",
    "print(d[1])\n",
    "plt.plot(np.arange(0,ref.shape[0]),d)"
   ]
  },
  {
   "cell_type": "code",
   "execution_count": null,
   "metadata": {},
   "outputs": [],
   "source": []
  },
  {
   "cell_type": "code",
   "execution_count": null,
   "metadata": {},
   "outputs": [],
   "source": []
  }
 ],
 "metadata": {
  "hide_input": false,
  "kernelspec": {
   "display_name": "Python 3",
   "language": "python",
   "name": "python3"
  },
  "language_info": {
   "codemirror_mode": {
    "name": "ipython",
    "version": 3
   },
   "file_extension": ".py",
   "mimetype": "text/x-python",
   "name": "python",
   "nbconvert_exporter": "python",
   "pygments_lexer": "ipython3",
   "version": "3.6.5"
  },
  "varInspector": {
   "cols": {
    "lenName": 16,
    "lenType": 16,
    "lenVar": 40
   },
   "kernels_config": {
    "python": {
     "delete_cmd_postfix": "",
     "delete_cmd_prefix": "del ",
     "library": "var_list.py",
     "varRefreshCmd": "print(var_dic_list())"
    },
    "r": {
     "delete_cmd_postfix": ") ",
     "delete_cmd_prefix": "rm(",
     "library": "var_list.r",
     "varRefreshCmd": "cat(var_dic_list()) "
    }
   },
   "types_to_exclude": [
    "module",
    "function",
    "builtin_function_or_method",
    "instance",
    "_Feature"
   ],
   "window_display": false
  }
 },
 "nbformat": 4,
 "nbformat_minor": 2
}
