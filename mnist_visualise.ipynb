{
 "cells": [
  {
   "cell_type": "code",
   "execution_count": null,
   "metadata": {
    "ExecuteTime": {
     "end_time": "2018-09-28T15:49:26.510428Z",
     "start_time": "2018-09-28T15:49:25.192554Z"
    }
   },
   "outputs": [],
   "source": [
    "import keras.backend as K\n",
    "import tensorflow as tf\n",
    "import numpy as np\n",
    "import keras, sys, cv2\n",
    "from keras.datasets import mnist\n",
    "K.set_learning_phase(1)\n",
    "img_rows, img_cols = 300, 400\n",
    "num_classes = 10\n",
    "from ipynb.fs.full.mnist_model import Model as MM\n",
    "from keras.models import Model"
   ]
  },
  {
   "cell_type": "code",
   "execution_count": 6,
   "metadata": {
    "ExecuteTime": {
     "end_time": "2018-09-28T16:29:35.597505Z",
     "start_time": "2018-09-28T16:29:35.296289Z"
    }
   },
   "outputs": [
    {
     "name": "stdout",
     "output_type": "stream",
     "text": [
      "(10000, 28, 28)\n"
     ]
    }
   ],
   "source": [
    "(x_train, y_train), (x_test, y_test) = mnist.load_data()\n",
    "print(x_test.shape)"
   ]
  },
  {
   "cell_type": "code",
   "execution_count": 3,
   "metadata": {
    "ExecuteTime": {
     "end_time": "2018-09-28T15:50:15.236730Z",
     "start_time": "2018-09-28T15:50:03.375242Z"
    }
   },
   "outputs": [
    {
     "name": "stderr",
     "output_type": "stream",
     "text": [
      "ipynb.fs.full.mnist_model:41: UserWarning: The `merge` function is deprecated and will be removed after 08/2017. Use instead layers from `keras.layers.merge`, e.g. `add`, `concatenate`, etc.\n",
      "/home/uttaran/anaconda3/lib/python3.6/site-packages/keras/legacy/layers.py:465: UserWarning: The `Merge` layer is deprecated and will be removed after 08/2017. Use instead layers from `keras.layers.merge`, e.g. `add`, `concatenate`, etc.\n",
      "  name=name)\n",
      "ipynb.fs.full.mnist_model:42: UserWarning: The `merge` function is deprecated and will be removed after 08/2017. Use instead layers from `keras.layers.merge`, e.g. `add`, `concatenate`, etc.\n",
      "ipynb.fs.full.mnist_model:43: UserWarning: The `merge` function is deprecated and will be removed after 08/2017. Use instead layers from `keras.layers.merge`, e.g. `add`, `concatenate`, etc.\n"
     ]
    },
    {
     "name": "stdout",
     "output_type": "stream",
     "text": [
      "__________________________________________________________________________________________________\n",
      "Layer (type)                    Output Shape         Param #     Connected to                     \n",
      "==================================================================================================\n",
      "imgs (InputLayer)               (None, 28, 28, 1)    0                                            \n",
      "__________________________________________________________________________________________________\n",
      "conv2d_3 (Conv2D)               (None, 26, 26, 8)    80          imgs[0][0]                       \n",
      "__________________________________________________________________________________________________\n",
      "max_pooling2d_4 (MaxPooling2D)  (None, 13, 13, 8)    0           conv2d_3[0][0]                   \n",
      "__________________________________________________________________________________________________\n",
      "conv2d_4 (Conv2D)               (None, 11, 11, 16)   1168        max_pooling2d_4[0][0]            \n",
      "__________________________________________________________________________________________________\n",
      "max_pooling2d_5 (MaxPooling2D)  (None, 5, 5, 16)     0           conv2d_4[0][0]                   \n",
      "__________________________________________________________________________________________________\n",
      "max_pooling2d_6 (MaxPooling2D)  (None, 2, 2, 16)     0           max_pooling2d_5[0][0]            \n",
      "__________________________________________________________________________________________________\n",
      "flatten_2 (Flatten)             (None, 64)           0           max_pooling2d_6[0][0]            \n",
      "__________________________________________________________________________________________________\n",
      "dense_3 (Dense)                 (None, 120)          7800        flatten_2[0][0]                  \n",
      "__________________________________________________________________________________________________\n",
      "dropout_2 (Dropout)             (None, 120)          0           dense_3[0][0]                    \n",
      "__________________________________________________________________________________________________\n",
      "dense_4 (Dense)                 (None, 10)           1210        dropout_2[0][0]                  \n",
      "__________________________________________________________________________________________________\n",
      "activation_2 (Activation)       (None, 10)           0           dense_4[0][0]                    \n",
      "__________________________________________________________________________________________________\n",
      "labels (InputLayer)             (None, 10)           0                                            \n",
      "__________________________________________________________________________________________________\n",
      "merge_5 (Merge)                 (None, Dimension(Non 0           labels[0][0]                     \n",
      "                                                                 activation_2[0][0]               \n",
      "__________________________________________________________________________________________________\n",
      "merge_4 (Merge)                 (None, Dimension(Non 0           dense_4[0][0]                    \n",
      "                                                                 max_pooling2d_5[0][0]            \n",
      "                                                                 labels[0][0]                     \n",
      "__________________________________________________________________________________________________\n",
      "merge_6 (Merge)                 (None, Dimension(Non 0           merge_5[0][0]                    \n",
      "                                                                 imgs[0][0]                       \n",
      "==================================================================================================\n",
      "Total params: 10,258\n",
      "Trainable params: 10,258\n",
      "Non-trainable params: 0\n",
      "__________________________________________________________________________________________________\n",
      "(10000, 10)\n",
      "answer:  7\n",
      "prediction:  [7]\n"
     ]
    },
    {
     "name": "stderr",
     "output_type": "stream",
     "text": [
      "/home/uttaran/anaconda3/lib/python3.6/site-packages/skimage/transform/_warps.py:84: UserWarning: The default mode, 'constant', will be changed to 'reflect' in skimage 0.15.\n",
      "  warn(\"The default mode, 'constant', will be changed to 'reflect' in \"\n"
     ]
    },
    {
     "name": "stdout",
     "output_type": "stream",
     "text": [
      "answer:  2\n",
      "prediction:  [2]\n"
     ]
    },
    {
     "name": "stderr",
     "output_type": "stream",
     "text": [
      "/home/uttaran/anaconda3/lib/python3.6/site-packages/skimage/transform/_warps.py:84: UserWarning: The default mode, 'constant', will be changed to 'reflect' in skimage 0.15.\n",
      "  warn(\"The default mode, 'constant', will be changed to 'reflect' in \"\n"
     ]
    },
    {
     "name": "stdout",
     "output_type": "stream",
     "text": [
      "answer:  1\n",
      "prediction:  [1]\n",
      "answer:  0\n",
      "prediction:  [0]\n",
      "answer:  4\n",
      "prediction:  [4]\n",
      "answer:  1\n",
      "prediction:  [1]\n",
      "answer:  4\n",
      "prediction:  [4]\n",
      "answer:  9\n",
      "prediction:  [9]\n",
      "answer:  5\n",
      "prediction:  [5]\n",
      "answer:  9\n",
      "prediction:  [9]\n",
      "answer:  0\n",
      "prediction:  [0]\n",
      "answer:  6\n",
      "prediction:  [6]\n",
      "answer:  9\n",
      "prediction:  [9]\n",
      "answer:  0\n",
      "prediction:  [0]\n",
      "answer:  1\n",
      "prediction:  [1]\n",
      "answer:  5\n",
      "prediction:  [5]\n",
      "answer:  9\n",
      "prediction:  [9]\n",
      "answer:  7\n",
      "prediction:  [7]\n",
      "answer:  3\n",
      "prediction:  [3]\n",
      "answer:  4\n",
      "prediction:  [4]\n"
     ]
    }
   ],
   "source": [
    "m = MM()\n",
    "\n",
    "\n",
    "model=Model(inputs=[m.labels, m.inputs], outputs=[m.predictions, m.g, m.dd, m.gb_grad])\n",
    "model.summary()\n",
    "model.load_weights('my_model1.h5')\n",
    "\n",
    "(x_train, y_train), (x_test, y_test) = mnist.load_data()\n",
    "x_test = x_test / 255.\n",
    "x_test = x_test.reshape((-1, 28, 28, 1))\n",
    "y_test = keras.utils.to_categorical(y_test, num_classes)\n",
    "print(y_test.shape)\n",
    "for target_y_train_num in range(20):\n",
    "\n",
    "    result = model.predict([\n",
    "        y_test[target_y_train_num].reshape((1, 10)),\n",
    "        x_test[target_y_train_num].reshape((1, 28, 28, 1))\n",
    "    ])\n",
    "    print('answer: ', K.eval(K.argmax(y_test[target_y_train_num])))\n",
    "    print('prediction: ', K.eval(K.argmax(result[0])))\n",
    "\n",
    "    conv_grad = result[1]\n",
    "    conv_grad = conv_grad.reshape(conv_grad.shape[1:])\n",
    "    conv_output = result[2]\n",
    "    conv_output = conv_output.reshape(conv_output.shape[1:])\n",
    "    input_grad = result[3]\n",
    "    input_grad = input_grad.reshape(input_grad.shape[1:])\n",
    "    gradRGB = gb_viz = input_grad\n",
    "\n",
    "    from skimage.transform import resize\n",
    "    import cv2\n",
    "\n",
    "    # global average pooling\n",
    "    weights = np.mean(conv_grad, axis = (0, 1))\n",
    "    cam = np.zeros(conv_output.shape[0 : 2], dtype = np.float32)\n",
    "\n",
    "    for i, w in enumerate(weights):\n",
    "        cam += w * conv_output[:, :, i]\n",
    "\n",
    "    cam = np.maximum(cam, 0)\n",
    "    cam = cam / np.max(cam)\n",
    "    cam = resize(cam, (28,28), preserve_range=True)\n",
    "\n",
    "    img = x_test[target_y_train_num].astype(float)\n",
    "    img -= np.min(img)\n",
    "    img /= img.max()\n",
    "\n",
    "    cam_heatmap = cv2.applyColorMap(np.uint8(255*cam), cv2.COLORMAP_JET)\n",
    "    cam_heatmap = cv2.cvtColor(cam_heatmap, cv2.COLOR_BGR2RGB)\n",
    "\n",
    "\n",
    "    cam = np.float32(cam.reshape((28, 28, 1))) * np.float32(img)\n",
    "    cam = 255 * cam / np.max(cam)\n",
    "    cam = np.uint8(cam)\n",
    "\n",
    "    import matplotlib\n",
    "    matplotlib.use('agg')\n",
    "    import matplotlib.pyplot as plt\n",
    "\n",
    "    plt.figure()\n",
    "    img_int = (img * 255.).astype(int).reshape(img.shape[:2])\n",
    "    plt.gray()\n",
    "    plt.imshow(img_int)\n",
    "    plt.savefig('mnist_cams/original_{}.png'.format(target_y_train_num))\n",
    "    plt.close()\n",
    "\n",
    "    plt.figure()\n",
    "    plt.imshow(cam_heatmap)\n",
    "    plt.savefig('mnist_cams/heatmap_{}.png'.format(target_y_train_num))\n",
    "    plt.close()\n",
    "\n",
    "    plt.figure()\n",
    "    plt.imshow(img_int)\n",
    "    plt.imshow(cam_heatmap, alpha=0.5)\n",
    "    plt.savefig('mnist_cams/heatmap_overlaied_{}.png'.format(target_y_train_num))\n",
    "    plt.close()\n",
    "\n",
    "    gb_viz -= np.min(gb_viz)\n",
    "    gb_viz /= gb_viz.max()\n",
    "    img_int = (gb_viz * 255.).astype(int).reshape(img.shape[:2])\n",
    "    imgplot = plt.imshow(img_int)\n",
    "    plt.savefig('mnist_cams/grad-cam-backpropagation_{}.png'.format(target_y_train_num))\n",
    "    plt.close()\n",
    "\n",
    "    gd_gb = gb_viz * cam\n",
    "    img_int = (gd_gb * 255.).astype(int).reshape(img.shape[:2])\n",
    "    imgplot = plt.imshow(img_int)\n",
    "    plt.savefig('mnist_cams/guided-grad-cam_{}.png'.format(target_y_train_num))\n",
    "    plt.close()"
   ]
  },
  {
   "cell_type": "code",
   "execution_count": null,
   "metadata": {},
   "outputs": [],
   "source": []
  }
 ],
 "metadata": {
  "hide_input": false,
  "kernelspec": {
   "display_name": "Python 3",
   "language": "python",
   "name": "python3"
  },
  "language_info": {
   "codemirror_mode": {
    "name": "ipython",
    "version": 3
   },
   "file_extension": ".py",
   "mimetype": "text/x-python",
   "name": "python",
   "nbconvert_exporter": "python",
   "pygments_lexer": "ipython3",
   "version": "3.6.5"
  },
  "varInspector": {
   "cols": {
    "lenName": 16,
    "lenType": 16,
    "lenVar": 40
   },
   "kernels_config": {
    "python": {
     "delete_cmd_postfix": "",
     "delete_cmd_prefix": "del ",
     "library": "var_list.py",
     "varRefreshCmd": "print(var_dic_list())"
    },
    "r": {
     "delete_cmd_postfix": ") ",
     "delete_cmd_prefix": "rm(",
     "library": "var_list.r",
     "varRefreshCmd": "cat(var_dic_list()) "
    }
   },
   "types_to_exclude": [
    "module",
    "function",
    "builtin_function_or_method",
    "instance",
    "_Feature"
   ],
   "window_display": false
  }
 },
 "nbformat": 4,
 "nbformat_minor": 2
}
