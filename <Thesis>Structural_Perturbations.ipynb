{
 "cells": [
  {
   "cell_type": "code",
   "execution_count": 1,
   "metadata": {},
   "outputs": [
    {
     "name": "stderr",
     "output_type": "stream",
     "text": [
      "/home/uttaran/anaconda3/lib/python3.6/importlib/_bootstrap.py:219: RuntimeWarning: compiletime version 3.5 of module 'tensorflow.python.framework.fast_tensor_util' does not match runtime version 3.6\n",
      "  return f(*args, **kwds)\n",
      "/home/uttaran/anaconda3/lib/python3.6/site-packages/h5py/__init__.py:36: FutureWarning: Conversion of the second argument of issubdtype from `float` to `np.floating` is deprecated. In future, it will be treated as `np.float64 == np.dtype(float).type`.\n",
      "  from ._conv import register_converters as _register_converters\n"
     ]
    }
   ],
   "source": [
    "import cv2\n",
    "import numpy as np\n",
    "import tensorflow as tf"
   ]
  },
  {
   "cell_type": "code",
   "execution_count": 2,
   "metadata": {},
   "outputs": [],
   "source": [
    "def Exposure(eval_data,e):\n",
    "    e = e/255\n",
    "    for i in range(0,eval_data.shape[0]):\n",
    "        eval_data[i][0:eval_data.shape[1] - 4]+=e\n",
    "        eval_data[i] = eval_data[i].clip(min=0,max=1)\n",
    "    return eval_data"
   ]
  },
  {
   "cell_type": "code",
   "execution_count": 3,
   "metadata": {},
   "outputs": [],
   "source": [
    "def Translation(eval_data,l):\n",
    "    temp = np.asarray(eval_data)\n",
    "    temp = np.reshape(temp,(-1,28,28))\n",
    "    M = np.float32([[1,0,l],[0,1,0]])\n",
    "    for i in range(0,eval_data.shape[0]):\n",
    "        temp[i] = cv2.warpAffine(temp[i],M,(28,28))\n",
    "        temp[i] = temp[i].clip(min=0,max=1)\n",
    "    temp = np.reshape(temp,[eval_data.shape[0],eval_data.shape[1]])\n",
    "    eval_data = temp\n",
    "    return eval_data"
   ]
  },
  {
   "cell_type": "code",
   "execution_count": 4,
   "metadata": {},
   "outputs": [],
   "source": [
    "def Rotation(eval_data,angle):\n",
    "    temp = eval_data.reshape(-1,28,28)\n",
    "    s,r,c = temp.shape\n",
    "    M = cv2.getRotationMatrix2D((c/2,r/2),angle,1)\n",
    "    for i in range (0,s):\n",
    "        temp[i] = cv2.warpAffine(temp[i],M,(c,r))\n",
    "        temp[i] = temp[i].clip(min=0,max=1)\n",
    "    return temp.reshape(-1,eval_data.shape[1])"
   ]
  },
  {
   "cell_type": "code",
   "execution_count": 5,
   "metadata": {},
   "outputs": [],
   "source": [
    "def Scaling(eval_data,l):\n",
    "    temp = eval_data.reshape(-1,28,28)\n",
    "    s,r,c = temp.shape\n",
    "    for i in range (0,s):\n",
    "        img = cv2.resize(temp[i],None,fx=l, fy=l, interpolation = cv2.INTER_CUBIC)\n",
    "        m = np.int((img.shape[0]-28)/2)\n",
    "        temp[i] = img[m:m+28,m:m+28]\n",
    "        temp[i] = temp[i].clip(min=0,max=1)\n",
    "    return temp.reshape(-1,eval_data.shape[1])"
   ]
  },
  {
   "cell_type": "code",
   "execution_count": 6,
   "metadata": {},
   "outputs": [],
   "source": [
    "def Display(eval_data,t):\n",
    "    l = np.array(eval_data[t])\n",
    "    l = [int (x * 255) for x in l]\n",
    "    l = np.asarray(l)\n",
    "    l = np.reshape(l,(-1,28))\n",
    "    plt.imshow(l,cmap='gray')"
   ]
  },
  {
   "cell_type": "code",
   "execution_count": 7,
   "metadata": {},
   "outputs": [],
   "source": [
    "def Plot(eval_data,eval_labels,mnist_classifier):\n",
    "    eval_input_fn = tf.estimator.inputs.numpy_input_fn(\n",
    "      x={\"x\": eval_data},\n",
    "      y=eval_labels,\n",
    "      num_epochs=1,\n",
    "      shuffle=False)\n",
    "    pred = mnist_classifier.predict(input_fn=eval_input_fn)\n",
    "    my_array = []\n",
    "    for i, x in enumerate(pred):\n",
    "        temp = x['probabilities']\n",
    "        pos = sorted(temp,reverse=True)\n",
    "        index = [pos.index(v) for v in temp]\n",
    "        my_array.append(index[eval_labels[i]])\n",
    "    count = collections.Counter(my_array)\n",
    "    keys = np.array(list(count.keys()))\n",
    "    values = np.array(list(count.values()))\n",
    "    grid = []\n",
    "    for i in range(0,keys.shape[0]):\n",
    "        grid.append([keys[i],values[i]])\n",
    "    grid = np.array(grid)\n",
    "    grid.view('i8,i8').sort(axis=0)\n",
    "    plt.plot(grid)"
   ]
  },
  {
   "cell_type": "code",
   "execution_count": 8,
   "metadata": {},
   "outputs": [],
   "source": [
    "def Test(train_data,train_labels,eval_data,eval_labels,mnist_classifier):\n",
    "    train_eval_input_fn = tf.estimator.inputs.numpy_input_fn(\n",
    "      x={\"x\": train_data},\n",
    "      y=train_labels,\n",
    "      shuffle=False)\n",
    "    eval_result1=mnist_classifier.evaluate(input_fn=train_eval_input_fn)\n",
    "    print(\"%%%%%%% Train accuracy %%%%%%%%%%%%\\n\",eval_result1)\n",
    "    [a,b,c] = eval_result1.items()\n",
    "\n",
    "    # Evaluate the model and print results\n",
    "    eval_input_fn = tf.estimator.inputs.numpy_input_fn(\n",
    "      x={\"x\": eval_data},\n",
    "      y=eval_labels,\n",
    "      num_epochs=1,\n",
    "      shuffle=False)\n",
    "    eval_result2=mnist_classifier.evaluate(input_fn=eval_input_fn)\n",
    "    print(\"######### Test accuracy #############\\n\",eval_result2)\n",
    "    [d,e,f] = eval_result2.items()"
   ]
  },
  {
   "cell_type": "code",
   "execution_count": null,
   "metadata": {},
   "outputs": [],
   "source": []
  }
 ],
 "metadata": {
  "kernelspec": {
   "display_name": "Python 3",
   "language": "python",
   "name": "python3"
  },
  "language_info": {
   "codemirror_mode": {
    "name": "ipython",
    "version": 3
   },
   "file_extension": ".py",
   "mimetype": "text/x-python",
   "name": "python",
   "nbconvert_exporter": "python",
   "pygments_lexer": "ipython3",
   "version": "3.6.5"
  }
 },
 "nbformat": 4,
 "nbformat_minor": 2
}
